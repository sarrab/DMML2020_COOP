{
  "nbformat": 4,
  "nbformat_minor": 0,
  "metadata": {
    "kernelspec": {
      "display_name": "Python 3",
      "language": "python",
      "name": "python3"
    },
    "language_info": {
      "codemirror_mode": {
        "name": "ipython",
        "version": 3
      },
      "file_extension": ".py",
      "mimetype": "text/x-python",
      "name": "python",
      "nbconvert_exporter": "python",
      "pygments_lexer": "ipython3",
      "version": "3.7.4"
    },
    "colab": {
      "name": "Copy of COOP20_Cleaning.ipynb",
      "provenance": [],
      "include_colab_link": true
    }
  },
  "cells": [
    {
      "cell_type": "markdown",
      "metadata": {
        "id": "view-in-github",
        "colab_type": "text"
      },
      "source": [
        "<a href=\"https://colab.research.google.com/github/sarrab/DMML2020_COOP/blob/master/Copy_of_COOP20_Cleaning.ipynb\" target=\"_parent\"><img src=\"https://colab.research.google.com/assets/colab-badge.svg\" alt=\"Open In Colab\"/></a>"
      ]
    },
    {
      "cell_type": "markdown",
      "metadata": {
        "id": "EPfjdYrEZ9pA"
      },
      "source": [
        "# Loading "
      ]
    },
    {
      "cell_type": "markdown",
      "metadata": {
        "id": "U4G4puq9Z9pB"
      },
      "source": [
        "Below is how the dataset looks like"
      ]
    },
    {
      "cell_type": "code",
      "metadata": {
        "scrolled": false,
        "id": "Y2ArCyy7Z9pC"
      },
      "source": [
        "\n",
        "df_train = pd.read_csv(\"https://raw.githubusercontent.com/michalis0/DataMining_and_MachineLearning/master/project/training_data.csv\")\n"
      ],
      "execution_count": 1,
      "outputs": []
    },
    {
      "cell_type": "markdown",
      "metadata": {
        "id": "Pp7XfiTjZ9pD"
      },
      "source": [
        "There are 6471 rows and 5 columns in the training data.\n",
        "Since column text contains the tweets, our first assumption is that it might be the most important predictor"
      ]
    },
    {
      "cell_type": "markdown",
      "metadata": {
        "id": "FKtMbLhHZ9pE"
      },
      "source": [
        "### What does each column show?"
      ]
    },
    {
      "cell_type": "markdown",
      "metadata": {
        "id": "_jGrJeURZ9pE"
      },
      "source": [
        "This dataset contains tweets about whether or not a reported disaster is real. \n",
        "Some of the features in the dataset are:\n",
        "\n",
        ">\t1.\t`Id` : id of the tweet.\n",
        ">\t2.\t`keyword`: a kind of a title for that paritucular disaster \n",
        ">\t3.\t`location`: the geographical location where that disaster happened.\n",
        ">\t4.\t`text`: the disaster messages in form a tweet.\n",
        ">\t5.\t`target`: value representing whether the reported tweet was true or not\n",
        "    \n",
        "Our task is to predict whether a tweet is real or not, i.e, we should use the target column as the labels.\n",
        "\n",
        "\n"
      ]
    },
    {
      "cell_type": "code",
      "metadata": {
        "id": "riUpokT6Z9pH",
        "outputId": "3367ce83-94e0-41c7-c3b2-75e9e9fadefe"
      },
      "source": [
        "df_train.shape"
      ],
      "execution_count": null,
      "outputs": [
        {
          "output_type": "execute_result",
          "data": {
            "text/plain": [
              "(6471, 5)"
            ]
          },
          "metadata": {
            "tags": []
          },
          "execution_count": 5
        }
      ]
    },
    {
      "cell_type": "markdown",
      "metadata": {
        "id": "D3r8OIB1k3nq"
      },
      "source": [
        "**We may need different versions of our dataset while Cleaning**"
      ]
    },
    {
      "cell_type": "code",
      "metadata": {
        "id": "4o300ZXfZ9pH"
      },
      "source": [
        "df_train_copy = df_train.copy()\n",
        "df_train_copy_1 = df_train.copy()\n",
        "df_train_copy_2 = df_train.copy()\n",
        "df_train_copy_3 = df_train.copy()\n",
        "df_train_copy_4 = df_train.copy()\n",
        "df_train_copy_5 = df_train.copy()\n",
        "df_train_copy_6 = df_train.copy()\n",
        "df_train_copy_7 = df_train.copy()\n",
        "df_train_copy_8 = df_train.copy()\n",
        "df_train_copy_9 = df_train.copy()"
      ],
      "execution_count": null,
      "outputs": []
    },
    {
      "cell_type": "markdown",
      "metadata": {
        "id": "Zd7HZzZWZ9pI"
      },
      "source": [
        "Let's use these dataset for trying various things out "
      ]
    },
    {
      "cell_type": "code",
      "metadata": {
        "id": "FdbIAEzhZ9pJ"
      },
      "source": [
        "df_test_copy = df_test.copy()\n",
        "df_test_copy_1 = df_test.copy()\n",
        "df_test_copy_2 = df_test.copy()"
      ],
      "execution_count": null,
      "outputs": []
    },
    {
      "cell_type": "markdown",
      "metadata": {
        "id": "zpuUtW7EZ9qF"
      },
      "source": [
        "## Cleaning: 1st Run "
      ]
    },
    {
      "cell_type": "code",
      "metadata": {
        "id": "ehMy3Ox7Z9qF",
        "outputId": "4117ff9a-bb6b-4e26-ab16-cf62d5953c1a"
      },
      "source": [
        "df_train_copy_1.info()"
      ],
      "execution_count": null,
      "outputs": [
        {
          "output_type": "stream",
          "text": [
            "<class 'pandas.core.frame.DataFrame'>\n",
            "RangeIndex: 6471 entries, 0 to 6470\n",
            "Data columns (total 5 columns):\n",
            "id          6471 non-null int64\n",
            "keyword     6416 non-null object\n",
            "location    4330 non-null object\n",
            "text        6471 non-null object\n",
            "target      6471 non-null int64\n",
            "dtypes: int64(2), object(3)\n",
            "memory usage: 252.9+ KB\n"
          ],
          "name": "stdout"
        }
      ]
    },
    {
      "cell_type": "markdown",
      "metadata": {
        "id": "6cEhAldxZ9qF"
      },
      "source": [
        "### Let's start with the duplicated values "
      ]
    },
    {
      "cell_type": "code",
      "metadata": {
        "id": "tcLe5GoVZ9qG",
        "outputId": "bdc8b524-a43c-4701-d16e-1898afab5941"
      },
      "source": [
        "dupli=df_train_copy_1[df_train_copy_1[['keyword','location','text']].duplicated() == True]\n",
        "dupli "
      ],
      "execution_count": null,
      "outputs": [
        {
          "output_type": "execute_result",
          "data": {
            "text/html": [
              "<div>\n",
              "<style scoped>\n",
              "    .dataframe tbody tr th:only-of-type {\n",
              "        vertical-align: middle;\n",
              "    }\n",
              "\n",
              "    .dataframe tbody tr th {\n",
              "        vertical-align: top;\n",
              "    }\n",
              "\n",
              "    .dataframe thead th {\n",
              "        text-align: right;\n",
              "    }\n",
              "</style>\n",
              "<table border=\"1\" class=\"dataframe\">\n",
              "  <thead>\n",
              "    <tr style=\"text-align: right;\">\n",
              "      <th></th>\n",
              "      <th>id</th>\n",
              "      <th>keyword</th>\n",
              "      <th>location</th>\n",
              "      <th>text</th>\n",
              "      <th>target</th>\n",
              "    </tr>\n",
              "  </thead>\n",
              "  <tbody>\n",
              "    <tr>\n",
              "      <td>790</td>\n",
              "      <td>6097</td>\n",
              "      <td>hellfire</td>\n",
              "      <td>NaN</td>\n",
              "      <td>The Prophet (peace be upon him) said 'Save you...</td>\n",
              "      <td>1</td>\n",
              "    </tr>\n",
              "    <tr>\n",
              "      <td>978</td>\n",
              "      <td>4072</td>\n",
              "      <td>displaced</td>\n",
              "      <td>Pedophile hunting ground</td>\n",
              "      <td>.POTUS #StrategicPatience is a strategy for #G...</td>\n",
              "      <td>1</td>\n",
              "    </tr>\n",
              "    <tr>\n",
              "      <td>1455</td>\n",
              "      <td>9225</td>\n",
              "      <td>suicide%20bombing</td>\n",
              "      <td>NaN</td>\n",
              "      <td>'Suicide bombing at [location named]...' #prem...</td>\n",
              "      <td>1</td>\n",
              "    </tr>\n",
              "    <tr>\n",
              "      <td>1481</td>\n",
              "      <td>9135</td>\n",
              "      <td>suicide%20bomb</td>\n",
              "      <td>Nigeria</td>\n",
              "      <td>#Bestnaijamade: 16yr old PKK suicide bomber wh...</td>\n",
              "      <td>1</td>\n",
              "    </tr>\n",
              "    <tr>\n",
              "      <td>1492</td>\n",
              "      <td>4077</td>\n",
              "      <td>displaced</td>\n",
              "      <td>Pedophile hunting ground</td>\n",
              "      <td>.POTUS #StrategicPatience is a strategy for #G...</td>\n",
              "      <td>1</td>\n",
              "    </tr>\n",
              "    <tr>\n",
              "      <td>1737</td>\n",
              "      <td>4691</td>\n",
              "      <td>engulfed</td>\n",
              "      <td>NaN</td>\n",
              "      <td>He came to a land which was engulfed in tribal...</td>\n",
              "      <td>0</td>\n",
              "    </tr>\n",
              "    <tr>\n",
              "      <td>1789</td>\n",
              "      <td>5157</td>\n",
              "      <td>fatal</td>\n",
              "      <td>NaN</td>\n",
              "      <td>11-Year-Old Boy Charged With Manslaughter of T...</td>\n",
              "      <td>1</td>\n",
              "    </tr>\n",
              "    <tr>\n",
              "      <td>1822</td>\n",
              "      <td>6132</td>\n",
              "      <td>hellfire</td>\n",
              "      <td>NaN</td>\n",
              "      <td>The Prophet (peace be upon him) said 'Save you...</td>\n",
              "      <td>1</td>\n",
              "    </tr>\n",
              "    <tr>\n",
              "      <td>1946</td>\n",
              "      <td>5113</td>\n",
              "      <td>fatal</td>\n",
              "      <td>NaN</td>\n",
              "      <td>11-Year-Old Boy Charged With Manslaughter of T...</td>\n",
              "      <td>1</td>\n",
              "    </tr>\n",
              "    <tr>\n",
              "      <td>2212</td>\n",
              "      <td>5140</td>\n",
              "      <td>fatal</td>\n",
              "      <td>NaN</td>\n",
              "      <td>11-Year-Old Boy Charged With Manslaughter of T...</td>\n",
              "      <td>1</td>\n",
              "    </tr>\n",
              "    <tr>\n",
              "      <td>2363</td>\n",
              "      <td>238</td>\n",
              "      <td>airplane%20accident</td>\n",
              "      <td>NaN</td>\n",
              "      <td>Experts in France begin examining airplane deb...</td>\n",
              "      <td>1</td>\n",
              "    </tr>\n",
              "    <tr>\n",
              "      <td>2597</td>\n",
              "      <td>6223</td>\n",
              "      <td>hijacker</td>\n",
              "      <td>worldwide</td>\n",
              "      <td>RT NotExplained: The only known image of infam...</td>\n",
              "      <td>1</td>\n",
              "    </tr>\n",
              "    <tr>\n",
              "      <td>2628</td>\n",
              "      <td>916</td>\n",
              "      <td>bioterrorism</td>\n",
              "      <td>NaN</td>\n",
              "      <td>To fight bioterrorism sir.</td>\n",
              "      <td>0</td>\n",
              "    </tr>\n",
              "    <tr>\n",
              "      <td>2658</td>\n",
              "      <td>9107</td>\n",
              "      <td>suicide%20bomb</td>\n",
              "      <td>Nigeria</td>\n",
              "      <td>#Bestnaijamade: 16yr old PKK suicide bomber wh...</td>\n",
              "      <td>1</td>\n",
              "    </tr>\n",
              "    <tr>\n",
              "      <td>2941</td>\n",
              "      <td>3520</td>\n",
              "      <td>derailment</td>\n",
              "      <td>NaN</td>\n",
              "      <td>Madhya Pradesh Train Derailment: Village Youth...</td>\n",
              "      <td>1</td>\n",
              "    </tr>\n",
              "    <tr>\n",
              "      <td>3076</td>\n",
              "      <td>9114</td>\n",
              "      <td>suicide%20bomb</td>\n",
              "      <td>Nigeria</td>\n",
              "      <td>#Bestnaijamade: 16yr old PKK suicide bomber wh...</td>\n",
              "      <td>1</td>\n",
              "    </tr>\n",
              "    <tr>\n",
              "      <td>3153</td>\n",
              "      <td>5159</td>\n",
              "      <td>fatal</td>\n",
              "      <td>NaN</td>\n",
              "      <td>11-Year-Old Boy Charged With Manslaughter of T...</td>\n",
              "      <td>1</td>\n",
              "    </tr>\n",
              "    <tr>\n",
              "      <td>3255</td>\n",
              "      <td>3814</td>\n",
              "      <td>detonate</td>\n",
              "      <td>Morioh, Japan</td>\n",
              "      <td>@spinningbot Are you another Stand-user? If yo...</td>\n",
              "      <td>0</td>\n",
              "    </tr>\n",
              "    <tr>\n",
              "      <td>3275</td>\n",
              "      <td>3373</td>\n",
              "      <td>demolition</td>\n",
              "      <td>NaN</td>\n",
              "      <td>General News Û¢åÊ'Demolition of houses on wat...</td>\n",
              "      <td>0</td>\n",
              "    </tr>\n",
              "    <tr>\n",
              "      <td>3340</td>\n",
              "      <td>3828</td>\n",
              "      <td>detonate</td>\n",
              "      <td>Morioh, Japan</td>\n",
              "      <td>@TinyJecht Are you another Stand-user? If you ...</td>\n",
              "      <td>0</td>\n",
              "    </tr>\n",
              "    <tr>\n",
              "      <td>3359</td>\n",
              "      <td>8168</td>\n",
              "      <td>rescuers</td>\n",
              "      <td>NaN</td>\n",
              "      <td>VIDEO: 'We're picking up bodies from water': R...</td>\n",
              "      <td>1</td>\n",
              "    </tr>\n",
              "    <tr>\n",
              "      <td>3435</td>\n",
              "      <td>9531</td>\n",
              "      <td>terrorist</td>\n",
              "      <td>MAD as Hell</td>\n",
              "      <td>RT AbbsWinston: #Zionist #Terrorist kidnapped ...</td>\n",
              "      <td>1</td>\n",
              "    </tr>\n",
              "    <tr>\n",
              "      <td>3541</td>\n",
              "      <td>6874</td>\n",
              "      <td>mass%20murder</td>\n",
              "      <td>Anonymous</td>\n",
              "      <td>http://t.co/c1H7JECFrV @RoyalCarribean do your...</td>\n",
              "      <td>1</td>\n",
              "    </tr>\n",
              "    <tr>\n",
              "      <td>3575</td>\n",
              "      <td>4952</td>\n",
              "      <td>exploded</td>\n",
              "      <td>NaN</td>\n",
              "      <td>that exploded &amp;amp; brought about the\\nbeginni...</td>\n",
              "      <td>0</td>\n",
              "    </tr>\n",
              "    <tr>\n",
              "      <td>3673</td>\n",
              "      <td>6087</td>\n",
              "      <td>hellfire</td>\n",
              "      <td>NaN</td>\n",
              "      <td>The Prophet (peace be upon him) said 'Save you...</td>\n",
              "      <td>0</td>\n",
              "    </tr>\n",
              "    <tr>\n",
              "      <td>3852</td>\n",
              "      <td>3806</td>\n",
              "      <td>detonate</td>\n",
              "      <td>Morioh, Japan</td>\n",
              "      <td>@spinningbot Are you another Stand-user? If yo...</td>\n",
              "      <td>0</td>\n",
              "    </tr>\n",
              "    <tr>\n",
              "      <td>3890</td>\n",
              "      <td>8183</td>\n",
              "      <td>rescuers</td>\n",
              "      <td>NaN</td>\n",
              "      <td>VIDEO: 'We're picking up bodies from water': R...</td>\n",
              "      <td>1</td>\n",
              "    </tr>\n",
              "    <tr>\n",
              "      <td>3891</td>\n",
              "      <td>9095</td>\n",
              "      <td>suicide%20bomb</td>\n",
              "      <td>Nigeria</td>\n",
              "      <td>#Bestnaijamade: 16yr old PKK suicide bomber wh...</td>\n",
              "      <td>1</td>\n",
              "    </tr>\n",
              "    <tr>\n",
              "      <td>3938</td>\n",
              "      <td>4076</td>\n",
              "      <td>displaced</td>\n",
              "      <td>Pedophile hunting ground</td>\n",
              "      <td>.POTUS #StrategicPatience is a strategy for #G...</td>\n",
              "      <td>0</td>\n",
              "    </tr>\n",
              "    <tr>\n",
              "      <td>3960</td>\n",
              "      <td>6088</td>\n",
              "      <td>hellfire</td>\n",
              "      <td>NaN</td>\n",
              "      <td>Hellfire is surrounded by desires so be carefu...</td>\n",
              "      <td>0</td>\n",
              "    </tr>\n",
              "    <tr>\n",
              "      <td>3976</td>\n",
              "      <td>165</td>\n",
              "      <td>aftershock</td>\n",
              "      <td>US</td>\n",
              "      <td>320 [IR] ICEMOON [AFTERSHOCK] | http://t.co/vA...</td>\n",
              "      <td>0</td>\n",
              "    </tr>\n",
              "    <tr>\n",
              "      <td>3988</td>\n",
              "      <td>6098</td>\n",
              "      <td>hellfire</td>\n",
              "      <td>NaN</td>\n",
              "      <td>Hellfire! We donÛªt even want to think about ...</td>\n",
              "      <td>0</td>\n",
              "    </tr>\n",
              "    <tr>\n",
              "      <td>4037</td>\n",
              "      <td>8158</td>\n",
              "      <td>rescuers</td>\n",
              "      <td>NaN</td>\n",
              "      <td>VIDEO: 'We're picking up bodies from water': R...</td>\n",
              "      <td>1</td>\n",
              "    </tr>\n",
              "    <tr>\n",
              "      <td>4061</td>\n",
              "      <td>6112</td>\n",
              "      <td>hellfire</td>\n",
              "      <td>NaN</td>\n",
              "      <td>Hellfire is surrounded by desires so be carefu...</td>\n",
              "      <td>1</td>\n",
              "    </tr>\n",
              "    <tr>\n",
              "      <td>4111</td>\n",
              "      <td>4057</td>\n",
              "      <td>displaced</td>\n",
              "      <td>NaN</td>\n",
              "      <td>#KCA #VoteJKT48ID 12News: UPDATE: A family of ...</td>\n",
              "      <td>1</td>\n",
              "    </tr>\n",
              "    <tr>\n",
              "      <td>4119</td>\n",
              "      <td>171</td>\n",
              "      <td>aftershock</td>\n",
              "      <td>Switzerland</td>\n",
              "      <td>320 [IR] ICEMOON [AFTERSHOCK] | http://t.co/TH...</td>\n",
              "      <td>0</td>\n",
              "    </tr>\n",
              "    <tr>\n",
              "      <td>4451</td>\n",
              "      <td>5699</td>\n",
              "      <td>floods</td>\n",
              "      <td>NaN</td>\n",
              "      <td>Who is bringing the tornadoes and floods. Who ...</td>\n",
              "      <td>0</td>\n",
              "    </tr>\n",
              "    <tr>\n",
              "      <td>4548</td>\n",
              "      <td>6017</td>\n",
              "      <td>hazardous</td>\n",
              "      <td>NaN</td>\n",
              "      <td>Caution: breathing may be hazardous to your he...</td>\n",
              "      <td>0</td>\n",
              "    </tr>\n",
              "    <tr>\n",
              "      <td>4592</td>\n",
              "      <td>5144</td>\n",
              "      <td>fatal</td>\n",
              "      <td>NaN</td>\n",
              "      <td>11-Year-Old Boy Charged With Manslaughter of T...</td>\n",
              "      <td>1</td>\n",
              "    </tr>\n",
              "    <tr>\n",
              "      <td>4632</td>\n",
              "      <td>881</td>\n",
              "      <td>bioterrorism</td>\n",
              "      <td>NaN</td>\n",
              "      <td>To fight bioterrorism sir.</td>\n",
              "      <td>1</td>\n",
              "    </tr>\n",
              "    <tr>\n",
              "      <td>4735</td>\n",
              "      <td>6118</td>\n",
              "      <td>hellfire</td>\n",
              "      <td>NaN</td>\n",
              "      <td>The Prophet (peace be upon him) said 'Save you...</td>\n",
              "      <td>0</td>\n",
              "    </tr>\n",
              "    <tr>\n",
              "      <td>4890</td>\n",
              "      <td>4672</td>\n",
              "      <td>engulfed</td>\n",
              "      <td>NaN</td>\n",
              "      <td>He came to a land which was engulfed in tribal...</td>\n",
              "      <td>0</td>\n",
              "    </tr>\n",
              "    <tr>\n",
              "      <td>4908</td>\n",
              "      <td>3524</td>\n",
              "      <td>derailment</td>\n",
              "      <td>NaN</td>\n",
              "      <td>Madhya Pradesh Train Derailment: Village Youth...</td>\n",
              "      <td>1</td>\n",
              "    </tr>\n",
              "    <tr>\n",
              "      <td>6099</td>\n",
              "      <td>8084</td>\n",
              "      <td>rescue</td>\n",
              "      <td>Toronto, Ontario</td>\n",
              "      <td>UD: Rescue (Structural Collapse) - Scott Road ...</td>\n",
              "      <td>1</td>\n",
              "    </tr>\n",
              "    <tr>\n",
              "      <td>6163</td>\n",
              "      <td>3841</td>\n",
              "      <td>detonate</td>\n",
              "      <td>Morioh, Japan</td>\n",
              "      <td>@TinyJecht Are you another Stand-user? If you ...</td>\n",
              "      <td>0</td>\n",
              "    </tr>\n",
              "    <tr>\n",
              "      <td>6272</td>\n",
              "      <td>6582</td>\n",
              "      <td>injury</td>\n",
              "      <td>NaN</td>\n",
              "      <td>incident with injury:I-495  inner loop Exit 31...</td>\n",
              "      <td>1</td>\n",
              "    </tr>\n",
              "    <tr>\n",
              "      <td>6440</td>\n",
              "      <td>3522</td>\n",
              "      <td>derailment</td>\n",
              "      <td>India</td>\n",
              "      <td>Madhya Pradesh Train Derailment: Village Youth...</td>\n",
              "      <td>1</td>\n",
              "    </tr>\n",
              "  </tbody>\n",
              "</table>\n",
              "</div>"
            ],
            "text/plain": [
              "        id              keyword                  location  \\\n",
              "790   6097             hellfire                       NaN   \n",
              "978   4072            displaced  Pedophile hunting ground   \n",
              "1455  9225    suicide%20bombing                       NaN   \n",
              "1481  9135       suicide%20bomb                   Nigeria   \n",
              "1492  4077            displaced  Pedophile hunting ground   \n",
              "1737  4691             engulfed                       NaN   \n",
              "1789  5157                fatal                       NaN   \n",
              "1822  6132             hellfire                       NaN   \n",
              "1946  5113                fatal                       NaN   \n",
              "2212  5140                fatal                       NaN   \n",
              "2363   238  airplane%20accident                       NaN   \n",
              "2597  6223             hijacker                 worldwide   \n",
              "2628   916         bioterrorism                       NaN   \n",
              "2658  9107       suicide%20bomb                   Nigeria   \n",
              "2941  3520           derailment                       NaN   \n",
              "3076  9114       suicide%20bomb                   Nigeria   \n",
              "3153  5159                fatal                       NaN   \n",
              "3255  3814             detonate             Morioh, Japan   \n",
              "3275  3373           demolition                       NaN   \n",
              "3340  3828             detonate             Morioh, Japan   \n",
              "3359  8168             rescuers                       NaN   \n",
              "3435  9531            terrorist               MAD as Hell   \n",
              "3541  6874        mass%20murder                 Anonymous   \n",
              "3575  4952             exploded                       NaN   \n",
              "3673  6087             hellfire                       NaN   \n",
              "3852  3806             detonate             Morioh, Japan   \n",
              "3890  8183             rescuers                       NaN   \n",
              "3891  9095       suicide%20bomb                   Nigeria   \n",
              "3938  4076            displaced  Pedophile hunting ground   \n",
              "3960  6088             hellfire                       NaN   \n",
              "3976   165           aftershock                        US   \n",
              "3988  6098             hellfire                       NaN   \n",
              "4037  8158             rescuers                       NaN   \n",
              "4061  6112             hellfire                       NaN   \n",
              "4111  4057            displaced                       NaN   \n",
              "4119   171           aftershock               Switzerland   \n",
              "4451  5699               floods                       NaN   \n",
              "4548  6017            hazardous                       NaN   \n",
              "4592  5144                fatal                       NaN   \n",
              "4632   881         bioterrorism                       NaN   \n",
              "4735  6118             hellfire                       NaN   \n",
              "4890  4672             engulfed                       NaN   \n",
              "4908  3524           derailment                       NaN   \n",
              "6099  8084               rescue          Toronto, Ontario   \n",
              "6163  3841             detonate             Morioh, Japan   \n",
              "6272  6582               injury                       NaN   \n",
              "6440  3522           derailment                     India   \n",
              "\n",
              "                                                   text  target  \n",
              "790   The Prophet (peace be upon him) said 'Save you...       1  \n",
              "978   .POTUS #StrategicPatience is a strategy for #G...       1  \n",
              "1455  'Suicide bombing at [location named]...' #prem...       1  \n",
              "1481  #Bestnaijamade: 16yr old PKK suicide bomber wh...       1  \n",
              "1492  .POTUS #StrategicPatience is a strategy for #G...       1  \n",
              "1737  He came to a land which was engulfed in tribal...       0  \n",
              "1789  11-Year-Old Boy Charged With Manslaughter of T...       1  \n",
              "1822  The Prophet (peace be upon him) said 'Save you...       1  \n",
              "1946  11-Year-Old Boy Charged With Manslaughter of T...       1  \n",
              "2212  11-Year-Old Boy Charged With Manslaughter of T...       1  \n",
              "2363  Experts in France begin examining airplane deb...       1  \n",
              "2597  RT NotExplained: The only known image of infam...       1  \n",
              "2628                         To fight bioterrorism sir.       0  \n",
              "2658  #Bestnaijamade: 16yr old PKK suicide bomber wh...       1  \n",
              "2941  Madhya Pradesh Train Derailment: Village Youth...       1  \n",
              "3076  #Bestnaijamade: 16yr old PKK suicide bomber wh...       1  \n",
              "3153  11-Year-Old Boy Charged With Manslaughter of T...       1  \n",
              "3255  @spinningbot Are you another Stand-user? If yo...       0  \n",
              "3275  General News Û¢åÊ'Demolition of houses on wat...       0  \n",
              "3340  @TinyJecht Are you another Stand-user? If you ...       0  \n",
              "3359  VIDEO: 'We're picking up bodies from water': R...       1  \n",
              "3435  RT AbbsWinston: #Zionist #Terrorist kidnapped ...       1  \n",
              "3541  http://t.co/c1H7JECFrV @RoyalCarribean do your...       1  \n",
              "3575  that exploded &amp; brought about the\\nbeginni...       0  \n",
              "3673  The Prophet (peace be upon him) said 'Save you...       0  \n",
              "3852  @spinningbot Are you another Stand-user? If yo...       0  \n",
              "3890  VIDEO: 'We're picking up bodies from water': R...       1  \n",
              "3891  #Bestnaijamade: 16yr old PKK suicide bomber wh...       1  \n",
              "3938  .POTUS #StrategicPatience is a strategy for #G...       0  \n",
              "3960  Hellfire is surrounded by desires so be carefu...       0  \n",
              "3976  320 [IR] ICEMOON [AFTERSHOCK] | http://t.co/vA...       0  \n",
              "3988  Hellfire! We donÛªt even want to think about ...       0  \n",
              "4037  VIDEO: 'We're picking up bodies from water': R...       1  \n",
              "4061  Hellfire is surrounded by desires so be carefu...       1  \n",
              "4111  #KCA #VoteJKT48ID 12News: UPDATE: A family of ...       1  \n",
              "4119  320 [IR] ICEMOON [AFTERSHOCK] | http://t.co/TH...       0  \n",
              "4451  Who is bringing the tornadoes and floods. Who ...       0  \n",
              "4548  Caution: breathing may be hazardous to your he...       0  \n",
              "4592  11-Year-Old Boy Charged With Manslaughter of T...       1  \n",
              "4632                         To fight bioterrorism sir.       1  \n",
              "4735  The Prophet (peace be upon him) said 'Save you...       0  \n",
              "4890  He came to a land which was engulfed in tribal...       0  \n",
              "4908  Madhya Pradesh Train Derailment: Village Youth...       1  \n",
              "6099  UD: Rescue (Structural Collapse) - Scott Road ...       1  \n",
              "6163  @TinyJecht Are you another Stand-user? If you ...       0  \n",
              "6272  incident with injury:I-495  inner loop Exit 31...       1  \n",
              "6440  Madhya Pradesh Train Derailment: Village Youth...       1  "
            ]
          },
          "metadata": {
            "tags": []
          },
          "execution_count": 13
        }
      ]
    },
    {
      "cell_type": "markdown",
      "metadata": {
        "id": "nOHlxLa2Z9qG"
      },
      "source": [
        "#### we observe that there are duplicate entries"
      ]
    },
    {
      "cell_type": "code",
      "metadata": {
        "id": "1HCx_ND4Z9qG"
      },
      "source": [
        "df_train_copy_1.drop([790,978,1455,1481,1492,1737,1789,1822,1946,2212,2363,2597,2628,2658,2941,3076,3153,3255,3275,3340,3359,3435,3541,3575,3673,3852,3890,3891,3938,3960,3976,3988,4037,4061,4111,4119,4451,4548,4592,4632,4735,4890,4908,6099,6163,6272,6440], inplace = True)"
      ],
      "execution_count": null,
      "outputs": []
    },
    {
      "cell_type": "markdown",
      "metadata": {
        "id": "x07CNn3XZ9qH"
      },
      "source": [
        "We have dropped this duplicated entries. We are left with 6424 rows"
      ]
    },
    {
      "cell_type": "code",
      "metadata": {
        "id": "DqQll0WbZ9qH"
      },
      "source": [
        "#keeping location\n",
        "df_train_copy_2.drop([790,978,1455,1481,1492,1737,1789,1822,1946,2212,2363,2597,2628,2658,2941,3076,3153,3255,3275,3340,3359,3435,3541,3575,3673,3852,3890,3891,3938,3960,3976,3988,4037,4061,4111,4119,4451,4548,4592,4632,4735,4890,4908,6099,6163,6272,6440], inplace = True)"
      ],
      "execution_count": null,
      "outputs": []
    },
    {
      "cell_type": "code",
      "metadata": {
        "id": "S2rzktLQZ9qH",
        "outputId": "05ca82eb-56e1-4579-c22d-1649d611e778"
      },
      "source": [
        "df_train.info()"
      ],
      "execution_count": null,
      "outputs": [
        {
          "output_type": "stream",
          "text": [
            "<class 'pandas.core.frame.DataFrame'>\n",
            "RangeIndex: 6471 entries, 0 to 6470\n",
            "Data columns (total 5 columns):\n",
            "id          6471 non-null int64\n",
            "keyword     6416 non-null object\n",
            "location    4330 non-null object\n",
            "text        6471 non-null object\n",
            "target      6471 non-null int64\n",
            "dtypes: int64(2), object(3)\n",
            "memory usage: 252.9+ KB\n"
          ],
          "name": "stdout"
        }
      ]
    },
    {
      "cell_type": "code",
      "metadata": {
        "id": "pt1a3u4GZ9qI",
        "outputId": "42124be7-e955-4342-8f73-133747f37a0c"
      },
      "source": [
        "df_train_copy_2.info()"
      ],
      "execution_count": null,
      "outputs": [
        {
          "output_type": "stream",
          "text": [
            "<class 'pandas.core.frame.DataFrame'>\n",
            "Int64Index: 6424 entries, 0 to 6470\n",
            "Data columns (total 5 columns):\n",
            "id          6424 non-null int64\n",
            "keyword     6369 non-null object\n",
            "location    4312 non-null object\n",
            "text        6424 non-null object\n",
            "target      6424 non-null int64\n",
            "dtypes: int64(2), object(3)\n",
            "memory usage: 301.1+ KB\n"
          ],
          "name": "stdout"
        }
      ]
    },
    {
      "cell_type": "code",
      "metadata": {
        "id": "_BN0x8z3Z9qI",
        "outputId": "56557c3e-9fe2-4608-9b63-906b0413fb81"
      },
      "source": [
        "df_train_copy_1.info()"
      ],
      "execution_count": null,
      "outputs": [
        {
          "output_type": "stream",
          "text": [
            "<class 'pandas.core.frame.DataFrame'>\n",
            "Int64Index: 6424 entries, 0 to 6470\n",
            "Data columns (total 5 columns):\n",
            "id          6424 non-null int64\n",
            "keyword     6369 non-null object\n",
            "location    4312 non-null object\n",
            "text        6424 non-null object\n",
            "target      6424 non-null int64\n",
            "dtypes: int64(2), object(3)\n",
            "memory usage: 301.1+ KB\n"
          ],
          "name": "stdout"
        }
      ]
    },
    {
      "cell_type": "markdown",
      "metadata": {
        "id": "WiSPqH_XZ9qI"
      },
      "source": [
        "#### we remark that keyword and location have some missing values.\n",
        "Location:\n",
        "   > About one third of locations are missing. \n",
        "   > Many of locations are, as per our findings in EDA, pseudonymes.\n",
        "   > Thus, we need to drop it. "
      ]
    },
    {
      "cell_type": "code",
      "metadata": {
        "id": "HCV822EDZ9qJ"
      },
      "source": [
        "df_train_copy_1.drop('location', axis = 1, inplace = True)"
      ],
      "execution_count": null,
      "outputs": []
    },
    {
      "cell_type": "code",
      "metadata": {
        "id": "z5jEX0ZtZ9qJ",
        "outputId": "e84c411c-e497-4208-bbf0-3ac387c91e93"
      },
      "source": [
        "df_train_copy_1"
      ],
      "execution_count": null,
      "outputs": [
        {
          "output_type": "execute_result",
          "data": {
            "text/html": [
              "<div>\n",
              "<style scoped>\n",
              "    .dataframe tbody tr th:only-of-type {\n",
              "        vertical-align: middle;\n",
              "    }\n",
              "\n",
              "    .dataframe tbody tr th {\n",
              "        vertical-align: top;\n",
              "    }\n",
              "\n",
              "    .dataframe thead th {\n",
              "        text-align: right;\n",
              "    }\n",
              "</style>\n",
              "<table border=\"1\" class=\"dataframe\">\n",
              "  <thead>\n",
              "    <tr style=\"text-align: right;\">\n",
              "      <th></th>\n",
              "      <th>id</th>\n",
              "      <th>keyword</th>\n",
              "      <th>text</th>\n",
              "      <th>target</th>\n",
              "    </tr>\n",
              "  </thead>\n",
              "  <tbody>\n",
              "    <tr>\n",
              "      <td>0</td>\n",
              "      <td>3738</td>\n",
              "      <td>destroyed</td>\n",
              "      <td>Black Eye 9: A space battle occurred at Star O...</td>\n",
              "      <td>0</td>\n",
              "    </tr>\n",
              "    <tr>\n",
              "      <td>1</td>\n",
              "      <td>853</td>\n",
              "      <td>bioterror</td>\n",
              "      <td>#world FedEx no longer to transport bioterror ...</td>\n",
              "      <td>0</td>\n",
              "    </tr>\n",
              "    <tr>\n",
              "      <td>2</td>\n",
              "      <td>10540</td>\n",
              "      <td>windstorm</td>\n",
              "      <td>Reality Training: Train falls off elevated tra...</td>\n",
              "      <td>1</td>\n",
              "    </tr>\n",
              "    <tr>\n",
              "      <td>3</td>\n",
              "      <td>5988</td>\n",
              "      <td>hazardous</td>\n",
              "      <td>#Taiwan Grace: expect that large rocks trees m...</td>\n",
              "      <td>1</td>\n",
              "    </tr>\n",
              "    <tr>\n",
              "      <td>4</td>\n",
              "      <td>6328</td>\n",
              "      <td>hostage</td>\n",
              "      <td>New ISIS Video: ISIS Threatens to Behead Croat...</td>\n",
              "      <td>1</td>\n",
              "    </tr>\n",
              "    <tr>\n",
              "      <td>...</td>\n",
              "      <td>...</td>\n",
              "      <td>...</td>\n",
              "      <td>...</td>\n",
              "      <td>...</td>\n",
              "    </tr>\n",
              "    <tr>\n",
              "      <td>6466</td>\n",
              "      <td>4377</td>\n",
              "      <td>earthquake</td>\n",
              "      <td>#Earthquake #Sismo M 1.9 - 15km E of Anchorage...</td>\n",
              "      <td>1</td>\n",
              "    </tr>\n",
              "    <tr>\n",
              "      <td>6467</td>\n",
              "      <td>3408</td>\n",
              "      <td>derail</td>\n",
              "      <td>@EmiiliexIrwin Totally agree.She is 23 and kno...</td>\n",
              "      <td>0</td>\n",
              "    </tr>\n",
              "    <tr>\n",
              "      <td>6468</td>\n",
              "      <td>9794</td>\n",
              "      <td>trapped</td>\n",
              "      <td>Hollywood Movie About Trapped Miners Released ...</td>\n",
              "      <td>1</td>\n",
              "    </tr>\n",
              "    <tr>\n",
              "      <td>6469</td>\n",
              "      <td>10344</td>\n",
              "      <td>weapons</td>\n",
              "      <td>Friendly reminder that the only country to eve...</td>\n",
              "      <td>1</td>\n",
              "    </tr>\n",
              "    <tr>\n",
              "      <td>6470</td>\n",
              "      <td>1779</td>\n",
              "      <td>buildings%20on%20fire</td>\n",
              "      <td>Buildings are on fire and they have time for a...</td>\n",
              "      <td>1</td>\n",
              "    </tr>\n",
              "  </tbody>\n",
              "</table>\n",
              "<p>6424 rows × 4 columns</p>\n",
              "</div>"
            ],
            "text/plain": [
              "         id                keyword  \\\n",
              "0      3738              destroyed   \n",
              "1       853              bioterror   \n",
              "2     10540              windstorm   \n",
              "3      5988              hazardous   \n",
              "4      6328                hostage   \n",
              "...     ...                    ...   \n",
              "6466   4377             earthquake   \n",
              "6467   3408                 derail   \n",
              "6468   9794                trapped   \n",
              "6469  10344                weapons   \n",
              "6470   1779  buildings%20on%20fire   \n",
              "\n",
              "                                                   text  target  \n",
              "0     Black Eye 9: A space battle occurred at Star O...       0  \n",
              "1     #world FedEx no longer to transport bioterror ...       0  \n",
              "2     Reality Training: Train falls off elevated tra...       1  \n",
              "3     #Taiwan Grace: expect that large rocks trees m...       1  \n",
              "4     New ISIS Video: ISIS Threatens to Behead Croat...       1  \n",
              "...                                                 ...     ...  \n",
              "6466  #Earthquake #Sismo M 1.9 - 15km E of Anchorage...       1  \n",
              "6467  @EmiiliexIrwin Totally agree.She is 23 and kno...       0  \n",
              "6468  Hollywood Movie About Trapped Miners Released ...       1  \n",
              "6469  Friendly reminder that the only country to eve...       1  \n",
              "6470  Buildings are on fire and they have time for a...       1  \n",
              "\n",
              "[6424 rows x 4 columns]"
            ]
          },
          "metadata": {
            "tags": []
          },
          "execution_count": 17
        }
      ]
    },
    {
      "cell_type": "markdown",
      "metadata": {
        "id": "Khu_cProZ9qJ"
      },
      "source": [
        "#### And Of course is obvious that Id is not of much importance for us."
      ]
    },
    {
      "cell_type": "code",
      "metadata": {
        "id": "uRd4ZrSWZ9qK"
      },
      "source": [
        "df_train_copy_1.drop('id', axis = 1, inplace = True) #useless feature"
      ],
      "execution_count": null,
      "outputs": []
    },
    {
      "cell_type": "code",
      "metadata": {
        "id": "LkOJ8KIfZ9qK"
      },
      "source": [
        "#with location\n",
        "df_train_copy_2.drop('id', axis = 1, inplace = True) #useless feature"
      ],
      "execution_count": null,
      "outputs": []
    },
    {
      "cell_type": "markdown",
      "metadata": {
        "id": "DjSU8zrcZ9qK"
      },
      "source": [
        "We, therefore, dropped it."
      ]
    },
    {
      "cell_type": "code",
      "metadata": {
        "id": "vjdtFPwvZ9qK",
        "outputId": "ebe6ed83-945a-47af-f0e1-1df6f19a85ec"
      },
      "source": [
        "df_train_copy_1.info()"
      ],
      "execution_count": null,
      "outputs": [
        {
          "output_type": "stream",
          "text": [
            "<class 'pandas.core.frame.DataFrame'>\n",
            "Int64Index: 6424 entries, 0 to 6470\n",
            "Data columns (total 3 columns):\n",
            "keyword    6369 non-null object\n",
            "text       6424 non-null object\n",
            "target     6424 non-null int64\n",
            "dtypes: int64(1), object(2)\n",
            "memory usage: 200.8+ KB\n"
          ],
          "name": "stdout"
        }
      ]
    },
    {
      "cell_type": "markdown",
      "metadata": {
        "id": "PbFrOEmeZ9qL"
      },
      "source": [
        "We observe that Keyword feature is missing some values"
      ]
    },
    {
      "cell_type": "markdown",
      "metadata": {
        "id": "m3SXlCYCZ9qL"
      },
      "source": [
        "### Let's deal with missing values"
      ]
    },
    {
      "cell_type": "code",
      "metadata": {
        "id": "OpSGfes7Z9qL",
        "outputId": "3f84ba2a-6593-4239-f24a-dcab3a26dfd2"
      },
      "source": [
        "df_train_copy_1['keyword'].isnull().sum()"
      ],
      "execution_count": null,
      "outputs": [
        {
          "output_type": "execute_result",
          "data": {
            "text/plain": [
              "55"
            ]
          },
          "metadata": {
            "tags": []
          },
          "execution_count": 21
        }
      ]
    },
    {
      "cell_type": "code",
      "metadata": {
        "id": "rqPhH54SZ9qM",
        "outputId": "8a5d85b2-931f-478a-c532-5af22bcd32b1"
      },
      "source": [
        "df_train_copy_1[df_train_copy_1['keyword'].isnull() == True]"
      ],
      "execution_count": null,
      "outputs": [
        {
          "output_type": "execute_result",
          "data": {
            "text/html": [
              "<div>\n",
              "<style scoped>\n",
              "    .dataframe tbody tr th:only-of-type {\n",
              "        vertical-align: middle;\n",
              "    }\n",
              "\n",
              "    .dataframe tbody tr th {\n",
              "        vertical-align: top;\n",
              "    }\n",
              "\n",
              "    .dataframe thead th {\n",
              "        text-align: right;\n",
              "    }\n",
              "</style>\n",
              "<table border=\"1\" class=\"dataframe\">\n",
              "  <thead>\n",
              "    <tr style=\"text-align: right;\">\n",
              "      <th></th>\n",
              "      <th>keyword</th>\n",
              "      <th>text</th>\n",
              "      <th>target</th>\n",
              "    </tr>\n",
              "  </thead>\n",
              "  <tbody>\n",
              "    <tr>\n",
              "      <td>46</td>\n",
              "      <td>NaN</td>\n",
              "      <td>#breaking #LA Refugio oil spill may have been ...</td>\n",
              "      <td>1</td>\n",
              "    </tr>\n",
              "    <tr>\n",
              "      <td>224</td>\n",
              "      <td>NaN</td>\n",
              "      <td>RT @LivingSafely: #NWS issues Severe #Thunders...</td>\n",
              "      <td>1</td>\n",
              "    </tr>\n",
              "    <tr>\n",
              "      <td>263</td>\n",
              "      <td>NaN</td>\n",
              "      <td>I'm on top of the hill and I can see a fire in...</td>\n",
              "      <td>1</td>\n",
              "    </tr>\n",
              "    <tr>\n",
              "      <td>563</td>\n",
              "      <td>NaN</td>\n",
              "      <td>13,000 people receive #wildfires evacuation or...</td>\n",
              "      <td>1</td>\n",
              "    </tr>\n",
              "    <tr>\n",
              "      <td>892</td>\n",
              "      <td>NaN</td>\n",
              "      <td>Three people died from the heat wave so far</td>\n",
              "      <td>1</td>\n",
              "    </tr>\n",
              "    <tr>\n",
              "      <td>1020</td>\n",
              "      <td>NaN</td>\n",
              "      <td>What a wonderful day!</td>\n",
              "      <td>0</td>\n",
              "    </tr>\n",
              "    <tr>\n",
              "      <td>1101</td>\n",
              "      <td>NaN</td>\n",
              "      <td>Pic of 16yr old PKK suicide bomber who detonat...</td>\n",
              "      <td>1</td>\n",
              "    </tr>\n",
              "    <tr>\n",
              "      <td>1231</td>\n",
              "      <td>NaN</td>\n",
              "      <td>#flood #disaster Heavy rain causes flash flood...</td>\n",
              "      <td>1</td>\n",
              "    </tr>\n",
              "    <tr>\n",
              "      <td>1281</td>\n",
              "      <td>NaN</td>\n",
              "      <td>#raining #flooding #Florida #TampaBay #Tampa 1...</td>\n",
              "      <td>1</td>\n",
              "    </tr>\n",
              "    <tr>\n",
              "      <td>1285</td>\n",
              "      <td>NaN</td>\n",
              "      <td>#Sismo DETECTADO #JapÌ_n 15:41:07 Seismic inte...</td>\n",
              "      <td>1</td>\n",
              "    </tr>\n",
              "    <tr>\n",
              "      <td>1544</td>\n",
              "      <td>NaN</td>\n",
              "      <td>NWS: Flash Flood Warning Continued for Shelby ...</td>\n",
              "      <td>1</td>\n",
              "    </tr>\n",
              "    <tr>\n",
              "      <td>1606</td>\n",
              "      <td>NaN</td>\n",
              "      <td>What's up man?</td>\n",
              "      <td>0</td>\n",
              "    </tr>\n",
              "    <tr>\n",
              "      <td>1776</td>\n",
              "      <td>NaN</td>\n",
              "      <td>Haha South Tampa is getting flooded hah- WAIT ...</td>\n",
              "      <td>1</td>\n",
              "    </tr>\n",
              "    <tr>\n",
              "      <td>1890</td>\n",
              "      <td>NaN</td>\n",
              "      <td>#WorldNews Fallen powerlines on G:link tram: U...</td>\n",
              "      <td>1</td>\n",
              "    </tr>\n",
              "    <tr>\n",
              "      <td>1892</td>\n",
              "      <td>NaN</td>\n",
              "      <td>There's an emergency evacuation happening now ...</td>\n",
              "      <td>1</td>\n",
              "    </tr>\n",
              "    <tr>\n",
              "      <td>2029</td>\n",
              "      <td>NaN</td>\n",
              "      <td>The Latest: More Homes Razed by Northern Calif...</td>\n",
              "      <td>1</td>\n",
              "    </tr>\n",
              "    <tr>\n",
              "      <td>2082</td>\n",
              "      <td>NaN</td>\n",
              "      <td>a siren just went off and it wasn't the Forney...</td>\n",
              "      <td>1</td>\n",
              "    </tr>\n",
              "    <tr>\n",
              "      <td>2215</td>\n",
              "      <td>NaN</td>\n",
              "      <td>LOOOOOOL</td>\n",
              "      <td>0</td>\n",
              "    </tr>\n",
              "    <tr>\n",
              "      <td>2485</td>\n",
              "      <td>NaN</td>\n",
              "      <td>M1.94 [01:04 UTC]?5km S of Volcano Hawaii. htt...</td>\n",
              "      <td>1</td>\n",
              "    </tr>\n",
              "    <tr>\n",
              "      <td>2594</td>\n",
              "      <td>NaN</td>\n",
              "      <td>Summer is lovely</td>\n",
              "      <td>0</td>\n",
              "    </tr>\n",
              "    <tr>\n",
              "      <td>2624</td>\n",
              "      <td>NaN</td>\n",
              "      <td>Sirens everywhere!</td>\n",
              "      <td>0</td>\n",
              "    </tr>\n",
              "    <tr>\n",
              "      <td>2631</td>\n",
              "      <td>NaN</td>\n",
              "      <td>I love fruits</td>\n",
              "      <td>0</td>\n",
              "    </tr>\n",
              "    <tr>\n",
              "      <td>2681</td>\n",
              "      <td>NaN</td>\n",
              "      <td>#stormchase Violent Record Breaking EF-5 El Re...</td>\n",
              "      <td>1</td>\n",
              "    </tr>\n",
              "    <tr>\n",
              "      <td>2720</td>\n",
              "      <td>NaN</td>\n",
              "      <td>All residents asked to 'shelter in place' are ...</td>\n",
              "      <td>1</td>\n",
              "    </tr>\n",
              "    <tr>\n",
              "      <td>3281</td>\n",
              "      <td>NaN</td>\n",
              "      <td>Calgary Police Flood Road Closures in Calgary....</td>\n",
              "      <td>1</td>\n",
              "    </tr>\n",
              "    <tr>\n",
              "      <td>3351</td>\n",
              "      <td>NaN</td>\n",
              "      <td>#??? #?? #??? #??? MH370: Aircraft debris foun...</td>\n",
              "      <td>1</td>\n",
              "    </tr>\n",
              "    <tr>\n",
              "      <td>3503</td>\n",
              "      <td>NaN</td>\n",
              "      <td>Two giant cranes holding a bridge collapse int...</td>\n",
              "      <td>1</td>\n",
              "    </tr>\n",
              "    <tr>\n",
              "      <td>3707</td>\n",
              "      <td>NaN</td>\n",
              "      <td>Suicide bomber kills 15 in Saudi security site...</td>\n",
              "      <td>1</td>\n",
              "    </tr>\n",
              "    <tr>\n",
              "      <td>3723</td>\n",
              "      <td>NaN</td>\n",
              "      <td>Police investigating after an e-bike collided ...</td>\n",
              "      <td>1</td>\n",
              "    </tr>\n",
              "    <tr>\n",
              "      <td>3739</td>\n",
              "      <td>NaN</td>\n",
              "      <td>this is ridiculous....</td>\n",
              "      <td>0</td>\n",
              "    </tr>\n",
              "    <tr>\n",
              "      <td>3925</td>\n",
              "      <td>NaN</td>\n",
              "      <td>These boxes are ready to explode! Exploding Ki...</td>\n",
              "      <td>0</td>\n",
              "    </tr>\n",
              "    <tr>\n",
              "      <td>3990</td>\n",
              "      <td>NaN</td>\n",
              "      <td>My car is so fast</td>\n",
              "      <td>0</td>\n",
              "    </tr>\n",
              "    <tr>\n",
              "      <td>4146</td>\n",
              "      <td>NaN</td>\n",
              "      <td>#Flood in Bago Myanmar #We arrived Bago</td>\n",
              "      <td>1</td>\n",
              "    </tr>\n",
              "    <tr>\n",
              "      <td>4315</td>\n",
              "      <td>NaN</td>\n",
              "      <td>I'm afraid that the tornado is coming to our a...</td>\n",
              "      <td>1</td>\n",
              "    </tr>\n",
              "    <tr>\n",
              "      <td>4453</td>\n",
              "      <td>NaN</td>\n",
              "      <td>#RockyFire Update =&gt; California Hwy. 20 closed...</td>\n",
              "      <td>1</td>\n",
              "    </tr>\n",
              "    <tr>\n",
              "      <td>4588</td>\n",
              "      <td>NaN</td>\n",
              "      <td>Do you like pasta?</td>\n",
              "      <td>0</td>\n",
              "    </tr>\n",
              "    <tr>\n",
              "      <td>4688</td>\n",
              "      <td>NaN</td>\n",
              "      <td>Officials say a quarantine is in place at an A...</td>\n",
              "      <td>1</td>\n",
              "    </tr>\n",
              "    <tr>\n",
              "      <td>4793</td>\n",
              "      <td>NaN</td>\n",
              "      <td>Damage to school bus on 80 in multi car crash ...</td>\n",
              "      <td>1</td>\n",
              "    </tr>\n",
              "    <tr>\n",
              "      <td>4854</td>\n",
              "      <td>NaN</td>\n",
              "      <td>Love my girlfriend</td>\n",
              "      <td>0</td>\n",
              "    </tr>\n",
              "    <tr>\n",
              "      <td>4989</td>\n",
              "      <td>NaN</td>\n",
              "      <td>A gas thing just exploded and I heard screams ...</td>\n",
              "      <td>1</td>\n",
              "    </tr>\n",
              "    <tr>\n",
              "      <td>5536</td>\n",
              "      <td>NaN</td>\n",
              "      <td>Forest fire near La Ronge Sask. Canada</td>\n",
              "      <td>1</td>\n",
              "    </tr>\n",
              "    <tr>\n",
              "      <td>5623</td>\n",
              "      <td>NaN</td>\n",
              "      <td>Love skiing</td>\n",
              "      <td>0</td>\n",
              "    </tr>\n",
              "    <tr>\n",
              "      <td>5660</td>\n",
              "      <td>NaN</td>\n",
              "      <td>@aria_ahrary @TheTawniest The out of control w...</td>\n",
              "      <td>1</td>\n",
              "    </tr>\n",
              "    <tr>\n",
              "      <td>5771</td>\n",
              "      <td>NaN</td>\n",
              "      <td>Cooool :)</td>\n",
              "      <td>0</td>\n",
              "    </tr>\n",
              "    <tr>\n",
              "      <td>5929</td>\n",
              "      <td>NaN</td>\n",
              "      <td>An IS group suicide bomber detonated an explos...</td>\n",
              "      <td>1</td>\n",
              "    </tr>\n",
              "    <tr>\n",
              "      <td>5937</td>\n",
              "      <td>NaN</td>\n",
              "      <td>Our Deeds are the Reason of this #earthquake M...</td>\n",
              "      <td>1</td>\n",
              "    </tr>\n",
              "    <tr>\n",
              "      <td>5997</td>\n",
              "      <td>NaN</td>\n",
              "      <td>Just got sent this photo from Ruby #Alaska as ...</td>\n",
              "      <td>1</td>\n",
              "    </tr>\n",
              "    <tr>\n",
              "      <td>6006</td>\n",
              "      <td>NaN</td>\n",
              "      <td>The end!</td>\n",
              "      <td>0</td>\n",
              "    </tr>\n",
              "    <tr>\n",
              "      <td>6103</td>\n",
              "      <td>NaN</td>\n",
              "      <td>Was in NYC last week!</td>\n",
              "      <td>0</td>\n",
              "    </tr>\n",
              "    <tr>\n",
              "      <td>6153</td>\n",
              "      <td>NaN</td>\n",
              "      <td>London is cool ;)</td>\n",
              "      <td>0</td>\n",
              "    </tr>\n",
              "    <tr>\n",
              "      <td>6236</td>\n",
              "      <td>NaN</td>\n",
              "      <td>What a goooooooaaaaaal!!!!!!</td>\n",
              "      <td>0</td>\n",
              "    </tr>\n",
              "    <tr>\n",
              "      <td>6310</td>\n",
              "      <td>NaN</td>\n",
              "      <td>Omg earthquake</td>\n",
              "      <td>1</td>\n",
              "    </tr>\n",
              "    <tr>\n",
              "      <td>6315</td>\n",
              "      <td>NaN</td>\n",
              "      <td>on the flip side I'm at Walmart and there is a...</td>\n",
              "      <td>1</td>\n",
              "    </tr>\n",
              "    <tr>\n",
              "      <td>6407</td>\n",
              "      <td>NaN</td>\n",
              "      <td>BREAKING: #ISIS claims responsibility for mosq...</td>\n",
              "      <td>1</td>\n",
              "    </tr>\n",
              "    <tr>\n",
              "      <td>6442</td>\n",
              "      <td>NaN</td>\n",
              "      <td>No way...I can't eat that shit</td>\n",
              "      <td>0</td>\n",
              "    </tr>\n",
              "  </tbody>\n",
              "</table>\n",
              "</div>"
            ],
            "text/plain": [
              "     keyword                                               text  target\n",
              "46       NaN  #breaking #LA Refugio oil spill may have been ...       1\n",
              "224      NaN  RT @LivingSafely: #NWS issues Severe #Thunders...       1\n",
              "263      NaN  I'm on top of the hill and I can see a fire in...       1\n",
              "563      NaN  13,000 people receive #wildfires evacuation or...       1\n",
              "892      NaN        Three people died from the heat wave so far       1\n",
              "1020     NaN                              What a wonderful day!       0\n",
              "1101     NaN  Pic of 16yr old PKK suicide bomber who detonat...       1\n",
              "1231     NaN  #flood #disaster Heavy rain causes flash flood...       1\n",
              "1281     NaN  #raining #flooding #Florida #TampaBay #Tampa 1...       1\n",
              "1285     NaN  #Sismo DETECTADO #JapÌ_n 15:41:07 Seismic inte...       1\n",
              "1544     NaN  NWS: Flash Flood Warning Continued for Shelby ...       1\n",
              "1606     NaN                                     What's up man?       0\n",
              "1776     NaN  Haha South Tampa is getting flooded hah- WAIT ...       1\n",
              "1890     NaN  #WorldNews Fallen powerlines on G:link tram: U...       1\n",
              "1892     NaN  There's an emergency evacuation happening now ...       1\n",
              "2029     NaN  The Latest: More Homes Razed by Northern Calif...       1\n",
              "2082     NaN  a siren just went off and it wasn't the Forney...       1\n",
              "2215     NaN                                           LOOOOOOL       0\n",
              "2485     NaN  M1.94 [01:04 UTC]?5km S of Volcano Hawaii. htt...       1\n",
              "2594     NaN                                   Summer is lovely       0\n",
              "2624     NaN                                 Sirens everywhere!       0\n",
              "2631     NaN                                      I love fruits       0\n",
              "2681     NaN  #stormchase Violent Record Breaking EF-5 El Re...       1\n",
              "2720     NaN  All residents asked to 'shelter in place' are ...       1\n",
              "3281     NaN  Calgary Police Flood Road Closures in Calgary....       1\n",
              "3351     NaN  #??? #?? #??? #??? MH370: Aircraft debris foun...       1\n",
              "3503     NaN  Two giant cranes holding a bridge collapse int...       1\n",
              "3707     NaN  Suicide bomber kills 15 in Saudi security site...       1\n",
              "3723     NaN  Police investigating after an e-bike collided ...       1\n",
              "3739     NaN                             this is ridiculous....       0\n",
              "3925     NaN  These boxes are ready to explode! Exploding Ki...       0\n",
              "3990     NaN                                  My car is so fast       0\n",
              "4146     NaN            #Flood in Bago Myanmar #We arrived Bago       1\n",
              "4315     NaN  I'm afraid that the tornado is coming to our a...       1\n",
              "4453     NaN  #RockyFire Update => California Hwy. 20 closed...       1\n",
              "4588     NaN                                 Do you like pasta?       0\n",
              "4688     NaN  Officials say a quarantine is in place at an A...       1\n",
              "4793     NaN  Damage to school bus on 80 in multi car crash ...       1\n",
              "4854     NaN                                 Love my girlfriend       0\n",
              "4989     NaN  A gas thing just exploded and I heard screams ...       1\n",
              "5536     NaN             Forest fire near La Ronge Sask. Canada       1\n",
              "5623     NaN                                        Love skiing       0\n",
              "5660     NaN  @aria_ahrary @TheTawniest The out of control w...       1\n",
              "5771     NaN                                          Cooool :)       0\n",
              "5929     NaN  An IS group suicide bomber detonated an explos...       1\n",
              "5937     NaN  Our Deeds are the Reason of this #earthquake M...       1\n",
              "5997     NaN  Just got sent this photo from Ruby #Alaska as ...       1\n",
              "6006     NaN                                           The end!       0\n",
              "6103     NaN                              Was in NYC last week!       0\n",
              "6153     NaN                                  London is cool ;)       0\n",
              "6236     NaN                       What a goooooooaaaaaal!!!!!!       0\n",
              "6310     NaN                                     Omg earthquake       1\n",
              "6315     NaN  on the flip side I'm at Walmart and there is a...       1\n",
              "6407     NaN  BREAKING: #ISIS claims responsibility for mosq...       1\n",
              "6442     NaN                     No way...I can't eat that shit       0"
            ]
          },
          "metadata": {
            "tags": []
          },
          "execution_count": 22
        }
      ]
    },
    {
      "cell_type": "code",
      "metadata": {
        "id": "V8FnPB4-Z9qM",
        "outputId": "357a26e7-1233-49c4-8611-d9855967dfdf"
      },
      "source": [
        "df_train_copy_to_remove = df_train_copy_1[df_train_copy_1['keyword'].isnull()]\n",
        "index_to_remove=df_train_copy_to_remove.index\n",
        "index_to_remove"
      ],
      "execution_count": null,
      "outputs": [
        {
          "output_type": "execute_result",
          "data": {
            "text/plain": [
              "Int64Index([  46,  224,  263,  563,  892, 1020, 1101, 1231, 1281, 1285, 1544,\n",
              "            1606, 1776, 1890, 1892, 2029, 2082, 2215, 2485, 2594, 2624, 2631,\n",
              "            2681, 2720, 3281, 3351, 3503, 3707, 3723, 3739, 3925, 3990, 4146,\n",
              "            4315, 4453, 4588, 4688, 4793, 4854, 4989, 5536, 5623, 5660, 5771,\n",
              "            5929, 5937, 5997, 6006, 6103, 6153, 6236, 6310, 6315, 6407, 6442],\n",
              "           dtype='int64')"
            ]
          },
          "metadata": {
            "tags": []
          },
          "execution_count": 18
        }
      ]
    },
    {
      "cell_type": "code",
      "metadata": {
        "id": "2NOBF3MJZ9qN"
      },
      "source": [
        "df_train_copy_1.drop(index_to_remove, inplace = True)"
      ],
      "execution_count": null,
      "outputs": []
    },
    {
      "cell_type": "code",
      "metadata": {
        "id": "r5JH-D_fZ9qN",
        "outputId": "0260fadb-124f-4cb4-b94f-a89224bc2515"
      },
      "source": [
        "#dealing missing location\n",
        "df_train_copy_2[df_train_copy_2['location'].isnull() == True]"
      ],
      "execution_count": null,
      "outputs": [
        {
          "output_type": "execute_result",
          "data": {
            "text/html": [
              "<div>\n",
              "<style scoped>\n",
              "    .dataframe tbody tr th:only-of-type {\n",
              "        vertical-align: middle;\n",
              "    }\n",
              "\n",
              "    .dataframe tbody tr th {\n",
              "        vertical-align: top;\n",
              "    }\n",
              "\n",
              "    .dataframe thead th {\n",
              "        text-align: right;\n",
              "    }\n",
              "</style>\n",
              "<table border=\"1\" class=\"dataframe\">\n",
              "  <thead>\n",
              "    <tr style=\"text-align: right;\">\n",
              "      <th></th>\n",
              "      <th>id</th>\n",
              "      <th>keyword</th>\n",
              "      <th>location</th>\n",
              "      <th>text</th>\n",
              "      <th>target</th>\n",
              "    </tr>\n",
              "  </thead>\n",
              "  <tbody>\n",
              "    <tr>\n",
              "      <td>1</td>\n",
              "      <td>853</td>\n",
              "      <td>bioterror</td>\n",
              "      <td>NaN</td>\n",
              "      <td>#world FedEx no longer to transport bioterror ...</td>\n",
              "      <td>0</td>\n",
              "    </tr>\n",
              "    <tr>\n",
              "      <td>9</td>\n",
              "      <td>9586</td>\n",
              "      <td>thunder</td>\n",
              "      <td>NaN</td>\n",
              "      <td>The thunder shook my house woke my sister and ...</td>\n",
              "      <td>1</td>\n",
              "    </tr>\n",
              "    <tr>\n",
              "      <td>14</td>\n",
              "      <td>8621</td>\n",
              "      <td>seismic</td>\n",
              "      <td>NaN</td>\n",
              "      <td>Thanks Benson &amp;amp; Clegg for the #follow! Che...</td>\n",
              "      <td>0</td>\n",
              "    </tr>\n",
              "    <tr>\n",
              "      <td>15</td>\n",
              "      <td>1710</td>\n",
              "      <td>bridge%20collapse</td>\n",
              "      <td>NaN</td>\n",
              "      <td>Mexico: construction of bridge collapse killså...</td>\n",
              "      <td>1</td>\n",
              "    </tr>\n",
              "    <tr>\n",
              "      <td>20</td>\n",
              "      <td>10195</td>\n",
              "      <td>violent%20storm</td>\n",
              "      <td>NaN</td>\n",
              "      <td>Storm blitzes Traverse City disrupts Managemen...</td>\n",
              "      <td>1</td>\n",
              "    </tr>\n",
              "    <tr>\n",
              "      <td>...</td>\n",
              "      <td>...</td>\n",
              "      <td>...</td>\n",
              "      <td>...</td>\n",
              "      <td>...</td>\n",
              "      <td>...</td>\n",
              "    </tr>\n",
              "    <tr>\n",
              "      <td>6462</td>\n",
              "      <td>4709</td>\n",
              "      <td>epicentre</td>\n",
              "      <td>NaN</td>\n",
              "      <td>Epicentre - Cydia Tweak - https://t.co/WKmfDig...</td>\n",
              "      <td>0</td>\n",
              "    </tr>\n",
              "    <tr>\n",
              "      <td>6463</td>\n",
              "      <td>8661</td>\n",
              "      <td>sinkhole</td>\n",
              "      <td>NaN</td>\n",
              "      <td>150-Foot Sinkhole Opens in Lowndes County Resi...</td>\n",
              "      <td>1</td>\n",
              "    </tr>\n",
              "    <tr>\n",
              "      <td>6467</td>\n",
              "      <td>3408</td>\n",
              "      <td>derail</td>\n",
              "      <td>NaN</td>\n",
              "      <td>@EmiiliexIrwin Totally agree.She is 23 and kno...</td>\n",
              "      <td>0</td>\n",
              "    </tr>\n",
              "    <tr>\n",
              "      <td>6468</td>\n",
              "      <td>9794</td>\n",
              "      <td>trapped</td>\n",
              "      <td>NaN</td>\n",
              "      <td>Hollywood Movie About Trapped Miners Released ...</td>\n",
              "      <td>1</td>\n",
              "    </tr>\n",
              "    <tr>\n",
              "      <td>6470</td>\n",
              "      <td>1779</td>\n",
              "      <td>buildings%20on%20fire</td>\n",
              "      <td>NaN</td>\n",
              "      <td>Buildings are on fire and they have time for a...</td>\n",
              "      <td>1</td>\n",
              "    </tr>\n",
              "  </tbody>\n",
              "</table>\n",
              "<p>2112 rows × 5 columns</p>\n",
              "</div>"
            ],
            "text/plain": [
              "         id                keyword location  \\\n",
              "1       853              bioterror      NaN   \n",
              "9      9586                thunder      NaN   \n",
              "14     8621                seismic      NaN   \n",
              "15     1710      bridge%20collapse      NaN   \n",
              "20    10195        violent%20storm      NaN   \n",
              "...     ...                    ...      ...   \n",
              "6462   4709              epicentre      NaN   \n",
              "6463   8661               sinkhole      NaN   \n",
              "6467   3408                 derail      NaN   \n",
              "6468   9794                trapped      NaN   \n",
              "6470   1779  buildings%20on%20fire      NaN   \n",
              "\n",
              "                                                   text  target  \n",
              "1     #world FedEx no longer to transport bioterror ...       0  \n",
              "9     The thunder shook my house woke my sister and ...       1  \n",
              "14    Thanks Benson &amp; Clegg for the #follow! Che...       0  \n",
              "15    Mexico: construction of bridge collapse killså...       1  \n",
              "20    Storm blitzes Traverse City disrupts Managemen...       1  \n",
              "...                                                 ...     ...  \n",
              "6462  Epicentre - Cydia Tweak - https://t.co/WKmfDig...       0  \n",
              "6463  150-Foot Sinkhole Opens in Lowndes County Resi...       1  \n",
              "6467  @EmiiliexIrwin Totally agree.She is 23 and kno...       0  \n",
              "6468  Hollywood Movie About Trapped Miners Released ...       1  \n",
              "6470  Buildings are on fire and they have time for a...       1  \n",
              "\n",
              "[2112 rows x 5 columns]"
            ]
          },
          "metadata": {
            "tags": []
          },
          "execution_count": 20
        }
      ]
    },
    {
      "cell_type": "code",
      "metadata": {
        "id": "W_Af5oifZ9qN",
        "outputId": "13de6d1e-cc31-4e9a-9efd-e463f53925ad"
      },
      "source": [
        "df_train_copy_to_remove_loc = df_train_copy_2[df_train_copy_2['location'].isnull()]\n",
        "index_to_remove_loc = df_train_copy_to_remove_loc.index\n",
        "index_to_remove_loc"
      ],
      "execution_count": null,
      "outputs": [
        {
          "output_type": "execute_result",
          "data": {
            "text/plain": [
              "Int64Index([   1,    9,   14,   15,   20,   21,   24,   25,   28,   29,\n",
              "            ...\n",
              "            6453, 6454, 6456, 6460, 6461, 6462, 6463, 6467, 6468, 6470],\n",
              "           dtype='int64', length=2112)"
            ]
          },
          "metadata": {
            "tags": []
          },
          "execution_count": 21
        }
      ]
    },
    {
      "cell_type": "code",
      "metadata": {
        "id": "X65leOkKZ9qO"
      },
      "source": [
        "df_train_copy_2.drop(index_to_remove_loc, inplace = True)"
      ],
      "execution_count": null,
      "outputs": []
    },
    {
      "cell_type": "code",
      "metadata": {
        "id": "BcVzovmpZ9qO",
        "outputId": "d56f920a-f3f5-4307-d398-ecc6ef576331"
      },
      "source": [
        "df_train_copy_2['keyword'].isnull().sum()"
      ],
      "execution_count": null,
      "outputs": [
        {
          "output_type": "execute_result",
          "data": {
            "text/plain": [
              "0"
            ]
          },
          "metadata": {
            "tags": []
          },
          "execution_count": 23
        }
      ]
    },
    {
      "cell_type": "code",
      "metadata": {
        "id": "aDfP5aQrZ9qO"
      },
      "source": [
        "#dealing missing location\n",
        "df_train_copy_3 = df_train\n",
        "df_train_copy_4 = df_train\n",
        "df_train_copy_5 = df_train"
      ],
      "execution_count": null,
      "outputs": []
    },
    {
      "cell_type": "code",
      "metadata": {
        "id": "DIMzaKTgZ9qP"
      },
      "source": [
        "#keeping location\n",
        "df_train_copy_3.drop([790,978,1455,1481,1492,1737,1789,1822,1946,2212,2363,2597,2628,2658,2941,3076,3153,3255,3275,3340,3359,3435,3541,3575,3673,3852,3890,3891,3938,3960,3976,3988,4037,4061,4111,4119,4451,4548,4592,4632,4735,4890,4908,6099,6163,6272,6440], inplace = True)"
      ],
      "execution_count": null,
      "outputs": []
    },
    {
      "cell_type": "code",
      "metadata": {
        "id": "wR6MqozVZ9qP"
      },
      "source": [
        "#dealing missing location\n",
        "# df_train_copy_3[df_train_copy_3['location'].isnull() == True]\n",
        "df_train_copy_3.drop(index_to_remove_loc, inplace = True)"
      ],
      "execution_count": null,
      "outputs": []
    },
    {
      "cell_type": "code",
      "metadata": {
        "id": "spkMmiLgZ9qP"
      },
      "source": [
        "clean_pos = df_train_copy_3.copy()"
      ],
      "execution_count": null,
      "outputs": []
    },
    {
      "cell_type": "code",
      "metadata": {
        "id": "1-kJaOzaZ9qQ",
        "outputId": "8035fb78-861a-4c45-ed72-46069c3ad89c"
      },
      "source": [
        "df_train_copy_3.info()"
      ],
      "execution_count": null,
      "outputs": [
        {
          "output_type": "stream",
          "text": [
            "<class 'pandas.core.frame.DataFrame'>\n",
            "Int64Index: 4312 entries, 0 to 6469\n",
            "Data columns (total 5 columns):\n",
            "id          4312 non-null int64\n",
            "keyword     4312 non-null object\n",
            "location    4312 non-null object\n",
            "text        4312 non-null object\n",
            "target      4312 non-null int64\n",
            "dtypes: int64(2), object(3)\n",
            "memory usage: 202.1+ KB\n"
          ],
          "name": "stdout"
        }
      ]
    },
    {
      "cell_type": "code",
      "metadata": {
        "id": "bL4cXNpjZ9qR",
        "outputId": "04fb1985-4d14-477e-8616-1b61dade6963"
      },
      "source": [
        "df_train_clean_copy = df_train_copy_1.copy()\n",
        "df_train_clean_copy.info()"
      ],
      "execution_count": null,
      "outputs": [
        {
          "output_type": "stream",
          "text": [
            "<class 'pandas.core.frame.DataFrame'>\n",
            "Int64Index: 6369 entries, 0 to 6470\n",
            "Data columns (total 3 columns):\n",
            "id                   6369 non-null int64\n",
            "target               6369 non-null int64\n",
            "Text With Keyword    6369 non-null object\n",
            "dtypes: int64(2), object(1)\n",
            "memory usage: 199.0+ KB\n"
          ],
          "name": "stdout"
        }
      ]
    },
    {
      "cell_type": "markdown",
      "metadata": {
        "id": "E5VRHzWhZ9rU"
      },
      "source": [
        "# Improvement- A New Approach With Better Assumptions "
      ]
    },
    {
      "cell_type": "markdown",
      "metadata": {
        "id": "o_uWF0ULZ9rU"
      },
      "source": [
        "## Cleaning- Rethought"
      ]
    },
    {
      "cell_type": "code",
      "metadata": {
        "scrolled": true,
        "colab": {
          "base_uri": "https://localhost:8080/"
        },
        "id": "FBeTBqRPZ9rU",
        "outputId": "59a8f989-4756-4566-aff5-38bd6d2d8ac6"
      },
      "source": [
        "#this provides a social tokenizer, word segmentation and spell correction\n",
        "!pip install ekphrasis"
      ],
      "execution_count": null,
      "outputs": [
        {
          "output_type": "stream",
          "text": [
            "Collecting ekphrasis\n",
            "\u001b[?25l  Downloading https://files.pythonhosted.org/packages/92/e6/37c59d65e78c3a2aaf662df58faca7250eb6b36c559b912a39a7ca204cfb/ekphrasis-0.5.1.tar.gz (80kB)\n",
            "\r\u001b[K     |████                            | 10kB 18.3MB/s eta 0:00:01\r\u001b[K     |████████▏                       | 20kB 11.6MB/s eta 0:00:01\r\u001b[K     |████████████▎                   | 30kB 6.3MB/s eta 0:00:01\r\u001b[K     |████████████████▍               | 40kB 5.6MB/s eta 0:00:01\r\u001b[K     |████████████████████▌           | 51kB 4.4MB/s eta 0:00:01\r\u001b[K     |████████████████████████▌       | 61kB 4.8MB/s eta 0:00:01\r\u001b[K     |████████████████████████████▋   | 71kB 4.9MB/s eta 0:00:01\r\u001b[K     |████████████████████████████████| 81kB 2.9MB/s \n",
            "\u001b[?25hRequirement already satisfied: termcolor in /usr/local/lib/python3.6/dist-packages (from ekphrasis) (1.1.0)\n",
            "Requirement already satisfied: tqdm in /usr/local/lib/python3.6/dist-packages (from ekphrasis) (4.41.1)\n",
            "Collecting colorama\n",
            "  Downloading https://files.pythonhosted.org/packages/44/98/5b86278fbbf250d239ae0ecb724f8572af1c91f4a11edf4d36a206189440/colorama-0.4.4-py2.py3-none-any.whl\n",
            "Collecting ujson\n",
            "\u001b[?25l  Downloading https://files.pythonhosted.org/packages/f1/84/e039c6ffc6603f2dfe966972d345d4f650a4ffd74b18c852ece645de12ac/ujson-4.0.1-cp36-cp36m-manylinux1_x86_64.whl (179kB)\n",
            "\u001b[K     |████████████████████████████████| 184kB 7.1MB/s \n",
            "\u001b[?25hRequirement already satisfied: matplotlib in /usr/local/lib/python3.6/dist-packages (from ekphrasis) (3.2.2)\n",
            "Requirement already satisfied: nltk in /usr/local/lib/python3.6/dist-packages (from ekphrasis) (3.2.5)\n",
            "Collecting ftfy\n",
            "\u001b[?25l  Downloading https://files.pythonhosted.org/packages/ff/e2/3b51c53dffb1e52d9210ebc01f1fb9f2f6eba9b3201fa971fd3946643c71/ftfy-5.8.tar.gz (64kB)\n",
            "\u001b[K     |████████████████████████████████| 71kB 6.5MB/s \n",
            "\u001b[?25hRequirement already satisfied: numpy in /usr/local/lib/python3.6/dist-packages (from ekphrasis) (1.18.5)\n",
            "Requirement already satisfied: pyparsing!=2.0.4,!=2.1.2,!=2.1.6,>=2.0.1 in /usr/local/lib/python3.6/dist-packages (from matplotlib->ekphrasis) (2.4.7)\n",
            "Requirement already satisfied: kiwisolver>=1.0.1 in /usr/local/lib/python3.6/dist-packages (from matplotlib->ekphrasis) (1.3.1)\n",
            "Requirement already satisfied: python-dateutil>=2.1 in /usr/local/lib/python3.6/dist-packages (from matplotlib->ekphrasis) (2.8.1)\n",
            "Requirement already satisfied: cycler>=0.10 in /usr/local/lib/python3.6/dist-packages (from matplotlib->ekphrasis) (0.10.0)\n",
            "Requirement already satisfied: six in /usr/local/lib/python3.6/dist-packages (from nltk->ekphrasis) (1.15.0)\n",
            "Requirement already satisfied: wcwidth in /usr/local/lib/python3.6/dist-packages (from ftfy->ekphrasis) (0.2.5)\n",
            "Building wheels for collected packages: ekphrasis, ftfy\n",
            "  Building wheel for ekphrasis (setup.py) ... \u001b[?25l\u001b[?25hdone\n",
            "  Created wheel for ekphrasis: filename=ekphrasis-0.5.1-cp36-none-any.whl size=82844 sha256=d214367e309b5d9de43da0df0815a925f8a708a69dabc9cd8a9cec832400bd4c\n",
            "  Stored in directory: /root/.cache/pip/wheels/2f/c5/9b/c9b60f535a2cf9fdbc92d84c4801a010c35a9cd348011ed2a1\n",
            "  Building wheel for ftfy (setup.py) ... \u001b[?25l\u001b[?25hdone\n",
            "  Created wheel for ftfy: filename=ftfy-5.8-cp36-none-any.whl size=45613 sha256=fac336987e6bb7fb398b899999fe3f2343614956d3652ce6ba7077161b19f79a\n",
            "  Stored in directory: /root/.cache/pip/wheels/ba/c0/ef/f28c4da5ac84a4e06ac256ca9182fc34fa57fefffdbc68425b\n",
            "Successfully built ekphrasis ftfy\n",
            "Installing collected packages: colorama, ujson, ftfy, ekphrasis\n",
            "Successfully installed colorama-0.4.4 ekphrasis-0.5.1 ftfy-5.8 ujson-4.0.1\n"
          ],
          "name": "stdout"
        }
      ]
    },
    {
      "cell_type": "markdown",
      "metadata": {
        "id": "zP0gsS7PeYcO"
      },
      "source": [
        "Filling up the missing data With Tags"
      ]
    },
    {
      "cell_type": "code",
      "metadata": {
        "id": "Pd3SvwqUkBpE"
      },
      "source": [
        "df_train_copy_9[\"location\"].fillna(\"<no-location>\", inplace = True) \n",
        "df_test_copy[\"location\"].fillna(\"<no-location>\", inplace = True)\n",
        "\n",
        "df_train_copy_9[\"keyword\"].fillna(\"<no-keyword>\", inplace = True) \n",
        "df_test_copy[\"keyword\"].fillna(\"<no-keyword>\", inplace = True)"
      ],
      "execution_count": null,
      "outputs": []
    },
    {
      "cell_type": "markdown",
      "metadata": {
        "id": "YofHDneWeymL"
      },
      "source": [
        "**This cleans the http-url**"
      ]
    },
    {
      "cell_type": "code",
      "metadata": {
        "colab": {
          "base_uri": "https://localhost:8080/"
        },
        "id": "EA5AVSj5Z9rV",
        "outputId": "1b16b26d-6997-4ffe-835f-34db8544cbaa"
      },
      "source": [
        "# this takes care of the url\n",
        "import re\n",
        "\n",
        "df_train_copy_9.text = df_train_copy_9.text.apply(lambda x: re.sub(r'https?://\\S+|www\\.\\S+', '', x, flags = re.MULTILINE))\n",
        "df_train_copy_9.text.values"
      ],
      "execution_count": null,
      "outputs": [
        {
          "output_type": "execute_result",
          "data": {
            "text/plain": [
              "array(['Black Eye 9: A space battle occurred at Star O784 involving 3 fleets totaling 3945 ships with 17 destroyed',\n",
              "       '#world FedEx no longer to transport bioterror germs in wake of anthrax lab mishaps  ',\n",
              "       'Reality Training: Train falls off elevated tracks during windstorm  #Paramedic #EMS',\n",
              "       ...,\n",
              "       \"Hollywood Movie About Trapped Miners Released in Chile: 'The 33' Hollywood movie about trapped miners starring... \",\n",
              "       'Friendly reminder that the only country to ever use nuclear weapons is the U.S. And it was against civilians. ',\n",
              "       'Buildings are on fire and they have time for a business meeting #TheStrain'],\n",
              "      dtype=object)"
            ]
          },
          "metadata": {
            "tags": []
          },
          "execution_count": 13
        }
      ]
    },
    {
      "cell_type": "markdown",
      "metadata": {
        "id": "EyB2a0MNe3Sn"
      },
      "source": [
        "**This takes care of the special character**"
      ]
    },
    {
      "cell_type": "code",
      "metadata": {
        "colab": {
          "base_uri": "https://localhost:8080/"
        },
        "id": "H9qH9DKJZ9rV",
        "outputId": "4e5a8462-f5c3-4733-d1e6-f27bb916ca71"
      },
      "source": [
        "\n",
        "df_train_copy_9.text = df_train_copy_9.text.apply(lambda x: re.sub(r\"[^a-zA-Z:.'!?,#@_\\s]+\", '', x, flags = re.MULTILINE))\n",
        "df_train_copy_9.keyword = df_train_copy_9.keyword.apply(lambda x: re.sub(r\"[^a-zA-Z:.'!?,#@_\\s]+\", '', str(x), flags = re.MULTILINE))\n",
        "df_train_copy_9.location = df_train_copy_9.location.apply(lambda x: re.sub(r\"[^a-zA-Z:.'!?,#@_\\s]+\", '', str(x), flags = re.MULTILINE))\n",
        "df_train_copy_9.text.values"
      ],
      "execution_count": null,
      "outputs": [
        {
          "output_type": "execute_result",
          "data": {
            "text/plain": [
              "array(['Black Eye : A space battle occurred at Star O involving  fleets totaling  ships with  destroyed',\n",
              "       '#world FedEx no longer to transport bioterror germs in wake of anthrax lab mishaps  ',\n",
              "       'Reality Training: Train falls off elevated tracks during windstorm  #Paramedic #EMS',\n",
              "       ...,\n",
              "       \"Hollywood Movie About Trapped Miners Released in Chile: 'The ' Hollywood movie about trapped miners starring... \",\n",
              "       'Friendly reminder that the only country to ever use nuclear weapons is the U.S. And it was against civilians. ',\n",
              "       'Buildings are on fire and they have time for a business meeting #TheStrain'],\n",
              "      dtype=object)"
            ]
          },
          "metadata": {
            "tags": []
          },
          "execution_count": 14
        }
      ]
    },
    {
      "cell_type": "code",
      "metadata": {
        "colab": {
          "base_uri": "https://localhost:8080/"
        },
        "id": "VjVkM2BsZ9rW",
        "outputId": "6f939a0f-63a2-4852-89e0-4f6205558005"
      },
      "source": [
        "df_test_copy.text = df_test_copy.text.apply(lambda x: re.sub(r'https?://\\S+|www\\.\\S+', '', x, flags = re.MULTILINE))\n",
        "df_test_copy.text.values "
      ],
      "execution_count": null,
      "outputs": [
        {
          "output_type": "execute_result",
          "data": {
            "text/plain": [
              "array(['Crptotech tsunami and banks.\\n  #Banking #tech #bitcoing #blockchain',\n",
              "       \"I'm that traumatised that I can't even spell properly! Excuse the typos!\",\n",
              "       '@foxnewsvideo @AIIAmericanGirI @ANHQDC So ... where are the rioters looters and burning buildings????  WHITE LIVES MATTER!!!!!!',\n",
              "       ...,\n",
              "       'Eruption of Indonesian volcano sparks transport chaos: In this picture done from video Mount Raung in\\x89Û_  ?',\n",
              "       'Never let fear get in the way of achieving your dreams! #deltachildren #instaquote #quoteoftheday #Disney #WaltDisney ',\n",
              "       'wowo--=== 12000 Nigerian refugees repatriated from Cameroon'],\n",
              "      dtype=object)"
            ]
          },
          "metadata": {
            "tags": []
          },
          "execution_count": 16
        }
      ]
    },
    {
      "cell_type": "code",
      "metadata": {
        "colab": {
          "base_uri": "https://localhost:8080/"
        },
        "id": "ZRs94Xj_Z9rW",
        "outputId": "3b11085a-9bd4-4a5e-cefc-3c264a360003"
      },
      "source": [
        "df_test_copy.text = df_test_copy.text.apply(lambda x: re.sub(r\"[^a-zA-Z:.'!?,#@_\\s]+\", '', x, flags = re.MULTILINE))\n",
        "df_test_copy.keyword = df_test_copy.keyword.apply(lambda x: re.sub(r\"[^a-zA-Z:.'!?,#@_\\s]+\", '', str(x), flags = re.MULTILINE))\n",
        "df_test_copy.location = df_test_copy.location.apply(lambda x: re.sub(r\"[^a-zA-Z:.'!?,#@_\\s]+\", '', str(x), flags = re.MULTILINE))\n",
        "df_test_copy.text.values"
      ],
      "execution_count": null,
      "outputs": [
        {
          "output_type": "execute_result",
          "data": {
            "text/plain": [
              "array(['Crptotech tsunami and banks.\\n  #Banking #tech #bitcoing #blockchain',\n",
              "       \"I'm that traumatised that I can't even spell properly! Excuse the typos!\",\n",
              "       '@foxnewsvideo @AIIAmericanGirI @ANHQDC So ... where are the rioters looters and burning buildings????  WHITE LIVES MATTER!!!!!!',\n",
              "       ...,\n",
              "       'Eruption of Indonesian volcano sparks transport chaos: In this picture done from video Mount Raung in_  ?',\n",
              "       'Never let fear get in the way of achieving your dreams! #deltachildren #instaquote #quoteoftheday #Disney #WaltDisney ',\n",
              "       'wowo  Nigerian refugees repatriated from Cameroon'], dtype=object)"
            ]
          },
          "metadata": {
            "tags": []
          },
          "execution_count": 17
        }
      ]
    },
    {
      "cell_type": "code",
      "metadata": {
        "colab": {
          "base_uri": "https://localhost:8080/",
          "height": 419
        },
        "id": "jvrYOov-jSGT",
        "outputId": "43f80471-d09e-4aee-c409-10fac95d91fb"
      },
      "source": [
        "df_train_copy_9"
      ],
      "execution_count": null,
      "outputs": [
        {
          "output_type": "execute_result",
          "data": {
            "text/html": [
              "<div>\n",
              "<style scoped>\n",
              "    .dataframe tbody tr th:only-of-type {\n",
              "        vertical-align: middle;\n",
              "    }\n",
              "\n",
              "    .dataframe tbody tr th {\n",
              "        vertical-align: top;\n",
              "    }\n",
              "\n",
              "    .dataframe thead th {\n",
              "        text-align: right;\n",
              "    }\n",
              "</style>\n",
              "<table border=\"1\" class=\"dataframe\">\n",
              "  <thead>\n",
              "    <tr style=\"text-align: right;\">\n",
              "      <th></th>\n",
              "      <th>id</th>\n",
              "      <th>keyword</th>\n",
              "      <th>location</th>\n",
              "      <th>text</th>\n",
              "      <th>target</th>\n",
              "      <th>avg_word_length</th>\n",
              "    </tr>\n",
              "  </thead>\n",
              "  <tbody>\n",
              "    <tr>\n",
              "      <th>0</th>\n",
              "      <td>3738</td>\n",
              "      <td>destroyed</td>\n",
              "      <td>USA</td>\n",
              "      <td>Black Eye : A space battle occurred at Star O ...</td>\n",
              "      <td>0</td>\n",
              "      <td>0.135191</td>\n",
              "    </tr>\n",
              "    <tr>\n",
              "      <th>1</th>\n",
              "      <td>853</td>\n",
              "      <td>bioterror</td>\n",
              "      <td>nolocation</td>\n",
              "      <td>#world FedEx no longer to transport bioterror ...</td>\n",
              "      <td>0</td>\n",
              "      <td>0.219608</td>\n",
              "    </tr>\n",
              "    <tr>\n",
              "      <th>2</th>\n",
              "      <td>10540</td>\n",
              "      <td>windstorm</td>\n",
              "      <td>Palm Beach County, FL</td>\n",
              "      <td>Reality Training: Train falls off elevated tra...</td>\n",
              "      <td>1</td>\n",
              "      <td>0.323529</td>\n",
              "    </tr>\n",
              "    <tr>\n",
              "      <th>3</th>\n",
              "      <td>5988</td>\n",
              "      <td>hazardous</td>\n",
              "      <td>USA</td>\n",
              "      <td>#Taiwan Grace: expect that large rocks trees m...</td>\n",
              "      <td>1</td>\n",
              "      <td>0.218782</td>\n",
              "    </tr>\n",
              "    <tr>\n",
              "      <th>4</th>\n",
              "      <td>6328</td>\n",
              "      <td>hostage</td>\n",
              "      <td>Australia</td>\n",
              "      <td>New ISIS Video: ISIS Threatens to Behead Croat...</td>\n",
              "      <td>1</td>\n",
              "      <td>0.239908</td>\n",
              "    </tr>\n",
              "    <tr>\n",
              "      <th>...</th>\n",
              "      <td>...</td>\n",
              "      <td>...</td>\n",
              "      <td>...</td>\n",
              "      <td>...</td>\n",
              "      <td>...</td>\n",
              "      <td>...</td>\n",
              "    </tr>\n",
              "    <tr>\n",
              "      <th>6466</th>\n",
              "      <td>4377</td>\n",
              "      <td>earthquake</td>\n",
              "      <td>ARGENTINA</td>\n",
              "      <td>#Earthquake #Sismo M .  km E of Anchorage Alas...</td>\n",
              "      <td>1</td>\n",
              "      <td>0.274510</td>\n",
              "    </tr>\n",
              "    <tr>\n",
              "      <th>6467</th>\n",
              "      <td>3408</td>\n",
              "      <td>derail</td>\n",
              "      <td>nolocation</td>\n",
              "      <td>@EmiiliexIrwin Totally agree.She is  and know ...</td>\n",
              "      <td>0</td>\n",
              "      <td>0.135686</td>\n",
              "    </tr>\n",
              "    <tr>\n",
              "      <th>6468</th>\n",
              "      <td>9794</td>\n",
              "      <td>trapped</td>\n",
              "      <td>nolocation</td>\n",
              "      <td>Hollywood Movie About Trapped Miners Released ...</td>\n",
              "      <td>1</td>\n",
              "      <td>0.277970</td>\n",
              "    </tr>\n",
              "    <tr>\n",
              "      <th>6469</th>\n",
              "      <td>10344</td>\n",
              "      <td>weapons</td>\n",
              "      <td>BeirutToronto</td>\n",
              "      <td>Friendly reminder that the only country to eve...</td>\n",
              "      <td>1</td>\n",
              "      <td>0.198039</td>\n",
              "    </tr>\n",
              "    <tr>\n",
              "      <th>6470</th>\n",
              "      <td>1779</td>\n",
              "      <td>buildingsonfire</td>\n",
              "      <td>nolocation</td>\n",
              "      <td>Buildings are on fire and they have time for a...</td>\n",
              "      <td>1</td>\n",
              "      <td>0.143288</td>\n",
              "    </tr>\n",
              "  </tbody>\n",
              "</table>\n",
              "<p>6471 rows × 6 columns</p>\n",
              "</div>"
            ],
            "text/plain": [
              "         id          keyword  ... target avg_word_length\n",
              "0      3738        destroyed  ...      0        0.135191\n",
              "1       853        bioterror  ...      0        0.219608\n",
              "2     10540        windstorm  ...      1        0.323529\n",
              "3      5988        hazardous  ...      1        0.218782\n",
              "4      6328          hostage  ...      1        0.239908\n",
              "...     ...              ...  ...    ...             ...\n",
              "6466   4377       earthquake  ...      1        0.274510\n",
              "6467   3408           derail  ...      0        0.135686\n",
              "6468   9794          trapped  ...      1        0.277970\n",
              "6469  10344          weapons  ...      1        0.198039\n",
              "6470   1779  buildingsonfire  ...      1        0.143288\n",
              "\n",
              "[6471 rows x 6 columns]"
            ]
          },
          "metadata": {
            "tags": []
          },
          "execution_count": 18
        }
      ]
    },
    {
      "cell_type": "markdown",
      "metadata": {
        "id": "BDKlob8oe8sA"
      },
      "source": [
        "**Decontracting Words**"
      ]
    },
    {
      "cell_type": "code",
      "metadata": {
        "colab": {
          "base_uri": "https://localhost:8080/",
          "height": 419
        },
        "id": "KplzNnP0Z9rX",
        "outputId": "57ebca1d-6130-48b8-f147-554f10281a78"
      },
      "source": [
        "#we may use this too\n",
        "#dealing with contractions\n",
        "contractions = { \n",
        "\"ain't\": \"am not / are not / is not / has not / have not\",\n",
        "\"aren't\": \"are not / am not\",\n",
        "\"can't\": \"cannot\",\n",
        "\"cant\": \"cannot\",\n",
        "\"can't've\": \"cannot have\",\n",
        "\"'cause\": \"because\",\n",
        "\"could've\": \"could have\",\n",
        "\"couldn't\": \"could not\",\n",
        "\"couldn't've\": \"could not have\",\n",
        "\"didn't\": \"did not\",\n",
        "\"doesn't\": \"does not\",\n",
        "\"don't\": \"do not\",\n",
        "\"hadn't\": \"had not\",\n",
        "\"hadn't've\": \"had not have\",\n",
        "\"hasn't\": \"has not\",\n",
        "\"haven't\": \"have not\",\n",
        "\"he'd\": \"he had / he would\",\n",
        "\"he'd've\": \"he would have\",\n",
        "\"he'll\": \"he shall / he will\",\n",
        "\"he'll've\": \"he shall have / he will have\",\n",
        "\"he's\": \"he has / he is\",\n",
        "\"how'd\": \"how did\",\n",
        "\"how'd'y\": \"how do you\",\n",
        "\"how'll\": \"how will\",\n",
        "\"how's\": \"how has / how is / how does\",\n",
        "\"I'd\": \"I had / I would\",\n",
        "\"I'd've\": \"I would have\",\n",
        "\"I'll\": \"I shall / I will\",\n",
        "\"I'll've\": \"I shall have / I will have\",\n",
        "\"I'm\": \"I am\",\n",
        "\"I'm\": \"I am\",\n",
        "\"I've\": \"I have\",\n",
        "\"isn't\": \"is not\",\n",
        "\"it'd\": \"it had / it would\",\n",
        "\"it'd've\": \"it would have\",\n",
        "\"it'll\": \"it shall / it will\",\n",
        "\"it'll've\": \"it shall have / it will have\",\n",
        "\"it's\": \"it has / it is\",\n",
        "\"let's\": \"let us\",\n",
        "\"ma'am\": \"madam\",\n",
        "\"mayn't\": \"may not\",\n",
        "\"might've\": \"might have\",\n",
        "\"mightn't\": \"might not\",\n",
        "\"mightn't've\": \"might not have\",\n",
        "\"must've\": \"must have\",\n",
        "\"mustn't\": \"must not\",\n",
        "\"mustn't've\": \"must not have\",\n",
        "\"needn't\": \"need not\",\n",
        "\"needn't've\": \"need not have\",\n",
        "\"o'clock\": \"of the clock\",\n",
        "\"oughtn't\": \"ought not\",\n",
        "\"oughtn't've\": \"ought not have\",\n",
        "\"shan't\": \"shall not\",\n",
        "\"sha'n't\": \"shall not\",\n",
        "\"shan't've\": \"shall not have\",\n",
        "\"she'd\": \"she had / she would\",\n",
        "\"she'd've\": \"she would have\",\n",
        "\"she'll\": \"she shall / she will\",\n",
        "\"she'll've\": \"she shall have / she will have\",\n",
        "\"she's\": \"she has / she is\",\n",
        "\"should've\": \"should have\",\n",
        "\"shouldn't\": \"should not\",\n",
        "\"shouldn't've\": \"should not have\",\n",
        "\"so've\": \"so have\",\n",
        "\"so's\": \"so as / so is\",\n",
        "\"that'd\": \"that would / that had\",\n",
        "\"that'd've\": \"that would have\",\n",
        "\"that's\": \"that has / that is\",\n",
        "\"there'd\": \"there had / there would\",\n",
        "\"there'd've\": \"there would have\",\n",
        "\"there's\": \"there has / there is\",\n",
        "\"they'd\": \"they had / they would\",\n",
        "\"they'd've\": \"they would have\",\n",
        "\"they'll\": \"they shall / they will\",\n",
        "\"they'll've\": \"they shall have / they will have\",\n",
        "\"they're\": \"they are\",\n",
        "\"they've\": \"they have\",\n",
        "\"to've\": \"to have\",\n",
        "\"wasn't\": \"was not\",\n",
        "\"we'd\": \"we had / we would\",\n",
        "\"we'd've\": \"we would have\",\n",
        "\"we'll\": \"we will\",\n",
        "\"we'll've\": \"we will have\",\n",
        "\"we're\": \"we are\",\n",
        "\"we've\": \"we have\",\n",
        "\"weren't\": \"were not\",\n",
        "\"what'll\": \"what shall / what will\",\n",
        "\"what'll've\": \"what shall have / what will have\",\n",
        "\"what're\": \"what are\",\n",
        "\"what's\": \"what has / what is\",\n",
        "\"what've\": \"what have\",\n",
        "\"when's\": \"when has / when is\",\n",
        "\"when've\": \"when have\",\n",
        "\"where'd\": \"where did\",\n",
        "\"where's\": \"where has / where is\",\n",
        "\"where've\": \"where have\",\n",
        "\"who'll\": \"who shall / who will\",\n",
        "\"who'll've\": \"who shall have / who will have\",\n",
        "\"who's\": \"who has / who is\",\n",
        "\"who've\": \"who have\",\n",
        "\"why's\": \"why has / why is\",\n",
        "\"why've\": \"why have\",\n",
        "\"will've\": \"will have\",\n",
        "\"won't\": \"will not\",\n",
        "\"won't've\": \"will not have\",\n",
        "\"would've\": \"would have\",\n",
        "\"wouldn't\": \"would not\",\n",
        "\"wouldn't've\": \"would not have\",\n",
        "\"y'all\": \"you all\",\n",
        "\"y'all'd\": \"you all would\",\n",
        "\"y'all'd've\": \"you all would have\",\n",
        "\"y'all're\": \"you all are\",\n",
        "\"y'all've\": \"you all have\",\n",
        "\"you'd\": \"you had / you would\",\n",
        "\"you'd've\": \"you would have\",\n",
        "\"you'll\": \"you shall / you will\",\n",
        "\"you'll've\": \"you shall have / you will have\",\n",
        "\"you're\": \"you are\",\n",
        "\"you've\": \"you have\"\n",
        "}\n",
        "\n",
        "contractions_re = re.compile('(%s)' % '|'.join(contractions.keys()))\n",
        "def expand_contractions(s, contractions = contractions):\n",
        "    def replace(match):\n",
        "        return contractions[match.group(0)]\n",
        "    return contractions_re.sub(replace, s)\n",
        "\n",
        "df_train_copy_9.text = df_train_copy_9.text.apply(expand_contractions) \n",
        "df_test_copy.text = df_test_copy.text.apply(expand_contractions)\n",
        "df_test_copy"
      ],
      "execution_count": null,
      "outputs": [
        {
          "output_type": "execute_result",
          "data": {
            "text/html": [
              "<div>\n",
              "<style scoped>\n",
              "    .dataframe tbody tr th:only-of-type {\n",
              "        vertical-align: middle;\n",
              "    }\n",
              "\n",
              "    .dataframe tbody tr th {\n",
              "        vertical-align: top;\n",
              "    }\n",
              "\n",
              "    .dataframe thead th {\n",
              "        text-align: right;\n",
              "    }\n",
              "</style>\n",
              "<table border=\"1\" class=\"dataframe\">\n",
              "  <thead>\n",
              "    <tr style=\"text-align: right;\">\n",
              "      <th></th>\n",
              "      <th>id</th>\n",
              "      <th>keyword</th>\n",
              "      <th>location</th>\n",
              "      <th>text</th>\n",
              "      <th>avg_word_length</th>\n",
              "    </tr>\n",
              "  </thead>\n",
              "  <tbody>\n",
              "    <tr>\n",
              "      <th>0</th>\n",
              "      <td>9972</td>\n",
              "      <td>tsunami</td>\n",
              "      <td>nolocation</td>\n",
              "      <td>Crptotech tsunami and banks.\\n  #Banking #tech...</td>\n",
              "      <td>0.465887</td>\n",
              "    </tr>\n",
              "    <tr>\n",
              "      <th>1</th>\n",
              "      <td>9865</td>\n",
              "      <td>traumatised</td>\n",
              "      <td>Portsmouth, UK</td>\n",
              "      <td>I am that traumatised that I cannot even spell...</td>\n",
              "      <td>0.198830</td>\n",
              "    </tr>\n",
              "    <tr>\n",
              "      <th>2</th>\n",
              "      <td>1937</td>\n",
              "      <td>burningbuildings</td>\n",
              "      <td>nolocation</td>\n",
              "      <td>@foxnewsvideo @AIIAmericanGirI @ANHQDC So ... ...</td>\n",
              "      <td>0.328947</td>\n",
              "    </tr>\n",
              "    <tr>\n",
              "      <th>3</th>\n",
              "      <td>3560</td>\n",
              "      <td>desolate</td>\n",
              "      <td>nolocation</td>\n",
              "      <td>Me watching Law amp Order IB: @sauldale Vine b...</td>\n",
              "      <td>0.390750</td>\n",
              "    </tr>\n",
              "    <tr>\n",
              "      <th>4</th>\n",
              "      <td>2731</td>\n",
              "      <td>crushed</td>\n",
              "      <td>bahstunporta reeko</td>\n",
              "      <td>Papi absolutely crushed that ball</td>\n",
              "      <td>0.249123</td>\n",
              "    </tr>\n",
              "    <tr>\n",
              "      <th>...</th>\n",
              "      <td>...</td>\n",
              "      <td>...</td>\n",
              "      <td>...</td>\n",
              "      <td>...</td>\n",
              "      <td>...</td>\n",
              "    </tr>\n",
              "    <tr>\n",
              "      <th>1137</th>\n",
              "      <td>3497</td>\n",
              "      <td>derailed</td>\n",
              "      <td>nolocation</td>\n",
              "      <td>@ItsQueenBaby I am at work it has / it is a bu...</td>\n",
              "      <td>0.160234</td>\n",
              "    </tr>\n",
              "    <tr>\n",
              "      <th>1138</th>\n",
              "      <td>9191</td>\n",
              "      <td>suicidebomber</td>\n",
              "      <td>nolocation</td>\n",
              "      <td>#?? #?? #??? #??? Suicide bomber kills  in Sau...</td>\n",
              "      <td>0.232456</td>\n",
              "    </tr>\n",
              "    <tr>\n",
              "      <th>1139</th>\n",
              "      <td>10217</td>\n",
              "      <td>volcano</td>\n",
              "      <td>nolocation</td>\n",
              "      <td>Eruption of Indonesian volcano sparks transpor...</td>\n",
              "      <td>0.278752</td>\n",
              "    </tr>\n",
              "    <tr>\n",
              "      <th>1140</th>\n",
              "      <td>5308</td>\n",
              "      <td>fear</td>\n",
              "      <td>New York</td>\n",
              "      <td>Never let fear get in the way of achieving you...</td>\n",
              "      <td>0.353973</td>\n",
              "    </tr>\n",
              "    <tr>\n",
              "      <th>1141</th>\n",
              "      <td>8044</td>\n",
              "      <td>refugees</td>\n",
              "      <td>nolocation</td>\n",
              "      <td>wowo  Nigerian refugees repatriated from Cameroon</td>\n",
              "      <td>0.373434</td>\n",
              "    </tr>\n",
              "  </tbody>\n",
              "</table>\n",
              "<p>1142 rows × 5 columns</p>\n",
              "</div>"
            ],
            "text/plain": [
              "         id  ... avg_word_length\n",
              "0      9972  ...        0.465887\n",
              "1      9865  ...        0.198830\n",
              "2      1937  ...        0.328947\n",
              "3      3560  ...        0.390750\n",
              "4      2731  ...        0.249123\n",
              "...     ...  ...             ...\n",
              "1137   3497  ...        0.160234\n",
              "1138   9191  ...        0.232456\n",
              "1139  10217  ...        0.278752\n",
              "1140   5308  ...        0.353973\n",
              "1141   8044  ...        0.373434\n",
              "\n",
              "[1142 rows x 5 columns]"
            ]
          },
          "metadata": {
            "tags": []
          },
          "execution_count": 19
        }
      ]
    },
    {
      "cell_type": "markdown",
      "metadata": {
        "id": "CoAeQ8V3fIkb"
      },
      "source": [
        "**Dealing with abrevations**\n"
      ]
    },
    {
      "cell_type": "code",
      "metadata": {
        "colab": {
          "base_uri": "https://localhost:8080/"
        },
        "id": "cLSoZWYdZ9rX",
        "outputId": "56cfd1e7-f0e4-426d-9344-436fbef13812"
      },
      "source": [
        "\n",
        "def clean_tw(tweet):\n",
        "\n",
        "    #correct some acronyms while we are at it\n",
        "    tweet = re.sub(r\"tnwx\", \"Tennessee Weather\", tweet)\n",
        "    tweet = re.sub(r\"azwx\", \"Arizona Weather\", tweet)  \n",
        "    tweet = re.sub(r\"alwx\", \"Alabama Weather\", tweet)\n",
        "    tweet = re.sub(r\"wordpressdotcom\", \"wordpress\", tweet)      \n",
        "    tweet = re.sub(r\"gawx\", \"Georgia Weather\", tweet)  \n",
        "    tweet = re.sub(r\"scwx\", \"South Carolina Weather\", tweet)  \n",
        "    tweet = re.sub(r\"cawx\", \"California Weather\", tweet)\n",
        "    tweet = re.sub(r\"usNWSgov\", \"United States National Weather Service\", tweet) \n",
        "    tweet = re.sub(r\"MH370\", \"Malaysia Airlines Flight 370\", tweet)\n",
        "    tweet = re.sub(r\"okwx\", \"Oklahoma City Weather\", tweet)\n",
        "    tweet = re.sub(r\"arwx\", \"Arkansas Weather\", tweet)  \n",
        "    tweet = re.sub(r\"lmao\", \"laughing my ass off\", tweet)  \n",
        "    tweet = re.sub(r\"amirite\", \"am I right\", tweet)\n",
        "    \n",
        "    #and some typos/abbreviations\n",
        "    tweet = re.sub(r\"w/e\", \"whatever\", tweet)\n",
        "    tweet = re.sub(r\"w/\", \"with\", tweet)\n",
        "    tweet = re.sub(r\"USAgov\", \"USA government\", tweet)\n",
        "    tweet = re.sub(r\"recentlu\", \"recently\", tweet)\n",
        "    tweet = re.sub(r\"Ph0tos\", \"Photos\", tweet)\n",
        "    tweet = re.sub(r\"exp0sed\", \"exposed\", tweet)\n",
        "    tweet = re.sub(r\"<3\", \"love\", tweet)\n",
        "    tweet = re.sub(r\"amageddon\", \"armageddon\", tweet)\n",
        "    tweet = re.sub(r\"Trfc\", \"Traffic\", tweet)\n",
        "    tweet = re.sub(r\"WindStorm\", \"Wind Storm\", tweet)\n",
        "    tweet = re.sub(r\"16yr\", \"16 year\", tweet)\n",
        "    tweet = re.sub(r\"TRAUMATISED\", \"traumatized\", tweet)\n",
        "    \n",
        "    #hashtags and usernames\n",
        "    tweet = re.sub(r\"IranDeal\", \"Iran Deal\", tweet)\n",
        "    tweet = re.sub(r\"ArianaGrande\", \"Ariana Grande\", tweet)\n",
        "    tweet = re.sub(r\"camilacabello97\", \"camila cabello\", tweet) \n",
        "    tweet = re.sub(r\"RondaRousey\", \"Ronda Rousey\", tweet)     \n",
        "    tweet = re.sub(r\"MTVHottest\", \"MTV Hottest\", tweet)\n",
        "    tweet = re.sub(r\"TrapMusic\", \"Trap Music\", tweet)\n",
        "    tweet = re.sub(r\"ProphetMuhammad\", \"Prophet Muhammad\", tweet)\n",
        "    tweet = re.sub(r\"PantherAttack\", \"Panther Attack\", tweet)\n",
        "    tweet = re.sub(r\"StrategicPatience\", \"Strategic Patience\", tweet)\n",
        "    tweet = re.sub(r\"socialnews\", \"social news\", tweet)\n",
        "    tweet = re.sub(r\"IDPs:\", \"Internally Displaced People :\", tweet)\n",
        "    tweet = re.sub(r\"ArtistsUnited\", \"Artists United\", tweet)\n",
        "    tweet = re.sub(r\"ClaytonBryant\", \"Clayton Bryant\", tweet)\n",
        "    tweet = re.sub(r\"jimmyfallon\", \"jimmy fallon\", tweet)\n",
        "    tweet = re.sub(r\"justinbieber\", \"justin bieber\", tweet)  \n",
        "    tweet = re.sub(r\"Time2015\", \"Time 2015\", tweet)\n",
        "    tweet = re.sub(r\"djicemoon\", \"dj icemoon\", tweet)\n",
        "    tweet = re.sub(r\"LivingSafely\", \"Living Safely\", tweet)\n",
        "    tweet = re.sub(r\"FIFA16\", \"Fifa 2016\", tweet)\n",
        "    tweet = re.sub(r\"thisiswhywecanthavenicethings\", \"this is why we cannot have nice things\", tweet)\n",
        "    tweet = re.sub(r\"bbcnews\", \"bbc news\", tweet)\n",
        "    tweet = re.sub(r\"UndergroundRailraod\", \"Underground Railraod\", tweet)\n",
        "    tweet = re.sub(r\"c4news\", \"c4 news\", tweet)\n",
        "    tweet = re.sub(r\"MUDSLIDE\", \"mudslide\", tweet)\n",
        "    tweet = re.sub(r\"NoSurrender\", \"No Surrender\", tweet)\n",
        "    tweet = re.sub(r\"NotExplained\", \"Not Explained\", tweet)\n",
        "    tweet = re.sub(r\"greatbritishbakeoff\", \"great british bake off\", tweet)\n",
        "    tweet = re.sub(r\"LondonFire\", \"London Fire\", tweet)\n",
        "    tweet = re.sub(r\"KOTAWeather\", \"KOTA Weather\", tweet)\n",
        "    tweet = re.sub(r\"LuchaUnderground\", \"Lucha Underground\", tweet)\n",
        "    tweet = re.sub(r\"KOIN6News\", \"KOIN 6 News\", tweet)\n",
        "    tweet = re.sub(r\"LiveOnK2\", \"Live On K2\", tweet)\n",
        "    tweet = re.sub(r\"9NewsGoldCoast\", \"9 News Gold Coast\", tweet)\n",
        "    tweet = re.sub(r\"nikeplus\", \"nike plus\", tweet)\n",
        "    tweet = re.sub(r\"david_cameron\", \"David Cameron\", tweet)\n",
        "    tweet = re.sub(r\"peterjukes\", \"Peter Jukes\", tweet)\n",
        "    tweet = re.sub(r\"MikeParrActor\", \"Michael Parr\", tweet)\n",
        "    tweet = re.sub(r\"4PlayThursdays\", \"Foreplay Thursdays\", tweet)\n",
        "    tweet = re.sub(r\"TGF2015\", \"Tontitown Grape Festival\", tweet)\n",
        "    tweet = re.sub(r\"realmandyrain\", \"Mandy Rain\", tweet)\n",
        "    tweet = re.sub(r\"GraysonDolan\", \"Grayson Dolan\", tweet)\n",
        "    tweet = re.sub(r\"ApolloBrown\", \"Apollo Brown\", tweet)\n",
        "    tweet = re.sub(r\"saddlebrooke\", \"Saddlebrooke\", tweet)\n",
        "    tweet = re.sub(r\"TontitownGrape\", \"Tontitown Grape\", tweet)\n",
        "    tweet = re.sub(r\"AbbsWinston\", \"Abbs Winston\", tweet)\n",
        "    tweet = re.sub(r\"ShaunKing\", \"Shaun King\", tweet)\n",
        "    tweet = re.sub(r\"MeekMill\", \"Meek Mill\", tweet)\n",
        "    tweet = re.sub(r\"TornadoGiveaway\", \"Tornado Giveaway\", tweet)\n",
        "    tweet = re.sub(r\"GRupdates\", \"GR updates\", tweet)\n",
        "    tweet = re.sub(r\"SouthDowns\", \"South Downs\", tweet)\n",
        "    tweet = re.sub(r\"braininjury\", \"brain injury\", tweet)\n",
        "    tweet = re.sub(r\"auspol\", \"Australian politics\", tweet)\n",
        "    tweet = re.sub(r\"PlannedParenthood\", \"Planned Parenthood\", tweet)\n",
        "    tweet = re.sub(r\"calgaryweather\", \"Calgary Weather\", tweet)\n",
        "    tweet = re.sub(r\"weallheartonedirection\", \"we all heart one direction\", tweet)\n",
        "    tweet = re.sub(r\"edsheeran\", \"Ed Sheeran\", tweet)\n",
        "    tweet = re.sub(r\"TrueHeroes\", \"True Heroes\", tweet)\n",
        "    tweet = re.sub(r\"ComplexMag\", \"Complex Magazine\", tweet)\n",
        "    tweet = re.sub(r\"TheAdvocateMag\", \"The Advocate Magazine\", tweet)\n",
        "    tweet = re.sub(r\"CityofCalgary\", \"City of Calgary\", tweet)\n",
        "    tweet = re.sub(r\"EbolaOutbreak\", \"Ebola Outbreak\", tweet)\n",
        "    tweet = re.sub(r\"SummerFate\", \"Summer Fate\", tweet)\n",
        "    tweet = re.sub(r\"RAmag\", \"Royal Academy Magazine\", tweet)\n",
        "    tweet = re.sub(r\"offers2go\", \"offers to go\", tweet)\n",
        "    tweet = re.sub(r\"ModiMinistry\", \"Modi Ministry\", tweet)\n",
        "    tweet = re.sub(r\"TAXIWAYS\", \"taxi ways\", tweet)\n",
        "    tweet = re.sub(r\"Calum5SOS\", \"Calum Hood\", tweet)\n",
        "    tweet = re.sub(r\"JamesMelville\", \"James Melville\", tweet)\n",
        "    tweet = re.sub(r\"JamaicaObserver\", \"Jamaica Observer\", tweet)\n",
        "    tweet = re.sub(r\"TweetLikeItsSeptember11th2001\", \"Tweet like it is september 11th 2001\", tweet)\n",
        "    tweet = re.sub(r\"cbplawyers\", \"cbp lawyers\", tweet)\n",
        "    tweet = re.sub(r\"fewmoretweets\", \"few more tweets\", tweet)\n",
        "    tweet = re.sub(r\"BlackLivesMatter\", \"Black Lives Matter\", tweet)\n",
        "    tweet = re.sub(r\"NASAHurricane\", \"NASA Hurricane\", tweet)\n",
        "    tweet = re.sub(r\"onlinecommunities\", \"online communities\", tweet)\n",
        "    tweet = re.sub(r\"humanconsumption\", \"human consumption\", tweet)\n",
        "    tweet = re.sub(r\"Typhoon-Devastated\", \"Typhoon Devastated\", tweet)\n",
        "    tweet = re.sub(r\"Meat-Loving\", \"Meat Loving\", tweet)\n",
        "    tweet = re.sub(r\"facialabuse\", \"facial abuse\", tweet)\n",
        "    tweet = re.sub(r\"LakeCounty\", \"Lake County\", tweet)\n",
        "    tweet = re.sub(r\"BeingAuthor\", \"Being Author\", tweet)\n",
        "    tweet = re.sub(r\"withheavenly\", \"with heavenly\", tweet)\n",
        "    tweet = re.sub(r\"thankU\", \"thank you\", tweet)\n",
        "    tweet = re.sub(r\"iTunesMusic\", \"iTunes Music\", tweet)\n",
        "    tweet = re.sub(r\"OffensiveContent\", \"Offensive Content\", tweet)\n",
        "    tweet = re.sub(r\"WorstSummerJob\", \"Worst Summer Job\", tweet)\n",
        "    tweet = re.sub(r\"HarryBeCareful\", \"Harry Be Careful\", tweet)\n",
        "    tweet = re.sub(r\"NASASolarSystem\", \"NASA Solar System\", tweet)\n",
        "    tweet = re.sub(r\"animalrescue\", \"animal rescue\", tweet)\n",
        "    tweet = re.sub(r\"KurtSchlichter\", \"Kurt Schlichter\", tweet)\n",
        "    tweet = re.sub(r\"Throwingknifes\", \"Throwing knives\", tweet)\n",
        "    tweet = re.sub(r\"GodsLove\", \"God's Love\", tweet)\n",
        "    tweet = re.sub(r\"bookboost\", \"book boost\", tweet)\n",
        "    tweet = re.sub(r\"ibooklove\", \"I book love\", tweet)\n",
        "    tweet = re.sub(r\"NestleIndia\", \"Nestle India\", tweet)\n",
        "    tweet = re.sub(r\"realDonaldTrump\", \"Donald Trump\", tweet)\n",
        "    tweet = re.sub(r\"DavidVonderhaar\", \"David Vonderhaar\", tweet)\n",
        "    tweet = re.sub(r\"CecilTheLion\", \"Cecil The Lion\", tweet)\n",
        "    tweet = re.sub(r\"weathernetwork\", \"weather network\", tweet)\n",
        "    tweet = re.sub(r\"GOPDebate\", \"GOP Debate\", tweet)\n",
        "    tweet = re.sub(r\"RickPerry\", \"Rick Perry\", tweet)\n",
        "    tweet = re.sub(r\"frontpage\", \"front page\", tweet)\n",
        "    tweet = re.sub(r\"NewsInTweets\", \"News In Tweets\", tweet)\n",
        "    tweet = re.sub(r\"ViralSpell\", \"Viral Spell\", tweet)\n",
        "    tweet = re.sub(r\"til_now\", \"until now\", tweet)\n",
        "    tweet = re.sub(r\"volcanoinRussia\", \"volcano in Russia\", tweet)\n",
        "    tweet = re.sub(r\"ZippedNews\", \"Zipped News\", tweet)\n",
        "    tweet = re.sub(r\"MicheleBachman\", \"Michele Bachman\", tweet)\n",
        "    tweet = re.sub(r\"53inch\", \"53 inch\", tweet)\n",
        "    tweet = re.sub(r\"KerrickTrial\", \"Kerrick Trial\", tweet)\n",
        "    tweet = re.sub(r\"abstorm\", \"Alberta Storm\", tweet)\n",
        "    tweet = re.sub(r\"Beyhive\", \"Beyonce hive\", tweet)\n",
        "    tweet = re.sub(r\"RockyFire\", \"Rocky Fire\", tweet)\n",
        "    tweet = re.sub(r\"Listen/Buy\", \"Listen / Buy\", tweet)\n",
        "    tweet = re.sub(r\"ArtistsUnited\", \"Artists United\", tweet)\n",
        "    tweet = re.sub(r\"ENGvAUS\", \"England vs Australia\", tweet)\n",
        "    tweet = re.sub(r\"TheStrain\", \"The Strain\", tweet)\n",
        "    tweet = re.sub(r\"bioterror\", \"bio terror\", tweet)\n",
        "    tweet = re.sub(r\"transpo\", \"transport\", tweet)\n",
        "    tweet = re.sub(r\"ScottWalker\", \"Scott Walker\", tweet)\n",
        "\n",
        "    return tweet \n",
        "\n",
        "\n",
        "df_train_copy_9.text = df_train_copy_9.text.apply(clean_tw) \n",
        "df_test_copy.text = df_test_copy.text.apply(clean_tw) \n",
        "df_test_copy.text"
      ],
      "execution_count": null,
      "outputs": [
        {
          "output_type": "execute_result",
          "data": {
            "text/plain": [
              "0       Crptotech tsunami and banks.\\n  #Banking #tech...\n",
              "1       I am that traumatised that I cannot even spell...\n",
              "2       @foxnewsvideo @AIIAmericanGirI @ANHQDC So ... ...\n",
              "3       Me watching Law amp Order IB: @sauldale Vine b...\n",
              "4                       Papi absolutely crushed that ball\n",
              "                              ...                        \n",
              "1137    @ItsQueenBaby I am at work it has / it is a bu...\n",
              "1138    #?? #?? #??? #??? Suicide bomber kills  in Sau...\n",
              "1139    Eruption of Indonesian volcano sparks transpor...\n",
              "1140    Never let fear get in the way of achieving you...\n",
              "1141    wowo  Nigerian refugees repatriated from Cameroon\n",
              "Name: text, Length: 1142, dtype: object"
            ]
          },
          "metadata": {
            "tags": []
          },
          "execution_count": 20
        }
      ]
    },
    {
      "cell_type": "markdown",
      "metadata": {
        "id": "lmLz4VFefZd9"
      },
      "source": [
        "###Ekphrasis: Dealing with Social Text "
      ]
    },
    {
      "cell_type": "markdown",
      "metadata": {
        "id": "RWQjU2hWfqh_"
      },
      "source": [
        "It is a tool which preprocesses social text from social networks, such as Twitter or Facebook \n"
      ]
    },
    {
      "cell_type": "markdown",
      "metadata": {
        "id": "VsmIMfL8g3yQ"
      },
      "source": [
        "https://github.com/cbaziotis/ekphrasis"
      ]
    },
    {
      "cell_type": "code",
      "metadata": {
        "colab": {
          "base_uri": "https://localhost:8080/"
        },
        "id": "P8U99tYQZ9rY",
        "outputId": "5304c1e1-9fc3-4ed3-cfbf-e3f60815508c"
      },
      "source": [
        "from ekphrasis.classes.preprocessor import TextPreProcessor\n",
        "from ekphrasis.classes.tokenizer import SocialTokenizer\n",
        "from ekphrasis.dicts.emoticons import emoticons\n",
        "import nltk\n",
        "\n",
        "\n",
        "text_processor = TextPreProcessor(\n",
        "    # terms that will be normalized\n",
        "    normalize=['email', 'percent', 'money', 'phone', 'url', 'user',\n",
        "        'time', 'date', 'number'],\n",
        "    # terms that will be annotated\n",
        "    annotate={\"hashtag\",\"elongated\", \"repeated\",\n",
        "        'emphasis', 'censored'},\n",
        "    fix_html=True,  # fix HTML tokens\n",
        "    \n",
        "    # corpus from which the word statistics are going to be used \n",
        "    # for word segmentation \n",
        "    segmenter=\"twitter\", \n",
        "    \n",
        "    # corpus from which the word statistics are going to be used \n",
        "    # for spell correction\n",
        "    corrector=\"twitter\", \n",
        "    \n",
        "    unpack_hashtags=True,  # perform word segmentation on hashtags\n",
        "    unpack_contractions=True,  # Unpack contractions (can't -> can not)\n",
        "    spell_correct_elong=False,  # spell correction for elongated words\n",
        "    \n",
        "    # select a tokenizer. You can use SocialTokenizer, or pass your own\n",
        "    # the tokenizer, should take as input a string and return a list of tokens\n",
        "    tokenizer=SocialTokenizer(lowercase=True).tokenize,\n",
        "    \n",
        "    # list of dictionaries, for replacing tokens extracted from the text,\n",
        "    # with other expressions. You can pass more than one dictionaries.\n",
        "    dicts=[emoticons]\n",
        ")\n",
        "\n",
        "i = 0\n",
        "for review in df_train_copy_9.text.values:\n",
        "    df_train_copy_9['text'].loc[i]=\" \".join(text_processor.pre_process_doc(review))\n",
        "    i += 1\n",
        "# df_train_copy_9['text']\n",
        "\n",
        "j = 0\n",
        "for review in df_test_copy.text.values:\n",
        "    df_test_copy['text'].loc[j]=\" \".join(text_processor.pre_process_doc(review))\n",
        "    j += 1\n",
        "df_test_copy['text'].values\n"
      ],
      "execution_count": null,
      "outputs": [
        {
          "output_type": "stream",
          "text": [
            "Word statistics files not found!\n",
            "Downloading... done!\n",
            "Unpacking... done!\n",
            "Reading twitter - 1grams ...\n",
            "generating cache file for faster loading...\n",
            "reading ngrams /root/.ekphrasis/stats/twitter/counts_1grams.txt\n",
            "Reading twitter - 2grams ...\n",
            "generating cache file for faster loading...\n",
            "reading ngrams /root/.ekphrasis/stats/twitter/counts_2grams.txt\n",
            "Reading twitter - 1grams ...\n"
          ],
          "name": "stdout"
        },
        {
          "output_type": "stream",
          "text": [
            "/usr/local/lib/python3.6/dist-packages/pandas/core/indexing.py:670: SettingWithCopyWarning: \n",
            "A value is trying to be set on a copy of a slice from a DataFrame\n",
            "\n",
            "See the caveats in the documentation: https://pandas.pydata.org/pandas-docs/stable/user_guide/indexing.html#returning-a-view-versus-a-copy\n",
            "  iloc._setitem_with_indexer(indexer, value)\n"
          ],
          "name": "stderr"
        },
        {
          "output_type": "execute_result",
          "data": {
            "text/plain": [
              "array(['crptotech tsunami and banks . <hashtag> banking </hashtag> <hashtag> tech </hashtag> <hashtag> bitcoin g </hashtag> <hashtag> blockchain </hashtag>',\n",
              "       'i am that traumatised that i cannot even spell properly ! excuse the typos !',\n",
              "       '<user> <user> <user> so . <repeated> where are the rioters looters and burning buildings ? <repeated> white lives matter ! <repeated>',\n",
              "       ...,\n",
              "       'eruption of indonesian volcano sparks transportrt chaos : in this picture done from video mount raung in_ ?',\n",
              "       'never let fear get in the way of achieving your dreams ! <hashtag> delta children </hashtag> <hashtag> insta quote </hashtag> <hashtag> quote of the day </hashtag> <hashtag> disney </hashtag> <hashtag> walt disney </hashtag>',\n",
              "       'wowo nigerian refugees repatriated from cameroon'], dtype=object)"
            ]
          },
          "metadata": {
            "tags": []
          },
          "execution_count": 21
        }
      ]
    }
  ]
}