{
  "nbformat": 4,
  "nbformat_minor": 0,
  "metadata": {
    "colab": {
      "name": "COOP20.ipynb",
      "provenance": [],
      "collapsed_sections": []
    },
    "kernelspec": {
      "name": "python3",
      "display_name": "Python 3"
    }
  },
  "cells": [
    {
      "cell_type": "code",
      "metadata": {
        "id": "JsY-dL5t_-B3"
      },
      "source": [
        ""
      ],
      "execution_count": null,
      "outputs": []
    },
    {
      "cell_type": "code",
      "metadata": {
        "id": "LkzLpJIbTlrv"
      },
      "source": [
        "%matplotlib inline\n",
        "import numpy as np\n",
        "import matplotlib.pyplot as plt\n",
        "from matplotlib import collections  as mc\n",
        "%load_ext autoreload\n",
        "%autoreload 2\n",
        "import pandas as pd \n",
        "import seaborn as sns\n",
        "from sklearn.preprocessing import LabelEncoder, OneHotEncoder\n",
        "sns.set_style(\"white\")"
      ],
      "execution_count": 1,
      "outputs": []
    },
    {
      "cell_type": "code",
      "metadata": {
        "id": "URNFElJIZCNW"
      },
      "source": [
        ""
      ],
      "execution_count": 1,
      "outputs": []
    },
    {
      "cell_type": "code",
      "metadata": {
        "id": "F65y_KSdY61u"
      },
      "source": [
        "import string\n",
        "\n",
        "\n",
        "from sklearn.model_selection import train_test_split\n",
        "from sklearn.feature_extraction.text import CountVectorizer,TfidfVectorizer\n",
        "from sklearn.linear_model import LogisticRegression,LogisticRegressionCV,LinearRegression\n",
        "from sklearn.metrics import confusion_matrix, accuracy_score, precision_score, recall_score, f1_score\n",
        "from sklearn.base import TransformerMixin\n",
        "from sklearn.pipeline import Pipeline"
      ],
      "execution_count": 2,
      "outputs": []
    },
    {
      "cell_type": "code",
      "metadata": {
        "id": "Cm23FKT7Y_qu"
      },
      "source": [
        ""
      ],
      "execution_count": 2,
      "outputs": []
    },
    {
      "cell_type": "markdown",
      "metadata": {
        "id": "x1GoTZzmS_tU"
      },
      "source": [
        "# Load data:\n",
        "For the first part we import the data to get the firts informations about the data.  All the features in the dataset are:\n",
        "1-id\n",
        "2-keyword\n",
        "3-location\n",
        "4-text\n",
        "5-target"
      ]
    },
    {
      "cell_type": "markdown",
      "metadata": {
        "id": "T0Vn-yS6LqQb"
      },
      "source": [
        "The random state is taken as 1234"
      ]
    },
    {
      "cell_type": "code",
      "metadata": {
        "id": "k_ROIqZsLvac"
      },
      "source": [
        ""
      ],
      "execution_count": 2,
      "outputs": []
    },
    {
      "cell_type": "code",
      "metadata": {
        "id": "uVF3zWvpLpuL"
      },
      "source": [
        ""
      ],
      "execution_count": 2,
      "outputs": []
    },
    {
      "cell_type": "markdown",
      "metadata": {
        "id": "xZgJGWPmUKza"
      },
      "source": [
        ""
      ]
    },
    {
      "cell_type": "code",
      "metadata": {
        "id": "GWyrTJl-TpO5",
        "colab": {
          "base_uri": "https://localhost:8080/",
          "height": 955
        },
        "outputId": "9f50a7d2-2fe1-434b-804a-ed6b7f558ef3"
      },
      "source": [
        "df = pd.read_csv(\"https://raw.githubusercontent.com/michalis0/DataMining_and_MachineLearning/master/project/training_data.csv\")\n",
        "df.head(20)"
      ],
      "execution_count": 37,
      "outputs": [
        {
          "output_type": "execute_result",
          "data": {
            "text/html": [
              "<div>\n",
              "<style scoped>\n",
              "    .dataframe tbody tr th:only-of-type {\n",
              "        vertical-align: middle;\n",
              "    }\n",
              "\n",
              "    .dataframe tbody tr th {\n",
              "        vertical-align: top;\n",
              "    }\n",
              "\n",
              "    .dataframe thead th {\n",
              "        text-align: right;\n",
              "    }\n",
              "</style>\n",
              "<table border=\"1\" class=\"dataframe\">\n",
              "  <thead>\n",
              "    <tr style=\"text-align: right;\">\n",
              "      <th></th>\n",
              "      <th>id</th>\n",
              "      <th>keyword</th>\n",
              "      <th>location</th>\n",
              "      <th>text</th>\n",
              "      <th>target</th>\n",
              "    </tr>\n",
              "  </thead>\n",
              "  <tbody>\n",
              "    <tr>\n",
              "      <th>0</th>\n",
              "      <td>3738</td>\n",
              "      <td>destroyed</td>\n",
              "      <td>USA</td>\n",
              "      <td>Black Eye 9: A space battle occurred at Star O...</td>\n",
              "      <td>0</td>\n",
              "    </tr>\n",
              "    <tr>\n",
              "      <th>1</th>\n",
              "      <td>853</td>\n",
              "      <td>bioterror</td>\n",
              "      <td>NaN</td>\n",
              "      <td>#world FedEx no longer to transport bioterror ...</td>\n",
              "      <td>0</td>\n",
              "    </tr>\n",
              "    <tr>\n",
              "      <th>2</th>\n",
              "      <td>10540</td>\n",
              "      <td>windstorm</td>\n",
              "      <td>Palm Beach County, FL</td>\n",
              "      <td>Reality Training: Train falls off elevated tra...</td>\n",
              "      <td>1</td>\n",
              "    </tr>\n",
              "    <tr>\n",
              "      <th>3</th>\n",
              "      <td>5988</td>\n",
              "      <td>hazardous</td>\n",
              "      <td>USA</td>\n",
              "      <td>#Taiwan Grace: expect that large rocks trees m...</td>\n",
              "      <td>1</td>\n",
              "    </tr>\n",
              "    <tr>\n",
              "      <th>4</th>\n",
              "      <td>6328</td>\n",
              "      <td>hostage</td>\n",
              "      <td>Australia</td>\n",
              "      <td>New ISIS Video: ISIS Threatens to Behead Croat...</td>\n",
              "      <td>1</td>\n",
              "    </tr>\n",
              "    <tr>\n",
              "      <th>5</th>\n",
              "      <td>6669</td>\n",
              "      <td>landslide</td>\n",
              "      <td>Scotland</td>\n",
              "      <td>FreeBesieged: .MartinMJ22 YouGov Which '#Tory ...</td>\n",
              "      <td>1</td>\n",
              "    </tr>\n",
              "    <tr>\n",
              "      <th>6</th>\n",
              "      <td>9772</td>\n",
              "      <td>trapped</td>\n",
              "      <td>New York City</td>\n",
              "      <td>Billionaires have a plan to free half a billio...</td>\n",
              "      <td>0</td>\n",
              "    </tr>\n",
              "    <tr>\n",
              "      <th>7</th>\n",
              "      <td>10361</td>\n",
              "      <td>weapons</td>\n",
              "      <td>Multinational *****</td>\n",
              "      <td>@JamesMelville Some old testimony of weapons u...</td>\n",
              "      <td>0</td>\n",
              "    </tr>\n",
              "    <tr>\n",
              "      <th>8</th>\n",
              "      <td>1953</td>\n",
              "      <td>burning%20buildings</td>\n",
              "      <td>Los Angeles</td>\n",
              "      <td>Ali you flew planes and ran into burning build...</td>\n",
              "      <td>0</td>\n",
              "    </tr>\n",
              "    <tr>\n",
              "      <th>9</th>\n",
              "      <td>9586</td>\n",
              "      <td>thunder</td>\n",
              "      <td>NaN</td>\n",
              "      <td>The thunder shook my house woke my sister and ...</td>\n",
              "      <td>1</td>\n",
              "    </tr>\n",
              "    <tr>\n",
              "      <th>10</th>\n",
              "      <td>8010</td>\n",
              "      <td>refugees</td>\n",
              "      <td>Ad Majorem Dei Glorium</td>\n",
              "      <td>Police Monitoring 200 Jihadis in Poland http:/...</td>\n",
              "      <td>1</td>\n",
              "    </tr>\n",
              "    <tr>\n",
              "      <th>11</th>\n",
              "      <td>7725</td>\n",
              "      <td>panicking</td>\n",
              "      <td>UK</td>\n",
              "      <td>My dad is panicking as my weight loss means he...</td>\n",
              "      <td>0</td>\n",
              "    </tr>\n",
              "    <tr>\n",
              "      <th>12</th>\n",
              "      <td>9221</td>\n",
              "      <td>suicide%20bombing</td>\n",
              "      <td>GCC</td>\n",
              "      <td>Alleged driver in #Kuwait attack 'joined Daesh...</td>\n",
              "      <td>1</td>\n",
              "    </tr>\n",
              "    <tr>\n",
              "      <th>13</th>\n",
              "      <td>1774</td>\n",
              "      <td>buildings%20on%20fire</td>\n",
              "      <td>New Hampshire</td>\n",
              "      <td>Video:  Fire burns two apartment buildings and...</td>\n",
              "      <td>1</td>\n",
              "    </tr>\n",
              "    <tr>\n",
              "      <th>14</th>\n",
              "      <td>8621</td>\n",
              "      <td>seismic</td>\n",
              "      <td>NaN</td>\n",
              "      <td>Thanks Benson &amp;amp; Clegg for the #follow! Che...</td>\n",
              "      <td>0</td>\n",
              "    </tr>\n",
              "    <tr>\n",
              "      <th>15</th>\n",
              "      <td>1710</td>\n",
              "      <td>bridge%20collapse</td>\n",
              "      <td>NaN</td>\n",
              "      <td>Mexico: construction of bridge collapse killså...</td>\n",
              "      <td>1</td>\n",
              "    </tr>\n",
              "    <tr>\n",
              "      <th>16</th>\n",
              "      <td>4511</td>\n",
              "      <td>emergency</td>\n",
              "      <td>Phoenix</td>\n",
              "      <td>God forbid anyone in my family knows how to an...</td>\n",
              "      <td>0</td>\n",
              "    </tr>\n",
              "    <tr>\n",
              "      <th>17</th>\n",
              "      <td>1480</td>\n",
              "      <td>body%20bags</td>\n",
              "      <td>Oklahoma City</td>\n",
              "      <td>Micom 2015 Summer Contrast Candy Color Bowknot...</td>\n",
              "      <td>0</td>\n",
              "    </tr>\n",
              "    <tr>\n",
              "      <th>18</th>\n",
              "      <td>10628</td>\n",
              "      <td>wounded</td>\n",
              "      <td>USA</td>\n",
              "      <td>ABC News: Police Officer Wounded Suspect Dead ...</td>\n",
              "      <td>1</td>\n",
              "    </tr>\n",
              "    <tr>\n",
              "      <th>19</th>\n",
              "      <td>7849</td>\n",
              "      <td>quarantined</td>\n",
              "      <td>Cumming, GA</td>\n",
              "      <td>Reddit's new content policy goes into effect m...</td>\n",
              "      <td>0</td>\n",
              "    </tr>\n",
              "  </tbody>\n",
              "</table>\n",
              "</div>"
            ],
            "text/plain": [
              "       id  ... target\n",
              "0    3738  ...      0\n",
              "1     853  ...      0\n",
              "2   10540  ...      1\n",
              "3    5988  ...      1\n",
              "4    6328  ...      1\n",
              "5    6669  ...      1\n",
              "6    9772  ...      0\n",
              "7   10361  ...      0\n",
              "8    1953  ...      0\n",
              "9    9586  ...      1\n",
              "10   8010  ...      1\n",
              "11   7725  ...      0\n",
              "12   9221  ...      1\n",
              "13   1774  ...      1\n",
              "14   8621  ...      0\n",
              "15   1710  ...      1\n",
              "16   4511  ...      0\n",
              "17   1480  ...      0\n",
              "18  10628  ...      1\n",
              "19   7849  ...      0\n",
              "\n",
              "[20 rows x 5 columns]"
            ]
          },
          "metadata": {
            "tags": []
          },
          "execution_count": 37
        }
      ]
    },
    {
      "cell_type": "code",
      "metadata": {
        "id": "BrlBMq9NU4bY",
        "colab": {
          "base_uri": "https://localhost:8080/"
        },
        "outputId": "24eebd60-ad3a-49d7-ede8-920ad9355ff6"
      },
      "source": [
        "df.shape"
      ],
      "execution_count": 4,
      "outputs": [
        {
          "output_type": "execute_result",
          "data": {
            "text/plain": [
              "(6471, 5)"
            ]
          },
          "metadata": {
            "tags": []
          },
          "execution_count": 4
        }
      ]
    },
    {
      "cell_type": "code",
      "metadata": {
        "colab": {
          "base_uri": "https://localhost:8080/",
          "height": 53
        },
        "id": "lnP36FCjziXP",
        "outputId": "487224e9-3106-46cf-a4c2-9adc447e1b2f"
      },
      "source": [
        "\n",
        "\n"
      ],
      "execution_count": 41,
      "outputs": [
        {
          "output_type": "execute_result",
          "data": {
            "application/vnd.google.colaboratory.intrinsic+json": {
              "type": "string"
            },
            "text/plain": [
              "\"Alleged driver in #Kuwait attack 'joined Daesh just a day before the June 26 suicide bombing' he confesses in court http://t.co/Tmz6X1N2gQ\""
            ]
          },
          "metadata": {
            "tags": []
          },
          "execution_count": 41
        }
      ]
    },
    {
      "cell_type": "markdown",
      "metadata": {
        "id": "RGiBSqVNUaDT"
      },
      "source": [
        "# Target values are composed of 0 and 1. Whether these twits are about a real disaster or not is the focus of the concern.\n"
      ]
    },
    {
      "cell_type": "code",
      "metadata": {
        "id": "f1bXn1mTUQvO",
        "colab": {
          "base_uri": "https://localhost:8080/"
        },
        "outputId": "5f3cfed9-2ebb-4a0c-ff6f-41e42575c8a5"
      },
      "source": [
        "df.target.unique()"
      ],
      "execution_count": 5,
      "outputs": [
        {
          "output_type": "execute_result",
          "data": {
            "text/plain": [
              "array([0, 1])"
            ]
          },
          "metadata": {
            "tags": []
          },
          "execution_count": 5
        }
      ]
    },
    {
      "cell_type": "code",
      "metadata": {
        "id": "IPRysXDUw2X4",
        "colab": {
          "base_uri": "https://localhost:8080/"
        },
        "outputId": "1123c8f0-66c7-49b4-b76d-73f470ea2908"
      },
      "source": [
        "#baserate\n",
        "max(len(df[df[\"target\"] == 0]) / len(df), len(df[df[\"target\"] == 1]) / len(df))"
      ],
      "execution_count": 6,
      "outputs": [
        {
          "output_type": "execute_result",
          "data": {
            "text/plain": [
              "0.5719363313243703"
            ]
          },
          "metadata": {
            "tags": []
          },
          "execution_count": 6
        }
      ]
    },
    {
      "cell_type": "code",
      "metadata": {
        "colab": {
          "base_uri": "https://localhost:8080/"
        },
        "id": "RGSfYoEnKDE1",
        "outputId": "877978ee-2d67-47e0-e2ba-c0c0659aa757"
      },
      "source": [
        "# HOW MANY DİFFERENT IDs, \n",
        "df.id.unique().shape\n",
        "#Ids are unique. "
      ],
      "execution_count": 7,
      "outputs": [
        {
          "output_type": "execute_result",
          "data": {
            "text/plain": [
              "(6471,)"
            ]
          },
          "metadata": {
            "tags": []
          },
          "execution_count": 7
        }
      ]
    },
    {
      "cell_type": "code",
      "metadata": {
        "colab": {
          "base_uri": "https://localhost:8080/",
          "height": 383
        },
        "id": "zR9SM1umE3D6",
        "outputId": "6cba6392-966d-4d6f-9bba-41b7f9aade5c"
      },
      "source": [
        "#TARGET \n",
        "sns.catplot(x=\"target\", kind=\"count\", data=df);"
      ],
      "execution_count": 8,
      "outputs": [
        {
          "output_type": "display_data",
          "data": {
            "image/png": "[encoded data removed]",
            "text/plain": [
              "<Figure size 360x360 with 1 Axes>"
            ]
          },
          "metadata": {
            "tags": [],
            "needs_background": "light"
          }
        }
      ]
    },
    {
      "cell_type": "code",
      "metadata": {
        "colab": {
          "base_uri": "https://localhost:8080/"
        },
        "id": "uvSwpRdyE2zU",
        "outputId": "47e1a16d-e274-4ce3-e720-ee234c988f8b"
      },
      "source": [
        "#missing Values\n",
        "df.isnull().any()"
      ],
      "execution_count": 9,
      "outputs": [
        {
          "output_type": "execute_result",
          "data": {
            "text/plain": [
              "id          False\n",
              "keyword      True\n",
              "location     True\n",
              "text        False\n",
              "target      False\n",
              "dtype: bool"
            ]
          },
          "metadata": {
            "tags": []
          },
          "execution_count": 9
        }
      ]
    },
    {
      "cell_type": "code",
      "metadata": {
        "colab": {
          "base_uri": "https://localhost:8080/"
        },
        "id": "05bD6U8YGFOj",
        "outputId": "e4b79e77-e006-45c1-d053-7704438646fb"
      },
      "source": [
        "#missing values in keyword\n",
        "df.keyword.isnull().value_counts()"
      ],
      "execution_count": 10,
      "outputs": [
        {
          "output_type": "execute_result",
          "data": {
            "text/plain": [
              "False    6416\n",
              "True       55\n",
              "Name: keyword, dtype: int64"
            ]
          },
          "metadata": {
            "tags": []
          },
          "execution_count": 10
        }
      ]
    },
    {
      "cell_type": "code",
      "metadata": {
        "colab": {
          "base_uri": "https://localhost:8080/"
        },
        "id": "VZVw9FrlGFBr",
        "outputId": "4a0cfb4e-ae28-4b3e-8610-6b43859c3166"
      },
      "source": [
        "#missing values in location\n",
        "df.location.isnull().value_counts()"
      ],
      "execution_count": 11,
      "outputs": [
        {
          "output_type": "execute_result",
          "data": {
            "text/plain": [
              "False    4330\n",
              "True     2141\n",
              "Name: location, dtype: int64"
            ]
          },
          "metadata": {
            "tags": []
          },
          "execution_count": 11
        }
      ]
    },
    {
      "cell_type": "code",
      "metadata": {
        "colab": {
          "base_uri": "https://localhost:8080/"
        },
        "id": "op4TNG2QGgxZ",
        "outputId": "c7369ace-be99-4c80-95af-5cea7bf2a7ab"
      },
      "source": [
        "#missing values in text\n",
        "df.text.isnull().value_counts()"
      ],
      "execution_count": 12,
      "outputs": [
        {
          "output_type": "execute_result",
          "data": {
            "text/plain": [
              "False    6471\n",
              "Name: text, dtype: int64"
            ]
          },
          "metadata": {
            "tags": []
          },
          "execution_count": 12
        }
      ]
    },
    {
      "cell_type": "code",
      "metadata": {
        "colab": {
          "base_uri": "https://localhost:8080/"
        },
        "id": "AsDXgxvhGgig",
        "outputId": "dd2ae45f-dd98-4345-dace-f27b0a1a7dec"
      },
      "source": [
        "#missing values in target\n",
        "df.target.isnull().value_counts()"
      ],
      "execution_count": 13,
      "outputs": [
        {
          "output_type": "execute_result",
          "data": {
            "text/plain": [
              "False    6471\n",
              "Name: target, dtype: int64"
            ]
          },
          "metadata": {
            "tags": []
          },
          "execution_count": 13
        }
      ]
    },
    {
      "cell_type": "code",
      "metadata": {
        "colab": {
          "base_uri": "https://localhost:8080/",
          "height": 297
        },
        "id": "_obaqmNgHBcc",
        "outputId": "4fb4e832-47cd-4373-96ef-56ae3d1f8412"
      },
      "source": [
        "#TEXT LENGTHS\n",
        "df[\"num_char\"] = df[\"text\"].apply(len)\n",
        "sns.boxplot(x='target', y='num_char', data=df)"
      ],
      "execution_count": 14,
      "outputs": [
        {
          "output_type": "execute_result",
          "data": {
            "text/plain": [
              "<matplotlib.axes._subplots.AxesSubplot at 0x7f3e9917a080>"
            ]
          },
          "metadata": {
            "tags": []
          },
          "execution_count": 14
        },
        {
          "output_type": "display_data",
          "data": {
            "image/png": "[encoded data removed]",
            "text/plain": [
              "<Figure size 432x288 with 1 Axes>"
            ]
          },
          "metadata": {
            "tags": [],
            "needs_background": "light"
          }
        }
      ]
    },
    {
      "cell_type": "code",
      "metadata": {
        "colab": {
          "base_uri": "https://localhost:8080/",
          "height": 297
        },
        "id": "lwGv4cEpHBDn",
        "outputId": "c0994aa7-95d4-4933-85f1-e5507b4b3bda"
      },
      "source": [
        "#NUMBER OF WORDS\n",
        "df[\"num_words\"] = df[\"text\"].apply(lambda x: len(x.split()))\n",
        "sns.boxplot(x='target', y='num_words', data=df)\n"
      ],
      "execution_count": 15,
      "outputs": [
        {
          "output_type": "execute_result",
          "data": {
            "text/plain": [
              "<matplotlib.axes._subplots.AxesSubplot at 0x7f3e964b0f98>"
            ]
          },
          "metadata": {
            "tags": []
          },
          "execution_count": 15
        },
        {
          "output_type": "display_data",
          "data": {
            "image/png": "[encoded data removed]",
            "text/plain": [
              "<Figure size 432x288 with 1 Axes>"
            ]
          },
          "metadata": {
            "tags": [],
            "needs_background": "light"
          }
        }
      ]
    },
    {
      "cell_type": "code",
      "metadata": {
        "colab": {
          "base_uri": "https://localhost:8080/"
        },
        "id": "LtgWhRUlJHkH",
        "outputId": "99a9f984-05fd-48ef-c421-d96f90e875ad"
      },
      "source": [
        "#LOCATION ANALYSIS\n",
        "# Where do most disasters occur / where do disaster tweets come from? \n",
        "# Potential problem to take care of: USA and United States are separate; Different US States are also separate;\n",
        "\n",
        "df.loc[df[\"target\"] == 1, [\"location\"]].value_counts()"
      ],
      "execution_count": 16,
      "outputs": [
        {
          "output_type": "execute_result",
          "data": {
            "text/plain": [
              "location               \n",
              "USA                        58\n",
              "United States              25\n",
              "Nigeria                    18\n",
              "India                      18\n",
              "Mumbai                     17\n",
              "                           ..\n",
              "Portage, IN / Worldwide     1\n",
              "Porthcawl                   1\n",
              "Portland, OR                1\n",
              "Portland, Ore.              1\n",
              "  News                      1\n",
              "Length: 1323, dtype: int64"
            ]
          },
          "metadata": {
            "tags": []
          },
          "execution_count": 16
        }
      ]
    },
    {
      "cell_type": "code",
      "metadata": {
        "id": "ParK6FlmJHXB"
      },
      "source": [
        ""
      ],
      "execution_count": 16,
      "outputs": []
    },
    {
      "cell_type": "markdown",
      "metadata": {
        "id": "mwrh27nkcfmy"
      },
      "source": [
        "##LOCATION-TARGET\n",
        "Is there a meaningful relation in the  the country level data. i.e: Can we expect that in certain places people are more prone to diffuse fake disaster news:"
      ]
    },
    {
      "cell_type": "code",
      "metadata": {
        "id": "CQVgtRr3ccfT",
        "colab": {
          "base_uri": "https://localhost:8080/"
        },
        "outputId": "43ccb905-0f6d-4bfc-e42a-026ec71425e7"
      },
      "source": [
        "df2=df[['location','target']].dropna()\n",
        "print(df2.shape)\n",
        "X=df['location'].dropna()\n"
      ],
      "execution_count": 17,
      "outputs": [
        {
          "output_type": "stream",
          "text": [
            "(4330, 2)\n"
          ],
          "name": "stdout"
        }
      ]
    },
    {
      "cell_type": "code",
      "metadata": {
        "id": "7h0js_Gs6xc6",
        "colab": {
          "base_uri": "https://localhost:8080/"
        },
        "outputId": "1570f818-e0bc-4d17-c86b-f71cf2a810a6"
      },
      "source": [
        "df['location'].unique().shape"
      ],
      "execution_count": 18,
      "outputs": [
        {
          "output_type": "execute_result",
          "data": {
            "text/plain": [
              "(2922,)"
            ]
          },
          "metadata": {
            "tags": []
          },
          "execution_count": 18
        }
      ]
    },
    {
      "cell_type": "code",
      "metadata": {
        "id": "fP8xIEyIdiaI",
        "colab": {
          "base_uri": "https://localhost:8080/"
        },
        "outputId": "230985d9-ce2e-4a39-8b18-9c57c96e121a"
      },
      "source": [
        "#Categorizing the location \n",
        "X.unique().shape # around 3000 unique locations. that would not be a good fature to classify the "
      ],
      "execution_count": 19,
      "outputs": [
        {
          "output_type": "execute_result",
          "data": {
            "text/plain": [
              "(2921,)"
            ]
          },
          "metadata": {
            "tags": []
          },
          "execution_count": 19
        }
      ]
    },
    {
      "cell_type": "markdown",
      "metadata": {
        "id": "Esp_TGnkfhA8"
      },
      "source": [
        "###KEYWORD-TARGET\n",
        "We can try to analyse the predictability of the keywords on the target. in another words, if for sertain types of disasters, whether people are more accurate, and for certain types people are more prone to hoax."
      ]
    },
    {
      "cell_type": "code",
      "metadata": {
        "id": "xZqbserofUF1",
        "colab": {
          "base_uri": "https://localhost:8080/"
        },
        "outputId": "c22ff139-d3c5-49bc-bdd8-ae1c72fa3b2e"
      },
      "source": [
        "df3=df[['keyword','target']].dropna()\n",
        "print(\"sjhape of df2:\", df2.shape)\n",
        "X=df3['keyword']\n",
        "y=df3['target']\n",
        "#How many unique keyword : 221\n",
        "print(\" unique cat in keyword:\", X.unique().shape)\n",
        "\n"
      ],
      "execution_count": 20,
      "outputs": [
        {
          "output_type": "stream",
          "text": [
            "sjhape of df2: (4330, 2)\n",
            " unique cat in keyword: (221,)\n"
          ],
          "name": "stdout"
        }
      ]
    },
    {
      "cell_type": "code",
      "metadata": {
        "id": "xN_FsxidkXoA"
      },
      "source": [
        "#a label encoding could be used to encode the keywords.\n",
        "myLabEn = LabelEncoder()\n",
        "df3_encoded = df3.apply(myLabEn.fit_transform) #\n",
        "#df3_encoded\n"
      ],
      "execution_count": 21,
      "outputs": []
    },
    {
      "cell_type": "markdown",
      "metadata": {
        "id": "plXPm6Gq9BxP"
      },
      "source": [
        ""
      ]
    },
    {
      "cell_type": "code",
      "metadata": {
        "id": "ww9SjuIJkkdJ"
      },
      "source": [
        "#Data prepatation\n",
        "X=df3_encoded[['keyword']]\n",
        "y=df3.target\n",
        "\n",
        "#Splitting train and Test\n",
        "X_train, X_test, y_train, y_test = train_test_split(X, y, test_size=0.2, random_state=3)\n"
      ],
      "execution_count": 22,
      "outputs": []
    },
    {
      "cell_type": "code",
      "metadata": {
        "id": "bOJoSCfYuoPP",
        "colab": {
          "base_uri": "https://localhost:8080/"
        },
        "outputId": "7815c2e5-dd1c-433c-e9e5-ab894b0ba92a"
      },
      "source": [
        "#Fitting\n",
        "LR=LogisticRegression(solver='lbfgs',  max_iter=1000,random_state=3)\n",
        "LR.fit(X_train, y_train)\n",
        "\n",
        "# Accuracy of training set and test set\n",
        "LR.score(X_train, y_train)\n",
        "\n",
        "LR.score(X_test, y_test)\n",
        "print(\"Accuracy of train and test sets:\",LR.score(X_train, y_train), LR.score(X_test, y_test))"
      ],
      "execution_count": 23,
      "outputs": [
        {
          "output_type": "stream",
          "text": [
            "Accuracy of train and test sets: 0.5693686671862821 0.5926791277258567\n"
          ],
          "name": "stdout"
        }
      ]
    },
    {
      "cell_type": "code",
      "metadata": {
        "id": "MVX7-4y3u-hn",
        "colab": {
          "base_uri": "https://localhost:8080/"
        },
        "outputId": "d6992cd6-97cb-4aff-8d50-d15a340bea79"
      },
      "source": [
        "LRcv=LogisticRegressionCV(solver='lbfgs', cv=5,  max_iter=1000,random_state=3)\n",
        "LRcv.fit(X_train, y_train)\n",
        "\n",
        "# Accuracy of training set and test set\n",
        "LRcv.score(X_train, y_train)\n",
        "\n",
        "LRcv.score(X_test, y_test)\n",
        "print(\"Accuracy of train and test sets:\",LRcv.score(X_train, y_train), LRcv.score(X_test, y_test))\n",
        "\n",
        "#It seems the single relationsshipe between keyword and the target is not that meaningful. the accuracy rate is almost near to the base rate. "
      ],
      "execution_count": 24,
      "outputs": [
        {
          "output_type": "stream",
          "text": [
            "Accuracy of train and test sets: 0.5693686671862821 0.5926791277258567\n"
          ],
          "name": "stdout"
        }
      ]
    },
    {
      "cell_type": "code",
      "metadata": {
        "id": "5cY8qsf4Bp1x"
      },
      "source": [
        "# Predictions\n",
        "y_pred = LRcv.predict(X_test)\n",
        "#Confusion matrix\n",
        "confusion_matrix(y_test, y_pred)\n",
        "y_pred=pd.DataFrame(y_pred)\n",
        "#y_pred"
      ],
      "execution_count": 25,
      "outputs": []
    },
    {
      "cell_type": "markdown",
      "metadata": {
        "id": "uzDCdAMrK_AU"
      },
      "source": [
        "#Text Analytics\n"
      ]
    },
    {
      "cell_type": "code",
      "metadata": {
        "colab": {
          "base_uri": "https://localhost:8080/"
        },
        "id": "2kf4bnhlLEhU",
        "outputId": "4130785e-9a99-45f7-8578-1edb1f0383ce"
      },
      "source": [
        "# Install and update spaCy\n",
        "!pip install -U spacy"
      ],
      "execution_count": 26,
      "outputs": [
        {
          "output_type": "stream",
          "text": [
            "Collecting spacy\n",
            "\u001b[?25l  Downloading https://files.pythonhosted.org/packages/10/b5/c7a92c7ce5d4b353b70b4b5b4385687206c8b230ddfe08746ab0fd310a3a/spacy-2.3.2-cp36-cp36m-manylinux1_x86_64.whl (9.9MB)\n",
            "\u001b[K     |████████████████████████████████| 10.0MB 8.0MB/s \n",
            "\u001b[?25hRequirement already satisfied, skipping upgrade: catalogue<1.1.0,>=0.0.7 in /usr/local/lib/python3.6/dist-packages (from spacy) (1.0.0)\n",
            "Requirement already satisfied, skipping upgrade: cymem<2.1.0,>=2.0.2 in /usr/local/lib/python3.6/dist-packages (from spacy) (2.0.4)\n",
            "Requirement already satisfied, skipping upgrade: plac<1.2.0,>=0.9.6 in /usr/local/lib/python3.6/dist-packages (from spacy) (1.1.3)\n",
            "Requirement already satisfied, skipping upgrade: setuptools in /usr/local/lib/python3.6/dist-packages (from spacy) (50.3.2)\n",
            "Requirement already satisfied, skipping upgrade: blis<0.5.0,>=0.4.0 in /usr/local/lib/python3.6/dist-packages (from spacy) (0.4.1)\n",
            "Requirement already satisfied, skipping upgrade: murmurhash<1.1.0,>=0.28.0 in /usr/local/lib/python3.6/dist-packages (from spacy) (1.0.3)\n",
            "Requirement already satisfied, skipping upgrade: tqdm<5.0.0,>=4.38.0 in /usr/local/lib/python3.6/dist-packages (from spacy) (4.41.1)\n",
            "Requirement already satisfied, skipping upgrade: wasabi<1.1.0,>=0.4.0 in /usr/local/lib/python3.6/dist-packages (from spacy) (0.8.0)\n",
            "Requirement already satisfied, skipping upgrade: numpy>=1.15.0 in /usr/local/lib/python3.6/dist-packages (from spacy) (1.18.5)\n",
            "Requirement already satisfied, skipping upgrade: requests<3.0.0,>=2.13.0 in /usr/local/lib/python3.6/dist-packages (from spacy) (2.23.0)\n",
            "Collecting thinc==7.4.1\n",
            "\u001b[?25l  Downloading https://files.pythonhosted.org/packages/10/ae/ef3ae5e93639c0ef8e3eb32e3c18341e511b3c515fcfc603f4b808087651/thinc-7.4.1-cp36-cp36m-manylinux1_x86_64.whl (2.1MB)\n",
            "\u001b[K     |████████████████████████████████| 2.1MB 48.9MB/s \n",
            "\u001b[?25hRequirement already satisfied, skipping upgrade: preshed<3.1.0,>=3.0.2 in /usr/local/lib/python3.6/dist-packages (from spacy) (3.0.2)\n",
            "Requirement already satisfied, skipping upgrade: srsly<1.1.0,>=1.0.2 in /usr/local/lib/python3.6/dist-packages (from spacy) (1.0.2)\n",
            "Requirement already satisfied, skipping upgrade: importlib-metadata>=0.20; python_version < \"3.8\" in /usr/local/lib/python3.6/dist-packages (from catalogue<1.1.0,>=0.0.7->spacy) (2.0.0)\n",
            "Requirement already satisfied, skipping upgrade: idna<3,>=2.5 in /usr/local/lib/python3.6/dist-packages (from requests<3.0.0,>=2.13.0->spacy) (2.10)\n",
            "Requirement already satisfied, skipping upgrade: urllib3!=1.25.0,!=1.25.1,<1.26,>=1.21.1 in /usr/local/lib/python3.6/dist-packages (from requests<3.0.0,>=2.13.0->spacy) (1.24.3)\n",
            "Requirement already satisfied, skipping upgrade: certifi>=2017.4.17 in /usr/local/lib/python3.6/dist-packages (from requests<3.0.0,>=2.13.0->spacy) (2020.6.20)\n",
            "Requirement already satisfied, skipping upgrade: chardet<4,>=3.0.2 in /usr/local/lib/python3.6/dist-packages (from requests<3.0.0,>=2.13.0->spacy) (3.0.4)\n",
            "Requirement already satisfied, skipping upgrade: zipp>=0.5 in /usr/local/lib/python3.6/dist-packages (from importlib-metadata>=0.20; python_version < \"3.8\"->catalogue<1.1.0,>=0.0.7->spacy) (3.4.0)\n",
            "Installing collected packages: thinc, spacy\n",
            "  Found existing installation: thinc 7.4.0\n",
            "    Uninstalling thinc-7.4.0:\n",
            "      Successfully uninstalled thinc-7.4.0\n",
            "  Found existing installation: spacy 2.2.4\n",
            "    Uninstalling spacy-2.2.4:\n",
            "      Successfully uninstalled spacy-2.2.4\n",
            "Successfully installed spacy-2.3.2 thinc-7.4.1\n"
          ],
          "name": "stdout"
        }
      ]
    },
    {
      "cell_type": "code",
      "metadata": {
        "id": "3MYOWWTt_xOp",
        "colab": {
          "base_uri": "https://localhost:8080/"
        },
        "outputId": "02e06052-c6f9-4a7e-dd38-9821a13aff62"
      },
      "source": [
        "# Download the english language model\n",
        "!python -m spacy download en"
      ],
      "execution_count": 27,
      "outputs": [
        {
          "output_type": "stream",
          "text": [
            "Collecting en_core_web_sm==2.3.1\n",
            "\u001b[?25l  Downloading https://github.com/explosion/spacy-models/releases/download/en_core_web_sm-2.3.1/en_core_web_sm-2.3.1.tar.gz (12.0MB)\n",
            "\u001b[K     |████████████████████████████████| 12.1MB 490kB/s \n",
            "\u001b[?25hRequirement already satisfied: spacy<2.4.0,>=2.3.0 in /usr/local/lib/python3.6/dist-packages (from en_core_web_sm==2.3.1) (2.3.2)\n",
            "Requirement already satisfied: wasabi<1.1.0,>=0.4.0 in /usr/local/lib/python3.6/dist-packages (from spacy<2.4.0,>=2.3.0->en_core_web_sm==2.3.1) (0.8.0)\n",
            "Requirement already satisfied: setuptools in /usr/local/lib/python3.6/dist-packages (from spacy<2.4.0,>=2.3.0->en_core_web_sm==2.3.1) (50.3.2)\n",
            "Requirement already satisfied: murmurhash<1.1.0,>=0.28.0 in /usr/local/lib/python3.6/dist-packages (from spacy<2.4.0,>=2.3.0->en_core_web_sm==2.3.1) (1.0.3)\n",
            "Requirement already satisfied: requests<3.0.0,>=2.13.0 in /usr/local/lib/python3.6/dist-packages (from spacy<2.4.0,>=2.3.0->en_core_web_sm==2.3.1) (2.23.0)\n",
            "Requirement already satisfied: blis<0.5.0,>=0.4.0 in /usr/local/lib/python3.6/dist-packages (from spacy<2.4.0,>=2.3.0->en_core_web_sm==2.3.1) (0.4.1)\n",
            "Requirement already satisfied: preshed<3.1.0,>=3.0.2 in /usr/local/lib/python3.6/dist-packages (from spacy<2.4.0,>=2.3.0->en_core_web_sm==2.3.1) (3.0.2)\n",
            "Requirement already satisfied: numpy>=1.15.0 in /usr/local/lib/python3.6/dist-packages (from spacy<2.4.0,>=2.3.0->en_core_web_sm==2.3.1) (1.18.5)\n",
            "Requirement already satisfied: thinc==7.4.1 in /usr/local/lib/python3.6/dist-packages (from spacy<2.4.0,>=2.3.0->en_core_web_sm==2.3.1) (7.4.1)\n",
            "Requirement already satisfied: cymem<2.1.0,>=2.0.2 in /usr/local/lib/python3.6/dist-packages (from spacy<2.4.0,>=2.3.0->en_core_web_sm==2.3.1) (2.0.4)\n",
            "Requirement already satisfied: catalogue<1.1.0,>=0.0.7 in /usr/local/lib/python3.6/dist-packages (from spacy<2.4.0,>=2.3.0->en_core_web_sm==2.3.1) (1.0.0)\n",
            "Requirement already satisfied: tqdm<5.0.0,>=4.38.0 in /usr/local/lib/python3.6/dist-packages (from spacy<2.4.0,>=2.3.0->en_core_web_sm==2.3.1) (4.41.1)\n",
            "Requirement already satisfied: srsly<1.1.0,>=1.0.2 in /usr/local/lib/python3.6/dist-packages (from spacy<2.4.0,>=2.3.0->en_core_web_sm==2.3.1) (1.0.2)\n",
            "Requirement already satisfied: plac<1.2.0,>=0.9.6 in /usr/local/lib/python3.6/dist-packages (from spacy<2.4.0,>=2.3.0->en_core_web_sm==2.3.1) (1.1.3)\n",
            "Requirement already satisfied: urllib3!=1.25.0,!=1.25.1,<1.26,>=1.21.1 in /usr/local/lib/python3.6/dist-packages (from requests<3.0.0,>=2.13.0->spacy<2.4.0,>=2.3.0->en_core_web_sm==2.3.1) (1.24.3)\n",
            "Requirement already satisfied: certifi>=2017.4.17 in /usr/local/lib/python3.6/dist-packages (from requests<3.0.0,>=2.13.0->spacy<2.4.0,>=2.3.0->en_core_web_sm==2.3.1) (2020.6.20)\n",
            "Requirement already satisfied: idna<3,>=2.5 in /usr/local/lib/python3.6/dist-packages (from requests<3.0.0,>=2.13.0->spacy<2.4.0,>=2.3.0->en_core_web_sm==2.3.1) (2.10)\n",
            "Requirement already satisfied: chardet<4,>=3.0.2 in /usr/local/lib/python3.6/dist-packages (from requests<3.0.0,>=2.13.0->spacy<2.4.0,>=2.3.0->en_core_web_sm==2.3.1) (3.0.4)\n",
            "Requirement already satisfied: importlib-metadata>=0.20; python_version < \"3.8\" in /usr/local/lib/python3.6/dist-packages (from catalogue<1.1.0,>=0.0.7->spacy<2.4.0,>=2.3.0->en_core_web_sm==2.3.1) (2.0.0)\n",
            "Requirement already satisfied: zipp>=0.5 in /usr/local/lib/python3.6/dist-packages (from importlib-metadata>=0.20; python_version < \"3.8\"->catalogue<1.1.0,>=0.0.7->spacy<2.4.0,>=2.3.0->en_core_web_sm==2.3.1) (3.4.0)\n",
            "Building wheels for collected packages: en-core-web-sm\n",
            "  Building wheel for en-core-web-sm (setup.py) ... \u001b[?25l\u001b[?25hdone\n",
            "  Created wheel for en-core-web-sm: filename=en_core_web_sm-2.3.1-cp36-none-any.whl size=12047109 sha256=e0e775a1768648ad00a00faeb9145937a0b920bd51e478d735fc74f316c91d8f\n",
            "  Stored in directory: /tmp/pip-ephem-wheel-cache-dmyrhsog/wheels/2b/3f/41/f0b92863355c3ba34bb32b37d8a0c662959da0058202094f46\n",
            "Successfully built en-core-web-sm\n",
            "Installing collected packages: en-core-web-sm\n",
            "  Found existing installation: en-core-web-sm 2.2.5\n",
            "    Uninstalling en-core-web-sm-2.2.5:\n",
            "      Successfully uninstalled en-core-web-sm-2.2.5\n",
            "Successfully installed en-core-web-sm-2.3.1\n",
            "\u001b[38;5;2m✔ Download and installation successful\u001b[0m\n",
            "You can now load the model via spacy.load('en_core_web_sm')\n",
            "\u001b[38;5;2m✔ Linking successful\u001b[0m\n",
            "/usr/local/lib/python3.6/dist-packages/en_core_web_sm -->\n",
            "/usr/local/lib/python3.6/dist-packages/spacy/data/en\n",
            "You can now load the model via spacy.load('en')\n"
          ],
          "name": "stdout"
        }
      ]
    },
    {
      "cell_type": "code",
      "metadata": {
        "id": "X8S0sroPOEV8"
      },
      "source": [
        "# Import required packages\n",
        "import spacy\n",
        "from spacy import displacy\n",
        "from spacy.lang.en.stop_words import STOP_WORDS\n",
        "from spacy.lang.en import English"
      ],
      "execution_count": 28,
      "outputs": []
    },
    {
      "cell_type": "code",
      "metadata": {
        "id": "vD07JcxeLOeO"
      },
      "source": [
        "# Create a list of punctuation marks\n",
        "punctuations = string.punctuation\n",
        "\n",
        "\n",
        "# Create a list of stopwords\n",
        "stop_words = spacy.lang.en.stop_words.STOP_WORDS"
      ],
      "execution_count": 48,
      "outputs": []
    },
    {
      "cell_type": "code",
      "metadata": {
        "colab": {
          "base_uri": "https://localhost:8080/"
        },
        "id": "OySGos7A0-s8",
        "outputId": "734cd179-879e-4272-e829-dec6908e1a7d"
      },
      "source": [
        "punctuations"
      ],
      "execution_count": 49,
      "outputs": [
        {
          "output_type": "execute_result",
          "data": {
            "text/plain": [
              "['!',\n",
              " '\"',\n",
              " '$',\n",
              " '%',\n",
              " '&',\n",
              " \"'\",\n",
              " '(',\n",
              " ')',\n",
              " '*',\n",
              " '+',\n",
              " ',',\n",
              " '-',\n",
              " '.',\n",
              " '/',\n",
              " ':',\n",
              " ';',\n",
              " '<',\n",
              " '=',\n",
              " '>',\n",
              " '?',\n",
              " '@',\n",
              " '[',\n",
              " '\\\\',\n",
              " ']',\n",
              " '^',\n",
              " '_',\n",
              " '`',\n",
              " '{',\n",
              " '|',\n",
              " '}',\n",
              " '~']"
            ]
          },
          "metadata": {
            "tags": []
          },
          "execution_count": 49
        }
      ]
    },
    {
      "cell_type": "code",
      "metadata": {
        "id": "VElJnee4aI3s"
      },
      "source": [
        "#LEMMATIZE STOP WORD, PUNCTUATİONS.\n",
        "\n",
        "# Load English language model\n",
        "sp = spacy.load('en_core_web_sm')\n",
        "\n",
        "# Create tokenizer function\n",
        "def spacy_tokenizer(sentence):\n",
        "    # Create token object, which is used to create documents with linguistic annotations.\n",
        "\n",
        "    mytokens = sp(sentence)\n",
        "\n",
        "    # Lemmatize each token and convert each token into lowercase\n",
        "    mytokens = [ word.lemma_.lower().strip() if word.lemma_ != \"-PRON-\" else word.lower_ for word in mytokens ]\n",
        "\n",
        "    # Remove stop words and punctuation\n",
        "    mytokens = [ word for word in mytokens if word not in stop_words and word not in punctuations ]\n",
        "\n",
        "    #remove RTs\n",
        "    #mytokens=[word for word in mytokens if word!='rt' or word[0]!='@' or word[0]!='#'] \n",
        "   \n",
        "    # Return preprocessed list of tokens\n",
        "    return mytokens"
      ],
      "execution_count": 30,
      "outputs": []
    },
    {
      "cell_type": "code",
      "metadata": {
        "colab": {
          "base_uri": "https://localhost:8080/"
        },
        "id": "Kx_I48kQzOQy",
        "outputId": "2d16a586-dfbc-4db7-9f45-53619b10449e"
      },
      "source": [
        "#some Example:\n",
        "t3=df['text'][3]\n",
        "t7=df['text'][7]\n",
        "print(t3)\n",
        "print(\"t3-tokenized:\", spacy_tokenizer(t3))\n",
        "print(t7)\n",
        "print(\"t7 tokenized:\",  spacy_tokenizer(t7))"
      ],
      "execution_count": 43,
      "outputs": [
        {
          "output_type": "stream",
          "text": [
            "#Taiwan Grace: expect that large rocks trees mud unstable and/or saturated land may slide ..very hazardous in hilly/mountain areas...\n",
            "t3- tokenized: ['taiwan', 'grace', 'expect', 'large', 'rock', 'tree', 'mud', 'unstable', 'and/or', 'saturate', 'land', 'slide', '..', 'hazardous', 'hilly', 'mountain', 'area', '...']\n",
            "@JamesMelville Some old testimony of weapons used to promote conflicts\n",
            "Tactics - corruption &amp; infiltration of groups\n",
            "https://t.co/cyU8zxw1oH\n",
            "t7 tokenized: ['@jamesmelville', 'old', 'testimony', 'weapon', 'use', 'promote', 'conflict', 'tactics', 'corruption', 'amp', 'infiltration', 'group', 'https://t.co/cyu8zxw1oh']\n"
          ],
          "name": "stdout"
        }
      ]
    },
    {
      "cell_type": "code",
      "metadata": {
        "id": "XzdhVp7rLZck"
      },
      "source": [
        "X=df['text']\n",
        "ylabels=df['target']\n",
        "\n",
        "# Train test split\n",
        "X_train, X_test, y_train, y_test = train_test_split(X, ylabels, test_size=0.2, random_state=1234)\n"
      ],
      "execution_count": 31,
      "outputs": []
    },
    {
      "cell_type": "markdown",
      "metadata": {
        "id": "_KDg7KInL5wz"
      },
      "source": [
        "#### TF-IDF feature vectors\n",
        "\n",
        "create the TF-IDF feature vectors for the processed tweetes. These will construct you data features that you will use to train a classifier.\n",
        "\n",
        "#### Training\n",
        "\n",
        "Now train a logistic regression classifier on the TF-IDF vectors. Use the `LogisticRegression` module (without regularizer) from sklearn with the following attributes:"
      ]
    },
    {
      "cell_type": "code",
      "metadata": {
        "id": "nTdpGTLdL7jD"
      },
      "source": [
        "tfidf_vector = TfidfVectorizer(tokenizer=spacy_tokenizer)"
      ],
      "execution_count": 32,
      "outputs": []
    },
    {
      "cell_type": "code",
      "metadata": {
        "colab": {
          "base_uri": "https://localhost:8080/"
        },
        "id": "ZSuBFML5MJkT",
        "outputId": "f06eca6f-9318-4f80-c26a-f5bd5e2ca6c0"
      },
      "source": [
        "#Define classifier\n",
        "classifier = LogisticRegression(solver=\"lbfgs\", max_iter=1000, random_state=72)\n",
        "\n",
        "# Create pipeline\n",
        "pipe = Pipeline([('vectorizer', tfidf_vector),\n",
        "                 ('classifier', classifier)])\n",
        "\n",
        "# Fit model on training set\n",
        "pipe.fit(X_train, y_train)"
      ],
      "execution_count": 33,
      "outputs": [
        {
          "output_type": "execute_result",
          "data": {
            "text/plain": [
              "Pipeline(memory=None,\n",
              "         steps=[('vectorizer',\n",
              "                 TfidfVectorizer(analyzer='word', binary=False,\n",
              "                                 decode_error='strict',\n",
              "                                 dtype=<class 'numpy.float64'>,\n",
              "                                 encoding='utf-8', input='content',\n",
              "                                 lowercase=True, max_df=1.0, max_features=None,\n",
              "                                 min_df=1, ngram_range=(1, 1), norm='l2',\n",
              "                                 preprocessor=None, smooth_idf=True,\n",
              "                                 stop_words=None, strip_accents=None,\n",
              "                                 sublinear_tf=False,\n",
              "                                 token_patt...',\n",
              "                                 tokenizer=<function spacy_tokenizer at 0x7f3e8e8fdc80>,\n",
              "                                 use_idf=True, vocabulary=None)),\n",
              "                ('classifier',\n",
              "                 LogisticRegression(C=1.0, class_weight=None, dual=False,\n",
              "                                    fit_intercept=True, intercept_scaling=1,\n",
              "                                    l1_ratio=None, max_iter=1000,\n",
              "                                    multi_class='auto', n_jobs=None,\n",
              "                                    penalty='l2', random_state=72,\n",
              "                                    solver='lbfgs', tol=0.0001, verbose=0,\n",
              "                                    warm_start=False))],\n",
              "         verbose=False)"
            ]
          },
          "metadata": {
            "tags": []
          },
          "execution_count": 33
        }
      ]
    },
    {
      "cell_type": "code",
      "metadata": {
        "colab": {
          "base_uri": "https://localhost:8080/"
        },
        "id": "sEs5_vWjMVjU",
        "outputId": "74463db9-f1bc-422c-deb6-c5589a1b08d3"
      },
      "source": [
        "#Train Accuracy LR\n",
        "pipe.score(X_train, y_train)"
      ],
      "execution_count": 34,
      "outputs": [
        {
          "output_type": "execute_result",
          "data": {
            "text/plain": [
              "0.8916151468315301"
            ]
          },
          "metadata": {
            "tags": []
          },
          "execution_count": 34
        }
      ]
    },
    {
      "cell_type": "code",
      "metadata": {
        "colab": {
          "base_uri": "https://localhost:8080/"
        },
        "id": "x4HAfbTbMdGz",
        "outputId": "4d196b7f-f947-4d42-f20f-bc73899718de"
      },
      "source": [
        "#Test Accuracy LR\n",
        "pipe.score(X_test, y_test)\n",
        "#result=0.7148708613039026"
      ],
      "execution_count": 35,
      "outputs": [
        {
          "output_type": "execute_result",
          "data": {
            "text/plain": [
              "0.78996138996139"
            ]
          },
          "metadata": {
            "tags": []
          },
          "execution_count": 35
        }
      ]
    },
    {
      "cell_type": "code",
      "metadata": {
        "colab": {
          "base_uri": "https://localhost:8080/"
        },
        "id": "klC5lMN2Mm3B",
        "outputId": "af690c89-d6eb-4d00-8466-80d75c2c5f43"
      },
      "source": [
        "#Confussion matrix\n",
        "# Predictions\n",
        "y_pred = pipe.predict(X_test)\n",
        "confusion_matrix(y_test, y_pred)"
      ],
      "execution_count": 36,
      "outputs": [
        {
          "output_type": "execute_result",
          "data": {
            "text/plain": [
              "array([[633,  80],\n",
              "       [192, 390]])"
            ]
          },
          "metadata": {
            "tags": []
          },
          "execution_count": 36
        }
      ]
    },
    {
      "cell_type": "markdown",
      "metadata": {
        "id": "PVKaMXlKMGW0"
      },
      "source": [
        ""
      ]
    },
    {
      "cell_type": "markdown",
      "metadata": {
        "id": "6Q0XFwbnL_mq"
      },
      "source": [
        ""
      ]
    }
  ]
}