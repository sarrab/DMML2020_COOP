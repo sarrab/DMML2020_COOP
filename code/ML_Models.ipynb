{
  "nbformat": 4,
  "nbformat_minor": 0,
  "metadata": {
    "colab": {
      "name": "ML_Models.ipynb",
      "provenance": []
    },
    "kernelspec": {
      "display_name": "Python 3",
      "language": "python",
      "name": "python3"
    },
    "language_info": {
      "codemirror_mode": {
        "name": "ipython",
        "version": 3
      },
      "file_extension": ".py",
      "mimetype": "text/x-python",
      "name": "python",
      "nbconvert_exporter": "python",
      "pygments_lexer": "ipython3",
      "version": "3.7.4"
    }
  },
  "cells": [
    {
      "cell_type": "markdown",
      "metadata": {
        "id": "lxKFWDN7KkH7"
      },
      "source": [
        "# MODELS NOTEBOOK\r\n",
        "This notebook contains an experimentation with different models (KNN, Decision Tree, Random Forest and Logistic Regression. \r\n",
        "In this notebook you will find The Logistic Regresiossion experimentation. And in this one you find the EDA notebook that permit us to explore data.\r\n",
        "And finally in this one, you find the final version with more sophisticated cleaning."
      ]
    },
    {
      "cell_type": "markdown",
      "metadata": {
        "id": "5iNb67_PICPq"
      },
      "source": [
        "# Importing Libraries\r\n",
        "Importing the relevant packages: pandas, matplotlib, seaborn..."
      ]
    },
    {
      "cell_type": "code",
      "metadata": {
        "id": "DRZJWMkm36oO",
        "colab": {
          "base_uri": "https://localhost:8080/"
        },
        "outputId": "72c060f6-d759-466e-a289-eb7806d697e7"
      },
      "source": [
        "\n",
        "%matplotlib inline\n",
        "import numpy as np\n",
        "import matplotlib.pyplot as plt\n",
        "from matplotlib import collections  as mc\n",
        "%load_ext autoreload\n",
        "%autoreload 2\n",
        "import pandas as pd \n",
        "import seaborn as sns\n",
        "from sklearn.preprocessing import LabelEncoder, OneHotEncoder\n",
        "from sklearn.preprocessing import StandardScaler\n",
        "sns.set_style(\"white\")\n",
        "\n",
        "import string\n"
      ],
      "execution_count": null,
      "outputs": [
        {
          "output_type": "stream",
          "text": [
            "The autoreload extension is already loaded. To reload it, use:\n",
            "  %reload_ext autoreload\n"
          ],
          "name": "stdout"
        }
      ]
    },
    {
      "cell_type": "code",
      "metadata": {
        "id": "vkEPZvWrnbpS"
      },
      "source": [
        "from sklearn.model_selection import train_test_split\n",
        "from sklearn.feature_extraction.text import CountVectorizer,TfidfVectorizer\n",
        "from sklearn.linear_model import LogisticRegression,LogisticRegressionCV,LinearRegression\n",
        "from sklearn.metrics import confusion_matrix, accuracy_score, precision_score, recall_score, f1_score\n",
        "from sklearn.base import TransformerMixin\n",
        "from sklearn.pipeline import Pipeline\n",
        "from gensim.models.doc2vec import TaggedDocument\n",
        "\n",
        "from sklearn.tree import DecisionTreeClassifier\n",
        "from sklearn import tree\n",
        "\n",
        "from sklearn.ensemble import RandomForestClassifier\n",
        "\n",
        "from sklearn.neighbors import KNeighborsClassifier\n",
        "\n",
        "\n",
        "import time"
      ],
      "execution_count": null,
      "outputs": []
    },
    {
      "cell_type": "code",
      "metadata": {
        "id": "TIgLjnoPnhoO"
      },
      "source": [
        "# Import required packages\n",
        "import spacy\n",
        "from spacy import displacy\n",
        "from spacy.lang.en.stop_words import STOP_WORDS\n",
        "from spacy.lang.en import English\n",
        "\n",
        "# load English language model of spacy\n",
        "sp = spacy.load('en_core_web_sm')"
      ],
      "execution_count": null,
      "outputs": []
    },
    {
      "cell_type": "code",
      "metadata": {
        "id": "LERXZOhyxkfM"
      },
      "source": [
        "from sklearn.decomposition import PCA"
      ],
      "execution_count": null,
      "outputs": []
    },
    {
      "cell_type": "code",
      "metadata": {
        "colab": {
          "base_uri": "https://localhost:8080/"
        },
        "id": "mkEgueXqXaMj",
        "outputId": "e041545d-1738-4a96-cf81-372472d12067"
      },
      "source": [
        "# Import and download packages\r\n",
        "import re\r\n",
        "import nltk\r\n",
        "nltk.download('stopwords')\r\n",
        "nltk.download('punkt')\r\n",
        "from nltk.corpus import stopwords"
      ],
      "execution_count": null,
      "outputs": [
        {
          "output_type": "stream",
          "text": [
            "[nltk_data] Downloading package stopwords to /root/nltk_data...\n",
            "[nltk_data]   Package stopwords is already up-to-date!\n",
            "[nltk_data] Downloading package punkt to /root/nltk_data...\n",
            "[nltk_data]   Package punkt is already up-to-date!\n"
          ],
          "name": "stdout"
        }
      ]
    },
    {
      "cell_type": "code",
      "metadata": {
        "id": "hpmYt5Xq43FX"
      },
      "source": [
        "df_train = pd.read_csv(\"https://raw.githubusercontent.com/michalis0/DataMining_and_MachineLearning/master/project/training_data.csv\")\n",
        "df_test=pd.read_csv(\"https://raw.githubusercontent.com/michalis0/DataMining_and_MachineLearning/master/project/test_data.csv\")\n"
      ],
      "execution_count": null,
      "outputs": []
    },
    {
      "cell_type": "markdown",
      "metadata": {
        "id": "UBNrTMPCLlAs"
      },
      "source": [
        "# Cleaning and Processing Functions and Data Sets To Run the models\r\n",
        "\r\n",
        "Data sets and related functions are kept here to run the models"
      ]
    },
    {
      "cell_type": "code",
      "metadata": {
        "id": "Lr6K4gAlLi7j"
      },
      "source": [
        ""
      ],
      "execution_count": null,
      "outputs": []
    },
    {
      "cell_type": "code",
      "metadata": {
        "id": "MiKdQPkW36oX"
      },
      "source": [
        "# A function to do some text cleaning\n",
        "\n",
        "def func_textcleaning(sentence):\n",
        "    # remove unicode literals\n",
        "    temp = sentence.encode('ascii',errors='ignore').decode('ascii')\n",
        "    \n",
        "    # remove &amp\n",
        "    temp = temp.replace('&amp;', '')\n",
        "    \n",
        "    # remove urls\n",
        "    temp = re.sub(r\"http\\S+\", \"\", temp)\n",
        "    \n",
        "    # remove html\n",
        "    temp = re.sub(r'<.*?>', \"\", temp)\n",
        "    \n",
        "    # remove hashtags\n",
        "    temp = re.sub(r'#', \"\", temp)\n",
        "\n",
        "    # remove people account with @\n",
        "    temp = re.sub(r'@\\S+', \"\", temp)\n",
        "    \n",
        "    return temp"
      ],
      "execution_count": null,
      "outputs": []
    },
    {
      "cell_type": "code",
      "metadata": {
        "id": "M_k54DRzU5yR"
      },
      "source": [
        "#A data celaning and tokenizer function with stemming.\r\n",
        "  \r\n",
        "def data_cleaner(sms):\r\n",
        "\r\n",
        "    # Define stopwords\r\n",
        "    stop_words = stopwords.words('english')\r\n",
        "\r\n",
        "    # Define tokenizer and stemmer\r\n",
        "    from nltk.tokenize import word_tokenize\r\n",
        "    from nltk.stem import PorterStemmer\r\n",
        "    \r\n",
        "    # Remove digits\r\n",
        "    sms = re.sub(r\"\\d+\",\"\", sms)\r\n",
        "    \r\n",
        "    # Lowercase\r\n",
        "    sms = sms.lower()\r\n",
        "    \r\n",
        "    # Remove punctuation\r\n",
        "    sms = re.sub(r\"[^\\w\\s\\d]\",\"\", sms)\r\n",
        "    \r\n",
        "    # Remove stop words\r\n",
        "    sms = sms.split()\r\n",
        "    sms = \" \".join([word for word in sms if not word in stop_words])\r\n",
        "    \r\n",
        "    # Tokenize\r\n",
        "    sms = word_tokenize(sms)\r\n",
        "    \r\n",
        "    # Stemming\r\n",
        "    ps = PorterStemmer()\r\n",
        "    sms = [ps.stem(word) for word in sms]\r\n",
        "    \r\n",
        "    return sms\r\n",
        "\r\n"
      ],
      "execution_count": null,
      "outputs": []
    },
    {
      "cell_type": "code",
      "metadata": {
        "id": "X2M0_XfgpiHy"
      },
      "source": [
        "# A data celaning and tokenizer function without stemming. \n",
        "def spacy_tokenizer(text):\n",
        "\n",
        "    # Define stopwords, punctuation, and numbers\n",
        "    stop_words = spacy.lang.en.stop_words.STOP_WORDS\n",
        "    punctuations = string.punctuation\n",
        "    # numbers = \"0123456789\"\n",
        "\n",
        "    # Create spacy object\n",
        "    mytokens = sp(text)\n",
        "\n",
        "    # Lemmatize each token and convert each token into lowercase\n",
        "    mytokens = [ word.lemma_.lower().strip() if word.lemma_ != \"-PRON-\" else word.lower_ for word in mytokens ]\n",
        "\n",
        "    # Remove stop words and punctuation\n",
        "    mytokens = [ word for word in mytokens if word not in stop_words and word not in punctuations ]\n",
        "    \n",
        "    # Remove all word with less that 3 letters (remove noise)\n",
        "    mytokens = [ word for word in mytokens if len(word)>2 ]\n",
        "\n",
        "    # Return preprocessed list of tokens\n",
        "    return mytokens"
      ],
      "execution_count": null,
      "outputs": []
    },
    {
      "cell_type": "code",
      "metadata": {
        "id": "tm9O8537qDhM"
      },
      "source": [
        ""
      ],
      "execution_count": null,
      "outputs": []
    },
    {
      "cell_type": "code",
      "metadata": {
        "id": "ZH7hjvP8pJ4t"
      },
      "source": [
        "df_train['text']=df_train.text.apply(lambda x:func_textcleaning(x))\n",
        "df_test['text']=df_test.text.apply(lambda x:func_textcleaning(x))"
      ],
      "execution_count": null,
      "outputs": []
    },
    {
      "cell_type": "code",
      "metadata": {
        "id": "hXzNVWWYsZJ0"
      },
      "source": [
        "# Select features\n",
        "X = df_train['text'] # the features we want to analyze\n",
        "y = df_train['target'] # the labels, or answers, we want to test against\n",
        "\n",
        "# Train test split\n",
        "X_train, X_test, y_train, y_test = train_test_split(X, y, test_size=0.2, random_state=1234)"
      ],
      "execution_count": null,
      "outputs": []
    },
    {
      "cell_type": "code",
      "metadata": {
        "colab": {
          "base_uri": "https://localhost:8080/"
        },
        "id": "atNpb43pLwBB",
        "outputId": "f8b5bbbf-714d-4c81-92d8-b57a595691ef"
      },
      "source": [
        "X_train"
      ],
      "execution_count": null,
      "outputs": [
        {
          "output_type": "execute_result",
          "data": {
            "text/plain": [
              "6214    Take this China get demolished and sent back t...\n",
              "5845    Explosion in Gaza Strip kills four wounds 30; ...\n",
              "4250    Rolling sandunes the gentle lapping of the sea...\n",
              "6154     GodsLove  thankU brother Danny for RT of NEW ...\n",
              "6110    Wreckage 'Conclusively Confirmed' as From MH37...\n",
              "                              ...                        \n",
              "664      talk to please don't harm your self in any wa...\n",
              "3276    'I did another one I did another one. You stil...\n",
              "1318    Watch This Airport Get Swallowed Up By A Sands...\n",
              "723     Cuban leader extends sympathy to Vietnam over ...\n",
              "2863        it was hella crazy 3 fights an ambulance a...\n",
              "Name: text, Length: 5176, dtype: object"
            ]
          },
          "metadata": {
            "tags": []
          },
          "execution_count": 95
        }
      ]
    },
    {
      "cell_type": "code",
      "metadata": {
        "colab": {
          "base_uri": "https://localhost:8080/"
        },
        "id": "k73OQ0AjdBc0",
        "outputId": "063df683-9295-44d0-909e-0e5091e9310f"
      },
      "source": [
        "example_df=df_train[0:3].text\r\n",
        "example_df"
      ],
      "execution_count": null,
      "outputs": [
        {
          "output_type": "execute_result",
          "data": {
            "text/plain": [
              "0    Black Eye 9: A space battle occurred at Star O...\n",
              "1    world FedEx no longer to transport bioterror g...\n",
              "2    Reality Training: Train falls off elevated tra...\n",
              "Name: text, dtype: object"
            ]
          },
          "metadata": {
            "tags": []
          },
          "execution_count": 96
        }
      ]
    },
    {
      "cell_type": "code",
      "metadata": {
        "colab": {
          "base_uri": "https://localhost:8080/"
        },
        "id": "l0imyv2hW1dG",
        "outputId": "d04f0032-4e7f-46d7-c60c-796691ad855e"
      },
      "source": [
        "# Cleanin with spacy tokenizer, without stemming \r\n",
        "example_df.apply(spacy_tokenizer)"
      ],
      "execution_count": null,
      "outputs": [
        {
          "output_type": "execute_result",
          "data": {
            "text/plain": [
              "0    [black, eye, space, battle, occur, star, o784,...\n",
              "1    [world, fedex, longer, transport, bioterror, g...\n",
              "2    [reality, training, train, fall, elevated, tra...\n",
              "Name: text, dtype: object"
            ]
          },
          "metadata": {
            "tags": []
          },
          "execution_count": 97
        }
      ]
    },
    {
      "cell_type": "markdown",
      "metadata": {
        "id": "vywBawug36oX"
      },
      "source": [
        "# MODELS\n"
      ]
    },
    {
      "cell_type": "markdown",
      "metadata": {
        "id": "3UwOR9_-36oX"
      },
      "source": [
        "Looking at different features and their relation with respect to each other, we  observed that out of many diffrent Our initial assumption is that the bydault predictors (keyword, location and especially text) have a correlation or perhaps a causality with the fact that a tweet is either real or not\r\n",
        "\r\n",
        "We have run and fitted  different classifier to observe the behaviour under different model. We defined and fitted following models:   Logistic Regeression, Decision Tree Classifier, RandomForestClassifier, and  kNN classifiers. We applied the Grid Search to identify the optimal parameters for the kNNKlasifier. "
      ]
    },
    {
      "cell_type": "markdown",
      "metadata": {
        "id": "2TQYZrUFsZrM"
      },
      "source": [
        "# Logistic Regression\r\n",
        "\r\n",
        "---\r\n",
        "Logistics Regression is one of the videly used tool to classify the labes. It is based on the probabilities, calculated by the logistic function. \r\n",
        "\r\n",
        " Logistic regression classifier seems to outperform as far as the accuracy is concerned. One has to bear in mind the fact that in our case we have only two cases, true and false disaster alert.\r\n",
        "\r\n",
        "We have  tried both data cleaning and preprocessing functions to compare the results. Cleaning data too much did not help increase the accuracy, this was another conclusion from the running this model.\r\n",
        "\r\n",
        "\r\n",
        "\r\n",
        "\r\n"
      ]
    },
    {
      "cell_type": "code",
      "metadata": {
        "id": "yTVadxwAsvLk",
        "colab": {
          "base_uri": "https://localhost:8080/"
        },
        "outputId": "6518a80b-85e0-47b0-d61d-e23493dca05f"
      },
      "source": [
        "%%time\n",
        "# Define vectorizer\n",
        "tfidf = TfidfVectorizer(ngram_range=(1, 1), tokenizer=spacy_tokenizer)\n",
        "\n",
        "# Define classifier\n",
        "classifier = LogisticRegressionCV(solver='lbfgs', max_iter=1000, cv=5)\n",
        "\n",
        "# Create pipeline\n",
        "pipe = Pipeline([('vectorizer', tfidf),\n",
        "                 ('classifier', classifier)])\n",
        "\n",
        "# Fit model on training set\n",
        "pipe.fit(X_train, y_train)\n",
        "\n",
        "#with tthe first tokenizer,spacy_tokenizer, LogRegCV, the train accuracy is 0.923659403492505\n",
        "#Submitted test accuracy is 0,8170\n",
        "\n",
        "#With this model, data_cleaner (the model used in the dimention reduction example) was used\n",
        "#Train accuracy was recorded as 0,9218. The test submission rate was 0,8074."
      ],
      "execution_count": null,
      "outputs": [
        {
          "output_type": "stream",
          "text": [
            "CPU times: user 1min 5s, sys: 22.6 ms, total: 1min 5s\n",
            "Wall time: 1min 5s\n"
          ],
          "name": "stdout"
        }
      ]
    },
    {
      "cell_type": "code",
      "metadata": {
        "id": "nfjEP-ZdvR18",
        "colab": {
          "base_uri": "https://localhost:8080/"
        },
        "outputId": "10c08b37-29f4-4683-d60a-de72ac60f43a"
      },
      "source": [
        "#Train Accuracy  \n",
        "%%time\n",
        "pipe.score(X_train, y_train)"
      ],
      "execution_count": null,
      "outputs": [
        {
          "output_type": "stream",
          "text": [
            "CPU times: user 51.7 s, sys: 10.8 ms, total: 51.7 s\n",
            "Wall time: 51.9 s\n"
          ],
          "name": "stdout"
        },
        {
          "output_type": "execute_result",
          "data": {
            "text/plain": [
              "0.9289026275115919"
            ]
          },
          "metadata": {
            "tags": []
          },
          "execution_count": 99
        }
      ]
    },
    {
      "cell_type": "code",
      "metadata": {
        "id": "FPA-JjENsu_P",
        "colab": {
          "base_uri": "https://localhost:8080/"
        },
        "outputId": "743dcb91-85f2-42c2-a743-ed92aa574974"
      },
      "source": [
        "# Predictions and evaluation for the model\n",
        "%%time\n",
        "y_pred = pipe.predict(X_test)\n",
        "\n",
        "# Evaluate model\n",
        "print(round(accuracy_score(y_test, y_pred), 4))"
      ],
      "execution_count": null,
      "outputs": [
        {
          "output_type": "stream",
          "text": [
            "0.7876\n",
            "CPU times: user 13.3 s, sys: 2.96 ms, total: 13.3 s\n",
            "Wall time: 13.4 s\n"
          ],
          "name": "stdout"
        }
      ]
    },
    {
      "cell_type": "markdown",
      "metadata": {
        "id": "_IZKeCrrtHy8"
      },
      "source": [
        "# Decision Tree Models\r\n",
        "Decision tree models could be used for classification purposes. As decision tree gives a good visualisations, some times it is usefull to fit tree classifiers as well. \r\n",
        "\r\n",
        "We had fit DecisionTreeClassifier for various maximum depth parameters, in the range of 3-20. The trainin accuracy was increasing for higher max_depth parameters. This couls imply an underfitting. One can note this for further exploration regarding an optimal parameter for training accuracy. However,  we had observed that, the training accuracy for tree classifiers was relatively lower over all compared to the LogisticRegression.\r\n",
        "\r\n",
        "In this section we make use of the graphviz library which helps show the decision criteria as well. Also, we make a search to observe the training and testin accuracies for different depths. It is visible from the plot that training accuracy is increasing for various depths from 50 to 150, while the testing accuracy do no change to much."
      ]
    },
    {
      "cell_type": "code",
      "metadata": {
        "colab": {
          "base_uri": "https://localhost:8080/"
        },
        "id": "mCSnb1jztukc",
        "outputId": "ad3c1e0e-9139-4dcb-fcd4-e162924586fb"
      },
      "source": [
        "%%time\n",
        "# Define vectorizer\n",
        "tfidf = TfidfVectorizer(ngram_range=(1, 1), tokenizer=spacy_tokenizer)\n",
        "\n",
        "# Define classifier: TREE CLASSIFIER\n",
        "classifier = tree.DecisionTreeClassifier(max_depth=10)\n",
        "\n",
        "# Create pipeline\n",
        "pipe = Pipeline([('vectorizer', tfidf),\n",
        "                 ('classifier', classifier)])\n",
        "\n",
        "# Fit model on training set\n",
        "pipe.fit(X_train, y_train)\n",
        "\n",
        "#Train Accuracy\n",
        "print(\"Train accuracy:\",pipe.score(X_train, y_train))\n",
        "#Test Accuracy\n",
        "\n",
        "#Train Accuracy with DecisionTree classifier with max_depth was9, 0,6834\n",
        "#the test of submitted was0,6524"
      ],
      "execution_count": null,
      "outputs": [
        {
          "output_type": "stream",
          "text": [
            "Train accuracy: 0.6989953632148377\n",
            "CPU times: user 1min 41s, sys: 19.4 ms, total: 1min 41s\n",
            "Wall time: 1min 41s\n"
          ],
          "name": "stdout"
        }
      ]
    },
    {
      "cell_type": "code",
      "metadata": {
        "colab": {
          "base_uri": "https://localhost:8080/"
        },
        "id": "hznxq5H3tuHU",
        "outputId": "34d474d7-b887-4201-bb5e-39460159acdf"
      },
      "source": [
        "\n",
        "# Predictions and evaluation for the model\n",
        "y_pred = pipe.predict(X_test)\n",
        "\n",
        "# Evaluate model\n",
        "print(round(accuracy_score(y_test, y_pred), 4))\n"
      ],
      "execution_count": null,
      "outputs": [
        {
          "output_type": "stream",
          "text": [
            "0.6541\n"
          ],
          "name": "stdout"
        }
      ]
    },
    {
      "cell_type": "code",
      "metadata": {
        "colab": {
          "base_uri": "https://localhost:8080/"
        },
        "id": "5k81Hhze4bP4",
        "outputId": "419a637b-edb3-47a0-db23-19c27bb553c0"
      },
      "source": [
        "featuresNames = tfidf.get_feature_names()\r\n",
        "featuresNames\r\n",
        "type(featuresNames)"
      ],
      "execution_count": null,
      "outputs": [
        {
          "output_type": "execute_result",
          "data": {
            "text/plain": [
              "list"
            ]
          },
          "metadata": {
            "tags": []
          },
          "execution_count": 103
        }
      ]
    },
    {
      "cell_type": "code",
      "metadata": {
        "colab": {
          "base_uri": "https://localhost:8080/",
          "height": 1000
        },
        "id": "wKEpXfM7rWWU",
        "outputId": "8ffbc94c-8e92-4b58-9c3b-d861119c8fe2"
      },
      "source": [
        "import graphviz \r\n",
        "dot_data = tree.export_graphviz(classifier, out_file=None,\r\n",
        "                               feature_names=featuresNames,\r\n",
        "                               class_names=['1','0'],filled=True,\r\n",
        "                                rounded=True,  \r\n",
        "                              special_characters=True) \r\n",
        "graph = graphviz.Source(dot_data)\r\n",
        "graph.render(\"Gini\")\r\n",
        "graph"
      ],
      "execution_count": null,
      "outputs": [
        {
          "output_type": "execute_result",
          "data": {
            "text/plain": [
              "<graphviz.files.Source at 0x7f09a52e62e8>"
            ],
            "image/svg+xml": "<?xml version=\"1.0\" encoding=\"UTF-8\" standalone=\"no\"?>\n<!DOCTYPE svg PUBLIC \"-//W3C//DTD SVG 1.1//EN\"\n \"http://www.w3.org/Graphics/SVG/1.1/DTD/svg11.dtd\">\n<!-- Generated by graphviz version 2.40.1 (20161225.0304)\n -->\n<!-- Title: Tree Pages: 1 -->\n<svg width=\"3281pt\" height=\"1266pt\"\n viewBox=\"0.00 0.00 3281.00 1266.00\" xmlns=\"http://www.w3.org/2000/svg\" xmlns:xlink=\"http://www.w3.org/1999/xlink\">\n<g id=\"graph0\" class=\"graph\" transform=\"scale(1 1) rotate(0) translate(4 1262)\">\n<title>Tree</title>\n<polygon fill=\"#ffffff\" stroke=\"transparent\" points=\"-4,4 -4,-1262 3277,-1262 3277,4 -4,4\"/>\n<!-- 0 -->\n<g id=\"node1\" class=\"node\">\n<title>0</title>\n<path fill=\"#f8ddca\" stroke=\"#000000\" d=\"M2704,-1258C2704,-1258 2579,-1258 2579,-1258 2573,-1258 2567,-1252 2567,-1246 2567,-1246 2567,-1187 2567,-1187 2567,-1181 2573,-1175 2579,-1175 2579,-1175 2704,-1175 2704,-1175 2710,-1175 2716,-1181 2716,-1187 2716,-1187 2716,-1246 2716,-1246 2716,-1252 2710,-1258 2704,-1258\"/>\n<text text-anchor=\"start\" x=\"2609.5\" y=\"-1242.8\" font-family=\"Helvetica,sans-Serif\" font-size=\"14.00\" fill=\"#000000\">... ≤ 0.083</text>\n<text text-anchor=\"start\" x=\"2603.5\" y=\"-1227.8\" font-family=\"Helvetica,sans-Serif\" font-size=\"14.00\" fill=\"#000000\">gini = 0.488</text>\n<text text-anchor=\"start\" x=\"2589.5\" y=\"-1212.8\" font-family=\"Helvetica,sans-Serif\" font-size=\"14.00\" fill=\"#000000\">samples = 5176</text>\n<text text-anchor=\"start\" x=\"2575\" y=\"-1197.8\" font-family=\"Helvetica,sans-Serif\" font-size=\"14.00\" fill=\"#000000\">value = [2988, 2188]</text>\n<text text-anchor=\"start\" x=\"2612.5\" y=\"-1182.8\" font-family=\"Helvetica,sans-Serif\" font-size=\"14.00\" fill=\"#000000\">class = 1</text>\n</g>\n<!-- 1 -->\n<g id=\"node2\" class=\"node\">\n<title>1</title>\n<path fill=\"#f6d3bb\" stroke=\"#000000\" d=\"M2523,-1139C2523,-1139 2398,-1139 2398,-1139 2392,-1139 2386,-1133 2386,-1127 2386,-1127 2386,-1068 2386,-1068 2386,-1062 2392,-1056 2398,-1056 2398,-1056 2523,-1056 2523,-1056 2529,-1056 2535,-1062 2535,-1068 2535,-1068 2535,-1127 2535,-1127 2535,-1133 2529,-1139 2523,-1139\"/>\n<text text-anchor=\"start\" x=\"2405.5\" y=\"-1123.8\" font-family=\"Helvetica,sans-Serif\" font-size=\"14.00\" fill=\"#000000\">california ≤ 0.228</text>\n<text text-anchor=\"start\" x=\"2422.5\" y=\"-1108.8\" font-family=\"Helvetica,sans-Serif\" font-size=\"14.00\" fill=\"#000000\">gini = 0.478</text>\n<text text-anchor=\"start\" x=\"2408.5\" y=\"-1093.8\" font-family=\"Helvetica,sans-Serif\" font-size=\"14.00\" fill=\"#000000\">samples = 4574</text>\n<text text-anchor=\"start\" x=\"2394\" y=\"-1078.8\" font-family=\"Helvetica,sans-Serif\" font-size=\"14.00\" fill=\"#000000\">value = [2765, 1809]</text>\n<text text-anchor=\"start\" x=\"2431.5\" y=\"-1063.8\" font-family=\"Helvetica,sans-Serif\" font-size=\"14.00\" fill=\"#000000\">class = 1</text>\n</g>\n<!-- 0&#45;&gt;1 -->\n<g id=\"edge1\" class=\"edge\">\n<title>0&#45;&gt;1</title>\n<path fill=\"none\" stroke=\"#000000\" d=\"M2578.195,-1174.8796C2563.3144,-1165.0962 2547.3524,-1154.6019 2532.1351,-1144.5971\"/>\n<polygon fill=\"#000000\" stroke=\"#000000\" points=\"2534.0479,-1141.666 2523.7693,-1139.0969 2530.2023,-1147.5151 2534.0479,-1141.666\"/>\n<text text-anchor=\"middle\" x=\"2528.829\" y=\"-1159.8796\" font-family=\"Helvetica,sans-Serif\" font-size=\"14.00\" fill=\"#000000\">True</text>\n</g>\n<!-- 72 -->\n<g id=\"node73\" class=\"node\">\n<title>72</title>\n<path fill=\"#aed7f4\" stroke=\"#000000\" d=\"M2836.5,-1139C2836.5,-1139 2728.5,-1139 2728.5,-1139 2722.5,-1139 2716.5,-1133 2716.5,-1127 2716.5,-1127 2716.5,-1068 2716.5,-1068 2716.5,-1062 2722.5,-1056 2728.5,-1056 2728.5,-1056 2836.5,-1056 2836.5,-1056 2842.5,-1056 2848.5,-1062 2848.5,-1068 2848.5,-1068 2848.5,-1127 2848.5,-1127 2848.5,-1133 2842.5,-1139 2836.5,-1139\"/>\n<text text-anchor=\"start\" x=\"2737.5\" y=\"-1123.8\" font-family=\"Helvetica,sans-Serif\" font-size=\"14.00\" fill=\"#000000\">family ≤ 0.102</text>\n<text text-anchor=\"start\" x=\"2744.5\" y=\"-1108.8\" font-family=\"Helvetica,sans-Serif\" font-size=\"14.00\" fill=\"#000000\">gini = 0.466</text>\n<text text-anchor=\"start\" x=\"2734.5\" y=\"-1093.8\" font-family=\"Helvetica,sans-Serif\" font-size=\"14.00\" fill=\"#000000\">samples = 602</text>\n<text text-anchor=\"start\" x=\"2724.5\" y=\"-1078.8\" font-family=\"Helvetica,sans-Serif\" font-size=\"14.00\" fill=\"#000000\">value = [223, 379]</text>\n<text text-anchor=\"start\" x=\"2753.5\" y=\"-1063.8\" font-family=\"Helvetica,sans-Serif\" font-size=\"14.00\" fill=\"#000000\">class = 0</text>\n</g>\n<!-- 0&#45;&gt;72 -->\n<g id=\"edge72\" class=\"edge\">\n<title>0&#45;&gt;72</title>\n<path fill=\"none\" stroke=\"#000000\" d=\"M2690.815,-1174.8796C2701.9132,-1165.513 2713.7835,-1155.4948 2725.1777,-1145.8784\"/>\n<polygon fill=\"#000000\" stroke=\"#000000\" points=\"2727.5899,-1148.4225 2732.9746,-1139.2981 2723.075,-1143.0731 2727.5899,-1148.4225\"/>\n<text text-anchor=\"middle\" x=\"2730.8667\" y=\"-1160.5091\" font-family=\"Helvetica,sans-Serif\" font-size=\"14.00\" fill=\"#000000\">False</text>\n</g>\n<!-- 2 -->\n<g id=\"node3\" class=\"node\">\n<title>2</title>\n<path fill=\"#f5d1b6\" stroke=\"#000000\" d=\"M2320,-1020C2320,-1020 2195,-1020 2195,-1020 2189,-1020 2183,-1014 2183,-1008 2183,-1008 2183,-949 2183,-949 2183,-943 2189,-937 2195,-937 2195,-937 2320,-937 2320,-937 2326,-937 2332,-943 2332,-949 2332,-949 2332,-1008 2332,-1008 2332,-1014 2326,-1020 2320,-1020\"/>\n<text text-anchor=\"start\" x=\"2223\" y=\"-1004.8\" font-family=\"Helvetica,sans-Serif\" font-size=\"14.00\" fill=\"#000000\">kill ≤ 0.074</text>\n<text text-anchor=\"start\" x=\"2219.5\" y=\"-989.8\" font-family=\"Helvetica,sans-Serif\" font-size=\"14.00\" fill=\"#000000\">gini = 0.475</text>\n<text text-anchor=\"start\" x=\"2205.5\" y=\"-974.8\" font-family=\"Helvetica,sans-Serif\" font-size=\"14.00\" fill=\"#000000\">samples = 4510</text>\n<text text-anchor=\"start\" x=\"2191\" y=\"-959.8\" font-family=\"Helvetica,sans-Serif\" font-size=\"14.00\" fill=\"#000000\">value = [2764, 1746]</text>\n<text text-anchor=\"start\" x=\"2228.5\" y=\"-944.8\" font-family=\"Helvetica,sans-Serif\" font-size=\"14.00\" fill=\"#000000\">class = 1</text>\n</g>\n<!-- 1&#45;&gt;2 -->\n<g id=\"edge2\" class=\"edge\">\n<title>1&#45;&gt;2</title>\n<path fill=\"none\" stroke=\"#000000\" d=\"M2389.5005,-1055.8796C2372.6566,-1046.0056 2354.5774,-1035.4075 2337.3683,-1025.3193\"/>\n<polygon fill=\"#000000\" stroke=\"#000000\" points=\"2338.8565,-1022.1347 2328.4595,-1020.0969 2335.3164,-1028.1736 2338.8565,-1022.1347\"/>\n</g>\n<!-- 69 -->\n<g id=\"node70\" class=\"node\">\n<title>69</title>\n<path fill=\"#3c9fe5\" stroke=\"#000000\" d=\"M2511.5,-1020C2511.5,-1020 2409.5,-1020 2409.5,-1020 2403.5,-1020 2397.5,-1014 2397.5,-1008 2397.5,-1008 2397.5,-949 2397.5,-949 2397.5,-943 2403.5,-937 2409.5,-937 2409.5,-937 2511.5,-937 2511.5,-937 2517.5,-937 2523.5,-943 2523.5,-949 2523.5,-949 2523.5,-1008 2523.5,-1008 2523.5,-1014 2517.5,-1020 2511.5,-1020\"/>\n<text text-anchor=\"start\" x=\"2405.5\" y=\"-1004.8\" font-family=\"Helvetica,sans-Serif\" font-size=\"14.00\" fill=\"#000000\">governor ≤ 0.391</text>\n<text text-anchor=\"start\" x=\"2422.5\" y=\"-989.8\" font-family=\"Helvetica,sans-Serif\" font-size=\"14.00\" fill=\"#000000\">gini = 0.031</text>\n<text text-anchor=\"start\" x=\"2416.5\" y=\"-974.8\" font-family=\"Helvetica,sans-Serif\" font-size=\"14.00\" fill=\"#000000\">samples = 64</text>\n<text text-anchor=\"start\" x=\"2415\" y=\"-959.8\" font-family=\"Helvetica,sans-Serif\" font-size=\"14.00\" fill=\"#000000\">value = [1, 63]</text>\n<text text-anchor=\"start\" x=\"2431.5\" y=\"-944.8\" font-family=\"Helvetica,sans-Serif\" font-size=\"14.00\" fill=\"#000000\">class = 0</text>\n</g>\n<!-- 1&#45;&gt;69 -->\n<g id=\"edge69\" class=\"edge\">\n<title>1&#45;&gt;69</title>\n<path fill=\"none\" stroke=\"#000000\" d=\"M2460.5,-1055.8796C2460.5,-1047.6838 2460.5,-1038.9891 2460.5,-1030.5013\"/>\n<polygon fill=\"#000000\" stroke=\"#000000\" points=\"2464.0001,-1030.298 2460.5,-1020.2981 2457.0001,-1030.2981 2464.0001,-1030.298\"/>\n</g>\n<!-- 3 -->\n<g id=\"node4\" class=\"node\">\n<title>3</title>\n<path fill=\"#f5cdb1\" stroke=\"#000000\" d=\"M1926,-901C1926,-901 1801,-901 1801,-901 1795,-901 1789,-895 1789,-889 1789,-889 1789,-830 1789,-830 1789,-824 1795,-818 1801,-818 1801,-818 1926,-818 1926,-818 1932,-818 1938,-824 1938,-830 1938,-830 1938,-889 1938,-889 1938,-895 1932,-901 1926,-901\"/>\n<text text-anchor=\"start\" x=\"1806\" y=\"-885.8\" font-family=\"Helvetica,sans-Serif\" font-size=\"14.00\" fill=\"#000000\">hiroshima ≤ 0.102</text>\n<text text-anchor=\"start\" x=\"1830\" y=\"-870.8\" font-family=\"Helvetica,sans-Serif\" font-size=\"14.00\" fill=\"#000000\">gini = 0.47</text>\n<text text-anchor=\"start\" x=\"1811.5\" y=\"-855.8\" font-family=\"Helvetica,sans-Serif\" font-size=\"14.00\" fill=\"#000000\">samples = 4419</text>\n<text text-anchor=\"start\" x=\"1797\" y=\"-840.8\" font-family=\"Helvetica,sans-Serif\" font-size=\"14.00\" fill=\"#000000\">value = [2751, 1668]</text>\n<text text-anchor=\"start\" x=\"1834.5\" y=\"-825.8\" font-family=\"Helvetica,sans-Serif\" font-size=\"14.00\" fill=\"#000000\">class = 1</text>\n</g>\n<!-- 2&#45;&gt;3 -->\n<g id=\"edge3\" class=\"edge\">\n<title>2&#45;&gt;3</title>\n<path fill=\"none\" stroke=\"#000000\" d=\"M2182.9284,-955.9771C2115.9169,-935.7376 2017.5926,-906.0407 1947.7595,-884.9489\"/>\n<polygon fill=\"#000000\" stroke=\"#000000\" points=\"1948.6859,-881.5726 1938.101,-882.0318 1946.6619,-888.2737 1948.6859,-881.5726\"/>\n</g>\n<!-- 52 -->\n<g id=\"node53\" class=\"node\">\n<title>52</title>\n<path fill=\"#5aade9\" stroke=\"#000000\" d=\"M2303.5,-901C2303.5,-901 2211.5,-901 2211.5,-901 2205.5,-901 2199.5,-895 2199.5,-889 2199.5,-889 2199.5,-830 2199.5,-830 2199.5,-824 2205.5,-818 2211.5,-818 2211.5,-818 2303.5,-818 2303.5,-818 2309.5,-818 2315.5,-824 2315.5,-830 2315.5,-830 2315.5,-889 2315.5,-889 2315.5,-895 2309.5,-901 2303.5,-901\"/>\n<text text-anchor=\"start\" x=\"2210.5\" y=\"-885.8\" font-family=\"Helvetica,sans-Serif\" font-size=\"14.00\" fill=\"#000000\">pbban ≤ 0.214</text>\n<text text-anchor=\"start\" x=\"2219.5\" y=\"-870.8\" font-family=\"Helvetica,sans-Serif\" font-size=\"14.00\" fill=\"#000000\">gini = 0.245</text>\n<text text-anchor=\"start\" x=\"2213.5\" y=\"-855.8\" font-family=\"Helvetica,sans-Serif\" font-size=\"14.00\" fill=\"#000000\">samples = 91</text>\n<text text-anchor=\"start\" x=\"2207.5\" y=\"-840.8\" font-family=\"Helvetica,sans-Serif\" font-size=\"14.00\" fill=\"#000000\">value = [13, 78]</text>\n<text text-anchor=\"start\" x=\"2228.5\" y=\"-825.8\" font-family=\"Helvetica,sans-Serif\" font-size=\"14.00\" fill=\"#000000\">class = 0</text>\n</g>\n<!-- 2&#45;&gt;52 -->\n<g id=\"edge52\" class=\"edge\">\n<title>2&#45;&gt;52</title>\n<path fill=\"none\" stroke=\"#000000\" d=\"M2257.5,-936.8796C2257.5,-928.6838 2257.5,-919.9891 2257.5,-911.5013\"/>\n<polygon fill=\"#000000\" stroke=\"#000000\" points=\"2261.0001,-911.298 2257.5,-901.2981 2254.0001,-911.2981 2261.0001,-911.298\"/>\n</g>\n<!-- 4 -->\n<g id=\"node5\" class=\"node\">\n<title>4</title>\n<path fill=\"#f4cbad\" stroke=\"#000000\" d=\"M1673,-782C1673,-782 1548,-782 1548,-782 1542,-782 1536,-776 1536,-770 1536,-770 1536,-711 1536,-711 1536,-705 1542,-699 1548,-699 1548,-699 1673,-699 1673,-699 1679,-699 1685,-705 1685,-711 1685,-711 1685,-770 1685,-770 1685,-776 1679,-782 1673,-782\"/>\n<text text-anchor=\"start\" x=\"1578.5\" y=\"-766.8\" font-family=\"Helvetica,sans-Serif\" font-size=\"14.00\" fill=\"#000000\">fire ≤ 0.06</text>\n<text text-anchor=\"start\" x=\"1572.5\" y=\"-751.8\" font-family=\"Helvetica,sans-Serif\" font-size=\"14.00\" fill=\"#000000\">gini = 0.466</text>\n<text text-anchor=\"start\" x=\"1558.5\" y=\"-736.8\" font-family=\"Helvetica,sans-Serif\" font-size=\"14.00\" fill=\"#000000\">samples = 4367</text>\n<text text-anchor=\"start\" x=\"1544\" y=\"-721.8\" font-family=\"Helvetica,sans-Serif\" font-size=\"14.00\" fill=\"#000000\">value = [2751, 1616]</text>\n<text text-anchor=\"start\" x=\"1581.5\" y=\"-706.8\" font-family=\"Helvetica,sans-Serif\" font-size=\"14.00\" fill=\"#000000\">class = 1</text>\n</g>\n<!-- 3&#45;&gt;4 -->\n<g id=\"edge4\" class=\"edge\">\n<title>3&#45;&gt;4</title>\n<path fill=\"none\" stroke=\"#000000\" d=\"M1788.96,-824.4397C1759.3709,-810.5223 1725.1911,-794.4456 1694.7124,-780.1098\"/>\n<polygon fill=\"#000000\" stroke=\"#000000\" points=\"1695.9202,-776.8101 1685.3814,-775.7209 1692.9407,-783.1444 1695.9202,-776.8101\"/>\n</g>\n<!-- 51 -->\n<g id=\"node52\" class=\"node\">\n<title>51</title>\n<path fill=\"#399de5\" stroke=\"#000000\" d=\"M1905,-774.5C1905,-774.5 1822,-774.5 1822,-774.5 1816,-774.5 1810,-768.5 1810,-762.5 1810,-762.5 1810,-718.5 1810,-718.5 1810,-712.5 1816,-706.5 1822,-706.5 1822,-706.5 1905,-706.5 1905,-706.5 1911,-706.5 1917,-712.5 1917,-718.5 1917,-718.5 1917,-762.5 1917,-762.5 1917,-768.5 1911,-774.5 1905,-774.5\"/>\n<text text-anchor=\"start\" x=\"1834\" y=\"-759.3\" font-family=\"Helvetica,sans-Serif\" font-size=\"14.00\" fill=\"#000000\">gini = 0.0</text>\n<text text-anchor=\"start\" x=\"1819.5\" y=\"-744.3\" font-family=\"Helvetica,sans-Serif\" font-size=\"14.00\" fill=\"#000000\">samples = 52</text>\n<text text-anchor=\"start\" x=\"1818\" y=\"-729.3\" font-family=\"Helvetica,sans-Serif\" font-size=\"14.00\" fill=\"#000000\">value = [0, 52]</text>\n<text text-anchor=\"start\" x=\"1834.5\" y=\"-714.3\" font-family=\"Helvetica,sans-Serif\" font-size=\"14.00\" fill=\"#000000\">class = 0</text>\n</g>\n<!-- 3&#45;&gt;51 -->\n<g id=\"edge51\" class=\"edge\">\n<title>3&#45;&gt;51</title>\n<path fill=\"none\" stroke=\"#000000\" d=\"M1863.5,-817.8796C1863.5,-807.2134 1863.5,-795.7021 1863.5,-784.9015\"/>\n<polygon fill=\"#000000\" stroke=\"#000000\" points=\"1867.0001,-784.8149 1863.5,-774.8149 1860.0001,-784.815 1867.0001,-784.8149\"/>\n</g>\n<!-- 5 -->\n<g id=\"node6\" class=\"node\">\n<title>5</title>\n<path fill=\"#f3c7a7\" stroke=\"#000000\" d=\"M1282,-663C1282,-663 1157,-663 1157,-663 1151,-663 1145,-657 1145,-651 1145,-651 1145,-592 1145,-592 1145,-586 1151,-580 1157,-580 1157,-580 1282,-580 1282,-580 1288,-580 1294,-586 1294,-592 1294,-592 1294,-651 1294,-651 1294,-657 1288,-663 1282,-663\"/>\n<text text-anchor=\"start\" x=\"1170.5\" y=\"-647.8\" font-family=\"Helvetica,sans-Serif\" font-size=\"14.00\" fill=\"#000000\">suicide ≤ 0.083</text>\n<text text-anchor=\"start\" x=\"1181.5\" y=\"-632.8\" font-family=\"Helvetica,sans-Serif\" font-size=\"14.00\" fill=\"#000000\">gini = 0.459</text>\n<text text-anchor=\"start\" x=\"1167.5\" y=\"-617.8\" font-family=\"Helvetica,sans-Serif\" font-size=\"14.00\" fill=\"#000000\">samples = 4192</text>\n<text text-anchor=\"start\" x=\"1153\" y=\"-602.8\" font-family=\"Helvetica,sans-Serif\" font-size=\"14.00\" fill=\"#000000\">value = [2694, 1498]</text>\n<text text-anchor=\"start\" x=\"1190.5\" y=\"-587.8\" font-family=\"Helvetica,sans-Serif\" font-size=\"14.00\" fill=\"#000000\">class = 1</text>\n</g>\n<!-- 4&#45;&gt;5 -->\n<g id=\"edge5\" class=\"edge\">\n<title>4&#45;&gt;5</title>\n<path fill=\"none\" stroke=\"#000000\" d=\"M1535.5739,-717.6964C1469.4211,-697.563 1373.0499,-668.2326 1304.1344,-647.2583\"/>\n<polygon fill=\"#000000\" stroke=\"#000000\" points=\"1304.7584,-643.7898 1294.1726,-644.2264 1302.7203,-650.4865 1304.7584,-643.7898\"/>\n</g>\n<!-- 36 -->\n<g id=\"node37\" class=\"node\">\n<title>36</title>\n<path fill=\"#99ccf2\" stroke=\"#000000\" d=\"M1660.5,-663C1660.5,-663 1560.5,-663 1560.5,-663 1554.5,-663 1548.5,-657 1548.5,-651 1548.5,-651 1548.5,-592 1548.5,-592 1548.5,-586 1554.5,-580 1560.5,-580 1560.5,-580 1660.5,-580 1660.5,-580 1666.5,-580 1672.5,-586 1672.5,-592 1672.5,-592 1672.5,-651 1672.5,-651 1672.5,-657 1666.5,-663 1660.5,-663\"/>\n<text text-anchor=\"start\" x=\"1574.5\" y=\"-647.8\" font-family=\"Helvetica,sans-Serif\" font-size=\"14.00\" fill=\"#000000\">fire ≤ 0.503</text>\n<text text-anchor=\"start\" x=\"1572.5\" y=\"-632.8\" font-family=\"Helvetica,sans-Serif\" font-size=\"14.00\" fill=\"#000000\">gini = 0.439</text>\n<text text-anchor=\"start\" x=\"1562.5\" y=\"-617.8\" font-family=\"Helvetica,sans-Serif\" font-size=\"14.00\" fill=\"#000000\">samples = 175</text>\n<text text-anchor=\"start\" x=\"1556.5\" y=\"-602.8\" font-family=\"Helvetica,sans-Serif\" font-size=\"14.00\" fill=\"#000000\">value = [57, 118]</text>\n<text text-anchor=\"start\" x=\"1581.5\" y=\"-587.8\" font-family=\"Helvetica,sans-Serif\" font-size=\"14.00\" fill=\"#000000\">class = 0</text>\n</g>\n<!-- 4&#45;&gt;36 -->\n<g id=\"edge36\" class=\"edge\">\n<title>4&#45;&gt;36</title>\n<path fill=\"none\" stroke=\"#000000\" d=\"M1610.5,-698.8796C1610.5,-690.6838 1610.5,-681.9891 1610.5,-673.5013\"/>\n<polygon fill=\"#000000\" stroke=\"#000000\" points=\"1614.0001,-673.298 1610.5,-663.2981 1607.0001,-673.2981 1614.0001,-673.298\"/>\n</g>\n<!-- 6 -->\n<g id=\"node7\" class=\"node\">\n<title>6</title>\n<path fill=\"#f3c5a5\" stroke=\"#000000\" d=\"M975,-544C975,-544 850,-544 850,-544 844,-544 838,-538 838,-532 838,-532 838,-473 838,-473 838,-467 844,-461 850,-461 850,-461 975,-461 975,-461 981,-461 987,-467 987,-473 987,-473 987,-532 987,-532 987,-538 981,-544 975,-544\"/>\n<text text-anchor=\"start\" x=\"876.5\" y=\"-528.8\" font-family=\"Helvetica,sans-Serif\" font-size=\"14.00\" fill=\"#000000\">train ≤ 0.22</text>\n<text text-anchor=\"start\" x=\"874.5\" y=\"-513.8\" font-family=\"Helvetica,sans-Serif\" font-size=\"14.00\" fill=\"#000000\">gini = 0.456</text>\n<text text-anchor=\"start\" x=\"860.5\" y=\"-498.8\" font-family=\"Helvetica,sans-Serif\" font-size=\"14.00\" fill=\"#000000\">samples = 4149</text>\n<text text-anchor=\"start\" x=\"846\" y=\"-483.8\" font-family=\"Helvetica,sans-Serif\" font-size=\"14.00\" fill=\"#000000\">value = [2689, 1460]</text>\n<text text-anchor=\"start\" x=\"883.5\" y=\"-468.8\" font-family=\"Helvetica,sans-Serif\" font-size=\"14.00\" fill=\"#000000\">class = 1</text>\n</g>\n<!-- 5&#45;&gt;6 -->\n<g id=\"edge6\" class=\"edge\">\n<title>5&#45;&gt;6</title>\n<path fill=\"none\" stroke=\"#000000\" d=\"M1144.7919,-592.5415C1099.9594,-575.1634 1042.8239,-553.0164 996.4372,-535.0359\"/>\n<polygon fill=\"#000000\" stroke=\"#000000\" points=\"997.5995,-531.7328 987.0105,-531.3819 995.0695,-538.2596 997.5995,-531.7328\"/>\n</g>\n<!-- 27 -->\n<g id=\"node28\" class=\"node\">\n<title>27</title>\n<path fill=\"#53aae8\" stroke=\"#000000\" d=\"M1261,-544C1261,-544 1178,-544 1178,-544 1172,-544 1166,-538 1166,-532 1166,-532 1166,-473 1166,-473 1166,-467 1172,-461 1178,-461 1178,-461 1261,-461 1261,-461 1267,-461 1273,-467 1273,-473 1273,-473 1273,-532 1273,-532 1273,-538 1267,-544 1261,-544\"/>\n<text text-anchor=\"start\" x=\"1175\" y=\"-528.8\" font-family=\"Helvetica,sans-Serif\" font-size=\"14.00\" fill=\"#000000\">bomb ≤ 0.351</text>\n<text text-anchor=\"start\" x=\"1181.5\" y=\"-513.8\" font-family=\"Helvetica,sans-Serif\" font-size=\"14.00\" fill=\"#000000\">gini = 0.206</text>\n<text text-anchor=\"start\" x=\"1175.5\" y=\"-498.8\" font-family=\"Helvetica,sans-Serif\" font-size=\"14.00\" fill=\"#000000\">samples = 43</text>\n<text text-anchor=\"start\" x=\"1174\" y=\"-483.8\" font-family=\"Helvetica,sans-Serif\" font-size=\"14.00\" fill=\"#000000\">value = [5, 38]</text>\n<text text-anchor=\"start\" x=\"1190.5\" y=\"-468.8\" font-family=\"Helvetica,sans-Serif\" font-size=\"14.00\" fill=\"#000000\">class = 0</text>\n</g>\n<!-- 5&#45;&gt;27 -->\n<g id=\"edge27\" class=\"edge\">\n<title>5&#45;&gt;27</title>\n<path fill=\"none\" stroke=\"#000000\" d=\"M1219.5,-579.8796C1219.5,-571.6838 1219.5,-562.9891 1219.5,-554.5013\"/>\n<polygon fill=\"#000000\" stroke=\"#000000\" points=\"1223.0001,-554.298 1219.5,-544.2981 1216.0001,-554.2981 1223.0001,-554.298\"/>\n</g>\n<!-- 7 -->\n<g id=\"node8\" class=\"node\">\n<title>7</title>\n<path fill=\"#f3c4a2\" stroke=\"#000000\" d=\"M713,-425C713,-425 588,-425 588,-425 582,-425 576,-419 576,-413 576,-413 576,-354 576,-354 576,-348 582,-342 588,-342 588,-342 713,-342 713,-342 719,-342 725,-348 725,-354 725,-354 725,-413 725,-413 725,-419 719,-425 713,-425\"/>\n<text text-anchor=\"start\" x=\"606.5\" y=\"-409.8\" font-family=\"Helvetica,sans-Serif\" font-size=\"14.00\" fill=\"#000000\">storm ≤ 0.202</text>\n<text text-anchor=\"start\" x=\"612.5\" y=\"-394.8\" font-family=\"Helvetica,sans-Serif\" font-size=\"14.00\" fill=\"#000000\">gini = 0.453</text>\n<text text-anchor=\"start\" x=\"598.5\" y=\"-379.8\" font-family=\"Helvetica,sans-Serif\" font-size=\"14.00\" fill=\"#000000\">samples = 4107</text>\n<text text-anchor=\"start\" x=\"584\" y=\"-364.8\" font-family=\"Helvetica,sans-Serif\" font-size=\"14.00\" fill=\"#000000\">value = [2683, 1424]</text>\n<text text-anchor=\"start\" x=\"621.5\" y=\"-349.8\" font-family=\"Helvetica,sans-Serif\" font-size=\"14.00\" fill=\"#000000\">class = 1</text>\n</g>\n<!-- 6&#45;&gt;7 -->\n<g id=\"edge7\" class=\"edge\">\n<title>6&#45;&gt;7</title>\n<path fill=\"none\" stroke=\"#000000\" d=\"M837.7719,-468.5586C805.5592,-453.9277 767.7417,-436.751 734.556,-421.6781\"/>\n<polygon fill=\"#000000\" stroke=\"#000000\" points=\"735.8796,-418.4352 725.3273,-417.4865 732.9848,-424.8086 735.8796,-418.4352\"/>\n</g>\n<!-- 20 -->\n<g id=\"node21\" class=\"node\">\n<title>20</title>\n<path fill=\"#5aade9\" stroke=\"#000000\" d=\"M954,-425C954,-425 871,-425 871,-425 865,-425 859,-419 859,-413 859,-413 859,-354 859,-354 859,-348 865,-342 871,-342 871,-342 954,-342 954,-342 960,-342 966,-348 966,-354 966,-354 966,-413 966,-413 966,-419 960,-425 954,-425\"/>\n<text text-anchor=\"start\" x=\"871\" y=\"-409.8\" font-family=\"Helvetica,sans-Serif\" font-size=\"14.00\" fill=\"#000000\">want ≤ 0.112</text>\n<text text-anchor=\"start\" x=\"874.5\" y=\"-394.8\" font-family=\"Helvetica,sans-Serif\" font-size=\"14.00\" fill=\"#000000\">gini = 0.245</text>\n<text text-anchor=\"start\" x=\"868.5\" y=\"-379.8\" font-family=\"Helvetica,sans-Serif\" font-size=\"14.00\" fill=\"#000000\">samples = 42</text>\n<text text-anchor=\"start\" x=\"867\" y=\"-364.8\" font-family=\"Helvetica,sans-Serif\" font-size=\"14.00\" fill=\"#000000\">value = [6, 36]</text>\n<text text-anchor=\"start\" x=\"883.5\" y=\"-349.8\" font-family=\"Helvetica,sans-Serif\" font-size=\"14.00\" fill=\"#000000\">class = 0</text>\n</g>\n<!-- 6&#45;&gt;20 -->\n<g id=\"edge20\" class=\"edge\">\n<title>6&#45;&gt;20</title>\n<path fill=\"none\" stroke=\"#000000\" d=\"M912.5,-460.8796C912.5,-452.6838 912.5,-443.9891 912.5,-435.5013\"/>\n<polygon fill=\"#000000\" stroke=\"#000000\" points=\"916.0001,-435.298 912.5,-425.2981 909.0001,-435.2981 916.0001,-435.298\"/>\n</g>\n<!-- 8 -->\n<g id=\"node9\" class=\"node\">\n<title>8</title>\n<path fill=\"#f2c29f\" stroke=\"#000000\" d=\"M477,-306C477,-306 352,-306 352,-306 346,-306 340,-300 340,-294 340,-294 340,-235 340,-235 340,-229 346,-223 352,-223 352,-223 477,-223 477,-223 483,-223 489,-229 489,-235 489,-235 489,-294 489,-294 489,-300 483,-306 477,-306\"/>\n<text text-anchor=\"start\" x=\"363\" y=\"-290.8\" font-family=\"Helvetica,sans-Serif\" font-size=\"14.00\" fill=\"#000000\">swallow ≤ 0.118</text>\n<text text-anchor=\"start\" x=\"376.5\" y=\"-275.8\" font-family=\"Helvetica,sans-Serif\" font-size=\"14.00\" fill=\"#000000\">gini = 0.449</text>\n<text text-anchor=\"start\" x=\"362.5\" y=\"-260.8\" font-family=\"Helvetica,sans-Serif\" font-size=\"14.00\" fill=\"#000000\">samples = 4038</text>\n<text text-anchor=\"start\" x=\"348\" y=\"-245.8\" font-family=\"Helvetica,sans-Serif\" font-size=\"14.00\" fill=\"#000000\">value = [2664, 1374]</text>\n<text text-anchor=\"start\" x=\"385.5\" y=\"-230.8\" font-family=\"Helvetica,sans-Serif\" font-size=\"14.00\" fill=\"#000000\">class = 1</text>\n</g>\n<!-- 7&#45;&gt;8 -->\n<g id=\"edge8\" class=\"edge\">\n<title>7&#45;&gt;8</title>\n<path fill=\"none\" stroke=\"#000000\" d=\"M575.8281,-345.8477C551.1727,-333.4155 523.5866,-319.5055 498.2952,-306.7527\"/>\n<polygon fill=\"#000000\" stroke=\"#000000\" points=\"499.5958,-303.4887 489.0909,-302.1115 496.4441,-309.7391 499.5958,-303.4887\"/>\n</g>\n<!-- 15 -->\n<g id=\"node16\" class=\"node\">\n<title>15</title>\n<path fill=\"#84c2ef\" stroke=\"#000000\" d=\"M696.5,-306C696.5,-306 604.5,-306 604.5,-306 598.5,-306 592.5,-300 592.5,-294 592.5,-294 592.5,-235 592.5,-235 592.5,-229 598.5,-223 604.5,-223 604.5,-223 696.5,-223 696.5,-223 702.5,-223 708.5,-229 708.5,-235 708.5,-235 708.5,-294 708.5,-294 708.5,-300 702.5,-306 696.5,-306\"/>\n<text text-anchor=\"start\" x=\"608\" y=\"-290.8\" font-family=\"Helvetica,sans-Serif\" font-size=\"14.00\" fill=\"#000000\">likely ≤ 0.144</text>\n<text text-anchor=\"start\" x=\"612.5\" y=\"-275.8\" font-family=\"Helvetica,sans-Serif\" font-size=\"14.00\" fill=\"#000000\">gini = 0.399</text>\n<text text-anchor=\"start\" x=\"606.5\" y=\"-260.8\" font-family=\"Helvetica,sans-Serif\" font-size=\"14.00\" fill=\"#000000\">samples = 69</text>\n<text text-anchor=\"start\" x=\"600.5\" y=\"-245.8\" font-family=\"Helvetica,sans-Serif\" font-size=\"14.00\" fill=\"#000000\">value = [19, 50]</text>\n<text text-anchor=\"start\" x=\"621.5\" y=\"-230.8\" font-family=\"Helvetica,sans-Serif\" font-size=\"14.00\" fill=\"#000000\">class = 0</text>\n</g>\n<!-- 7&#45;&gt;15 -->\n<g id=\"edge15\" class=\"edge\">\n<title>7&#45;&gt;15</title>\n<path fill=\"none\" stroke=\"#000000\" d=\"M650.5,-341.8796C650.5,-333.6838 650.5,-324.9891 650.5,-316.5013\"/>\n<polygon fill=\"#000000\" stroke=\"#000000\" points=\"654.0001,-316.298 650.5,-306.2981 647.0001,-316.2981 654.0001,-316.298\"/>\n</g>\n<!-- 9 -->\n<g id=\"node10\" class=\"node\">\n<title>9</title>\n<path fill=\"#f2c19d\" stroke=\"#000000\" d=\"M283,-187C283,-187 158,-187 158,-187 152,-187 146,-181 146,-175 146,-175 146,-116 146,-116 146,-110 152,-104 158,-104 158,-104 283,-104 283,-104 289,-104 295,-110 295,-116 295,-116 295,-175 295,-175 295,-181 289,-187 283,-187\"/>\n<text text-anchor=\"start\" x=\"168\" y=\"-171.8\" font-family=\"Helvetica,sans-Serif\" font-size=\"14.00\" fill=\"#000000\">typhoon ≤ 0.119</text>\n<text text-anchor=\"start\" x=\"182.5\" y=\"-156.8\" font-family=\"Helvetica,sans-Serif\" font-size=\"14.00\" fill=\"#000000\">gini = 0.446</text>\n<text text-anchor=\"start\" x=\"168.5\" y=\"-141.8\" font-family=\"Helvetica,sans-Serif\" font-size=\"14.00\" fill=\"#000000\">samples = 4012</text>\n<text text-anchor=\"start\" x=\"154\" y=\"-126.8\" font-family=\"Helvetica,sans-Serif\" font-size=\"14.00\" fill=\"#000000\">value = [2663, 1349]</text>\n<text text-anchor=\"start\" x=\"191.5\" y=\"-111.8\" font-family=\"Helvetica,sans-Serif\" font-size=\"14.00\" fill=\"#000000\">class = 1</text>\n</g>\n<!-- 8&#45;&gt;9 -->\n<g id=\"edge9\" class=\"edge\">\n<title>8&#45;&gt;9</title>\n<path fill=\"none\" stroke=\"#000000\" d=\"M346.6482,-222.8796C330.6989,-213.0962 313.5904,-202.6019 297.2802,-192.5971\"/>\n<polygon fill=\"#000000\" stroke=\"#000000\" points=\"298.6677,-189.3422 288.3135,-187.0969 295.0075,-195.3091 298.6677,-189.3422\"/>\n</g>\n<!-- 12 -->\n<g id=\"node13\" class=\"node\">\n<title>12</title>\n<path fill=\"#41a1e6\" stroke=\"#000000\" d=\"M481.5,-187C481.5,-187 347.5,-187 347.5,-187 341.5,-187 335.5,-181 335.5,-175 335.5,-175 335.5,-116 335.5,-116 335.5,-110 341.5,-104 347.5,-104 347.5,-104 481.5,-104 481.5,-104 487.5,-104 493.5,-110 493.5,-116 493.5,-116 493.5,-175 493.5,-175 493.5,-181 487.5,-187 481.5,-187\"/>\n<text text-anchor=\"start\" x=\"343.5\" y=\"-171.8\" font-family=\"Helvetica,sans-Serif\" font-size=\"14.00\" fill=\"#000000\">neighborhood ≤ 0.262</text>\n<text text-anchor=\"start\" x=\"376.5\" y=\"-156.8\" font-family=\"Helvetica,sans-Serif\" font-size=\"14.00\" fill=\"#000000\">gini = 0.074</text>\n<text text-anchor=\"start\" x=\"370.5\" y=\"-141.8\" font-family=\"Helvetica,sans-Serif\" font-size=\"14.00\" fill=\"#000000\">samples = 26</text>\n<text text-anchor=\"start\" x=\"369\" y=\"-126.8\" font-family=\"Helvetica,sans-Serif\" font-size=\"14.00\" fill=\"#000000\">value = [1, 25]</text>\n<text text-anchor=\"start\" x=\"385.5\" y=\"-111.8\" font-family=\"Helvetica,sans-Serif\" font-size=\"14.00\" fill=\"#000000\">class = 0</text>\n</g>\n<!-- 8&#45;&gt;12 -->\n<g id=\"edge12\" class=\"edge\">\n<title>8&#45;&gt;12</title>\n<path fill=\"none\" stroke=\"#000000\" d=\"M414.5,-222.8796C414.5,-214.6838 414.5,-205.9891 414.5,-197.5013\"/>\n<polygon fill=\"#000000\" stroke=\"#000000\" points=\"418.0001,-197.298 414.5,-187.2981 411.0001,-197.2981 418.0001,-197.298\"/>\n</g>\n<!-- 10 -->\n<g id=\"node11\" class=\"node\">\n<title>10</title>\n<path fill=\"#f2c09c\" stroke=\"#000000\" d=\"M137,-68C137,-68 12,-68 12,-68 6,-68 0,-62 0,-56 0,-56 0,-12 0,-12 0,-6 6,0 12,0 12,0 137,0 137,0 143,0 149,-6 149,-12 149,-12 149,-56 149,-56 149,-62 143,-68 137,-68\"/>\n<text text-anchor=\"start\" x=\"36.5\" y=\"-52.8\" font-family=\"Helvetica,sans-Serif\" font-size=\"14.00\" fill=\"#000000\">gini = 0.444</text>\n<text text-anchor=\"start\" x=\"22.5\" y=\"-37.8\" font-family=\"Helvetica,sans-Serif\" font-size=\"14.00\" fill=\"#000000\">samples = 3991</text>\n<text text-anchor=\"start\" x=\"8\" y=\"-22.8\" font-family=\"Helvetica,sans-Serif\" font-size=\"14.00\" fill=\"#000000\">value = [2663, 1328]</text>\n<text text-anchor=\"start\" x=\"45.5\" y=\"-7.8\" font-family=\"Helvetica,sans-Serif\" font-size=\"14.00\" fill=\"#000000\">class = 1</text>\n</g>\n<!-- 9&#45;&gt;10 -->\n<g id=\"edge10\" class=\"edge\">\n<title>9&#45;&gt;10</title>\n<path fill=\"none\" stroke=\"#000000\" d=\"M166.135,-103.9815C153.4989,-94.3313 140.0644,-84.0714 127.4885,-74.4673\"/>\n<polygon fill=\"#000000\" stroke=\"#000000\" points=\"129.4372,-71.5515 119.3654,-68.2637 125.1886,-77.1148 129.4372,-71.5515\"/>\n</g>\n<!-- 11 -->\n<g id=\"node12\" class=\"node\">\n<title>11</title>\n<path fill=\"#399de5\" stroke=\"#000000\" d=\"M262,-68C262,-68 179,-68 179,-68 173,-68 167,-62 167,-56 167,-56 167,-12 167,-12 167,-6 173,0 179,0 179,0 262,0 262,0 268,0 274,-6 274,-12 274,-12 274,-56 274,-56 274,-62 268,-68 262,-68\"/>\n<text text-anchor=\"start\" x=\"191\" y=\"-52.8\" font-family=\"Helvetica,sans-Serif\" font-size=\"14.00\" fill=\"#000000\">gini = 0.0</text>\n<text text-anchor=\"start\" x=\"176.5\" y=\"-37.8\" font-family=\"Helvetica,sans-Serif\" font-size=\"14.00\" fill=\"#000000\">samples = 21</text>\n<text text-anchor=\"start\" x=\"175\" y=\"-22.8\" font-family=\"Helvetica,sans-Serif\" font-size=\"14.00\" fill=\"#000000\">value = [0, 21]</text>\n<text text-anchor=\"start\" x=\"191.5\" y=\"-7.8\" font-family=\"Helvetica,sans-Serif\" font-size=\"14.00\" fill=\"#000000\">class = 0</text>\n</g>\n<!-- 9&#45;&gt;11 -->\n<g id=\"edge11\" class=\"edge\">\n<title>9&#45;&gt;11</title>\n<path fill=\"none\" stroke=\"#000000\" d=\"M220.5,-103.9815C220.5,-95.618 220.5,-86.7965 220.5,-78.3409\"/>\n<polygon fill=\"#000000\" stroke=\"#000000\" points=\"224.0001,-78.2636 220.5,-68.2637 217.0001,-78.2637 224.0001,-78.2636\"/>\n</g>\n<!-- 13 -->\n<g id=\"node14\" class=\"node\">\n<title>13</title>\n<path fill=\"#399de5\" stroke=\"#000000\" d=\"M387,-68C387,-68 304,-68 304,-68 298,-68 292,-62 292,-56 292,-56 292,-12 292,-12 292,-6 298,0 304,0 304,0 387,0 387,0 393,0 399,-6 399,-12 399,-12 399,-56 399,-56 399,-62 393,-68 387,-68\"/>\n<text text-anchor=\"start\" x=\"316\" y=\"-52.8\" font-family=\"Helvetica,sans-Serif\" font-size=\"14.00\" fill=\"#000000\">gini = 0.0</text>\n<text text-anchor=\"start\" x=\"301.5\" y=\"-37.8\" font-family=\"Helvetica,sans-Serif\" font-size=\"14.00\" fill=\"#000000\">samples = 25</text>\n<text text-anchor=\"start\" x=\"300\" y=\"-22.8\" font-family=\"Helvetica,sans-Serif\" font-size=\"14.00\" fill=\"#000000\">value = [0, 25]</text>\n<text text-anchor=\"start\" x=\"316.5\" y=\"-7.8\" font-family=\"Helvetica,sans-Serif\" font-size=\"14.00\" fill=\"#000000\">class = 0</text>\n</g>\n<!-- 12&#45;&gt;13 -->\n<g id=\"edge13\" class=\"edge\">\n<title>12&#45;&gt;13</title>\n<path fill=\"none\" stroke=\"#000000\" d=\"M388.8069,-103.9815C383.3469,-95.1585 377.5716,-85.8258 372.0793,-76.9506\"/>\n<polygon fill=\"#000000\" stroke=\"#000000\" points=\"374.942,-74.9254 366.7035,-68.2637 368.9896,-78.609 374.942,-74.9254\"/>\n</g>\n<!-- 14 -->\n<g id=\"node15\" class=\"node\">\n<title>14</title>\n<path fill=\"#e58139\" stroke=\"#000000\" d=\"M504,-68C504,-68 429,-68 429,-68 423,-68 417,-62 417,-56 417,-56 417,-12 417,-12 417,-6 423,0 429,0 429,0 504,0 504,0 510,0 516,-6 516,-12 516,-12 516,-56 516,-56 516,-62 510,-68 504,-68\"/>\n<text text-anchor=\"start\" x=\"437\" y=\"-52.8\" font-family=\"Helvetica,sans-Serif\" font-size=\"14.00\" fill=\"#000000\">gini = 0.0</text>\n<text text-anchor=\"start\" x=\"427\" y=\"-37.8\" font-family=\"Helvetica,sans-Serif\" font-size=\"14.00\" fill=\"#000000\">samples = 1</text>\n<text text-anchor=\"start\" x=\"425\" y=\"-22.8\" font-family=\"Helvetica,sans-Serif\" font-size=\"14.00\" fill=\"#000000\">value = [1, 0]</text>\n<text text-anchor=\"start\" x=\"437.5\" y=\"-7.8\" font-family=\"Helvetica,sans-Serif\" font-size=\"14.00\" fill=\"#000000\">class = 1</text>\n</g>\n<!-- 12&#45;&gt;14 -->\n<g id=\"edge14\" class=\"edge\">\n<title>12&#45;&gt;14</title>\n<path fill=\"none\" stroke=\"#000000\" d=\"M433.8629,-103.9815C437.8919,-95.3423 442.1489,-86.2144 446.2103,-77.5059\"/>\n<polygon fill=\"#000000\" stroke=\"#000000\" points=\"449.4659,-78.8059 450.5205,-68.2637 443.1218,-75.8472 449.4659,-78.8059\"/>\n</g>\n<!-- 16 -->\n<g id=\"node17\" class=\"node\">\n<title>16</title>\n<path fill=\"#78bced\" stroke=\"#000000\" d=\"M635.5,-187C635.5,-187 543.5,-187 543.5,-187 537.5,-187 531.5,-181 531.5,-175 531.5,-175 531.5,-116 531.5,-116 531.5,-110 537.5,-104 543.5,-104 543.5,-104 635.5,-104 635.5,-104 641.5,-104 647.5,-110 647.5,-116 647.5,-116 647.5,-175 647.5,-175 647.5,-181 641.5,-187 635.5,-187\"/>\n<text text-anchor=\"start\" x=\"545.5\" y=\"-171.8\" font-family=\"Helvetica,sans-Serif\" font-size=\"14.00\" fill=\"#000000\">storm ≤ 0.223</text>\n<text text-anchor=\"start\" x=\"551.5\" y=\"-156.8\" font-family=\"Helvetica,sans-Serif\" font-size=\"14.00\" fill=\"#000000\">gini = 0.367</text>\n<text text-anchor=\"start\" x=\"545.5\" y=\"-141.8\" font-family=\"Helvetica,sans-Serif\" font-size=\"14.00\" fill=\"#000000\">samples = 66</text>\n<text text-anchor=\"start\" x=\"539.5\" y=\"-126.8\" font-family=\"Helvetica,sans-Serif\" font-size=\"14.00\" fill=\"#000000\">value = [16, 50]</text>\n<text text-anchor=\"start\" x=\"560.5\" y=\"-111.8\" font-family=\"Helvetica,sans-Serif\" font-size=\"14.00\" fill=\"#000000\">class = 0</text>\n</g>\n<!-- 15&#45;&gt;16 -->\n<g id=\"edge16\" class=\"edge\">\n<title>15&#45;&gt;16</title>\n<path fill=\"none\" stroke=\"#000000\" d=\"M629.1652,-222.8796C624.7793,-214.3236 620.1147,-205.2238 615.583,-196.3833\"/>\n<polygon fill=\"#000000\" stroke=\"#000000\" points=\"618.6022,-194.6004 610.9259,-187.2981 612.373,-197.7936 618.6022,-194.6004\"/>\n</g>\n<!-- 19 -->\n<g id=\"node20\" class=\"node\">\n<title>19</title>\n<path fill=\"#e58139\" stroke=\"#000000\" d=\"M753,-179.5C753,-179.5 678,-179.5 678,-179.5 672,-179.5 666,-173.5 666,-167.5 666,-167.5 666,-123.5 666,-123.5 666,-117.5 672,-111.5 678,-111.5 678,-111.5 753,-111.5 753,-111.5 759,-111.5 765,-117.5 765,-123.5 765,-123.5 765,-167.5 765,-167.5 765,-173.5 759,-179.5 753,-179.5\"/>\n<text text-anchor=\"start\" x=\"686\" y=\"-164.3\" font-family=\"Helvetica,sans-Serif\" font-size=\"14.00\" fill=\"#000000\">gini = 0.0</text>\n<text text-anchor=\"start\" x=\"676\" y=\"-149.3\" font-family=\"Helvetica,sans-Serif\" font-size=\"14.00\" fill=\"#000000\">samples = 3</text>\n<text text-anchor=\"start\" x=\"674\" y=\"-134.3\" font-family=\"Helvetica,sans-Serif\" font-size=\"14.00\" fill=\"#000000\">value = [3, 0]</text>\n<text text-anchor=\"start\" x=\"686.5\" y=\"-119.3\" font-family=\"Helvetica,sans-Serif\" font-size=\"14.00\" fill=\"#000000\">class = 1</text>\n</g>\n<!-- 15&#45;&gt;19 -->\n<g id=\"edge19\" class=\"edge\">\n<title>15&#45;&gt;19</title>\n<path fill=\"none\" stroke=\"#000000\" d=\"M673.2338,-222.8796C679.2401,-211.8835 685.737,-199.9893 691.7933,-188.9015\"/>\n<polygon fill=\"#000000\" stroke=\"#000000\" points=\"695.0345,-190.2689 696.7565,-179.8149 688.8912,-186.9133 695.0345,-190.2689\"/>\n</g>\n<!-- 17 -->\n<g id=\"node18\" class=\"node\">\n<title>17</title>\n<path fill=\"#399de5\" stroke=\"#000000\" d=\"M629,-68C629,-68 546,-68 546,-68 540,-68 534,-62 534,-56 534,-56 534,-12 534,-12 534,-6 540,0 546,0 546,0 629,0 629,0 635,0 641,-6 641,-12 641,-12 641,-56 641,-56 641,-62 635,-68 629,-68\"/>\n<text text-anchor=\"start\" x=\"558\" y=\"-52.8\" font-family=\"Helvetica,sans-Serif\" font-size=\"14.00\" fill=\"#000000\">gini = 0.0</text>\n<text text-anchor=\"start\" x=\"543.5\" y=\"-37.8\" font-family=\"Helvetica,sans-Serif\" font-size=\"14.00\" fill=\"#000000\">samples = 16</text>\n<text text-anchor=\"start\" x=\"542\" y=\"-22.8\" font-family=\"Helvetica,sans-Serif\" font-size=\"14.00\" fill=\"#000000\">value = [0, 16]</text>\n<text text-anchor=\"start\" x=\"558.5\" y=\"-7.8\" font-family=\"Helvetica,sans-Serif\" font-size=\"14.00\" fill=\"#000000\">class = 0</text>\n</g>\n<!-- 16&#45;&gt;17 -->\n<g id=\"edge17\" class=\"edge\">\n<title>16&#45;&gt;17</title>\n<path fill=\"none\" stroke=\"#000000\" d=\"M588.7553,-103.9815C588.6053,-95.618 588.447,-86.7965 588.2954,-78.3409\"/>\n<polygon fill=\"#000000\" stroke=\"#000000\" points=\"591.7935,-78.1993 588.1146,-68.2637 584.7946,-78.3249 591.7935,-78.1993\"/>\n</g>\n<!-- 18 -->\n<g id=\"node19\" class=\"node\">\n<title>18</title>\n<path fill=\"#96cbf1\" stroke=\"#000000\" d=\"M763.5,-68C763.5,-68 671.5,-68 671.5,-68 665.5,-68 659.5,-62 659.5,-56 659.5,-56 659.5,-12 659.5,-12 659.5,-6 665.5,0 671.5,0 671.5,0 763.5,0 763.5,0 769.5,0 775.5,-6 775.5,-12 775.5,-12 775.5,-56 775.5,-56 775.5,-62 769.5,-68 763.5,-68\"/>\n<text text-anchor=\"start\" x=\"679.5\" y=\"-52.8\" font-family=\"Helvetica,sans-Serif\" font-size=\"14.00\" fill=\"#000000\">gini = 0.435</text>\n<text text-anchor=\"start\" x=\"673.5\" y=\"-37.8\" font-family=\"Helvetica,sans-Serif\" font-size=\"14.00\" fill=\"#000000\">samples = 50</text>\n<text text-anchor=\"start\" x=\"667.5\" y=\"-22.8\" font-family=\"Helvetica,sans-Serif\" font-size=\"14.00\" fill=\"#000000\">value = [16, 34]</text>\n<text text-anchor=\"start\" x=\"688.5\" y=\"-7.8\" font-family=\"Helvetica,sans-Serif\" font-size=\"14.00\" fill=\"#000000\">class = 0</text>\n</g>\n<!-- 16&#45;&gt;18 -->\n<g id=\"edge18\" class=\"edge\">\n<title>16&#45;&gt;18</title>\n<path fill=\"none\" stroke=\"#000000\" d=\"M637.1625,-103.9815C648.0297,-94.5151 659.5705,-84.462 670.4135,-75.0168\"/>\n<polygon fill=\"#000000\" stroke=\"#000000\" points=\"672.9245,-77.4712 678.1659,-68.2637 668.3266,-72.1929 672.9245,-77.4712\"/>\n</g>\n<!-- 21 -->\n<g id=\"node22\" class=\"node\">\n<title>21</title>\n<path fill=\"#4fa8e8\" stroke=\"#000000\" d=\"M896,-306C896,-306 801,-306 801,-306 795,-306 789,-300 789,-294 789,-294 789,-235 789,-235 789,-229 795,-223 801,-223 801,-223 896,-223 896,-223 902,-223 908,-229 908,-235 908,-235 908,-294 908,-294 908,-300 902,-306 896,-306\"/>\n<text text-anchor=\"start\" x=\"797\" y=\"-290.8\" font-family=\"Helvetica,sans-Serif\" font-size=\"14.00\" fill=\"#000000\">drinking ≤ 0.201</text>\n<text text-anchor=\"start\" x=\"815\" y=\"-275.8\" font-family=\"Helvetica,sans-Serif\" font-size=\"14.00\" fill=\"#000000\">gini = 0.18</text>\n<text text-anchor=\"start\" x=\"804.5\" y=\"-260.8\" font-family=\"Helvetica,sans-Serif\" font-size=\"14.00\" fill=\"#000000\">samples = 40</text>\n<text text-anchor=\"start\" x=\"803\" y=\"-245.8\" font-family=\"Helvetica,sans-Serif\" font-size=\"14.00\" fill=\"#000000\">value = [4, 36]</text>\n<text text-anchor=\"start\" x=\"819.5\" y=\"-230.8\" font-family=\"Helvetica,sans-Serif\" font-size=\"14.00\" fill=\"#000000\">class = 0</text>\n</g>\n<!-- 20&#45;&gt;21 -->\n<g id=\"edge21\" class=\"edge\">\n<title>20&#45;&gt;21</title>\n<path fill=\"none\" stroke=\"#000000\" d=\"M890.1159,-341.8796C885.5144,-333.3236 880.6204,-324.2238 875.8658,-315.3833\"/>\n<polygon fill=\"#000000\" stroke=\"#000000\" points=\"878.7988,-313.4473 870.9796,-306.2981 872.6338,-316.763 878.7988,-313.4473\"/>\n</g>\n<!-- 26 -->\n<g id=\"node27\" class=\"node\">\n<title>26</title>\n<path fill=\"#e58139\" stroke=\"#000000\" d=\"M1013,-298.5C1013,-298.5 938,-298.5 938,-298.5 932,-298.5 926,-292.5 926,-286.5 926,-286.5 926,-242.5 926,-242.5 926,-236.5 932,-230.5 938,-230.5 938,-230.5 1013,-230.5 1013,-230.5 1019,-230.5 1025,-236.5 1025,-242.5 1025,-242.5 1025,-286.5 1025,-286.5 1025,-292.5 1019,-298.5 1013,-298.5\"/>\n<text text-anchor=\"start\" x=\"946\" y=\"-283.3\" font-family=\"Helvetica,sans-Serif\" font-size=\"14.00\" fill=\"#000000\">gini = 0.0</text>\n<text text-anchor=\"start\" x=\"936\" y=\"-268.3\" font-family=\"Helvetica,sans-Serif\" font-size=\"14.00\" fill=\"#000000\">samples = 2</text>\n<text text-anchor=\"start\" x=\"934\" y=\"-253.3\" font-family=\"Helvetica,sans-Serif\" font-size=\"14.00\" fill=\"#000000\">value = [2, 0]</text>\n<text text-anchor=\"start\" x=\"946.5\" y=\"-238.3\" font-family=\"Helvetica,sans-Serif\" font-size=\"14.00\" fill=\"#000000\">class = 1</text>\n</g>\n<!-- 20&#45;&gt;26 -->\n<g id=\"edge26\" class=\"edge\">\n<title>20&#45;&gt;26</title>\n<path fill=\"none\" stroke=\"#000000\" d=\"M934.5343,-341.8796C940.3558,-330.8835 946.6527,-318.9893 952.5227,-307.9015\"/>\n<polygon fill=\"#000000\" stroke=\"#000000\" points=\"955.7476,-309.2905 957.3333,-298.8149 949.5611,-306.0152 955.7476,-309.2905\"/>\n</g>\n<!-- 22 -->\n<g id=\"node23\" class=\"node\">\n<title>22</title>\n<path fill=\"#49a5e7\" stroke=\"#000000\" d=\"M896.5,-187C896.5,-187 798.5,-187 798.5,-187 792.5,-187 786.5,-181 786.5,-175 786.5,-175 786.5,-116 786.5,-116 786.5,-110 792.5,-104 798.5,-104 798.5,-104 896.5,-104 896.5,-104 902.5,-104 908.5,-110 908.5,-116 908.5,-116 908.5,-175 908.5,-175 908.5,-181 902.5,-187 896.5,-187\"/>\n<text text-anchor=\"start\" x=\"794.5\" y=\"-171.8\" font-family=\"Helvetica,sans-Serif\" font-size=\"14.00\" fill=\"#000000\">success ≤ 0.199</text>\n<text text-anchor=\"start\" x=\"809.5\" y=\"-156.8\" font-family=\"Helvetica,sans-Serif\" font-size=\"14.00\" fill=\"#000000\">gini = 0.142</text>\n<text text-anchor=\"start\" x=\"803.5\" y=\"-141.8\" font-family=\"Helvetica,sans-Serif\" font-size=\"14.00\" fill=\"#000000\">samples = 39</text>\n<text text-anchor=\"start\" x=\"802\" y=\"-126.8\" font-family=\"Helvetica,sans-Serif\" font-size=\"14.00\" fill=\"#000000\">value = [3, 36]</text>\n<text text-anchor=\"start\" x=\"818.5\" y=\"-111.8\" font-family=\"Helvetica,sans-Serif\" font-size=\"14.00\" fill=\"#000000\">class = 0</text>\n</g>\n<!-- 21&#45;&gt;22 -->\n<g id=\"edge22\" class=\"edge\">\n<title>21&#45;&gt;22</title>\n<path fill=\"none\" stroke=\"#000000\" d=\"M848.1502,-222.8796C848.0814,-214.6838 848.0083,-205.9891 847.937,-197.5013\"/>\n<polygon fill=\"#000000\" stroke=\"#000000\" points=\"851.4352,-197.2683 847.8512,-187.2981 844.4355,-197.3272 851.4352,-197.2683\"/>\n</g>\n<!-- 25 -->\n<g id=\"node26\" class=\"node\">\n<title>25</title>\n<path fill=\"#e58139\" stroke=\"#000000\" d=\"M1014,-179.5C1014,-179.5 939,-179.5 939,-179.5 933,-179.5 927,-173.5 927,-167.5 927,-167.5 927,-123.5 927,-123.5 927,-117.5 933,-111.5 939,-111.5 939,-111.5 1014,-111.5 1014,-111.5 1020,-111.5 1026,-117.5 1026,-123.5 1026,-123.5 1026,-167.5 1026,-167.5 1026,-173.5 1020,-179.5 1014,-179.5\"/>\n<text text-anchor=\"start\" x=\"947\" y=\"-164.3\" font-family=\"Helvetica,sans-Serif\" font-size=\"14.00\" fill=\"#000000\">gini = 0.0</text>\n<text text-anchor=\"start\" x=\"937\" y=\"-149.3\" font-family=\"Helvetica,sans-Serif\" font-size=\"14.00\" fill=\"#000000\">samples = 1</text>\n<text text-anchor=\"start\" x=\"935\" y=\"-134.3\" font-family=\"Helvetica,sans-Serif\" font-size=\"14.00\" fill=\"#000000\">value = [1, 0]</text>\n<text text-anchor=\"start\" x=\"947.5\" y=\"-119.3\" font-family=\"Helvetica,sans-Serif\" font-size=\"14.00\" fill=\"#000000\">class = 1</text>\n</g>\n<!-- 21&#45;&gt;25 -->\n<g id=\"edge25\" class=\"edge\">\n<title>21&#45;&gt;25</title>\n<path fill=\"none\" stroke=\"#000000\" d=\"M893.2682,-222.8796C905.8056,-211.2237 919.4284,-198.5587 931.953,-186.9148\"/>\n<polygon fill=\"#000000\" stroke=\"#000000\" points=\"934.6491,-189.1872 939.5898,-179.8149 929.8828,-184.0605 934.6491,-189.1872\"/>\n</g>\n<!-- 23 -->\n<g id=\"node24\" class=\"node\">\n<title>23</title>\n<path fill=\"#44a2e6\" stroke=\"#000000\" d=\"M889,-68C889,-68 806,-68 806,-68 800,-68 794,-62 794,-56 794,-56 794,-12 794,-12 794,-6 800,0 806,0 806,0 889,0 889,0 895,0 901,-6 901,-12 901,-12 901,-56 901,-56 901,-62 895,-68 889,-68\"/>\n<text text-anchor=\"start\" x=\"818\" y=\"-52.8\" font-family=\"Helvetica,sans-Serif\" font-size=\"14.00\" fill=\"#000000\">gini = 0.1</text>\n<text text-anchor=\"start\" x=\"803.5\" y=\"-37.8\" font-family=\"Helvetica,sans-Serif\" font-size=\"14.00\" fill=\"#000000\">samples = 38</text>\n<text text-anchor=\"start\" x=\"802\" y=\"-22.8\" font-family=\"Helvetica,sans-Serif\" font-size=\"14.00\" fill=\"#000000\">value = [2, 36]</text>\n<text text-anchor=\"start\" x=\"818.5\" y=\"-7.8\" font-family=\"Helvetica,sans-Serif\" font-size=\"14.00\" fill=\"#000000\">class = 0</text>\n</g>\n<!-- 22&#45;&gt;23 -->\n<g id=\"edge23\" class=\"edge\">\n<title>22&#45;&gt;23</title>\n<path fill=\"none\" stroke=\"#000000\" d=\"M847.5,-103.9815C847.5,-95.618 847.5,-86.7965 847.5,-78.3409\"/>\n<polygon fill=\"#000000\" stroke=\"#000000\" points=\"851.0001,-78.2636 847.5,-68.2637 844.0001,-78.2637 851.0001,-78.2636\"/>\n</g>\n<!-- 24 -->\n<g id=\"node25\" class=\"node\">\n<title>24</title>\n<path fill=\"#e58139\" stroke=\"#000000\" d=\"M1006,-68C1006,-68 931,-68 931,-68 925,-68 919,-62 919,-56 919,-56 919,-12 919,-12 919,-6 925,0 931,0 931,0 1006,0 1006,0 1012,0 1018,-6 1018,-12 1018,-12 1018,-56 1018,-56 1018,-62 1012,-68 1006,-68\"/>\n<text text-anchor=\"start\" x=\"939\" y=\"-52.8\" font-family=\"Helvetica,sans-Serif\" font-size=\"14.00\" fill=\"#000000\">gini = 0.0</text>\n<text text-anchor=\"start\" x=\"929\" y=\"-37.8\" font-family=\"Helvetica,sans-Serif\" font-size=\"14.00\" fill=\"#000000\">samples = 1</text>\n<text text-anchor=\"start\" x=\"927\" y=\"-22.8\" font-family=\"Helvetica,sans-Serif\" font-size=\"14.00\" fill=\"#000000\">value = [1, 0]</text>\n<text text-anchor=\"start\" x=\"939.5\" y=\"-7.8\" font-family=\"Helvetica,sans-Serif\" font-size=\"14.00\" fill=\"#000000\">class = 1</text>\n</g>\n<!-- 22&#45;&gt;24 -->\n<g id=\"edge24\" class=\"edge\">\n<title>22&#45;&gt;24</title>\n<path fill=\"none\" stroke=\"#000000\" d=\"M892.5559,-103.9815C902.7291,-94.607 913.5267,-84.6572 923.6898,-75.2921\"/>\n<polygon fill=\"#000000\" stroke=\"#000000\" points=\"926.3349,-77.6141 931.317,-68.2637 921.5913,-72.4663 926.3349,-77.6141\"/>\n</g>\n<!-- 28 -->\n<g id=\"node29\" class=\"node\">\n<title>28</title>\n<path fill=\"#49a5e7\" stroke=\"#000000\" d=\"M1200,-425C1200,-425 1117,-425 1117,-425 1111,-425 1105,-419 1105,-413 1105,-413 1105,-354 1105,-354 1105,-348 1111,-342 1117,-342 1117,-342 1200,-342 1200,-342 1206,-342 1212,-348 1212,-354 1212,-354 1212,-413 1212,-413 1212,-419 1206,-425 1200,-425\"/>\n<text text-anchor=\"start\" x=\"1123\" y=\"-409.8\" font-family=\"Helvetica,sans-Serif\" font-size=\"14.00\" fill=\"#000000\">love ≤ 0.13</text>\n<text text-anchor=\"start\" x=\"1120.5\" y=\"-394.8\" font-family=\"Helvetica,sans-Serif\" font-size=\"14.00\" fill=\"#000000\">gini = 0.136</text>\n<text text-anchor=\"start\" x=\"1114.5\" y=\"-379.8\" font-family=\"Helvetica,sans-Serif\" font-size=\"14.00\" fill=\"#000000\">samples = 41</text>\n<text text-anchor=\"start\" x=\"1113\" y=\"-364.8\" font-family=\"Helvetica,sans-Serif\" font-size=\"14.00\" fill=\"#000000\">value = [3, 38]</text>\n<text text-anchor=\"start\" x=\"1129.5\" y=\"-349.8\" font-family=\"Helvetica,sans-Serif\" font-size=\"14.00\" fill=\"#000000\">class = 0</text>\n</g>\n<!-- 27&#45;&gt;28 -->\n<g id=\"edge28\" class=\"edge\">\n<title>27&#45;&gt;28</title>\n<path fill=\"none\" stroke=\"#000000\" d=\"M1198.1652,-460.8796C1193.7793,-452.3236 1189.1147,-443.2238 1184.583,-434.3833\"/>\n<polygon fill=\"#000000\" stroke=\"#000000\" points=\"1187.6022,-432.6004 1179.9259,-425.2981 1181.373,-435.7936 1187.6022,-432.6004\"/>\n</g>\n<!-- 35 -->\n<g id=\"node36\" class=\"node\">\n<title>35</title>\n<path fill=\"#e58139\" stroke=\"#000000\" d=\"M1317,-417.5C1317,-417.5 1242,-417.5 1242,-417.5 1236,-417.5 1230,-411.5 1230,-405.5 1230,-405.5 1230,-361.5 1230,-361.5 1230,-355.5 1236,-349.5 1242,-349.5 1242,-349.5 1317,-349.5 1317,-349.5 1323,-349.5 1329,-355.5 1329,-361.5 1329,-361.5 1329,-405.5 1329,-405.5 1329,-411.5 1323,-417.5 1317,-417.5\"/>\n<text text-anchor=\"start\" x=\"1250\" y=\"-402.3\" font-family=\"Helvetica,sans-Serif\" font-size=\"14.00\" fill=\"#000000\">gini = 0.0</text>\n<text text-anchor=\"start\" x=\"1240\" y=\"-387.3\" font-family=\"Helvetica,sans-Serif\" font-size=\"14.00\" fill=\"#000000\">samples = 2</text>\n<text text-anchor=\"start\" x=\"1238\" y=\"-372.3\" font-family=\"Helvetica,sans-Serif\" font-size=\"14.00\" fill=\"#000000\">value = [2, 0]</text>\n<text text-anchor=\"start\" x=\"1250.5\" y=\"-357.3\" font-family=\"Helvetica,sans-Serif\" font-size=\"14.00\" fill=\"#000000\">class = 1</text>\n</g>\n<!-- 27&#45;&gt;35 -->\n<g id=\"edge35\" class=\"edge\">\n<title>27&#45;&gt;35</title>\n<path fill=\"none\" stroke=\"#000000\" d=\"M1240.4851,-460.8796C1246.0293,-449.8835 1252.0264,-437.9893 1257.6169,-426.9015\"/>\n<polygon fill=\"#000000\" stroke=\"#000000\" points=\"1260.8214,-428.3199 1262.1984,-417.8149 1254.5709,-425.1684 1260.8214,-428.3199\"/>\n</g>\n<!-- 29 -->\n<g id=\"node30\" class=\"node\">\n<title>29</title>\n<path fill=\"#43a2e6\" stroke=\"#000000\" d=\"M1139,-306C1139,-306 1056,-306 1056,-306 1050,-306 1044,-300 1044,-294 1044,-294 1044,-235 1044,-235 1044,-229 1050,-223 1056,-223 1056,-223 1139,-223 1139,-223 1145,-223 1151,-229 1151,-235 1151,-235 1151,-294 1151,-294 1151,-300 1145,-306 1139,-306\"/>\n<text text-anchor=\"start\" x=\"1061\" y=\"-290.8\" font-family=\"Helvetica,sans-Serif\" font-size=\"14.00\" fill=\"#000000\">run ≤ 0.115</text>\n<text text-anchor=\"start\" x=\"1059.5\" y=\"-275.8\" font-family=\"Helvetica,sans-Serif\" font-size=\"14.00\" fill=\"#000000\">gini = 0.095</text>\n<text text-anchor=\"start\" x=\"1053.5\" y=\"-260.8\" font-family=\"Helvetica,sans-Serif\" font-size=\"14.00\" fill=\"#000000\">samples = 40</text>\n<text text-anchor=\"start\" x=\"1052\" y=\"-245.8\" font-family=\"Helvetica,sans-Serif\" font-size=\"14.00\" fill=\"#000000\">value = [2, 38]</text>\n<text text-anchor=\"start\" x=\"1068.5\" y=\"-230.8\" font-family=\"Helvetica,sans-Serif\" font-size=\"14.00\" fill=\"#000000\">class = 0</text>\n</g>\n<!-- 28&#45;&gt;29 -->\n<g id=\"edge29\" class=\"edge\">\n<title>28&#45;&gt;29</title>\n<path fill=\"none\" stroke=\"#000000\" d=\"M1137.1652,-341.8796C1132.7793,-333.3236 1128.1147,-324.2238 1123.583,-315.3833\"/>\n<polygon fill=\"#000000\" stroke=\"#000000\" points=\"1126.6022,-313.6004 1118.9259,-306.2981 1120.373,-316.7936 1126.6022,-313.6004\"/>\n</g>\n<!-- 34 -->\n<g id=\"node35\" class=\"node\">\n<title>34</title>\n<path fill=\"#e58139\" stroke=\"#000000\" d=\"M1256,-298.5C1256,-298.5 1181,-298.5 1181,-298.5 1175,-298.5 1169,-292.5 1169,-286.5 1169,-286.5 1169,-242.5 1169,-242.5 1169,-236.5 1175,-230.5 1181,-230.5 1181,-230.5 1256,-230.5 1256,-230.5 1262,-230.5 1268,-236.5 1268,-242.5 1268,-242.5 1268,-286.5 1268,-286.5 1268,-292.5 1262,-298.5 1256,-298.5\"/>\n<text text-anchor=\"start\" x=\"1189\" y=\"-283.3\" font-family=\"Helvetica,sans-Serif\" font-size=\"14.00\" fill=\"#000000\">gini = 0.0</text>\n<text text-anchor=\"start\" x=\"1179\" y=\"-268.3\" font-family=\"Helvetica,sans-Serif\" font-size=\"14.00\" fill=\"#000000\">samples = 1</text>\n<text text-anchor=\"start\" x=\"1177\" y=\"-253.3\" font-family=\"Helvetica,sans-Serif\" font-size=\"14.00\" fill=\"#000000\">value = [1, 0]</text>\n<text text-anchor=\"start\" x=\"1189.5\" y=\"-238.3\" font-family=\"Helvetica,sans-Serif\" font-size=\"14.00\" fill=\"#000000\">class = 1</text>\n</g>\n<!-- 28&#45;&gt;34 -->\n<g id=\"edge34\" class=\"edge\">\n<title>28&#45;&gt;34</title>\n<path fill=\"none\" stroke=\"#000000\" d=\"M1179.4851,-341.8796C1185.0293,-330.8835 1191.0264,-318.9893 1196.6169,-307.9015\"/>\n<polygon fill=\"#000000\" stroke=\"#000000\" points=\"1199.8214,-309.3199 1201.1984,-298.8149 1193.5709,-306.1684 1199.8214,-309.3199\"/>\n</g>\n<!-- 30 -->\n<g id=\"node31\" class=\"node\">\n<title>30</title>\n<path fill=\"#3ea0e6\" stroke=\"#000000\" d=\"M1139,-187C1139,-187 1056,-187 1056,-187 1050,-187 1044,-181 1044,-175 1044,-175 1044,-116 1044,-116 1044,-110 1050,-104 1056,-104 1056,-104 1139,-104 1139,-104 1145,-104 1151,-110 1151,-116 1151,-116 1151,-175 1151,-175 1151,-181 1145,-187 1139,-187\"/>\n<text text-anchor=\"start\" x=\"1055.5\" y=\"-171.8\" font-family=\"Helvetica,sans-Serif\" font-size=\"14.00\" fill=\"#000000\">drown ≤ 0.23</text>\n<text text-anchor=\"start\" x=\"1064\" y=\"-156.8\" font-family=\"Helvetica,sans-Serif\" font-size=\"14.00\" fill=\"#000000\">gini = 0.05</text>\n<text text-anchor=\"start\" x=\"1053.5\" y=\"-141.8\" font-family=\"Helvetica,sans-Serif\" font-size=\"14.00\" fill=\"#000000\">samples = 39</text>\n<text text-anchor=\"start\" x=\"1052\" y=\"-126.8\" font-family=\"Helvetica,sans-Serif\" font-size=\"14.00\" fill=\"#000000\">value = [1, 38]</text>\n<text text-anchor=\"start\" x=\"1068.5\" y=\"-111.8\" font-family=\"Helvetica,sans-Serif\" font-size=\"14.00\" fill=\"#000000\">class = 0</text>\n</g>\n<!-- 29&#45;&gt;30 -->\n<g id=\"edge30\" class=\"edge\">\n<title>29&#45;&gt;30</title>\n<path fill=\"none\" stroke=\"#000000\" d=\"M1097.5,-222.8796C1097.5,-214.6838 1097.5,-205.9891 1097.5,-197.5013\"/>\n<polygon fill=\"#000000\" stroke=\"#000000\" points=\"1101.0001,-197.298 1097.5,-187.2981 1094.0001,-197.2981 1101.0001,-197.298\"/>\n</g>\n<!-- 33 -->\n<g id=\"node34\" class=\"node\">\n<title>33</title>\n<path fill=\"#e58139\" stroke=\"#000000\" d=\"M1256,-179.5C1256,-179.5 1181,-179.5 1181,-179.5 1175,-179.5 1169,-173.5 1169,-167.5 1169,-167.5 1169,-123.5 1169,-123.5 1169,-117.5 1175,-111.5 1181,-111.5 1181,-111.5 1256,-111.5 1256,-111.5 1262,-111.5 1268,-117.5 1268,-123.5 1268,-123.5 1268,-167.5 1268,-167.5 1268,-173.5 1262,-179.5 1256,-179.5\"/>\n<text text-anchor=\"start\" x=\"1189\" y=\"-164.3\" font-family=\"Helvetica,sans-Serif\" font-size=\"14.00\" fill=\"#000000\">gini = 0.0</text>\n<text text-anchor=\"start\" x=\"1179\" y=\"-149.3\" font-family=\"Helvetica,sans-Serif\" font-size=\"14.00\" fill=\"#000000\">samples = 1</text>\n<text text-anchor=\"start\" x=\"1177\" y=\"-134.3\" font-family=\"Helvetica,sans-Serif\" font-size=\"14.00\" fill=\"#000000\">value = [1, 0]</text>\n<text text-anchor=\"start\" x=\"1189.5\" y=\"-119.3\" font-family=\"Helvetica,sans-Serif\" font-size=\"14.00\" fill=\"#000000\">class = 1</text>\n</g>\n<!-- 29&#45;&gt;33 -->\n<g id=\"edge33\" class=\"edge\">\n<title>29&#45;&gt;33</title>\n<path fill=\"none\" stroke=\"#000000\" d=\"M1139.8199,-222.8796C1151.6717,-211.2237 1164.5495,-198.5587 1176.3891,-186.9148\"/>\n<polygon fill=\"#000000\" stroke=\"#000000\" points=\"1178.9327,-189.3223 1183.6083,-179.8149 1174.0244,-184.3314 1178.9327,-189.3223\"/>\n</g>\n<!-- 31 -->\n<g id=\"node32\" class=\"node\">\n<title>31</title>\n<path fill=\"#399de5\" stroke=\"#000000\" d=\"M1133,-68C1133,-68 1050,-68 1050,-68 1044,-68 1038,-62 1038,-56 1038,-56 1038,-12 1038,-12 1038,-6 1044,0 1050,0 1050,0 1133,0 1133,0 1139,0 1145,-6 1145,-12 1145,-12 1145,-56 1145,-56 1145,-62 1139,-68 1133,-68\"/>\n<text text-anchor=\"start\" x=\"1062\" y=\"-52.8\" font-family=\"Helvetica,sans-Serif\" font-size=\"14.00\" fill=\"#000000\">gini = 0.0</text>\n<text text-anchor=\"start\" x=\"1047.5\" y=\"-37.8\" font-family=\"Helvetica,sans-Serif\" font-size=\"14.00\" fill=\"#000000\">samples = 38</text>\n<text text-anchor=\"start\" x=\"1046\" y=\"-22.8\" font-family=\"Helvetica,sans-Serif\" font-size=\"14.00\" fill=\"#000000\">value = [0, 38]</text>\n<text text-anchor=\"start\" x=\"1062.5\" y=\"-7.8\" font-family=\"Helvetica,sans-Serif\" font-size=\"14.00\" fill=\"#000000\">class = 0</text>\n</g>\n<!-- 30&#45;&gt;31 -->\n<g id=\"edge31\" class=\"edge\">\n<title>30&#45;&gt;31</title>\n<path fill=\"none\" stroke=\"#000000\" d=\"M1095.2658,-103.9815C1094.8158,-95.618 1094.3411,-86.7965 1093.8861,-78.3409\"/>\n<polygon fill=\"#000000\" stroke=\"#000000\" points=\"1097.3762,-78.0611 1093.3438,-68.2637 1090.3863,-78.4373 1097.3762,-78.0611\"/>\n</g>\n<!-- 32 -->\n<g id=\"node33\" class=\"node\">\n<title>32</title>\n<path fill=\"#e58139\" stroke=\"#000000\" d=\"M1250,-68C1250,-68 1175,-68 1175,-68 1169,-68 1163,-62 1163,-56 1163,-56 1163,-12 1163,-12 1163,-6 1169,0 1175,0 1175,0 1250,0 1250,0 1256,0 1262,-6 1262,-12 1262,-12 1262,-56 1262,-56 1262,-62 1256,-68 1250,-68\"/>\n<text text-anchor=\"start\" x=\"1183\" y=\"-52.8\" font-family=\"Helvetica,sans-Serif\" font-size=\"14.00\" fill=\"#000000\">gini = 0.0</text>\n<text text-anchor=\"start\" x=\"1173\" y=\"-37.8\" font-family=\"Helvetica,sans-Serif\" font-size=\"14.00\" fill=\"#000000\">samples = 1</text>\n<text text-anchor=\"start\" x=\"1171\" y=\"-22.8\" font-family=\"Helvetica,sans-Serif\" font-size=\"14.00\" fill=\"#000000\">value = [1, 0]</text>\n<text text-anchor=\"start\" x=\"1183.5\" y=\"-7.8\" font-family=\"Helvetica,sans-Serif\" font-size=\"14.00\" fill=\"#000000\">class = 1</text>\n</g>\n<!-- 30&#45;&gt;32 -->\n<g id=\"edge32\" class=\"edge\">\n<title>30&#45;&gt;32</title>\n<path fill=\"none\" stroke=\"#000000\" d=\"M1140.3218,-103.9815C1149.9905,-94.607 1160.2527,-84.6572 1169.9118,-75.2921\"/>\n<polygon fill=\"#000000\" stroke=\"#000000\" points=\"1172.4176,-77.7375 1177.1608,-68.2637 1167.5449,-72.7118 1172.4176,-77.7375\"/>\n</g>\n<!-- 37 -->\n<g id=\"node38\" class=\"node\">\n<title>37</title>\n<path fill=\"#90c8f0\" stroke=\"#000000\" d=\"M1595.5,-544C1595.5,-544 1495.5,-544 1495.5,-544 1489.5,-544 1483.5,-538 1483.5,-532 1483.5,-532 1483.5,-473 1483.5,-473 1483.5,-467 1489.5,-461 1495.5,-461 1495.5,-461 1595.5,-461 1595.5,-461 1601.5,-461 1607.5,-467 1607.5,-473 1607.5,-473 1607.5,-532 1607.5,-532 1607.5,-538 1601.5,-544 1595.5,-544\"/>\n<text text-anchor=\"start\" x=\"1503.5\" y=\"-528.8\" font-family=\"Helvetica,sans-Serif\" font-size=\"14.00\" fill=\"#000000\">truck ≤ 0.298</text>\n<text text-anchor=\"start\" x=\"1507.5\" y=\"-513.8\" font-family=\"Helvetica,sans-Serif\" font-size=\"14.00\" fill=\"#000000\">gini = 0.425</text>\n<text text-anchor=\"start\" x=\"1497.5\" y=\"-498.8\" font-family=\"Helvetica,sans-Serif\" font-size=\"14.00\" fill=\"#000000\">samples = 170</text>\n<text text-anchor=\"start\" x=\"1491.5\" y=\"-483.8\" font-family=\"Helvetica,sans-Serif\" font-size=\"14.00\" fill=\"#000000\">value = [52, 118]</text>\n<text text-anchor=\"start\" x=\"1516.5\" y=\"-468.8\" font-family=\"Helvetica,sans-Serif\" font-size=\"14.00\" fill=\"#000000\">class = 0</text>\n</g>\n<!-- 36&#45;&gt;37 -->\n<g id=\"edge37\" class=\"edge\">\n<title>36&#45;&gt;37</title>\n<path fill=\"none\" stroke=\"#000000\" d=\"M1587.7662,-579.8796C1583.0435,-571.2335 1578.0176,-562.0322 1573.141,-553.1042\"/>\n<polygon fill=\"#000000\" stroke=\"#000000\" points=\"1576.1963,-551.3964 1568.3309,-544.2981 1570.053,-554.752 1576.1963,-551.3964\"/>\n</g>\n<!-- 50 -->\n<g id=\"node51\" class=\"node\">\n<title>50</title>\n<path fill=\"#e58139\" stroke=\"#000000\" d=\"M1713,-536.5C1713,-536.5 1638,-536.5 1638,-536.5 1632,-536.5 1626,-530.5 1626,-524.5 1626,-524.5 1626,-480.5 1626,-480.5 1626,-474.5 1632,-468.5 1638,-468.5 1638,-468.5 1713,-468.5 1713,-468.5 1719,-468.5 1725,-474.5 1725,-480.5 1725,-480.5 1725,-524.5 1725,-524.5 1725,-530.5 1719,-536.5 1713,-536.5\"/>\n<text text-anchor=\"start\" x=\"1646\" y=\"-521.3\" font-family=\"Helvetica,sans-Serif\" font-size=\"14.00\" fill=\"#000000\">gini = 0.0</text>\n<text text-anchor=\"start\" x=\"1636\" y=\"-506.3\" font-family=\"Helvetica,sans-Serif\" font-size=\"14.00\" fill=\"#000000\">samples = 5</text>\n<text text-anchor=\"start\" x=\"1634\" y=\"-491.3\" font-family=\"Helvetica,sans-Serif\" font-size=\"14.00\" fill=\"#000000\">value = [5, 0]</text>\n<text text-anchor=\"start\" x=\"1646.5\" y=\"-476.3\" font-family=\"Helvetica,sans-Serif\" font-size=\"14.00\" fill=\"#000000\">class = 1</text>\n</g>\n<!-- 36&#45;&gt;50 -->\n<g id=\"edge50\" class=\"edge\">\n<title>36&#45;&gt;50</title>\n<path fill=\"none\" stroke=\"#000000\" d=\"M1633.2338,-579.8796C1639.2401,-568.8835 1645.737,-556.9893 1651.7933,-545.9015\"/>\n<polygon fill=\"#000000\" stroke=\"#000000\" points=\"1655.0345,-547.2689 1656.7565,-536.8149 1648.8912,-543.9133 1655.0345,-547.2689\"/>\n</g>\n<!-- 38 -->\n<g id=\"node39\" class=\"node\">\n<title>38</title>\n<path fill=\"#88c4ef\" stroke=\"#000000\" d=\"M1530.5,-425C1530.5,-425 1430.5,-425 1430.5,-425 1424.5,-425 1418.5,-419 1418.5,-413 1418.5,-413 1418.5,-354 1418.5,-354 1418.5,-348 1424.5,-342 1430.5,-342 1430.5,-342 1530.5,-342 1530.5,-342 1536.5,-342 1542.5,-348 1542.5,-354 1542.5,-354 1542.5,-413 1542.5,-413 1542.5,-419 1536.5,-425 1530.5,-425\"/>\n<text text-anchor=\"start\" x=\"1438\" y=\"-409.8\" font-family=\"Helvetica,sans-Serif\" font-size=\"14.00\" fill=\"#000000\">bush ≤ 0.261</text>\n<text text-anchor=\"start\" x=\"1442.5\" y=\"-394.8\" font-family=\"Helvetica,sans-Serif\" font-size=\"14.00\" fill=\"#000000\">gini = 0.407</text>\n<text text-anchor=\"start\" x=\"1432.5\" y=\"-379.8\" font-family=\"Helvetica,sans-Serif\" font-size=\"14.00\" fill=\"#000000\">samples = 162</text>\n<text text-anchor=\"start\" x=\"1426.5\" y=\"-364.8\" font-family=\"Helvetica,sans-Serif\" font-size=\"14.00\" fill=\"#000000\">value = [46, 116]</text>\n<text text-anchor=\"start\" x=\"1451.5\" y=\"-349.8\" font-family=\"Helvetica,sans-Serif\" font-size=\"14.00\" fill=\"#000000\">class = 0</text>\n</g>\n<!-- 37&#45;&gt;38 -->\n<g id=\"edge38\" class=\"edge\">\n<title>37&#45;&gt;38</title>\n<path fill=\"none\" stroke=\"#000000\" d=\"M1522.7662,-460.8796C1518.0435,-452.2335 1513.0176,-443.0322 1508.141,-434.1042\"/>\n<polygon fill=\"#000000\" stroke=\"#000000\" points=\"1511.1963,-432.3964 1503.3309,-425.2981 1505.053,-435.752 1511.1963,-432.3964\"/>\n</g>\n<!-- 45 -->\n<g id=\"node46\" class=\"node\">\n<title>45</title>\n<path fill=\"#eeab7b\" stroke=\"#000000\" d=\"M1648,-425C1648,-425 1573,-425 1573,-425 1567,-425 1561,-419 1561,-413 1561,-413 1561,-354 1561,-354 1561,-348 1567,-342 1573,-342 1573,-342 1648,-342 1648,-342 1654,-342 1660,-348 1660,-354 1660,-354 1660,-413 1660,-413 1660,-419 1654,-425 1648,-425\"/>\n<text text-anchor=\"start\" x=\"1576.5\" y=\"-409.8\" font-family=\"Helvetica,sans-Serif\" font-size=\"14.00\" fill=\"#000000\">rgj ≤ 0.254</text>\n<text text-anchor=\"start\" x=\"1572.5\" y=\"-394.8\" font-family=\"Helvetica,sans-Serif\" font-size=\"14.00\" fill=\"#000000\">gini = 0.375</text>\n<text text-anchor=\"start\" x=\"1571\" y=\"-379.8\" font-family=\"Helvetica,sans-Serif\" font-size=\"14.00\" fill=\"#000000\">samples = 8</text>\n<text text-anchor=\"start\" x=\"1569\" y=\"-364.8\" font-family=\"Helvetica,sans-Serif\" font-size=\"14.00\" fill=\"#000000\">value = [6, 2]</text>\n<text text-anchor=\"start\" x=\"1581.5\" y=\"-349.8\" font-family=\"Helvetica,sans-Serif\" font-size=\"14.00\" fill=\"#000000\">class = 1</text>\n</g>\n<!-- 37&#45;&gt;45 -->\n<g id=\"edge45\" class=\"edge\">\n<title>37&#45;&gt;45</title>\n<path fill=\"none\" stroke=\"#000000\" d=\"M1568.2338,-460.8796C1572.9565,-452.2335 1577.9824,-443.0322 1582.859,-434.1042\"/>\n<polygon fill=\"#000000\" stroke=\"#000000\" points=\"1585.947,-435.752 1587.6691,-425.2981 1579.8037,-432.3964 1585.947,-435.752\"/>\n</g>\n<!-- 39 -->\n<g id=\"node40\" class=\"node\">\n<title>39</title>\n<path fill=\"#91c8f0\" stroke=\"#000000\" d=\"M1398.5,-306C1398.5,-306 1298.5,-306 1298.5,-306 1292.5,-306 1286.5,-300 1286.5,-294 1286.5,-294 1286.5,-235 1286.5,-235 1286.5,-229 1292.5,-223 1298.5,-223 1298.5,-223 1398.5,-223 1398.5,-223 1404.5,-223 1410.5,-229 1410.5,-235 1410.5,-235 1410.5,-294 1410.5,-294 1410.5,-300 1404.5,-306 1398.5,-306\"/>\n<text text-anchor=\"start\" x=\"1312.5\" y=\"-290.8\" font-family=\"Helvetica,sans-Serif\" font-size=\"14.00\" fill=\"#000000\">big ≤ 0.129</text>\n<text text-anchor=\"start\" x=\"1310.5\" y=\"-275.8\" font-family=\"Helvetica,sans-Serif\" font-size=\"14.00\" fill=\"#000000\">gini = 0.425</text>\n<text text-anchor=\"start\" x=\"1300.5\" y=\"-260.8\" font-family=\"Helvetica,sans-Serif\" font-size=\"14.00\" fill=\"#000000\">samples = 150</text>\n<text text-anchor=\"start\" x=\"1294.5\" y=\"-245.8\" font-family=\"Helvetica,sans-Serif\" font-size=\"14.00\" fill=\"#000000\">value = [46, 104]</text>\n<text text-anchor=\"start\" x=\"1319.5\" y=\"-230.8\" font-family=\"Helvetica,sans-Serif\" font-size=\"14.00\" fill=\"#000000\">class = 0</text>\n</g>\n<!-- 38&#45;&gt;39 -->\n<g id=\"edge39\" class=\"edge\">\n<title>38&#45;&gt;39</title>\n<path fill=\"none\" stroke=\"#000000\" d=\"M1434.3328,-341.8796C1424.0429,-332.6031 1413.044,-322.6874 1402.4713,-313.1559\"/>\n<polygon fill=\"#000000\" stroke=\"#000000\" points=\"1404.6352,-310.3944 1394.8642,-306.2981 1399.9481,-315.5935 1404.6352,-310.3944\"/>\n</g>\n<!-- 44 -->\n<g id=\"node45\" class=\"node\">\n<title>44</title>\n<path fill=\"#399de5\" stroke=\"#000000\" d=\"M1524,-298.5C1524,-298.5 1441,-298.5 1441,-298.5 1435,-298.5 1429,-292.5 1429,-286.5 1429,-286.5 1429,-242.5 1429,-242.5 1429,-236.5 1435,-230.5 1441,-230.5 1441,-230.5 1524,-230.5 1524,-230.5 1530,-230.5 1536,-236.5 1536,-242.5 1536,-242.5 1536,-286.5 1536,-286.5 1536,-292.5 1530,-298.5 1524,-298.5\"/>\n<text text-anchor=\"start\" x=\"1453\" y=\"-283.3\" font-family=\"Helvetica,sans-Serif\" font-size=\"14.00\" fill=\"#000000\">gini = 0.0</text>\n<text text-anchor=\"start\" x=\"1438.5\" y=\"-268.3\" font-family=\"Helvetica,sans-Serif\" font-size=\"14.00\" fill=\"#000000\">samples = 12</text>\n<text text-anchor=\"start\" x=\"1437\" y=\"-253.3\" font-family=\"Helvetica,sans-Serif\" font-size=\"14.00\" fill=\"#000000\">value = [0, 12]</text>\n<text text-anchor=\"start\" x=\"1453.5\" y=\"-238.3\" font-family=\"Helvetica,sans-Serif\" font-size=\"14.00\" fill=\"#000000\">class = 0</text>\n</g>\n<!-- 38&#45;&gt;44 -->\n<g id=\"edge44\" class=\"edge\">\n<title>38&#45;&gt;44</title>\n<path fill=\"none\" stroke=\"#000000\" d=\"M1481.1995,-341.8796C1481.3788,-331.2134 1481.5722,-319.7021 1481.7538,-308.9015\"/>\n<polygon fill=\"#000000\" stroke=\"#000000\" points=\"1485.2546,-308.8724 1481.9233,-298.8149 1478.2556,-308.7547 1485.2546,-308.8724\"/>\n</g>\n<!-- 40 -->\n<g id=\"node41\" class=\"node\">\n<title>40</title>\n<path fill=\"#8dc6f0\" stroke=\"#000000\" d=\"M1398.5,-187C1398.5,-187 1298.5,-187 1298.5,-187 1292.5,-187 1286.5,-181 1286.5,-175 1286.5,-175 1286.5,-116 1286.5,-116 1286.5,-110 1292.5,-104 1298.5,-104 1298.5,-104 1398.5,-104 1398.5,-104 1404.5,-104 1410.5,-110 1410.5,-116 1410.5,-116 1410.5,-175 1410.5,-175 1410.5,-181 1404.5,-187 1398.5,-187\"/>\n<text text-anchor=\"start\" x=\"1306.5\" y=\"-171.8\" font-family=\"Helvetica,sans-Serif\" font-size=\"14.00\" fill=\"#000000\">cook ≤ 0.164</text>\n<text text-anchor=\"start\" x=\"1310.5\" y=\"-156.8\" font-family=\"Helvetica,sans-Serif\" font-size=\"14.00\" fill=\"#000000\">gini = 0.418</text>\n<text text-anchor=\"start\" x=\"1300.5\" y=\"-141.8\" font-family=\"Helvetica,sans-Serif\" font-size=\"14.00\" fill=\"#000000\">samples = 148</text>\n<text text-anchor=\"start\" x=\"1294.5\" y=\"-126.8\" font-family=\"Helvetica,sans-Serif\" font-size=\"14.00\" fill=\"#000000\">value = [44, 104]</text>\n<text text-anchor=\"start\" x=\"1319.5\" y=\"-111.8\" font-family=\"Helvetica,sans-Serif\" font-size=\"14.00\" fill=\"#000000\">class = 0</text>\n</g>\n<!-- 39&#45;&gt;40 -->\n<g id=\"edge40\" class=\"edge\">\n<title>39&#45;&gt;40</title>\n<path fill=\"none\" stroke=\"#000000\" d=\"M1348.5,-222.8796C1348.5,-214.6838 1348.5,-205.9891 1348.5,-197.5013\"/>\n<polygon fill=\"#000000\" stroke=\"#000000\" points=\"1352.0001,-197.298 1348.5,-187.2981 1345.0001,-197.2981 1352.0001,-197.298\"/>\n</g>\n<!-- 43 -->\n<g id=\"node44\" class=\"node\">\n<title>43</title>\n<path fill=\"#e58139\" stroke=\"#000000\" d=\"M1516,-179.5C1516,-179.5 1441,-179.5 1441,-179.5 1435,-179.5 1429,-173.5 1429,-167.5 1429,-167.5 1429,-123.5 1429,-123.5 1429,-117.5 1435,-111.5 1441,-111.5 1441,-111.5 1516,-111.5 1516,-111.5 1522,-111.5 1528,-117.5 1528,-123.5 1528,-123.5 1528,-167.5 1528,-167.5 1528,-173.5 1522,-179.5 1516,-179.5\"/>\n<text text-anchor=\"start\" x=\"1449\" y=\"-164.3\" font-family=\"Helvetica,sans-Serif\" font-size=\"14.00\" fill=\"#000000\">gini = 0.0</text>\n<text text-anchor=\"start\" x=\"1439\" y=\"-149.3\" font-family=\"Helvetica,sans-Serif\" font-size=\"14.00\" fill=\"#000000\">samples = 2</text>\n<text text-anchor=\"start\" x=\"1437\" y=\"-134.3\" font-family=\"Helvetica,sans-Serif\" font-size=\"14.00\" fill=\"#000000\">value = [2, 0]</text>\n<text text-anchor=\"start\" x=\"1449.5\" y=\"-119.3\" font-family=\"Helvetica,sans-Serif\" font-size=\"14.00\" fill=\"#000000\">class = 1</text>\n</g>\n<!-- 39&#45;&gt;43 -->\n<g id=\"edge43\" class=\"edge\">\n<title>39&#45;&gt;43</title>\n<path fill=\"none\" stroke=\"#000000\" d=\"M1393.9677,-222.8796C1406.8211,-211.1138 1420.7979,-198.3197 1433.6166,-186.5855\"/>\n<polygon fill=\"#000000\" stroke=\"#000000\" points=\"1436.0001,-189.1488 1441.0131,-179.8149 1431.2736,-183.9854 1436.0001,-189.1488\"/>\n</g>\n<!-- 41 -->\n<g id=\"node42\" class=\"node\">\n<title>41</title>\n<path fill=\"#89c5f0\" stroke=\"#000000\" d=\"M1396.5,-68C1396.5,-68 1296.5,-68 1296.5,-68 1290.5,-68 1284.5,-62 1284.5,-56 1284.5,-56 1284.5,-12 1284.5,-12 1284.5,-6 1290.5,0 1296.5,0 1296.5,0 1396.5,0 1396.5,0 1402.5,0 1408.5,-6 1408.5,-12 1408.5,-12 1408.5,-56 1408.5,-56 1408.5,-62 1402.5,-68 1396.5,-68\"/>\n<text text-anchor=\"start\" x=\"1313\" y=\"-52.8\" font-family=\"Helvetica,sans-Serif\" font-size=\"14.00\" fill=\"#000000\">gini = 0.41</text>\n<text text-anchor=\"start\" x=\"1298.5\" y=\"-37.8\" font-family=\"Helvetica,sans-Serif\" font-size=\"14.00\" fill=\"#000000\">samples = 146</text>\n<text text-anchor=\"start\" x=\"1292.5\" y=\"-22.8\" font-family=\"Helvetica,sans-Serif\" font-size=\"14.00\" fill=\"#000000\">value = [42, 104]</text>\n<text text-anchor=\"start\" x=\"1317.5\" y=\"-7.8\" font-family=\"Helvetica,sans-Serif\" font-size=\"14.00\" fill=\"#000000\">class = 0</text>\n</g>\n<!-- 40&#45;&gt;41 -->\n<g id=\"edge41\" class=\"edge\">\n<title>40&#45;&gt;41</title>\n<path fill=\"none\" stroke=\"#000000\" d=\"M1347.7553,-103.9815C1347.6053,-95.618 1347.447,-86.7965 1347.2954,-78.3409\"/>\n<polygon fill=\"#000000\" stroke=\"#000000\" points=\"1350.7935,-78.1993 1347.1146,-68.2637 1343.7946,-78.3249 1350.7935,-78.1993\"/>\n</g>\n<!-- 42 -->\n<g id=\"node43\" class=\"node\">\n<title>42</title>\n<path fill=\"#e58139\" stroke=\"#000000\" d=\"M1514,-68C1514,-68 1439,-68 1439,-68 1433,-68 1427,-62 1427,-56 1427,-56 1427,-12 1427,-12 1427,-6 1433,0 1439,0 1439,0 1514,0 1514,0 1520,0 1526,-6 1526,-12 1526,-12 1526,-56 1526,-56 1526,-62 1520,-68 1514,-68\"/>\n<text text-anchor=\"start\" x=\"1447\" y=\"-52.8\" font-family=\"Helvetica,sans-Serif\" font-size=\"14.00\" fill=\"#000000\">gini = 0.0</text>\n<text text-anchor=\"start\" x=\"1437\" y=\"-37.8\" font-family=\"Helvetica,sans-Serif\" font-size=\"14.00\" fill=\"#000000\">samples = 2</text>\n<text text-anchor=\"start\" x=\"1435\" y=\"-22.8\" font-family=\"Helvetica,sans-Serif\" font-size=\"14.00\" fill=\"#000000\">value = [2, 0]</text>\n<text text-anchor=\"start\" x=\"1447.5\" y=\"-7.8\" font-family=\"Helvetica,sans-Serif\" font-size=\"14.00\" fill=\"#000000\">class = 1</text>\n</g>\n<!-- 40&#45;&gt;42 -->\n<g id=\"edge42\" class=\"edge\">\n<title>40&#45;&gt;42</title>\n<path fill=\"none\" stroke=\"#000000\" d=\"M1396.1625,-103.9815C1407.0297,-94.5151 1418.5705,-84.462 1429.4135,-75.0168\"/>\n<polygon fill=\"#000000\" stroke=\"#000000\" points=\"1431.9245,-77.4712 1437.1659,-68.2637 1427.3266,-72.1929 1431.9245,-77.4712\"/>\n</g>\n<!-- 46 -->\n<g id=\"node47\" class=\"node\">\n<title>46</title>\n<path fill=\"#e9965a\" stroke=\"#000000\" d=\"M1650.5,-306C1650.5,-306 1566.5,-306 1566.5,-306 1560.5,-306 1554.5,-300 1554.5,-294 1554.5,-294 1554.5,-235 1554.5,-235 1554.5,-229 1560.5,-223 1566.5,-223 1566.5,-223 1650.5,-223 1650.5,-223 1656.5,-223 1662.5,-229 1662.5,-235 1662.5,-235 1662.5,-294 1662.5,-294 1662.5,-300 1656.5,-306 1650.5,-306\"/>\n<text text-anchor=\"start\" x=\"1562.5\" y=\"-290.8\" font-family=\"Helvetica,sans-Serif\" font-size=\"14.00\" fill=\"#000000\">canyon ≤ 0.25</text>\n<text text-anchor=\"start\" x=\"1570.5\" y=\"-275.8\" font-family=\"Helvetica,sans-Serif\" font-size=\"14.00\" fill=\"#000000\">gini = 0.245</text>\n<text text-anchor=\"start\" x=\"1569\" y=\"-260.8\" font-family=\"Helvetica,sans-Serif\" font-size=\"14.00\" fill=\"#000000\">samples = 7</text>\n<text text-anchor=\"start\" x=\"1567\" y=\"-245.8\" font-family=\"Helvetica,sans-Serif\" font-size=\"14.00\" fill=\"#000000\">value = [6, 1]</text>\n<text text-anchor=\"start\" x=\"1579.5\" y=\"-230.8\" font-family=\"Helvetica,sans-Serif\" font-size=\"14.00\" fill=\"#000000\">class = 1</text>\n</g>\n<!-- 45&#45;&gt;46 -->\n<g id=\"edge46\" class=\"edge\">\n<title>45&#45;&gt;46</title>\n<path fill=\"none\" stroke=\"#000000\" d=\"M1609.8005,-341.8796C1609.6628,-333.6838 1609.5166,-324.9891 1609.374,-316.5013\"/>\n<polygon fill=\"#000000\" stroke=\"#000000\" points=\"1612.8701,-316.2378 1609.2025,-306.2981 1605.8711,-316.3555 1612.8701,-316.2378\"/>\n</g>\n<!-- 49 -->\n<g id=\"node50\" class=\"node\">\n<title>49</title>\n<path fill=\"#399de5\" stroke=\"#000000\" d=\"M1768,-298.5C1768,-298.5 1693,-298.5 1693,-298.5 1687,-298.5 1681,-292.5 1681,-286.5 1681,-286.5 1681,-242.5 1681,-242.5 1681,-236.5 1687,-230.5 1693,-230.5 1693,-230.5 1768,-230.5 1768,-230.5 1774,-230.5 1780,-236.5 1780,-242.5 1780,-242.5 1780,-286.5 1780,-286.5 1780,-292.5 1774,-298.5 1768,-298.5\"/>\n<text text-anchor=\"start\" x=\"1701\" y=\"-283.3\" font-family=\"Helvetica,sans-Serif\" font-size=\"14.00\" fill=\"#000000\">gini = 0.0</text>\n<text text-anchor=\"start\" x=\"1691\" y=\"-268.3\" font-family=\"Helvetica,sans-Serif\" font-size=\"14.00\" fill=\"#000000\">samples = 1</text>\n<text text-anchor=\"start\" x=\"1689\" y=\"-253.3\" font-family=\"Helvetica,sans-Serif\" font-size=\"14.00\" fill=\"#000000\">value = [0, 1]</text>\n<text text-anchor=\"start\" x=\"1701.5\" y=\"-238.3\" font-family=\"Helvetica,sans-Serif\" font-size=\"14.00\" fill=\"#000000\">class = 0</text>\n</g>\n<!-- 45&#45;&gt;49 -->\n<g id=\"edge49\" class=\"edge\">\n<title>45&#45;&gt;49</title>\n<path fill=\"none\" stroke=\"#000000\" d=\"M1652.4702,-341.8796C1664.224,-330.2237 1676.9954,-317.5587 1688.7372,-305.9148\"/>\n<polygon fill=\"#000000\" stroke=\"#000000\" points=\"1691.2606,-308.3416 1695.8967,-298.8149 1686.3316,-303.3712 1691.2606,-308.3416\"/>\n</g>\n<!-- 47 -->\n<g id=\"node48\" class=\"node\">\n<title>47</title>\n<path fill=\"#e58139\" stroke=\"#000000\" d=\"M1638,-179.5C1638,-179.5 1563,-179.5 1563,-179.5 1557,-179.5 1551,-173.5 1551,-167.5 1551,-167.5 1551,-123.5 1551,-123.5 1551,-117.5 1557,-111.5 1563,-111.5 1563,-111.5 1638,-111.5 1638,-111.5 1644,-111.5 1650,-117.5 1650,-123.5 1650,-123.5 1650,-167.5 1650,-167.5 1650,-173.5 1644,-179.5 1638,-179.5\"/>\n<text text-anchor=\"start\" x=\"1571\" y=\"-164.3\" font-family=\"Helvetica,sans-Serif\" font-size=\"14.00\" fill=\"#000000\">gini = 0.0</text>\n<text text-anchor=\"start\" x=\"1561\" y=\"-149.3\" font-family=\"Helvetica,sans-Serif\" font-size=\"14.00\" fill=\"#000000\">samples = 6</text>\n<text text-anchor=\"start\" x=\"1559\" y=\"-134.3\" font-family=\"Helvetica,sans-Serif\" font-size=\"14.00\" fill=\"#000000\">value = [6, 0]</text>\n<text text-anchor=\"start\" x=\"1571.5\" y=\"-119.3\" font-family=\"Helvetica,sans-Serif\" font-size=\"14.00\" fill=\"#000000\">class = 1</text>\n</g>\n<!-- 46&#45;&gt;47 -->\n<g id=\"edge47\" class=\"edge\">\n<title>46&#45;&gt;47</title>\n<path fill=\"none\" stroke=\"#000000\" d=\"M1605.702,-222.8796C1604.9849,-212.2134 1604.2111,-200.7021 1603.485,-189.9015\"/>\n<polygon fill=\"#000000\" stroke=\"#000000\" points=\"1606.9699,-189.5576 1602.8069,-179.8149 1599.9856,-190.0272 1606.9699,-189.5576\"/>\n</g>\n<!-- 48 -->\n<g id=\"node49\" class=\"node\">\n<title>48</title>\n<path fill=\"#399de5\" stroke=\"#000000\" d=\"M1755,-179.5C1755,-179.5 1680,-179.5 1680,-179.5 1674,-179.5 1668,-173.5 1668,-167.5 1668,-167.5 1668,-123.5 1668,-123.5 1668,-117.5 1674,-111.5 1680,-111.5 1680,-111.5 1755,-111.5 1755,-111.5 1761,-111.5 1767,-117.5 1767,-123.5 1767,-123.5 1767,-167.5 1767,-167.5 1767,-173.5 1761,-179.5 1755,-179.5\"/>\n<text text-anchor=\"start\" x=\"1688\" y=\"-164.3\" font-family=\"Helvetica,sans-Serif\" font-size=\"14.00\" fill=\"#000000\">gini = 0.0</text>\n<text text-anchor=\"start\" x=\"1678\" y=\"-149.3\" font-family=\"Helvetica,sans-Serif\" font-size=\"14.00\" fill=\"#000000\">samples = 1</text>\n<text text-anchor=\"start\" x=\"1676\" y=\"-134.3\" font-family=\"Helvetica,sans-Serif\" font-size=\"14.00\" fill=\"#000000\">value = [0, 1]</text>\n<text text-anchor=\"start\" x=\"1688.5\" y=\"-119.3\" font-family=\"Helvetica,sans-Serif\" font-size=\"14.00\" fill=\"#000000\">class = 0</text>\n</g>\n<!-- 46&#45;&gt;48 -->\n<g id=\"edge48\" class=\"edge\">\n<title>46&#45;&gt;48</title>\n<path fill=\"none\" stroke=\"#000000\" d=\"M1646.6229,-222.8796C1657.1986,-211.3337 1668.6812,-198.7976 1679.2633,-187.2446\"/>\n<polygon fill=\"#000000\" stroke=\"#000000\" points=\"1681.8951,-189.5531 1686.0687,-179.8149 1676.7333,-184.825 1681.8951,-189.5531\"/>\n</g>\n<!-- 53 -->\n<g id=\"node54\" class=\"node\">\n<title>53</title>\n<path fill=\"#52aae8\" stroke=\"#000000\" d=\"M2216.5,-782C2216.5,-782 2124.5,-782 2124.5,-782 2118.5,-782 2112.5,-776 2112.5,-770 2112.5,-770 2112.5,-711 2112.5,-711 2112.5,-705 2118.5,-699 2124.5,-699 2124.5,-699 2216.5,-699 2216.5,-699 2222.5,-699 2228.5,-705 2228.5,-711 2228.5,-711 2228.5,-770 2228.5,-770 2228.5,-776 2222.5,-782 2216.5,-782\"/>\n<text text-anchor=\"start\" x=\"2126.5\" y=\"-766.8\" font-family=\"Helvetica,sans-Serif\" font-size=\"14.00\" fill=\"#000000\">safari ≤ 0.156</text>\n<text text-anchor=\"start\" x=\"2132.5\" y=\"-751.8\" font-family=\"Helvetica,sans-Serif\" font-size=\"14.00\" fill=\"#000000\">gini = 0.201</text>\n<text text-anchor=\"start\" x=\"2126.5\" y=\"-736.8\" font-family=\"Helvetica,sans-Serif\" font-size=\"14.00\" fill=\"#000000\">samples = 88</text>\n<text text-anchor=\"start\" x=\"2120.5\" y=\"-721.8\" font-family=\"Helvetica,sans-Serif\" font-size=\"14.00\" fill=\"#000000\">value = [10, 78]</text>\n<text text-anchor=\"start\" x=\"2141.5\" y=\"-706.8\" font-family=\"Helvetica,sans-Serif\" font-size=\"14.00\" fill=\"#000000\">class = 0</text>\n</g>\n<!-- 52&#45;&gt;53 -->\n<g id=\"edge53\" class=\"edge\">\n<title>52&#45;&gt;53</title>\n<path fill=\"none\" stroke=\"#000000\" d=\"M2227.0716,-817.8796C2220.6189,-809.0534 2213.743,-799.6485 2207.0887,-790.5466\"/>\n<polygon fill=\"#000000\" stroke=\"#000000\" points=\"2209.7856,-788.3051 2201.0583,-782.2981 2204.1347,-792.4364 2209.7856,-788.3051\"/>\n</g>\n<!-- 68 -->\n<g id=\"node69\" class=\"node\">\n<title>68</title>\n<path fill=\"#e58139\" stroke=\"#000000\" d=\"M2334,-774.5C2334,-774.5 2259,-774.5 2259,-774.5 2253,-774.5 2247,-768.5 2247,-762.5 2247,-762.5 2247,-718.5 2247,-718.5 2247,-712.5 2253,-706.5 2259,-706.5 2259,-706.5 2334,-706.5 2334,-706.5 2340,-706.5 2346,-712.5 2346,-718.5 2346,-718.5 2346,-762.5 2346,-762.5 2346,-768.5 2340,-774.5 2334,-774.5\"/>\n<text text-anchor=\"start\" x=\"2267\" y=\"-759.3\" font-family=\"Helvetica,sans-Serif\" font-size=\"14.00\" fill=\"#000000\">gini = 0.0</text>\n<text text-anchor=\"start\" x=\"2257\" y=\"-744.3\" font-family=\"Helvetica,sans-Serif\" font-size=\"14.00\" fill=\"#000000\">samples = 3</text>\n<text text-anchor=\"start\" x=\"2255\" y=\"-729.3\" font-family=\"Helvetica,sans-Serif\" font-size=\"14.00\" fill=\"#000000\">value = [3, 0]</text>\n<text text-anchor=\"start\" x=\"2267.5\" y=\"-714.3\" font-family=\"Helvetica,sans-Serif\" font-size=\"14.00\" fill=\"#000000\">class = 1</text>\n</g>\n<!-- 52&#45;&gt;68 -->\n<g id=\"edge68\" class=\"edge\">\n<title>52&#45;&gt;68</title>\n<path fill=\"none\" stroke=\"#000000\" d=\"M2271.1403,-817.8796C2274.672,-807.1034 2278.4864,-795.4647 2282.0576,-784.5677\"/>\n<polygon fill=\"#000000\" stroke=\"#000000\" points=\"2285.4655,-785.4077 2285.2539,-774.8149 2278.8136,-783.2276 2285.4655,-785.4077\"/>\n</g>\n<!-- 54 -->\n<g id=\"node55\" class=\"node\">\n<title>54</title>\n<path fill=\"#4da7e8\" stroke=\"#000000\" d=\"M2110,-663C2110,-663 2027,-663 2027,-663 2021,-663 2015,-657 2015,-651 2015,-651 2015,-592 2015,-592 2015,-586 2021,-580 2027,-580 2027,-580 2110,-580 2110,-580 2116,-580 2122,-586 2122,-592 2122,-592 2122,-651 2122,-651 2122,-657 2116,-663 2110,-663\"/>\n<text text-anchor=\"start\" x=\"2032.5\" y=\"-647.8\" font-family=\"Helvetica,sans-Serif\" font-size=\"14.00\" fill=\"#000000\">die ≤ 0.124</text>\n<text text-anchor=\"start\" x=\"2030.5\" y=\"-632.8\" font-family=\"Helvetica,sans-Serif\" font-size=\"14.00\" fill=\"#000000\">gini = 0.169</text>\n<text text-anchor=\"start\" x=\"2024.5\" y=\"-617.8\" font-family=\"Helvetica,sans-Serif\" font-size=\"14.00\" fill=\"#000000\">samples = 86</text>\n<text text-anchor=\"start\" x=\"2023\" y=\"-602.8\" font-family=\"Helvetica,sans-Serif\" font-size=\"14.00\" fill=\"#000000\">value = [8, 78]</text>\n<text text-anchor=\"start\" x=\"2039.5\" y=\"-587.8\" font-family=\"Helvetica,sans-Serif\" font-size=\"14.00\" fill=\"#000000\">class = 0</text>\n</g>\n<!-- 53&#45;&gt;54 -->\n<g id=\"edge54\" class=\"edge\">\n<title>53&#45;&gt;54</title>\n<path fill=\"none\" stroke=\"#000000\" d=\"M2134.8253,-698.8796C2127.1057,-689.8733 2118.8695,-680.2644 2110.9197,-670.9897\"/>\n<polygon fill=\"#000000\" stroke=\"#000000\" points=\"2113.4923,-668.6129 2104.3269,-663.2981 2108.1775,-673.1684 2113.4923,-668.6129\"/>\n</g>\n<!-- 67 -->\n<g id=\"node68\" class=\"node\">\n<title>67</title>\n<path fill=\"#e58139\" stroke=\"#000000\" d=\"M2227,-655.5C2227,-655.5 2152,-655.5 2152,-655.5 2146,-655.5 2140,-649.5 2140,-643.5 2140,-643.5 2140,-599.5 2140,-599.5 2140,-593.5 2146,-587.5 2152,-587.5 2152,-587.5 2227,-587.5 2227,-587.5 2233,-587.5 2239,-593.5 2239,-599.5 2239,-599.5 2239,-643.5 2239,-643.5 2239,-649.5 2233,-655.5 2227,-655.5\"/>\n<text text-anchor=\"start\" x=\"2160\" y=\"-640.3\" font-family=\"Helvetica,sans-Serif\" font-size=\"14.00\" fill=\"#000000\">gini = 0.0</text>\n<text text-anchor=\"start\" x=\"2150\" y=\"-625.3\" font-family=\"Helvetica,sans-Serif\" font-size=\"14.00\" fill=\"#000000\">samples = 2</text>\n<text text-anchor=\"start\" x=\"2148\" y=\"-610.3\" font-family=\"Helvetica,sans-Serif\" font-size=\"14.00\" fill=\"#000000\">value = [2, 0]</text>\n<text text-anchor=\"start\" x=\"2160.5\" y=\"-595.3\" font-family=\"Helvetica,sans-Serif\" font-size=\"14.00\" fill=\"#000000\">class = 1</text>\n</g>\n<!-- 53&#45;&gt;67 -->\n<g id=\"edge67\" class=\"edge\">\n<title>53&#45;&gt;67</title>\n<path fill=\"none\" stroke=\"#000000\" d=\"M2177.1453,-698.8796C2178.8483,-688.2134 2180.6862,-676.7021 2182.4107,-665.9015\"/>\n<polygon fill=\"#000000\" stroke=\"#000000\" points=\"2185.9006,-666.2417 2184.0211,-655.8149 2178.9882,-665.138 2185.9006,-666.2417\"/>\n</g>\n<!-- 55 -->\n<g id=\"node56\" class=\"node\">\n<title>55</title>\n<path fill=\"#48a5e7\" stroke=\"#000000\" d=\"M2008.5,-544C2008.5,-544 1920.5,-544 1920.5,-544 1914.5,-544 1908.5,-538 1908.5,-532 1908.5,-532 1908.5,-473 1908.5,-473 1908.5,-467 1914.5,-461 1920.5,-461 1920.5,-461 2008.5,-461 2008.5,-461 2014.5,-461 2020.5,-467 2020.5,-473 2020.5,-473 2020.5,-532 2020.5,-532 2020.5,-538 2014.5,-544 2008.5,-544\"/>\n<text text-anchor=\"start\" x=\"1916.5\" y=\"-528.8\" font-family=\"Helvetica,sans-Serif\" font-size=\"14.00\" fill=\"#000000\">bloody ≤ 0.137</text>\n<text text-anchor=\"start\" x=\"1926.5\" y=\"-513.8\" font-family=\"Helvetica,sans-Serif\" font-size=\"14.00\" fill=\"#000000\">gini = 0.134</text>\n<text text-anchor=\"start\" x=\"1920.5\" y=\"-498.8\" font-family=\"Helvetica,sans-Serif\" font-size=\"14.00\" fill=\"#000000\">samples = 83</text>\n<text text-anchor=\"start\" x=\"1919\" y=\"-483.8\" font-family=\"Helvetica,sans-Serif\" font-size=\"14.00\" fill=\"#000000\">value = [6, 77]</text>\n<text text-anchor=\"start\" x=\"1935.5\" y=\"-468.8\" font-family=\"Helvetica,sans-Serif\" font-size=\"14.00\" fill=\"#000000\">class = 0</text>\n</g>\n<!-- 54&#45;&gt;55 -->\n<g id=\"edge55\" class=\"edge\">\n<title>54&#45;&gt;55</title>\n<path fill=\"none\" stroke=\"#000000\" d=\"M2032.1258,-579.8796C2024.2548,-570.8733 2015.8571,-561.2644 2007.7515,-551.9897\"/>\n<polygon fill=\"#000000\" stroke=\"#000000\" points=\"2010.2454,-549.5246 2001.0294,-544.2981 2004.9746,-554.131 2010.2454,-549.5246\"/>\n</g>\n<!-- 64 -->\n<g id=\"node65\" class=\"node\">\n<title>64</title>\n<path fill=\"#f2c09c\" stroke=\"#000000\" d=\"M2158,-544C2158,-544 2051,-544 2051,-544 2045,-544 2039,-538 2039,-532 2039,-532 2039,-473 2039,-473 2039,-467 2045,-461 2051,-461 2051,-461 2158,-461 2158,-461 2164,-461 2170,-467 2170,-473 2170,-473 2170,-532 2170,-532 2170,-538 2164,-544 2158,-544\"/>\n<text text-anchor=\"start\" x=\"2047\" y=\"-528.8\" font-family=\"Helvetica,sans-Serif\" font-size=\"14.00\" fill=\"#000000\">explosion ≤ 0.167</text>\n<text text-anchor=\"start\" x=\"2066.5\" y=\"-513.8\" font-family=\"Helvetica,sans-Serif\" font-size=\"14.00\" fill=\"#000000\">gini = 0.444</text>\n<text text-anchor=\"start\" x=\"2065\" y=\"-498.8\" font-family=\"Helvetica,sans-Serif\" font-size=\"14.00\" fill=\"#000000\">samples = 3</text>\n<text text-anchor=\"start\" x=\"2063\" y=\"-483.8\" font-family=\"Helvetica,sans-Serif\" font-size=\"14.00\" fill=\"#000000\">value = [2, 1]</text>\n<text text-anchor=\"start\" x=\"2075.5\" y=\"-468.8\" font-family=\"Helvetica,sans-Serif\" font-size=\"14.00\" fill=\"#000000\">class = 1</text>\n</g>\n<!-- 54&#45;&gt;64 -->\n<g id=\"edge64\" class=\"edge\">\n<title>54&#45;&gt;64</title>\n<path fill=\"none\" stroke=\"#000000\" d=\"M2081.0911,-579.8796C2083.6249,-571.5037 2086.3165,-562.6067 2088.9377,-553.942\"/>\n<polygon fill=\"#000000\" stroke=\"#000000\" points=\"2092.3096,-554.8832 2091.8552,-544.2981 2085.6095,-552.8562 2092.3096,-554.8832\"/>\n</g>\n<!-- 56 -->\n<g id=\"node57\" class=\"node\">\n<title>56</title>\n<path fill=\"#46a3e7\" stroke=\"#000000\" d=\"M1896,-425C1896,-425 1813,-425 1813,-425 1807,-425 1801,-419 1801,-413 1801,-413 1801,-354 1801,-354 1801,-348 1807,-342 1813,-342 1813,-342 1896,-342 1896,-342 1902,-342 1908,-348 1908,-354 1908,-354 1908,-413 1908,-413 1908,-419 1902,-425 1896,-425\"/>\n<text text-anchor=\"start\" x=\"1814\" y=\"-409.8\" font-family=\"Helvetica,sans-Serif\" font-size=\"14.00\" fill=\"#000000\">hate ≤ 0.149</text>\n<text text-anchor=\"start\" x=\"1816.5\" y=\"-394.8\" font-family=\"Helvetica,sans-Serif\" font-size=\"14.00\" fill=\"#000000\">gini = 0.115</text>\n<text text-anchor=\"start\" x=\"1810.5\" y=\"-379.8\" font-family=\"Helvetica,sans-Serif\" font-size=\"14.00\" fill=\"#000000\">samples = 82</text>\n<text text-anchor=\"start\" x=\"1809\" y=\"-364.8\" font-family=\"Helvetica,sans-Serif\" font-size=\"14.00\" fill=\"#000000\">value = [5, 77]</text>\n<text text-anchor=\"start\" x=\"1825.5\" y=\"-349.8\" font-family=\"Helvetica,sans-Serif\" font-size=\"14.00\" fill=\"#000000\">class = 0</text>\n</g>\n<!-- 55&#45;&gt;56 -->\n<g id=\"edge56\" class=\"edge\">\n<title>55&#45;&gt;56</title>\n<path fill=\"none\" stroke=\"#000000\" d=\"M1926.0273,-460.8796C1917.6189,-451.7832 1908.6424,-442.0722 1899.9897,-432.7116\"/>\n<polygon fill=\"#000000\" stroke=\"#000000\" points=\"1902.495,-430.2656 1893.1369,-425.2981 1897.3547,-435.0172 1902.495,-430.2656\"/>\n</g>\n<!-- 63 -->\n<g id=\"node64\" class=\"node\">\n<title>63</title>\n<path fill=\"#e58139\" stroke=\"#000000\" d=\"M2013,-417.5C2013,-417.5 1938,-417.5 1938,-417.5 1932,-417.5 1926,-411.5 1926,-405.5 1926,-405.5 1926,-361.5 1926,-361.5 1926,-355.5 1932,-349.5 1938,-349.5 1938,-349.5 2013,-349.5 2013,-349.5 2019,-349.5 2025,-355.5 2025,-361.5 2025,-361.5 2025,-405.5 2025,-405.5 2025,-411.5 2019,-417.5 2013,-417.5\"/>\n<text text-anchor=\"start\" x=\"1946\" y=\"-402.3\" font-family=\"Helvetica,sans-Serif\" font-size=\"14.00\" fill=\"#000000\">gini = 0.0</text>\n<text text-anchor=\"start\" x=\"1936\" y=\"-387.3\" font-family=\"Helvetica,sans-Serif\" font-size=\"14.00\" fill=\"#000000\">samples = 1</text>\n<text text-anchor=\"start\" x=\"1934\" y=\"-372.3\" font-family=\"Helvetica,sans-Serif\" font-size=\"14.00\" fill=\"#000000\">value = [1, 0]</text>\n<text text-anchor=\"start\" x=\"1946.5\" y=\"-357.3\" font-family=\"Helvetica,sans-Serif\" font-size=\"14.00\" fill=\"#000000\">class = 1</text>\n</g>\n<!-- 55&#45;&gt;63 -->\n<g id=\"edge63\" class=\"edge\">\n<title>55&#45;&gt;63</title>\n<path fill=\"none\" stroke=\"#000000\" d=\"M1968.3473,-460.8796C1969.3332,-450.2134 1970.3973,-438.7021 1971.3957,-427.9015\"/>\n<polygon fill=\"#000000\" stroke=\"#000000\" points=\"1974.8926,-428.0947 1972.328,-417.8149 1967.9224,-427.4503 1974.8926,-428.0947\"/>\n</g>\n<!-- 57 -->\n<g id=\"node58\" class=\"node\">\n<title>57</title>\n<path fill=\"#43a2e6\" stroke=\"#000000\" d=\"M1899,-306C1899,-306 1810,-306 1810,-306 1804,-306 1798,-300 1798,-294 1798,-294 1798,-235 1798,-235 1798,-229 1804,-223 1810,-223 1810,-223 1899,-223 1899,-223 1905,-223 1911,-229 1911,-235 1911,-235 1911,-294 1911,-294 1911,-300 1905,-306 1899,-306\"/>\n<text text-anchor=\"start\" x=\"1806\" y=\"-290.8\" font-family=\"Helvetica,sans-Serif\" font-size=\"14.00\" fill=\"#000000\">person ≤ 0.115</text>\n<text text-anchor=\"start\" x=\"1816.5\" y=\"-275.8\" font-family=\"Helvetica,sans-Serif\" font-size=\"14.00\" fill=\"#000000\">gini = 0.094</text>\n<text text-anchor=\"start\" x=\"1810.5\" y=\"-260.8\" font-family=\"Helvetica,sans-Serif\" font-size=\"14.00\" fill=\"#000000\">samples = 81</text>\n<text text-anchor=\"start\" x=\"1809\" y=\"-245.8\" font-family=\"Helvetica,sans-Serif\" font-size=\"14.00\" fill=\"#000000\">value = [4, 77]</text>\n<text text-anchor=\"start\" x=\"1825.5\" y=\"-230.8\" font-family=\"Helvetica,sans-Serif\" font-size=\"14.00\" fill=\"#000000\">class = 0</text>\n</g>\n<!-- 56&#45;&gt;57 -->\n<g id=\"edge57\" class=\"edge\">\n<title>56&#45;&gt;57</title>\n<path fill=\"none\" stroke=\"#000000\" d=\"M1854.5,-341.8796C1854.5,-333.6838 1854.5,-324.9891 1854.5,-316.5013\"/>\n<polygon fill=\"#000000\" stroke=\"#000000\" points=\"1858.0001,-316.298 1854.5,-306.2981 1851.0001,-316.2981 1858.0001,-316.298\"/>\n</g>\n<!-- 62 -->\n<g id=\"node63\" class=\"node\">\n<title>62</title>\n<path fill=\"#e58139\" stroke=\"#000000\" d=\"M2016,-298.5C2016,-298.5 1941,-298.5 1941,-298.5 1935,-298.5 1929,-292.5 1929,-286.5 1929,-286.5 1929,-242.5 1929,-242.5 1929,-236.5 1935,-230.5 1941,-230.5 1941,-230.5 2016,-230.5 2016,-230.5 2022,-230.5 2028,-236.5 2028,-242.5 2028,-242.5 2028,-286.5 2028,-286.5 2028,-292.5 2022,-298.5 2016,-298.5\"/>\n<text text-anchor=\"start\" x=\"1949\" y=\"-283.3\" font-family=\"Helvetica,sans-Serif\" font-size=\"14.00\" fill=\"#000000\">gini = 0.0</text>\n<text text-anchor=\"start\" x=\"1939\" y=\"-268.3\" font-family=\"Helvetica,sans-Serif\" font-size=\"14.00\" fill=\"#000000\">samples = 1</text>\n<text text-anchor=\"start\" x=\"1937\" y=\"-253.3\" font-family=\"Helvetica,sans-Serif\" font-size=\"14.00\" fill=\"#000000\">value = [1, 0]</text>\n<text text-anchor=\"start\" x=\"1949.5\" y=\"-238.3\" font-family=\"Helvetica,sans-Serif\" font-size=\"14.00\" fill=\"#000000\">class = 1</text>\n</g>\n<!-- 56&#45;&gt;62 -->\n<g id=\"edge62\" class=\"edge\">\n<title>56&#45;&gt;62</title>\n<path fill=\"none\" stroke=\"#000000\" d=\"M1897.8692,-341.8796C1910.0148,-330.2237 1923.2119,-317.5587 1935.3451,-305.9148\"/>\n<polygon fill=\"#000000\" stroke=\"#000000\" points=\"1937.9516,-308.2643 1942.7433,-298.8149 1933.1047,-303.2138 1937.9516,-308.2643\"/>\n</g>\n<!-- 58 -->\n<g id=\"node59\" class=\"node\">\n<title>58</title>\n<path fill=\"#41a1e6\" stroke=\"#000000\" d=\"M1903.5,-187C1903.5,-187 1799.5,-187 1799.5,-187 1793.5,-187 1787.5,-181 1787.5,-175 1787.5,-175 1787.5,-116 1787.5,-116 1787.5,-110 1793.5,-104 1799.5,-104 1799.5,-104 1903.5,-104 1903.5,-104 1909.5,-104 1915.5,-110 1915.5,-116 1915.5,-116 1915.5,-175 1915.5,-175 1915.5,-181 1909.5,-187 1903.5,-187\"/>\n<text text-anchor=\"start\" x=\"1795.5\" y=\"-171.8\" font-family=\"Helvetica,sans-Serif\" font-size=\"14.00\" fill=\"#000000\">atcinema ≤ 0.225</text>\n<text text-anchor=\"start\" x=\"1813.5\" y=\"-156.8\" font-family=\"Helvetica,sans-Serif\" font-size=\"14.00\" fill=\"#000000\">gini = 0.072</text>\n<text text-anchor=\"start\" x=\"1807.5\" y=\"-141.8\" font-family=\"Helvetica,sans-Serif\" font-size=\"14.00\" fill=\"#000000\">samples = 80</text>\n<text text-anchor=\"start\" x=\"1806\" y=\"-126.8\" font-family=\"Helvetica,sans-Serif\" font-size=\"14.00\" fill=\"#000000\">value = [3, 77]</text>\n<text text-anchor=\"start\" x=\"1822.5\" y=\"-111.8\" font-family=\"Helvetica,sans-Serif\" font-size=\"14.00\" fill=\"#000000\">class = 0</text>\n</g>\n<!-- 57&#45;&gt;58 -->\n<g id=\"edge58\" class=\"edge\">\n<title>57&#45;&gt;58</title>\n<path fill=\"none\" stroke=\"#000000\" d=\"M1853.4507,-222.8796C1853.2441,-214.6838 1853.0249,-205.9891 1852.811,-197.5013\"/>\n<polygon fill=\"#000000\" stroke=\"#000000\" points=\"1856.3047,-197.2067 1852.5537,-187.2981 1849.307,-197.3831 1856.3047,-197.2067\"/>\n</g>\n<!-- 61 -->\n<g id=\"node62\" class=\"node\">\n<title>61</title>\n<path fill=\"#e58139\" stroke=\"#000000\" d=\"M2021,-179.5C2021,-179.5 1946,-179.5 1946,-179.5 1940,-179.5 1934,-173.5 1934,-167.5 1934,-167.5 1934,-123.5 1934,-123.5 1934,-117.5 1940,-111.5 1946,-111.5 1946,-111.5 2021,-111.5 2021,-111.5 2027,-111.5 2033,-117.5 2033,-123.5 2033,-123.5 2033,-167.5 2033,-167.5 2033,-173.5 2027,-179.5 2021,-179.5\"/>\n<text text-anchor=\"start\" x=\"1954\" y=\"-164.3\" font-family=\"Helvetica,sans-Serif\" font-size=\"14.00\" fill=\"#000000\">gini = 0.0</text>\n<text text-anchor=\"start\" x=\"1944\" y=\"-149.3\" font-family=\"Helvetica,sans-Serif\" font-size=\"14.00\" fill=\"#000000\">samples = 1</text>\n<text text-anchor=\"start\" x=\"1942\" y=\"-134.3\" font-family=\"Helvetica,sans-Serif\" font-size=\"14.00\" fill=\"#000000\">value = [1, 0]</text>\n<text text-anchor=\"start\" x=\"1954.5\" y=\"-119.3\" font-family=\"Helvetica,sans-Serif\" font-size=\"14.00\" fill=\"#000000\">class = 1</text>\n</g>\n<!-- 57&#45;&gt;61 -->\n<g id=\"edge61\" class=\"edge\">\n<title>57&#45;&gt;61</title>\n<path fill=\"none\" stroke=\"#000000\" d=\"M1899.6179,-222.8796C1912.2533,-211.2237 1925.9826,-198.5587 1938.605,-186.9148\"/>\n<polygon fill=\"#000000\" stroke=\"#000000\" points=\"1941.3244,-189.168 1946.3015,-179.8149 1936.578,-184.0228 1941.3244,-189.168\"/>\n</g>\n<!-- 59 -->\n<g id=\"node60\" class=\"node\">\n<title>59</title>\n<path fill=\"#3ea0e6\" stroke=\"#000000\" d=\"M1824,-68C1824,-68 1741,-68 1741,-68 1735,-68 1729,-62 1729,-56 1729,-56 1729,-12 1729,-12 1729,-6 1735,0 1741,0 1741,0 1824,0 1824,0 1830,0 1836,-6 1836,-12 1836,-12 1836,-56 1836,-56 1836,-62 1830,-68 1824,-68\"/>\n<text text-anchor=\"start\" x=\"1744.5\" y=\"-52.8\" font-family=\"Helvetica,sans-Serif\" font-size=\"14.00\" fill=\"#000000\">gini = 0.049</text>\n<text text-anchor=\"start\" x=\"1738.5\" y=\"-37.8\" font-family=\"Helvetica,sans-Serif\" font-size=\"14.00\" fill=\"#000000\">samples = 79</text>\n<text text-anchor=\"start\" x=\"1737\" y=\"-22.8\" font-family=\"Helvetica,sans-Serif\" font-size=\"14.00\" fill=\"#000000\">value = [2, 77]</text>\n<text text-anchor=\"start\" x=\"1753.5\" y=\"-7.8\" font-family=\"Helvetica,sans-Serif\" font-size=\"14.00\" fill=\"#000000\">class = 0</text>\n</g>\n<!-- 58&#45;&gt;59 -->\n<g id=\"edge59\" class=\"edge\">\n<title>58&#45;&gt;59</title>\n<path fill=\"none\" stroke=\"#000000\" d=\"M1825.8069,-103.9815C1820.3469,-95.1585 1814.5716,-85.8258 1809.0793,-76.9506\"/>\n<polygon fill=\"#000000\" stroke=\"#000000\" points=\"1811.942,-74.9254 1803.7035,-68.2637 1805.9896,-78.609 1811.942,-74.9254\"/>\n</g>\n<!-- 60 -->\n<g id=\"node61\" class=\"node\">\n<title>60</title>\n<path fill=\"#e58139\" stroke=\"#000000\" d=\"M1941,-68C1941,-68 1866,-68 1866,-68 1860,-68 1854,-62 1854,-56 1854,-56 1854,-12 1854,-12 1854,-6 1860,0 1866,0 1866,0 1941,0 1941,0 1947,0 1953,-6 1953,-12 1953,-12 1953,-56 1953,-56 1953,-62 1947,-68 1941,-68\"/>\n<text text-anchor=\"start\" x=\"1874\" y=\"-52.8\" font-family=\"Helvetica,sans-Serif\" font-size=\"14.00\" fill=\"#000000\">gini = 0.0</text>\n<text text-anchor=\"start\" x=\"1864\" y=\"-37.8\" font-family=\"Helvetica,sans-Serif\" font-size=\"14.00\" fill=\"#000000\">samples = 1</text>\n<text text-anchor=\"start\" x=\"1862\" y=\"-22.8\" font-family=\"Helvetica,sans-Serif\" font-size=\"14.00\" fill=\"#000000\">value = [1, 0]</text>\n<text text-anchor=\"start\" x=\"1874.5\" y=\"-7.8\" font-family=\"Helvetica,sans-Serif\" font-size=\"14.00\" fill=\"#000000\">class = 1</text>\n</g>\n<!-- 58&#45;&gt;60 -->\n<g id=\"edge60\" class=\"edge\">\n<title>58&#45;&gt;60</title>\n<path fill=\"none\" stroke=\"#000000\" d=\"M1870.8629,-103.9815C1874.8919,-95.3423 1879.1489,-86.2144 1883.2103,-77.5059\"/>\n<polygon fill=\"#000000\" stroke=\"#000000\" points=\"1886.4659,-78.8059 1887.5205,-68.2637 1880.1218,-75.8472 1886.4659,-78.8059\"/>\n</g>\n<!-- 65 -->\n<g id=\"node66\" class=\"node\">\n<title>65</title>\n<path fill=\"#e58139\" stroke=\"#000000\" d=\"M2130,-417.5C2130,-417.5 2055,-417.5 2055,-417.5 2049,-417.5 2043,-411.5 2043,-405.5 2043,-405.5 2043,-361.5 2043,-361.5 2043,-355.5 2049,-349.5 2055,-349.5 2055,-349.5 2130,-349.5 2130,-349.5 2136,-349.5 2142,-355.5 2142,-361.5 2142,-361.5 2142,-405.5 2142,-405.5 2142,-411.5 2136,-417.5 2130,-417.5\"/>\n<text text-anchor=\"start\" x=\"2063\" y=\"-402.3\" font-family=\"Helvetica,sans-Serif\" font-size=\"14.00\" fill=\"#000000\">gini = 0.0</text>\n<text text-anchor=\"start\" x=\"2053\" y=\"-387.3\" font-family=\"Helvetica,sans-Serif\" font-size=\"14.00\" fill=\"#000000\">samples = 2</text>\n<text text-anchor=\"start\" x=\"2051\" y=\"-372.3\" font-family=\"Helvetica,sans-Serif\" font-size=\"14.00\" fill=\"#000000\">value = [2, 0]</text>\n<text text-anchor=\"start\" x=\"2063.5\" y=\"-357.3\" font-family=\"Helvetica,sans-Serif\" font-size=\"14.00\" fill=\"#000000\">class = 1</text>\n</g>\n<!-- 64&#45;&gt;65 -->\n<g id=\"edge65\" class=\"edge\">\n<title>64&#45;&gt;65</title>\n<path fill=\"none\" stroke=\"#000000\" d=\"M2100.303,-460.8796C2099.2274,-450.2134 2098.0666,-438.7021 2096.9775,-427.9015\"/>\n<polygon fill=\"#000000\" stroke=\"#000000\" points=\"2100.4461,-427.4133 2095.9603,-417.8149 2093.4814,-428.1157 2100.4461,-427.4133\"/>\n</g>\n<!-- 66 -->\n<g id=\"node67\" class=\"node\">\n<title>66</title>\n<path fill=\"#399de5\" stroke=\"#000000\" d=\"M2247,-417.5C2247,-417.5 2172,-417.5 2172,-417.5 2166,-417.5 2160,-411.5 2160,-405.5 2160,-405.5 2160,-361.5 2160,-361.5 2160,-355.5 2166,-349.5 2172,-349.5 2172,-349.5 2247,-349.5 2247,-349.5 2253,-349.5 2259,-355.5 2259,-361.5 2259,-361.5 2259,-405.5 2259,-405.5 2259,-411.5 2253,-417.5 2247,-417.5\"/>\n<text text-anchor=\"start\" x=\"2180\" y=\"-402.3\" font-family=\"Helvetica,sans-Serif\" font-size=\"14.00\" fill=\"#000000\">gini = 0.0</text>\n<text text-anchor=\"start\" x=\"2170\" y=\"-387.3\" font-family=\"Helvetica,sans-Serif\" font-size=\"14.00\" fill=\"#000000\">samples = 1</text>\n<text text-anchor=\"start\" x=\"2168\" y=\"-372.3\" font-family=\"Helvetica,sans-Serif\" font-size=\"14.00\" fill=\"#000000\">value = [0, 1]</text>\n<text text-anchor=\"start\" x=\"2180.5\" y=\"-357.3\" font-family=\"Helvetica,sans-Serif\" font-size=\"14.00\" fill=\"#000000\">class = 0</text>\n</g>\n<!-- 64&#45;&gt;66 -->\n<g id=\"edge66\" class=\"edge\">\n<title>64&#45;&gt;66</title>\n<path fill=\"none\" stroke=\"#000000\" d=\"M2141.2239,-460.8796C2151.3144,-449.4436 2162.2621,-437.0363 2172.375,-425.575\"/>\n<polygon fill=\"#000000\" stroke=\"#000000\" points=\"2175.2303,-427.629 2179.2221,-417.8149 2169.9814,-422.9977 2175.2303,-427.629\"/>\n</g>\n<!-- 70 -->\n<g id=\"node71\" class=\"node\">\n<title>70</title>\n<path fill=\"#399de5\" stroke=\"#000000\" d=\"M2435,-893.5C2435,-893.5 2352,-893.5 2352,-893.5 2346,-893.5 2340,-887.5 2340,-881.5 2340,-881.5 2340,-837.5 2340,-837.5 2340,-831.5 2346,-825.5 2352,-825.5 2352,-825.5 2435,-825.5 2435,-825.5 2441,-825.5 2447,-831.5 2447,-837.5 2447,-837.5 2447,-881.5 2447,-881.5 2447,-887.5 2441,-893.5 2435,-893.5\"/>\n<text text-anchor=\"start\" x=\"2364\" y=\"-878.3\" font-family=\"Helvetica,sans-Serif\" font-size=\"14.00\" fill=\"#000000\">gini = 0.0</text>\n<text text-anchor=\"start\" x=\"2349.5\" y=\"-863.3\" font-family=\"Helvetica,sans-Serif\" font-size=\"14.00\" fill=\"#000000\">samples = 62</text>\n<text text-anchor=\"start\" x=\"2348\" y=\"-848.3\" font-family=\"Helvetica,sans-Serif\" font-size=\"14.00\" fill=\"#000000\">value = [0, 62]</text>\n<text text-anchor=\"start\" x=\"2364.5\" y=\"-833.3\" font-family=\"Helvetica,sans-Serif\" font-size=\"14.00\" fill=\"#000000\">class = 0</text>\n</g>\n<!-- 69&#45;&gt;70 -->\n<g id=\"edge70\" class=\"edge\">\n<title>69&#45;&gt;70</title>\n<path fill=\"none\" stroke=\"#000000\" d=\"M2437.0667,-936.8796C2430.8137,-925.7735 2424.0448,-913.7513 2417.749,-902.5691\"/>\n<polygon fill=\"#000000\" stroke=\"#000000\" points=\"2420.7761,-900.8116 2412.8202,-893.8149 2414.6765,-904.2459 2420.7761,-900.8116\"/>\n</g>\n<!-- 71 -->\n<g id=\"node72\" class=\"node\">\n<title>71</title>\n<path fill=\"#ffffff\" stroke=\"#000000\" d=\"M2552,-893.5C2552,-893.5 2477,-893.5 2477,-893.5 2471,-893.5 2465,-887.5 2465,-881.5 2465,-881.5 2465,-837.5 2465,-837.5 2465,-831.5 2471,-825.5 2477,-825.5 2477,-825.5 2552,-825.5 2552,-825.5 2558,-825.5 2564,-831.5 2564,-837.5 2564,-837.5 2564,-881.5 2564,-881.5 2564,-887.5 2558,-893.5 2552,-893.5\"/>\n<text text-anchor=\"start\" x=\"2485\" y=\"-878.3\" font-family=\"Helvetica,sans-Serif\" font-size=\"14.00\" fill=\"#000000\">gini = 0.5</text>\n<text text-anchor=\"start\" x=\"2475\" y=\"-863.3\" font-family=\"Helvetica,sans-Serif\" font-size=\"14.00\" fill=\"#000000\">samples = 2</text>\n<text text-anchor=\"start\" x=\"2473\" y=\"-848.3\" font-family=\"Helvetica,sans-Serif\" font-size=\"14.00\" fill=\"#000000\">value = [1, 1]</text>\n<text text-anchor=\"start\" x=\"2485.5\" y=\"-833.3\" font-family=\"Helvetica,sans-Serif\" font-size=\"14.00\" fill=\"#000000\">class = 1</text>\n</g>\n<!-- 69&#45;&gt;71 -->\n<g id=\"edge71\" class=\"edge\">\n<title>69&#45;&gt;71</title>\n<path fill=\"none\" stroke=\"#000000\" d=\"M2479.3866,-936.8796C2484.3265,-925.9935 2489.6659,-914.227 2494.6541,-903.2344\"/>\n<polygon fill=\"#000000\" stroke=\"#000000\" points=\"2497.9834,-904.3675 2498.9285,-893.8149 2491.609,-901.4749 2497.9834,-904.3675\"/>\n</g>\n<!-- 73 -->\n<g id=\"node74\" class=\"node\">\n<title>73</title>\n<path fill=\"#bcdef6\" stroke=\"#000000\" d=\"M2836.5,-1020C2836.5,-1020 2728.5,-1020 2728.5,-1020 2722.5,-1020 2716.5,-1014 2716.5,-1008 2716.5,-1008 2716.5,-949 2716.5,-949 2716.5,-943 2722.5,-937 2728.5,-937 2728.5,-937 2836.5,-937 2836.5,-937 2842.5,-937 2848.5,-943 2848.5,-949 2848.5,-949 2848.5,-1008 2848.5,-1008 2848.5,-1014 2842.5,-1020 2836.5,-1020\"/>\n<text text-anchor=\"start\" x=\"2750.5\" y=\"-1004.8\" font-family=\"Helvetica,sans-Serif\" font-size=\"14.00\" fill=\"#000000\">... ≤ 0.185</text>\n<text text-anchor=\"start\" x=\"2749\" y=\"-989.8\" font-family=\"Helvetica,sans-Serif\" font-size=\"14.00\" fill=\"#000000\">gini = 0.48</text>\n<text text-anchor=\"start\" x=\"2734.5\" y=\"-974.8\" font-family=\"Helvetica,sans-Serif\" font-size=\"14.00\" fill=\"#000000\">samples = 554</text>\n<text text-anchor=\"start\" x=\"2724.5\" y=\"-959.8\" font-family=\"Helvetica,sans-Serif\" font-size=\"14.00\" fill=\"#000000\">value = [221, 333]</text>\n<text text-anchor=\"start\" x=\"2753.5\" y=\"-944.8\" font-family=\"Helvetica,sans-Serif\" font-size=\"14.00\" fill=\"#000000\">class = 0</text>\n</g>\n<!-- 72&#45;&gt;73 -->\n<g id=\"edge73\" class=\"edge\">\n<title>72&#45;&gt;73</title>\n<path fill=\"none\" stroke=\"#000000\" d=\"M2782.5,-1055.8796C2782.5,-1047.6838 2782.5,-1038.9891 2782.5,-1030.5013\"/>\n<polygon fill=\"#000000\" stroke=\"#000000\" points=\"2786.0001,-1030.298 2782.5,-1020.2981 2779.0001,-1030.2981 2786.0001,-1030.298\"/>\n</g>\n<!-- 116 -->\n<g id=\"node117\" class=\"node\">\n<title>116</title>\n<path fill=\"#42a1e6\" stroke=\"#000000\" d=\"M3029,-1020C3029,-1020 2946,-1020 2946,-1020 2940,-1020 2934,-1014 2934,-1008 2934,-1008 2934,-949 2934,-949 2934,-943 2940,-937 2946,-937 2946,-937 3029,-937 3029,-937 3035,-937 3041,-943 3041,-949 3041,-949 3041,-1008 3041,-1008 3041,-1014 3035,-1020 3029,-1020\"/>\n<text text-anchor=\"start\" x=\"2947.5\" y=\"-1004.8\" font-family=\"Helvetica,sans-Serif\" font-size=\"14.00\" fill=\"#000000\">plan ≤ 0.147</text>\n<text text-anchor=\"start\" x=\"2954\" y=\"-989.8\" font-family=\"Helvetica,sans-Serif\" font-size=\"14.00\" fill=\"#000000\">gini = 0.08</text>\n<text text-anchor=\"start\" x=\"2943.5\" y=\"-974.8\" font-family=\"Helvetica,sans-Serif\" font-size=\"14.00\" fill=\"#000000\">samples = 48</text>\n<text text-anchor=\"start\" x=\"2942\" y=\"-959.8\" font-family=\"Helvetica,sans-Serif\" font-size=\"14.00\" fill=\"#000000\">value = [2, 46]</text>\n<text text-anchor=\"start\" x=\"2958.5\" y=\"-944.8\" font-family=\"Helvetica,sans-Serif\" font-size=\"14.00\" fill=\"#000000\">class = 0</text>\n</g>\n<!-- 72&#45;&gt;116 -->\n<g id=\"edge116\" class=\"edge\">\n<title>72&#45;&gt;116</title>\n<path fill=\"none\" stroke=\"#000000\" d=\"M2848.7745,-1059.0284C2873.258,-1044.8161 2900.9062,-1028.7667 2925.0404,-1014.757\"/>\n<polygon fill=\"#000000\" stroke=\"#000000\" points=\"2926.8692,-1017.7424 2933.7606,-1009.6951 2923.3549,-1011.6885 2926.8692,-1017.7424\"/>\n</g>\n<!-- 74 -->\n<g id=\"node75\" class=\"node\">\n<title>74</title>\n<path fill=\"#a6d3f3\" stroke=\"#000000\" d=\"M2705.5,-901C2705.5,-901 2597.5,-901 2597.5,-901 2591.5,-901 2585.5,-895 2585.5,-889 2585.5,-889 2585.5,-830 2585.5,-830 2585.5,-824 2591.5,-818 2597.5,-818 2597.5,-818 2705.5,-818 2705.5,-818 2711.5,-818 2717.5,-824 2717.5,-830 2717.5,-830 2717.5,-889 2717.5,-889 2717.5,-895 2711.5,-901 2705.5,-901\"/>\n<text text-anchor=\"start\" x=\"2608\" y=\"-885.8\" font-family=\"Helvetica,sans-Serif\" font-size=\"14.00\" fill=\"#000000\">know ≤ 0.091</text>\n<text text-anchor=\"start\" x=\"2613.5\" y=\"-870.8\" font-family=\"Helvetica,sans-Serif\" font-size=\"14.00\" fill=\"#000000\">gini = 0.459</text>\n<text text-anchor=\"start\" x=\"2603.5\" y=\"-855.8\" font-family=\"Helvetica,sans-Serif\" font-size=\"14.00\" fill=\"#000000\">samples = 469</text>\n<text text-anchor=\"start\" x=\"2593.5\" y=\"-840.8\" font-family=\"Helvetica,sans-Serif\" font-size=\"14.00\" fill=\"#000000\">value = [167, 302]</text>\n<text text-anchor=\"start\" x=\"2622.5\" y=\"-825.8\" font-family=\"Helvetica,sans-Serif\" font-size=\"14.00\" fill=\"#000000\">class = 0</text>\n</g>\n<!-- 73&#45;&gt;74 -->\n<g id=\"edge74\" class=\"edge\">\n<title>73&#45;&gt;74</title>\n<path fill=\"none\" stroke=\"#000000\" d=\"M2736.6826,-936.8796C2726.4706,-927.6031 2715.555,-917.6874 2705.0624,-908.1559\"/>\n<polygon fill=\"#000000\" stroke=\"#000000\" points=\"2707.2684,-905.4313 2697.513,-901.2981 2702.5616,-910.6127 2707.2684,-905.4313\"/>\n</g>\n<!-- 95 -->\n<g id=\"node96\" class=\"node\">\n<title>95</title>\n<path fill=\"#f4c9ab\" stroke=\"#000000\" d=\"M2903.5,-901C2903.5,-901 2811.5,-901 2811.5,-901 2805.5,-901 2799.5,-895 2799.5,-889 2799.5,-889 2799.5,-830 2799.5,-830 2799.5,-824 2805.5,-818 2811.5,-818 2811.5,-818 2903.5,-818 2903.5,-818 2909.5,-818 2915.5,-824 2915.5,-830 2915.5,-830 2915.5,-889 2915.5,-889 2915.5,-895 2909.5,-901 2903.5,-901\"/>\n<text text-anchor=\"start\" x=\"2809\" y=\"-885.8\" font-family=\"Helvetica,sans-Serif\" font-size=\"14.00\" fill=\"#000000\">august ≤ 0.116</text>\n<text text-anchor=\"start\" x=\"2819.5\" y=\"-870.8\" font-family=\"Helvetica,sans-Serif\" font-size=\"14.00\" fill=\"#000000\">gini = 0.463</text>\n<text text-anchor=\"start\" x=\"2813.5\" y=\"-855.8\" font-family=\"Helvetica,sans-Serif\" font-size=\"14.00\" fill=\"#000000\">samples = 85</text>\n<text text-anchor=\"start\" x=\"2807.5\" y=\"-840.8\" font-family=\"Helvetica,sans-Serif\" font-size=\"14.00\" fill=\"#000000\">value = [54, 31]</text>\n<text text-anchor=\"start\" x=\"2828.5\" y=\"-825.8\" font-family=\"Helvetica,sans-Serif\" font-size=\"14.00\" fill=\"#000000\">class = 1</text>\n</g>\n<!-- 73&#45;&gt;95 -->\n<g id=\"edge95\" class=\"edge\">\n<title>73&#45;&gt;95</title>\n<path fill=\"none\" stroke=\"#000000\" d=\"M2808.7314,-936.8796C2814.2373,-928.1434 2820.1006,-918.8404 2825.7824,-909.8253\"/>\n<polygon fill=\"#000000\" stroke=\"#000000\" points=\"2828.7857,-911.6242 2831.1567,-901.2981 2822.8637,-907.8919 2828.7857,-911.6242\"/>\n</g>\n<!-- 75 -->\n<g id=\"node76\" class=\"node\">\n<title>75</title>\n<path fill=\"#a1d0f3\" stroke=\"#000000\" d=\"M2535.5,-782C2535.5,-782 2427.5,-782 2427.5,-782 2421.5,-782 2415.5,-776 2415.5,-770 2415.5,-770 2415.5,-711 2415.5,-711 2415.5,-705 2421.5,-699 2427.5,-699 2427.5,-699 2535.5,-699 2535.5,-699 2541.5,-699 2547.5,-705 2547.5,-711 2547.5,-711 2547.5,-770 2547.5,-770 2547.5,-776 2541.5,-782 2535.5,-782\"/>\n<text text-anchor=\"start\" x=\"2437.5\" y=\"-766.8\" font-family=\"Helvetica,sans-Serif\" font-size=\"14.00\" fill=\"#000000\">water ≤ 0.264</text>\n<text text-anchor=\"start\" x=\"2443.5\" y=\"-751.8\" font-family=\"Helvetica,sans-Serif\" font-size=\"14.00\" fill=\"#000000\">gini = 0.451</text>\n<text text-anchor=\"start\" x=\"2433.5\" y=\"-736.8\" font-family=\"Helvetica,sans-Serif\" font-size=\"14.00\" fill=\"#000000\">samples = 457</text>\n<text text-anchor=\"start\" x=\"2423.5\" y=\"-721.8\" font-family=\"Helvetica,sans-Serif\" font-size=\"14.00\" fill=\"#000000\">value = [157, 300]</text>\n<text text-anchor=\"start\" x=\"2452.5\" y=\"-706.8\" font-family=\"Helvetica,sans-Serif\" font-size=\"14.00\" fill=\"#000000\">class = 0</text>\n</g>\n<!-- 74&#45;&gt;75 -->\n<g id=\"edge75\" class=\"edge\">\n<title>74&#45;&gt;75</title>\n<path fill=\"none\" stroke=\"#000000\" d=\"M2592.0422,-817.8796C2578.1954,-808.1868 2563.3516,-797.7961 2549.1788,-787.8752\"/>\n<polygon fill=\"#000000\" stroke=\"#000000\" points=\"2551.1236,-784.9643 2540.9242,-782.0969 2547.1094,-790.6989 2551.1236,-784.9643\"/>\n</g>\n<!-- 90 -->\n<g id=\"node91\" class=\"node\">\n<title>90</title>\n<path fill=\"#ea9a61\" stroke=\"#000000\" d=\"M2693.5,-782C2693.5,-782 2609.5,-782 2609.5,-782 2603.5,-782 2597.5,-776 2597.5,-770 2597.5,-770 2597.5,-711 2597.5,-711 2597.5,-705 2603.5,-699 2609.5,-699 2609.5,-699 2693.5,-699 2693.5,-699 2699.5,-699 2705.5,-705 2705.5,-711 2705.5,-711 2705.5,-770 2705.5,-770 2705.5,-776 2699.5,-782 2693.5,-782\"/>\n<text text-anchor=\"start\" x=\"2605.5\" y=\"-766.8\" font-family=\"Helvetica,sans-Serif\" font-size=\"14.00\" fill=\"#000000\">drown ≤ 0.112</text>\n<text text-anchor=\"start\" x=\"2613.5\" y=\"-751.8\" font-family=\"Helvetica,sans-Serif\" font-size=\"14.00\" fill=\"#000000\">gini = 0.278</text>\n<text text-anchor=\"start\" x=\"2607.5\" y=\"-736.8\" font-family=\"Helvetica,sans-Serif\" font-size=\"14.00\" fill=\"#000000\">samples = 12</text>\n<text text-anchor=\"start\" x=\"2606\" y=\"-721.8\" font-family=\"Helvetica,sans-Serif\" font-size=\"14.00\" fill=\"#000000\">value = [10, 2]</text>\n<text text-anchor=\"start\" x=\"2622.5\" y=\"-706.8\" font-family=\"Helvetica,sans-Serif\" font-size=\"14.00\" fill=\"#000000\">class = 1</text>\n</g>\n<!-- 74&#45;&gt;90 -->\n<g id=\"edge90\" class=\"edge\">\n<title>74&#45;&gt;90</title>\n<path fill=\"none\" stroke=\"#000000\" d=\"M2651.5,-817.8796C2651.5,-809.6838 2651.5,-800.9891 2651.5,-792.5013\"/>\n<polygon fill=\"#000000\" stroke=\"#000000\" points=\"2655.0001,-792.298 2651.5,-782.2981 2648.0001,-792.2981 2655.0001,-792.298\"/>\n</g>\n<!-- 76 -->\n<g id=\"node77\" class=\"node\">\n<title>76</title>\n<path fill=\"#a8d4f4\" stroke=\"#000000\" d=\"M2397.5,-663C2397.5,-663 2289.5,-663 2289.5,-663 2283.5,-663 2277.5,-657 2277.5,-651 2277.5,-651 2277.5,-592 2277.5,-592 2277.5,-586 2283.5,-580 2289.5,-580 2289.5,-580 2397.5,-580 2397.5,-580 2403.5,-580 2409.5,-586 2409.5,-592 2409.5,-592 2409.5,-651 2409.5,-651 2409.5,-657 2403.5,-663 2397.5,-663\"/>\n<text text-anchor=\"start\" x=\"2292\" y=\"-647.8\" font-family=\"Helvetica,sans-Serif\" font-size=\"14.00\" fill=\"#000000\">disaster ≤ 0.195</text>\n<text text-anchor=\"start\" x=\"2305.5\" y=\"-632.8\" font-family=\"Helvetica,sans-Serif\" font-size=\"14.00\" fill=\"#000000\">gini = 0.461</text>\n<text text-anchor=\"start\" x=\"2295.5\" y=\"-617.8\" font-family=\"Helvetica,sans-Serif\" font-size=\"14.00\" fill=\"#000000\">samples = 436</text>\n<text text-anchor=\"start\" x=\"2285.5\" y=\"-602.8\" font-family=\"Helvetica,sans-Serif\" font-size=\"14.00\" fill=\"#000000\">value = [157, 279]</text>\n<text text-anchor=\"start\" x=\"2314.5\" y=\"-587.8\" font-family=\"Helvetica,sans-Serif\" font-size=\"14.00\" fill=\"#000000\">class = 0</text>\n</g>\n<!-- 75&#45;&gt;76 -->\n<g id=\"edge76\" class=\"edge\">\n<title>75&#45;&gt;76</title>\n<path fill=\"none\" stroke=\"#000000\" d=\"M2433.2343,-698.8796C2422.3722,-689.513 2410.7544,-679.4948 2399.6027,-669.8784\"/>\n<polygon fill=\"#000000\" stroke=\"#000000\" points=\"2401.8306,-667.178 2391.9717,-663.2981 2397.2592,-672.4792 2401.8306,-667.178\"/>\n</g>\n<!-- 89 -->\n<g id=\"node90\" class=\"node\">\n<title>89</title>\n<path fill=\"#399de5\" stroke=\"#000000\" d=\"M2523,-655.5C2523,-655.5 2440,-655.5 2440,-655.5 2434,-655.5 2428,-649.5 2428,-643.5 2428,-643.5 2428,-599.5 2428,-599.5 2428,-593.5 2434,-587.5 2440,-587.5 2440,-587.5 2523,-587.5 2523,-587.5 2529,-587.5 2535,-593.5 2535,-599.5 2535,-599.5 2535,-643.5 2535,-643.5 2535,-649.5 2529,-655.5 2523,-655.5\"/>\n<text text-anchor=\"start\" x=\"2452\" y=\"-640.3\" font-family=\"Helvetica,sans-Serif\" font-size=\"14.00\" fill=\"#000000\">gini = 0.0</text>\n<text text-anchor=\"start\" x=\"2437.5\" y=\"-625.3\" font-family=\"Helvetica,sans-Serif\" font-size=\"14.00\" fill=\"#000000\">samples = 21</text>\n<text text-anchor=\"start\" x=\"2436\" y=\"-610.3\" font-family=\"Helvetica,sans-Serif\" font-size=\"14.00\" fill=\"#000000\">value = [0, 21]</text>\n<text text-anchor=\"start\" x=\"2452.5\" y=\"-595.3\" font-family=\"Helvetica,sans-Serif\" font-size=\"14.00\" fill=\"#000000\">class = 0</text>\n</g>\n<!-- 75&#45;&gt;89 -->\n<g id=\"edge89\" class=\"edge\">\n<title>75&#45;&gt;89</title>\n<path fill=\"none\" stroke=\"#000000\" d=\"M2481.5,-698.8796C2481.5,-688.2134 2481.5,-676.7021 2481.5,-665.9015\"/>\n<polygon fill=\"#000000\" stroke=\"#000000\" points=\"2485.0001,-665.8149 2481.5,-655.8149 2478.0001,-665.815 2485.0001,-665.8149\"/>\n</g>\n<!-- 77 -->\n<g id=\"node78\" class=\"node\">\n<title>77</title>\n<path fill=\"#b1d8f5\" stroke=\"#000000\" d=\"M2397.5,-544C2397.5,-544 2289.5,-544 2289.5,-544 2283.5,-544 2277.5,-538 2277.5,-532 2277.5,-532 2277.5,-473 2277.5,-473 2277.5,-467 2283.5,-461 2289.5,-461 2289.5,-461 2397.5,-461 2397.5,-461 2403.5,-461 2409.5,-467 2409.5,-473 2409.5,-473 2409.5,-532 2409.5,-532 2409.5,-538 2403.5,-544 2397.5,-544\"/>\n<text text-anchor=\"start\" x=\"2298\" y=\"-528.8\" font-family=\"Helvetica,sans-Serif\" font-size=\"14.00\" fill=\"#000000\">attack ≤ 0.106</text>\n<text text-anchor=\"start\" x=\"2310\" y=\"-513.8\" font-family=\"Helvetica,sans-Serif\" font-size=\"14.00\" fill=\"#000000\">gini = 0.47</text>\n<text text-anchor=\"start\" x=\"2295.5\" y=\"-498.8\" font-family=\"Helvetica,sans-Serif\" font-size=\"14.00\" fill=\"#000000\">samples = 416</text>\n<text text-anchor=\"start\" x=\"2285.5\" y=\"-483.8\" font-family=\"Helvetica,sans-Serif\" font-size=\"14.00\" fill=\"#000000\">value = [157, 259]</text>\n<text text-anchor=\"start\" x=\"2314.5\" y=\"-468.8\" font-family=\"Helvetica,sans-Serif\" font-size=\"14.00\" fill=\"#000000\">class = 0</text>\n</g>\n<!-- 76&#45;&gt;77 -->\n<g id=\"edge77\" class=\"edge\">\n<title>76&#45;&gt;77</title>\n<path fill=\"none\" stroke=\"#000000\" d=\"M2343.5,-579.8796C2343.5,-571.6838 2343.5,-562.9891 2343.5,-554.5013\"/>\n<polygon fill=\"#000000\" stroke=\"#000000\" points=\"2347.0001,-554.298 2343.5,-544.2981 2340.0001,-554.2981 2347.0001,-554.298\"/>\n</g>\n<!-- 88 -->\n<g id=\"node89\" class=\"node\">\n<title>88</title>\n<path fill=\"#399de5\" stroke=\"#000000\" d=\"M2523,-536.5C2523,-536.5 2440,-536.5 2440,-536.5 2434,-536.5 2428,-530.5 2428,-524.5 2428,-524.5 2428,-480.5 2428,-480.5 2428,-474.5 2434,-468.5 2440,-468.5 2440,-468.5 2523,-468.5 2523,-468.5 2529,-468.5 2535,-474.5 2535,-480.5 2535,-480.5 2535,-524.5 2535,-524.5 2535,-530.5 2529,-536.5 2523,-536.5\"/>\n<text text-anchor=\"start\" x=\"2452\" y=\"-521.3\" font-family=\"Helvetica,sans-Serif\" font-size=\"14.00\" fill=\"#000000\">gini = 0.0</text>\n<text text-anchor=\"start\" x=\"2437.5\" y=\"-506.3\" font-family=\"Helvetica,sans-Serif\" font-size=\"14.00\" fill=\"#000000\">samples = 20</text>\n<text text-anchor=\"start\" x=\"2436\" y=\"-491.3\" font-family=\"Helvetica,sans-Serif\" font-size=\"14.00\" fill=\"#000000\">value = [0, 20]</text>\n<text text-anchor=\"start\" x=\"2452.5\" y=\"-476.3\" font-family=\"Helvetica,sans-Serif\" font-size=\"14.00\" fill=\"#000000\">class = 0</text>\n</g>\n<!-- 76&#45;&gt;88 -->\n<g id=\"edge88\" class=\"edge\">\n<title>76&#45;&gt;88</title>\n<path fill=\"none\" stroke=\"#000000\" d=\"M2391.7657,-579.8796C2405.4101,-568.1138 2420.2469,-555.3197 2433.8546,-543.5855\"/>\n<polygon fill=\"#000000\" stroke=\"#000000\" points=\"2436.4187,-545.9961 2441.7062,-536.8149 2431.8473,-540.6948 2436.4187,-545.9961\"/>\n</g>\n<!-- 78 -->\n<g id=\"node79\" class=\"node\">\n<title>78</title>\n<path fill=\"#b8dcf6\" stroke=\"#000000\" d=\"M2397.5,-425C2397.5,-425 2289.5,-425 2289.5,-425 2283.5,-425 2277.5,-419 2277.5,-413 2277.5,-413 2277.5,-354 2277.5,-354 2277.5,-348 2283.5,-342 2289.5,-342 2289.5,-342 2397.5,-342 2397.5,-342 2403.5,-342 2409.5,-348 2409.5,-354 2409.5,-354 2409.5,-413 2409.5,-413 2409.5,-419 2403.5,-425 2397.5,-425\"/>\n<text text-anchor=\"start\" x=\"2305.5\" y=\"-409.8\" font-family=\"Helvetica,sans-Serif\" font-size=\"14.00\" fill=\"#000000\">find ≤ 0.085</text>\n<text text-anchor=\"start\" x=\"2305.5\" y=\"-394.8\" font-family=\"Helvetica,sans-Serif\" font-size=\"14.00\" fill=\"#000000\">gini = 0.476</text>\n<text text-anchor=\"start\" x=\"2295.5\" y=\"-379.8\" font-family=\"Helvetica,sans-Serif\" font-size=\"14.00\" fill=\"#000000\">samples = 401</text>\n<text text-anchor=\"start\" x=\"2285.5\" y=\"-364.8\" font-family=\"Helvetica,sans-Serif\" font-size=\"14.00\" fill=\"#000000\">value = [157, 244]</text>\n<text text-anchor=\"start\" x=\"2314.5\" y=\"-349.8\" font-family=\"Helvetica,sans-Serif\" font-size=\"14.00\" fill=\"#000000\">class = 0</text>\n</g>\n<!-- 77&#45;&gt;78 -->\n<g id=\"edge78\" class=\"edge\">\n<title>77&#45;&gt;78</title>\n<path fill=\"none\" stroke=\"#000000\" d=\"M2343.5,-460.8796C2343.5,-452.6838 2343.5,-443.9891 2343.5,-435.5013\"/>\n<polygon fill=\"#000000\" stroke=\"#000000\" points=\"2347.0001,-435.298 2343.5,-425.2981 2340.0001,-435.2981 2347.0001,-435.298\"/>\n</g>\n<!-- 87 -->\n<g id=\"node88\" class=\"node\">\n<title>87</title>\n<path fill=\"#399de5\" stroke=\"#000000\" d=\"M2523,-417.5C2523,-417.5 2440,-417.5 2440,-417.5 2434,-417.5 2428,-411.5 2428,-405.5 2428,-405.5 2428,-361.5 2428,-361.5 2428,-355.5 2434,-349.5 2440,-349.5 2440,-349.5 2523,-349.5 2523,-349.5 2529,-349.5 2535,-355.5 2535,-361.5 2535,-361.5 2535,-405.5 2535,-405.5 2535,-411.5 2529,-417.5 2523,-417.5\"/>\n<text text-anchor=\"start\" x=\"2452\" y=\"-402.3\" font-family=\"Helvetica,sans-Serif\" font-size=\"14.00\" fill=\"#000000\">gini = 0.0</text>\n<text text-anchor=\"start\" x=\"2437.5\" y=\"-387.3\" font-family=\"Helvetica,sans-Serif\" font-size=\"14.00\" fill=\"#000000\">samples = 15</text>\n<text text-anchor=\"start\" x=\"2436\" y=\"-372.3\" font-family=\"Helvetica,sans-Serif\" font-size=\"14.00\" fill=\"#000000\">value = [0, 15]</text>\n<text text-anchor=\"start\" x=\"2452.5\" y=\"-357.3\" font-family=\"Helvetica,sans-Serif\" font-size=\"14.00\" fill=\"#000000\">class = 0</text>\n</g>\n<!-- 77&#45;&gt;87 -->\n<g id=\"edge87\" class=\"edge\">\n<title>77&#45;&gt;87</title>\n<path fill=\"none\" stroke=\"#000000\" d=\"M2391.7657,-460.8796C2405.4101,-449.1138 2420.2469,-436.3197 2433.8546,-424.5855\"/>\n<polygon fill=\"#000000\" stroke=\"#000000\" points=\"2436.4187,-426.9961 2441.7062,-417.8149 2431.8473,-421.6948 2436.4187,-426.9961\"/>\n</g>\n<!-- 79 -->\n<g id=\"node80\" class=\"node\">\n<title>79</title>\n<path fill=\"#c1e0f7\" stroke=\"#000000\" d=\"M2338.5,-306C2338.5,-306 2230.5,-306 2230.5,-306 2224.5,-306 2218.5,-300 2218.5,-294 2218.5,-294 2218.5,-235 2218.5,-235 2218.5,-229 2224.5,-223 2230.5,-223 2230.5,-223 2338.5,-223 2338.5,-223 2344.5,-223 2350.5,-229 2350.5,-235 2350.5,-235 2350.5,-294 2350.5,-294 2350.5,-300 2344.5,-306 2338.5,-306\"/>\n<text text-anchor=\"start\" x=\"2250\" y=\"-290.8\" font-family=\"Helvetica,sans-Serif\" font-size=\"14.00\" fill=\"#000000\">kill ≤ 0.194</text>\n<text text-anchor=\"start\" x=\"2246.5\" y=\"-275.8\" font-family=\"Helvetica,sans-Serif\" font-size=\"14.00\" fill=\"#000000\">gini = 0.483</text>\n<text text-anchor=\"start\" x=\"2236.5\" y=\"-260.8\" font-family=\"Helvetica,sans-Serif\" font-size=\"14.00\" fill=\"#000000\">samples = 386</text>\n<text text-anchor=\"start\" x=\"2226.5\" y=\"-245.8\" font-family=\"Helvetica,sans-Serif\" font-size=\"14.00\" fill=\"#000000\">value = [157, 229]</text>\n<text text-anchor=\"start\" x=\"2255.5\" y=\"-230.8\" font-family=\"Helvetica,sans-Serif\" font-size=\"14.00\" fill=\"#000000\">class = 0</text>\n</g>\n<!-- 78&#45;&gt;79 -->\n<g id=\"edge79\" class=\"edge\">\n<title>78&#45;&gt;79</title>\n<path fill=\"none\" stroke=\"#000000\" d=\"M2322.8647,-341.8796C2318.6226,-333.3236 2314.111,-324.2238 2309.7279,-315.3833\"/>\n<polygon fill=\"#000000\" stroke=\"#000000\" points=\"2312.8012,-313.7026 2305.2234,-306.2981 2306.5297,-316.8121 2312.8012,-313.7026\"/>\n</g>\n<!-- 86 -->\n<g id=\"node87\" class=\"node\">\n<title>86</title>\n<path fill=\"#399de5\" stroke=\"#000000\" d=\"M2464,-298.5C2464,-298.5 2381,-298.5 2381,-298.5 2375,-298.5 2369,-292.5 2369,-286.5 2369,-286.5 2369,-242.5 2369,-242.5 2369,-236.5 2375,-230.5 2381,-230.5 2381,-230.5 2464,-230.5 2464,-230.5 2470,-230.5 2476,-236.5 2476,-242.5 2476,-242.5 2476,-286.5 2476,-286.5 2476,-292.5 2470,-298.5 2464,-298.5\"/>\n<text text-anchor=\"start\" x=\"2393\" y=\"-283.3\" font-family=\"Helvetica,sans-Serif\" font-size=\"14.00\" fill=\"#000000\">gini = 0.0</text>\n<text text-anchor=\"start\" x=\"2378.5\" y=\"-268.3\" font-family=\"Helvetica,sans-Serif\" font-size=\"14.00\" fill=\"#000000\">samples = 15</text>\n<text text-anchor=\"start\" x=\"2377\" y=\"-253.3\" font-family=\"Helvetica,sans-Serif\" font-size=\"14.00\" fill=\"#000000\">value = [0, 15]</text>\n<text text-anchor=\"start\" x=\"2393.5\" y=\"-238.3\" font-family=\"Helvetica,sans-Serif\" font-size=\"14.00\" fill=\"#000000\">class = 0</text>\n</g>\n<!-- 78&#45;&gt;86 -->\n<g id=\"edge86\" class=\"edge\">\n<title>78&#45;&gt;86</title>\n<path fill=\"none\" stroke=\"#000000\" d=\"M2371.1304,-341.8796C2378.5763,-330.6636 2386.6425,-318.5131 2394.1282,-307.2372\"/>\n<polygon fill=\"#000000\" stroke=\"#000000\" points=\"2397.1046,-309.082 2399.7195,-298.8149 2391.2727,-305.2104 2397.1046,-309.082\"/>\n</g>\n<!-- 80 -->\n<g id=\"node81\" class=\"node\">\n<title>80</title>\n<path fill=\"#cbe5f8\" stroke=\"#000000\" d=\"M2217.5,-187C2217.5,-187 2109.5,-187 2109.5,-187 2103.5,-187 2097.5,-181 2097.5,-175 2097.5,-175 2097.5,-116 2097.5,-116 2097.5,-110 2103.5,-104 2109.5,-104 2109.5,-104 2217.5,-104 2217.5,-104 2223.5,-104 2229.5,-110 2229.5,-116 2229.5,-116 2229.5,-175 2229.5,-175 2229.5,-181 2223.5,-187 2217.5,-187\"/>\n<text text-anchor=\"start\" x=\"2131.5\" y=\"-171.8\" font-family=\"Helvetica,sans-Serif\" font-size=\"14.00\" fill=\"#000000\">... ≤ 0.102</text>\n<text text-anchor=\"start\" x=\"2125.5\" y=\"-156.8\" font-family=\"Helvetica,sans-Serif\" font-size=\"14.00\" fill=\"#000000\">gini = 0.488</text>\n<text text-anchor=\"start\" x=\"2115.5\" y=\"-141.8\" font-family=\"Helvetica,sans-Serif\" font-size=\"14.00\" fill=\"#000000\">samples = 368</text>\n<text text-anchor=\"start\" x=\"2105.5\" y=\"-126.8\" font-family=\"Helvetica,sans-Serif\" font-size=\"14.00\" fill=\"#000000\">value = [156, 212]</text>\n<text text-anchor=\"start\" x=\"2134.5\" y=\"-111.8\" font-family=\"Helvetica,sans-Serif\" font-size=\"14.00\" fill=\"#000000\">class = 0</text>\n</g>\n<!-- 79&#45;&gt;80 -->\n<g id=\"edge80\" class=\"edge\">\n<title>79&#45;&gt;80</title>\n<path fill=\"none\" stroke=\"#000000\" d=\"M2242.1801,-222.8796C2232.8392,-213.6931 2222.861,-203.8798 2213.256,-194.4336\"/>\n<polygon fill=\"#000000\" stroke=\"#000000\" points=\"2215.5845,-191.8146 2206.0006,-187.2981 2210.6762,-196.8054 2215.5845,-191.8146\"/>\n</g>\n<!-- 83 -->\n<g id=\"node84\" class=\"node\">\n<title>83</title>\n<path fill=\"#45a3e7\" stroke=\"#000000\" d=\"M2361.5,-187C2361.5,-187 2259.5,-187 2259.5,-187 2253.5,-187 2247.5,-181 2247.5,-175 2247.5,-175 2247.5,-116 2247.5,-116 2247.5,-110 2253.5,-104 2259.5,-104 2259.5,-104 2361.5,-104 2361.5,-104 2367.5,-104 2373.5,-110 2373.5,-116 2373.5,-116 2373.5,-175 2373.5,-175 2373.5,-181 2367.5,-187 2361.5,-187\"/>\n<text text-anchor=\"start\" x=\"2255.5\" y=\"-171.8\" font-family=\"Helvetica,sans-Serif\" font-size=\"14.00\" fill=\"#000000\">floridians ≤ 0.199</text>\n<text text-anchor=\"start\" x=\"2272.5\" y=\"-156.8\" font-family=\"Helvetica,sans-Serif\" font-size=\"14.00\" fill=\"#000000\">gini = 0.105</text>\n<text text-anchor=\"start\" x=\"2266.5\" y=\"-141.8\" font-family=\"Helvetica,sans-Serif\" font-size=\"14.00\" fill=\"#000000\">samples = 18</text>\n<text text-anchor=\"start\" x=\"2265\" y=\"-126.8\" font-family=\"Helvetica,sans-Serif\" font-size=\"14.00\" fill=\"#000000\">value = [1, 17]</text>\n<text text-anchor=\"start\" x=\"2281.5\" y=\"-111.8\" font-family=\"Helvetica,sans-Serif\" font-size=\"14.00\" fill=\"#000000\">class = 0</text>\n</g>\n<!-- 79&#45;&gt;83 -->\n<g id=\"edge83\" class=\"edge\">\n<title>79&#45;&gt;83</title>\n<path fill=\"none\" stroke=\"#000000\" d=\"M2293.5935,-222.8796C2295.4039,-214.5938 2297.3257,-205.798 2299.1995,-197.2216\"/>\n<polygon fill=\"#000000\" stroke=\"#000000\" points=\"2302.6524,-197.8147 2301.3676,-187.2981 2295.8137,-196.3205 2302.6524,-197.8147\"/>\n</g>\n<!-- 81 -->\n<g id=\"node82\" class=\"node\">\n<title>81</title>\n<path fill=\"#54aae9\" stroke=\"#000000\" d=\"M2069,-68C2069,-68 1986,-68 1986,-68 1980,-68 1974,-62 1974,-56 1974,-56 1974,-12 1974,-12 1974,-6 1980,0 1986,0 1986,0 2069,0 2069,0 2075,0 2081,-6 2081,-12 2081,-12 2081,-56 2081,-56 2081,-62 2075,-68 2069,-68\"/>\n<text text-anchor=\"start\" x=\"1989.5\" y=\"-52.8\" font-family=\"Helvetica,sans-Serif\" font-size=\"14.00\" fill=\"#000000\">gini = 0.211</text>\n<text text-anchor=\"start\" x=\"1983.5\" y=\"-37.8\" font-family=\"Helvetica,sans-Serif\" font-size=\"14.00\" fill=\"#000000\">samples = 25</text>\n<text text-anchor=\"start\" x=\"1982\" y=\"-22.8\" font-family=\"Helvetica,sans-Serif\" font-size=\"14.00\" fill=\"#000000\">value = [3, 22]</text>\n<text text-anchor=\"start\" x=\"1998.5\" y=\"-7.8\" font-family=\"Helvetica,sans-Serif\" font-size=\"14.00\" fill=\"#000000\">class = 0</text>\n</g>\n<!-- 80&#45;&gt;81 -->\n<g id=\"edge81\" class=\"edge\">\n<title>80&#45;&gt;81</title>\n<path fill=\"none\" stroke=\"#000000\" d=\"M2112.8586,-103.9815C2101.2001,-94.4232 2088.812,-84.2668 2077.1941,-74.7419\"/>\n<polygon fill=\"#000000\" stroke=\"#000000\" points=\"2079.2448,-71.8972 2069.2925,-68.2637 2074.8067,-77.3105 2079.2448,-71.8972\"/>\n</g>\n<!-- 82 -->\n<g id=\"node83\" class=\"node\">\n<title>82</title>\n<path fill=\"#d8ecfa\" stroke=\"#000000\" d=\"M2219.5,-68C2219.5,-68 2111.5,-68 2111.5,-68 2105.5,-68 2099.5,-62 2099.5,-56 2099.5,-56 2099.5,-12 2099.5,-12 2099.5,-6 2105.5,0 2111.5,0 2111.5,0 2219.5,0 2219.5,0 2225.5,0 2231.5,-6 2231.5,-12 2231.5,-12 2231.5,-56 2231.5,-56 2231.5,-62 2225.5,-68 2219.5,-68\"/>\n<text text-anchor=\"start\" x=\"2127.5\" y=\"-52.8\" font-family=\"Helvetica,sans-Serif\" font-size=\"14.00\" fill=\"#000000\">gini = 0.494</text>\n<text text-anchor=\"start\" x=\"2117.5\" y=\"-37.8\" font-family=\"Helvetica,sans-Serif\" font-size=\"14.00\" fill=\"#000000\">samples = 343</text>\n<text text-anchor=\"start\" x=\"2107.5\" y=\"-22.8\" font-family=\"Helvetica,sans-Serif\" font-size=\"14.00\" fill=\"#000000\">value = [153, 190]</text>\n<text text-anchor=\"start\" x=\"2136.5\" y=\"-7.8\" font-family=\"Helvetica,sans-Serif\" font-size=\"14.00\" fill=\"#000000\">class = 0</text>\n</g>\n<!-- 80&#45;&gt;82 -->\n<g id=\"edge82\" class=\"edge\">\n<title>80&#45;&gt;82</title>\n<path fill=\"none\" stroke=\"#000000\" d=\"M2164.2447,-103.9815C2164.3947,-95.618 2164.553,-86.7965 2164.7046,-78.3409\"/>\n<polygon fill=\"#000000\" stroke=\"#000000\" points=\"2168.2054,-78.3249 2164.8854,-68.2637 2161.2065,-78.1993 2168.2054,-78.3249\"/>\n</g>\n<!-- 84 -->\n<g id=\"node85\" class=\"node\">\n<title>84</title>\n<path fill=\"#399de5\" stroke=\"#000000\" d=\"M2348,-68C2348,-68 2265,-68 2265,-68 2259,-68 2253,-62 2253,-56 2253,-56 2253,-12 2253,-12 2253,-6 2259,0 2265,0 2265,0 2348,0 2348,0 2354,0 2360,-6 2360,-12 2360,-12 2360,-56 2360,-56 2360,-62 2354,-68 2348,-68\"/>\n<text text-anchor=\"start\" x=\"2277\" y=\"-52.8\" font-family=\"Helvetica,sans-Serif\" font-size=\"14.00\" fill=\"#000000\">gini = 0.0</text>\n<text text-anchor=\"start\" x=\"2262.5\" y=\"-37.8\" font-family=\"Helvetica,sans-Serif\" font-size=\"14.00\" fill=\"#000000\">samples = 17</text>\n<text text-anchor=\"start\" x=\"2261\" y=\"-22.8\" font-family=\"Helvetica,sans-Serif\" font-size=\"14.00\" fill=\"#000000\">value = [0, 17]</text>\n<text text-anchor=\"start\" x=\"2277.5\" y=\"-7.8\" font-family=\"Helvetica,sans-Serif\" font-size=\"14.00\" fill=\"#000000\">class = 0</text>\n</g>\n<!-- 83&#45;&gt;84 -->\n<g id=\"edge84\" class=\"edge\">\n<title>83&#45;&gt;84</title>\n<path fill=\"none\" stroke=\"#000000\" d=\"M2309.0105,-103.9815C2308.7105,-95.618 2308.394,-86.7965 2308.0907,-78.3409\"/>\n<polygon fill=\"#000000\" stroke=\"#000000\" points=\"2311.5855,-78.1317 2307.7292,-68.2637 2304.59,-78.3828 2311.5855,-78.1317\"/>\n</g>\n<!-- 85 -->\n<g id=\"node86\" class=\"node\">\n<title>85</title>\n<path fill=\"#e58139\" stroke=\"#000000\" d=\"M2465,-68C2465,-68 2390,-68 2390,-68 2384,-68 2378,-62 2378,-56 2378,-56 2378,-12 2378,-12 2378,-6 2384,0 2390,0 2390,0 2465,0 2465,0 2471,0 2477,-6 2477,-12 2477,-12 2477,-56 2477,-56 2477,-62 2471,-68 2465,-68\"/>\n<text text-anchor=\"start\" x=\"2398\" y=\"-52.8\" font-family=\"Helvetica,sans-Serif\" font-size=\"14.00\" fill=\"#000000\">gini = 0.0</text>\n<text text-anchor=\"start\" x=\"2388\" y=\"-37.8\" font-family=\"Helvetica,sans-Serif\" font-size=\"14.00\" fill=\"#000000\">samples = 1</text>\n<text text-anchor=\"start\" x=\"2386\" y=\"-22.8\" font-family=\"Helvetica,sans-Serif\" font-size=\"14.00\" fill=\"#000000\">value = [1, 0]</text>\n<text text-anchor=\"start\" x=\"2398.5\" y=\"-7.8\" font-family=\"Helvetica,sans-Serif\" font-size=\"14.00\" fill=\"#000000\">class = 1</text>\n</g>\n<!-- 83&#45;&gt;85 -->\n<g id=\"edge85\" class=\"edge\">\n<title>83&#45;&gt;85</title>\n<path fill=\"none\" stroke=\"#000000\" d=\"M2354.0665,-103.9815C2363.9034,-94.607 2374.344,-84.6572 2384.1711,-75.2921\"/>\n<polygon fill=\"#000000\" stroke=\"#000000\" points=\"2386.7216,-77.6963 2391.5462,-68.2637 2381.8924,-72.6289 2386.7216,-77.6963\"/>\n</g>\n<!-- 91 -->\n<g id=\"node92\" class=\"node\">\n<title>91</title>\n<path fill=\"#e88e4d\" stroke=\"#000000\" d=\"M2669.5,-663C2669.5,-663 2565.5,-663 2565.5,-663 2559.5,-663 2553.5,-657 2553.5,-651 2553.5,-651 2553.5,-592 2553.5,-592 2553.5,-586 2559.5,-580 2565.5,-580 2565.5,-580 2669.5,-580 2669.5,-580 2675.5,-580 2681.5,-586 2681.5,-592 2681.5,-592 2681.5,-651 2681.5,-651 2681.5,-657 2675.5,-663 2669.5,-663\"/>\n<text text-anchor=\"start\" x=\"2561.5\" y=\"-647.8\" font-family=\"Helvetica,sans-Serif\" font-size=\"14.00\" fill=\"#000000\">particular ≤ 0.234</text>\n<text text-anchor=\"start\" x=\"2579.5\" y=\"-632.8\" font-family=\"Helvetica,sans-Serif\" font-size=\"14.00\" fill=\"#000000\">gini = 0.165</text>\n<text text-anchor=\"start\" x=\"2573.5\" y=\"-617.8\" font-family=\"Helvetica,sans-Serif\" font-size=\"14.00\" fill=\"#000000\">samples = 11</text>\n<text text-anchor=\"start\" x=\"2572\" y=\"-602.8\" font-family=\"Helvetica,sans-Serif\" font-size=\"14.00\" fill=\"#000000\">value = [10, 1]</text>\n<text text-anchor=\"start\" x=\"2588.5\" y=\"-587.8\" font-family=\"Helvetica,sans-Serif\" font-size=\"14.00\" fill=\"#000000\">class = 1</text>\n</g>\n<!-- 90&#45;&gt;91 -->\n<g id=\"edge91\" class=\"edge\">\n<title>90&#45;&gt;91</title>\n<path fill=\"none\" stroke=\"#000000\" d=\"M2639.6084,-698.8796C2637.2153,-690.5037 2634.6733,-681.6067 2632.1977,-672.942\"/>\n<polygon fill=\"#000000\" stroke=\"#000000\" points=\"2635.5549,-671.9518 2629.4423,-663.2981 2628.8243,-673.8749 2635.5549,-671.9518\"/>\n</g>\n<!-- 94 -->\n<g id=\"node95\" class=\"node\">\n<title>94</title>\n<path fill=\"#399de5\" stroke=\"#000000\" d=\"M2787,-655.5C2787,-655.5 2712,-655.5 2712,-655.5 2706,-655.5 2700,-649.5 2700,-643.5 2700,-643.5 2700,-599.5 2700,-599.5 2700,-593.5 2706,-587.5 2712,-587.5 2712,-587.5 2787,-587.5 2787,-587.5 2793,-587.5 2799,-593.5 2799,-599.5 2799,-599.5 2799,-643.5 2799,-643.5 2799,-649.5 2793,-655.5 2787,-655.5\"/>\n<text text-anchor=\"start\" x=\"2720\" y=\"-640.3\" font-family=\"Helvetica,sans-Serif\" font-size=\"14.00\" fill=\"#000000\">gini = 0.0</text>\n<text text-anchor=\"start\" x=\"2710\" y=\"-625.3\" font-family=\"Helvetica,sans-Serif\" font-size=\"14.00\" fill=\"#000000\">samples = 1</text>\n<text text-anchor=\"start\" x=\"2708\" y=\"-610.3\" font-family=\"Helvetica,sans-Serif\" font-size=\"14.00\" fill=\"#000000\">value = [0, 1]</text>\n<text text-anchor=\"start\" x=\"2720.5\" y=\"-595.3\" font-family=\"Helvetica,sans-Serif\" font-size=\"14.00\" fill=\"#000000\">class = 0</text>\n</g>\n<!-- 90&#45;&gt;94 -->\n<g id=\"edge94\" class=\"edge\">\n<title>90&#45;&gt;94</title>\n<path fill=\"none\" stroke=\"#000000\" d=\"M2685.7756,-698.8796C2695.1935,-687.4436 2705.4113,-675.0363 2714.85,-663.575\"/>\n<polygon fill=\"#000000\" stroke=\"#000000\" points=\"2717.5853,-665.7592 2721.2406,-655.8149 2712.1818,-661.3093 2717.5853,-665.7592\"/>\n</g>\n<!-- 92 -->\n<g id=\"node93\" class=\"node\">\n<title>92</title>\n<path fill=\"#e58139\" stroke=\"#000000\" d=\"M2654,-536.5C2654,-536.5 2571,-536.5 2571,-536.5 2565,-536.5 2559,-530.5 2559,-524.5 2559,-524.5 2559,-480.5 2559,-480.5 2559,-474.5 2565,-468.5 2571,-468.5 2571,-468.5 2654,-468.5 2654,-468.5 2660,-468.5 2666,-474.5 2666,-480.5 2666,-480.5 2666,-524.5 2666,-524.5 2666,-530.5 2660,-536.5 2654,-536.5\"/>\n<text text-anchor=\"start\" x=\"2583\" y=\"-521.3\" font-family=\"Helvetica,sans-Serif\" font-size=\"14.00\" fill=\"#000000\">gini = 0.0</text>\n<text text-anchor=\"start\" x=\"2568.5\" y=\"-506.3\" font-family=\"Helvetica,sans-Serif\" font-size=\"14.00\" fill=\"#000000\">samples = 10</text>\n<text text-anchor=\"start\" x=\"2567\" y=\"-491.3\" font-family=\"Helvetica,sans-Serif\" font-size=\"14.00\" fill=\"#000000\">value = [10, 0]</text>\n<text text-anchor=\"start\" x=\"2583.5\" y=\"-476.3\" font-family=\"Helvetica,sans-Serif\" font-size=\"14.00\" fill=\"#000000\">class = 1</text>\n</g>\n<!-- 91&#45;&gt;92 -->\n<g id=\"edge92\" class=\"edge\">\n<title>91&#45;&gt;92</title>\n<path fill=\"none\" stroke=\"#000000\" d=\"M2615.7512,-579.8796C2615.3031,-569.2134 2614.8194,-557.7021 2614.3656,-546.9015\"/>\n<polygon fill=\"#000000\" stroke=\"#000000\" points=\"2617.8586,-546.6592 2613.9418,-536.8149 2610.8648,-546.9531 2617.8586,-546.6592\"/>\n</g>\n<!-- 93 -->\n<g id=\"node94\" class=\"node\">\n<title>93</title>\n<path fill=\"#399de5\" stroke=\"#000000\" d=\"M2771,-536.5C2771,-536.5 2696,-536.5 2696,-536.5 2690,-536.5 2684,-530.5 2684,-524.5 2684,-524.5 2684,-480.5 2684,-480.5 2684,-474.5 2690,-468.5 2696,-468.5 2696,-468.5 2771,-468.5 2771,-468.5 2777,-468.5 2783,-474.5 2783,-480.5 2783,-480.5 2783,-524.5 2783,-524.5 2783,-530.5 2777,-536.5 2771,-536.5\"/>\n<text text-anchor=\"start\" x=\"2704\" y=\"-521.3\" font-family=\"Helvetica,sans-Serif\" font-size=\"14.00\" fill=\"#000000\">gini = 0.0</text>\n<text text-anchor=\"start\" x=\"2694\" y=\"-506.3\" font-family=\"Helvetica,sans-Serif\" font-size=\"14.00\" fill=\"#000000\">samples = 1</text>\n<text text-anchor=\"start\" x=\"2692\" y=\"-491.3\" font-family=\"Helvetica,sans-Serif\" font-size=\"14.00\" fill=\"#000000\">value = [0, 1]</text>\n<text text-anchor=\"start\" x=\"2704.5\" y=\"-476.3\" font-family=\"Helvetica,sans-Serif\" font-size=\"14.00\" fill=\"#000000\">class = 0</text>\n</g>\n<!-- 91&#45;&gt;93 -->\n<g id=\"edge93\" class=\"edge\">\n<title>91&#45;&gt;93</title>\n<path fill=\"none\" stroke=\"#000000\" d=\"M2658.0712,-579.8796C2669.326,-568.3337 2681.5461,-555.7976 2692.8078,-544.2446\"/>\n<polygon fill=\"#000000\" stroke=\"#000000\" points=\"2695.5762,-546.4188 2700.0501,-536.8149 2690.5636,-541.5326 2695.5762,-546.4188\"/>\n</g>\n<!-- 96 -->\n<g id=\"node97\" class=\"node\">\n<title>96</title>\n<path fill=\"#f1bb95\" stroke=\"#000000\" d=\"M2905.5,-782C2905.5,-782 2813.5,-782 2813.5,-782 2807.5,-782 2801.5,-776 2801.5,-770 2801.5,-770 2801.5,-711 2801.5,-711 2801.5,-705 2807.5,-699 2813.5,-699 2813.5,-699 2905.5,-699 2905.5,-699 2911.5,-699 2917.5,-705 2917.5,-711 2917.5,-711 2917.5,-770 2917.5,-770 2917.5,-776 2911.5,-782 2905.5,-782\"/>\n<text text-anchor=\"start\" x=\"2810.5\" y=\"-766.8\" font-family=\"Helvetica,sans-Serif\" font-size=\"14.00\" fill=\"#000000\">airlines ≤ 0.123</text>\n<text text-anchor=\"start\" x=\"2821.5\" y=\"-751.8\" font-family=\"Helvetica,sans-Serif\" font-size=\"14.00\" fill=\"#000000\">gini = 0.433</text>\n<text text-anchor=\"start\" x=\"2815.5\" y=\"-736.8\" font-family=\"Helvetica,sans-Serif\" font-size=\"14.00\" fill=\"#000000\">samples = 79</text>\n<text text-anchor=\"start\" x=\"2809.5\" y=\"-721.8\" font-family=\"Helvetica,sans-Serif\" font-size=\"14.00\" fill=\"#000000\">value = [54, 25]</text>\n<text text-anchor=\"start\" x=\"2830.5\" y=\"-706.8\" font-family=\"Helvetica,sans-Serif\" font-size=\"14.00\" fill=\"#000000\">class = 1</text>\n</g>\n<!-- 95&#45;&gt;96 -->\n<g id=\"edge96\" class=\"edge\">\n<title>95&#45;&gt;96</title>\n<path fill=\"none\" stroke=\"#000000\" d=\"M2858.1995,-817.8796C2858.3372,-809.6838 2858.4834,-800.9891 2858.626,-792.5013\"/>\n<polygon fill=\"#000000\" stroke=\"#000000\" points=\"2862.1289,-792.3555 2858.7975,-782.2981 2855.1299,-792.2378 2862.1289,-792.3555\"/>\n</g>\n<!-- 115 -->\n<g id=\"node116\" class=\"node\">\n<title>115</title>\n<path fill=\"#399de5\" stroke=\"#000000\" d=\"M3023,-774.5C3023,-774.5 2948,-774.5 2948,-774.5 2942,-774.5 2936,-768.5 2936,-762.5 2936,-762.5 2936,-718.5 2936,-718.5 2936,-712.5 2942,-706.5 2948,-706.5 2948,-706.5 3023,-706.5 3023,-706.5 3029,-706.5 3035,-712.5 3035,-718.5 3035,-718.5 3035,-762.5 3035,-762.5 3035,-768.5 3029,-774.5 3023,-774.5\"/>\n<text text-anchor=\"start\" x=\"2956\" y=\"-759.3\" font-family=\"Helvetica,sans-Serif\" font-size=\"14.00\" fill=\"#000000\">gini = 0.0</text>\n<text text-anchor=\"start\" x=\"2946\" y=\"-744.3\" font-family=\"Helvetica,sans-Serif\" font-size=\"14.00\" fill=\"#000000\">samples = 6</text>\n<text text-anchor=\"start\" x=\"2944\" y=\"-729.3\" font-family=\"Helvetica,sans-Serif\" font-size=\"14.00\" fill=\"#000000\">value = [0, 6]</text>\n<text text-anchor=\"start\" x=\"2956.5\" y=\"-714.3\" font-family=\"Helvetica,sans-Serif\" font-size=\"14.00\" fill=\"#000000\">class = 0</text>\n</g>\n<!-- 95&#45;&gt;115 -->\n<g id=\"edge115\" class=\"edge\">\n<title>95&#45;&gt;115</title>\n<path fill=\"none\" stroke=\"#000000\" d=\"M2902.2682,-817.8796C2914.8056,-806.2237 2928.4284,-793.5587 2940.953,-781.9148\"/>\n<polygon fill=\"#000000\" stroke=\"#000000\" points=\"2943.6491,-784.1872 2948.5898,-774.8149 2938.8828,-779.0605 2943.6491,-784.1872\"/>\n</g>\n<!-- 97 -->\n<g id=\"node98\" class=\"node\">\n<title>97</title>\n<path fill=\"#f0b48a\" stroke=\"#000000\" d=\"M2950,-663C2950,-663 2829,-663 2829,-663 2823,-663 2817,-657 2817,-651 2817,-651 2817,-592 2817,-592 2817,-586 2823,-580 2829,-580 2829,-580 2950,-580 2950,-580 2956,-580 2962,-586 2962,-592 2962,-592 2962,-651 2962,-651 2962,-657 2956,-663 2950,-663\"/>\n<text text-anchor=\"start\" x=\"2825\" y=\"-647.8\" font-family=\"Helvetica,sans-Serif\" font-size=\"14.00\" fill=\"#000000\">catastrophe ≤ 0.185</text>\n<text text-anchor=\"start\" x=\"2851.5\" y=\"-632.8\" font-family=\"Helvetica,sans-Serif\" font-size=\"14.00\" fill=\"#000000\">gini = 0.411</text>\n<text text-anchor=\"start\" x=\"2845.5\" y=\"-617.8\" font-family=\"Helvetica,sans-Serif\" font-size=\"14.00\" fill=\"#000000\">samples = 76</text>\n<text text-anchor=\"start\" x=\"2839.5\" y=\"-602.8\" font-family=\"Helvetica,sans-Serif\" font-size=\"14.00\" fill=\"#000000\">value = [54, 22]</text>\n<text text-anchor=\"start\" x=\"2860.5\" y=\"-587.8\" font-family=\"Helvetica,sans-Serif\" font-size=\"14.00\" fill=\"#000000\">class = 1</text>\n</g>\n<!-- 96&#45;&gt;97 -->\n<g id=\"edge97\" class=\"edge\">\n<title>96&#45;&gt;97</title>\n<path fill=\"none\" stroke=\"#000000\" d=\"M2869.9925,-698.8796C2872.0814,-690.5938 2874.2988,-681.798 2876.4609,-673.2216\"/>\n<polygon fill=\"#000000\" stroke=\"#000000\" points=\"2879.9119,-673.8503 2878.9627,-663.2981 2873.1243,-672.1391 2879.9119,-673.8503\"/>\n</g>\n<!-- 114 -->\n<g id=\"node115\" class=\"node\">\n<title>114</title>\n<path fill=\"#399de5\" stroke=\"#000000\" d=\"M3067,-655.5C3067,-655.5 2992,-655.5 2992,-655.5 2986,-655.5 2980,-649.5 2980,-643.5 2980,-643.5 2980,-599.5 2980,-599.5 2980,-593.5 2986,-587.5 2992,-587.5 2992,-587.5 3067,-587.5 3067,-587.5 3073,-587.5 3079,-593.5 3079,-599.5 3079,-599.5 3079,-643.5 3079,-643.5 3079,-649.5 3073,-655.5 3067,-655.5\"/>\n<text text-anchor=\"start\" x=\"3000\" y=\"-640.3\" font-family=\"Helvetica,sans-Serif\" font-size=\"14.00\" fill=\"#000000\">gini = 0.0</text>\n<text text-anchor=\"start\" x=\"2990\" y=\"-625.3\" font-family=\"Helvetica,sans-Serif\" font-size=\"14.00\" fill=\"#000000\">samples = 3</text>\n<text text-anchor=\"start\" x=\"2988\" y=\"-610.3\" font-family=\"Helvetica,sans-Serif\" font-size=\"14.00\" fill=\"#000000\">value = [0, 3]</text>\n<text text-anchor=\"start\" x=\"3000.5\" y=\"-595.3\" font-family=\"Helvetica,sans-Serif\" font-size=\"14.00\" fill=\"#000000\">class = 0</text>\n</g>\n<!-- 96&#45;&gt;114 -->\n<g id=\"edge114\" class=\"edge\">\n<title>96&#45;&gt;114</title>\n<path fill=\"none\" stroke=\"#000000\" d=\"M2917.711,-699.9139C2934.7345,-688.0294 2953.3698,-675.0047 2970.5,-663 2971.1346,-662.5553 2971.7729,-662.1079 2972.4145,-661.6581\"/>\n<polygon fill=\"#000000\" stroke=\"#000000\" points=\"2974.7165,-664.3185 2980.8926,-655.71 2970.6962,-658.5882 2974.7165,-664.3185\"/>\n</g>\n<!-- 98 -->\n<g id=\"node99\" class=\"node\">\n<title>98</title>\n<path fill=\"#efb082\" stroke=\"#000000\" d=\"M2917.5,-544C2917.5,-544 2825.5,-544 2825.5,-544 2819.5,-544 2813.5,-538 2813.5,-532 2813.5,-532 2813.5,-473 2813.5,-473 2813.5,-467 2819.5,-461 2825.5,-461 2825.5,-461 2917.5,-461 2917.5,-461 2923.5,-461 2929.5,-467 2929.5,-473 2929.5,-473 2929.5,-532 2929.5,-532 2929.5,-538 2923.5,-544 2917.5,-544\"/>\n<text text-anchor=\"start\" x=\"2828\" y=\"-528.8\" font-family=\"Helvetica,sans-Serif\" font-size=\"14.00\" fill=\"#000000\">news ≤ 0.145</text>\n<text text-anchor=\"start\" x=\"2833.5\" y=\"-513.8\" font-family=\"Helvetica,sans-Serif\" font-size=\"14.00\" fill=\"#000000\">gini = 0.394</text>\n<text text-anchor=\"start\" x=\"2827.5\" y=\"-498.8\" font-family=\"Helvetica,sans-Serif\" font-size=\"14.00\" fill=\"#000000\">samples = 74</text>\n<text text-anchor=\"start\" x=\"2821.5\" y=\"-483.8\" font-family=\"Helvetica,sans-Serif\" font-size=\"14.00\" fill=\"#000000\">value = [54, 20]</text>\n<text text-anchor=\"start\" x=\"2842.5\" y=\"-468.8\" font-family=\"Helvetica,sans-Serif\" font-size=\"14.00\" fill=\"#000000\">class = 1</text>\n</g>\n<!-- 97&#45;&gt;98 -->\n<g id=\"edge98\" class=\"edge\">\n<title>97&#45;&gt;98</title>\n<path fill=\"none\" stroke=\"#000000\" d=\"M2883.2045,-579.8796C2881.9512,-571.5938 2880.6207,-562.798 2879.3234,-554.2216\"/>\n<polygon fill=\"#000000\" stroke=\"#000000\" points=\"2882.7787,-553.6621 2877.8224,-544.2981 2875.8574,-554.7091 2882.7787,-553.6621\"/>\n</g>\n<!-- 113 -->\n<g id=\"node114\" class=\"node\">\n<title>113</title>\n<path fill=\"#399de5\" stroke=\"#000000\" d=\"M3035,-536.5C3035,-536.5 2960,-536.5 2960,-536.5 2954,-536.5 2948,-530.5 2948,-524.5 2948,-524.5 2948,-480.5 2948,-480.5 2948,-474.5 2954,-468.5 2960,-468.5 2960,-468.5 3035,-468.5 3035,-468.5 3041,-468.5 3047,-474.5 3047,-480.5 3047,-480.5 3047,-524.5 3047,-524.5 3047,-530.5 3041,-536.5 3035,-536.5\"/>\n<text text-anchor=\"start\" x=\"2968\" y=\"-521.3\" font-family=\"Helvetica,sans-Serif\" font-size=\"14.00\" fill=\"#000000\">gini = 0.0</text>\n<text text-anchor=\"start\" x=\"2958\" y=\"-506.3\" font-family=\"Helvetica,sans-Serif\" font-size=\"14.00\" fill=\"#000000\">samples = 2</text>\n<text text-anchor=\"start\" x=\"2956\" y=\"-491.3\" font-family=\"Helvetica,sans-Serif\" font-size=\"14.00\" fill=\"#000000\">value = [0, 2]</text>\n<text text-anchor=\"start\" x=\"2968.5\" y=\"-476.3\" font-family=\"Helvetica,sans-Serif\" font-size=\"14.00\" fill=\"#000000\">class = 0</text>\n</g>\n<!-- 97&#45;&gt;113 -->\n<g id=\"edge113\" class=\"edge\">\n<title>97&#45;&gt;113</title>\n<path fill=\"none\" stroke=\"#000000\" d=\"M2927.2732,-579.8796C2937.7518,-568.3337 2949.1291,-555.7976 2959.6141,-544.2446\"/>\n<polygon fill=\"#000000\" stroke=\"#000000\" points=\"2962.2282,-546.5722 2966.357,-536.8149 2957.0447,-541.8678 2962.2282,-546.5722\"/>\n</g>\n<!-- 99 -->\n<g id=\"node100\" class=\"node\">\n<title>99</title>\n<path fill=\"#eeab7b\" stroke=\"#000000\" d=\"M2854.5,-425C2854.5,-425 2762.5,-425 2762.5,-425 2756.5,-425 2750.5,-419 2750.5,-413 2750.5,-413 2750.5,-354 2750.5,-354 2750.5,-348 2756.5,-342 2762.5,-342 2762.5,-342 2854.5,-342 2854.5,-342 2860.5,-342 2866.5,-348 2866.5,-354 2866.5,-354 2866.5,-413 2866.5,-413 2866.5,-419 2860.5,-425 2854.5,-425\"/>\n<text text-anchor=\"start\" x=\"2776.5\" y=\"-409.8\" font-family=\"Helvetica,sans-Serif\" font-size=\"14.00\" fill=\"#000000\">... ≤ 0.274</text>\n<text text-anchor=\"start\" x=\"2770.5\" y=\"-394.8\" font-family=\"Helvetica,sans-Serif\" font-size=\"14.00\" fill=\"#000000\">gini = 0.375</text>\n<text text-anchor=\"start\" x=\"2764.5\" y=\"-379.8\" font-family=\"Helvetica,sans-Serif\" font-size=\"14.00\" fill=\"#000000\">samples = 72</text>\n<text text-anchor=\"start\" x=\"2758.5\" y=\"-364.8\" font-family=\"Helvetica,sans-Serif\" font-size=\"14.00\" fill=\"#000000\">value = [54, 18]</text>\n<text text-anchor=\"start\" x=\"2779.5\" y=\"-349.8\" font-family=\"Helvetica,sans-Serif\" font-size=\"14.00\" fill=\"#000000\">class = 1</text>\n</g>\n<!-- 98&#45;&gt;99 -->\n<g id=\"edge99\" class=\"edge\">\n<title>98&#45;&gt;99</title>\n<path fill=\"none\" stroke=\"#000000\" d=\"M2849.4657,-460.8796C2844.936,-452.3236 2840.1185,-443.2238 2835.4382,-434.3833\"/>\n<polygon fill=\"#000000\" stroke=\"#000000\" points=\"2838.4006,-432.4983 2830.6284,-425.2981 2832.2141,-435.7736 2838.4006,-432.4983\"/>\n</g>\n<!-- 112 -->\n<g id=\"node113\" class=\"node\">\n<title>112</title>\n<path fill=\"#399de5\" stroke=\"#000000\" d=\"M2972,-417.5C2972,-417.5 2897,-417.5 2897,-417.5 2891,-417.5 2885,-411.5 2885,-405.5 2885,-405.5 2885,-361.5 2885,-361.5 2885,-355.5 2891,-349.5 2897,-349.5 2897,-349.5 2972,-349.5 2972,-349.5 2978,-349.5 2984,-355.5 2984,-361.5 2984,-361.5 2984,-405.5 2984,-405.5 2984,-411.5 2978,-417.5 2972,-417.5\"/>\n<text text-anchor=\"start\" x=\"2905\" y=\"-402.3\" font-family=\"Helvetica,sans-Serif\" font-size=\"14.00\" fill=\"#000000\">gini = 0.0</text>\n<text text-anchor=\"start\" x=\"2895\" y=\"-387.3\" font-family=\"Helvetica,sans-Serif\" font-size=\"14.00\" fill=\"#000000\">samples = 2</text>\n<text text-anchor=\"start\" x=\"2893\" y=\"-372.3\" font-family=\"Helvetica,sans-Serif\" font-size=\"14.00\" fill=\"#000000\">value = [0, 2]</text>\n<text text-anchor=\"start\" x=\"2905.5\" y=\"-357.3\" font-family=\"Helvetica,sans-Serif\" font-size=\"14.00\" fill=\"#000000\">class = 0</text>\n</g>\n<!-- 98&#45;&gt;112 -->\n<g id=\"edge112\" class=\"edge\">\n<title>98&#45;&gt;112</title>\n<path fill=\"none\" stroke=\"#000000\" d=\"M2893.5343,-460.8796C2899.3558,-449.8835 2905.6527,-437.9893 2911.5227,-426.9015\"/>\n<polygon fill=\"#000000\" stroke=\"#000000\" points=\"2914.7476,-428.2905 2916.3333,-417.8149 2908.5611,-425.0152 2914.7476,-428.2905\"/>\n</g>\n<!-- 100 -->\n<g id=\"node101\" class=\"node\">\n<title>100</title>\n<path fill=\"#ea9a60\" stroke=\"#000000\" d=\"M2840.5,-306C2840.5,-306 2736.5,-306 2736.5,-306 2730.5,-306 2724.5,-300 2724.5,-294 2724.5,-294 2724.5,-235 2724.5,-235 2724.5,-229 2730.5,-223 2736.5,-223 2736.5,-223 2840.5,-223 2840.5,-223 2846.5,-223 2852.5,-229 2852.5,-235 2852.5,-235 2852.5,-294 2852.5,-294 2852.5,-300 2846.5,-306 2840.5,-306\"/>\n<text text-anchor=\"start\" x=\"2732.5\" y=\"-290.8\" font-family=\"Helvetica,sans-Serif\" font-size=\"14.00\" fill=\"#000000\">american ≤ 0.193</text>\n<text text-anchor=\"start\" x=\"2750.5\" y=\"-275.8\" font-family=\"Helvetica,sans-Serif\" font-size=\"14.00\" fill=\"#000000\">gini = 0.273</text>\n<text text-anchor=\"start\" x=\"2744.5\" y=\"-260.8\" font-family=\"Helvetica,sans-Serif\" font-size=\"14.00\" fill=\"#000000\">samples = 49</text>\n<text text-anchor=\"start\" x=\"2743\" y=\"-245.8\" font-family=\"Helvetica,sans-Serif\" font-size=\"14.00\" fill=\"#000000\">value = [41, 8]</text>\n<text text-anchor=\"start\" x=\"2759.5\" y=\"-230.8\" font-family=\"Helvetica,sans-Serif\" font-size=\"14.00\" fill=\"#000000\">class = 1</text>\n</g>\n<!-- 99&#45;&gt;100 -->\n<g id=\"edge100\" class=\"edge\">\n<title>99&#45;&gt;100</title>\n<path fill=\"none\" stroke=\"#000000\" d=\"M2801.505,-341.8796C2800.1124,-333.5938 2798.6341,-324.798 2797.1927,-316.2216\"/>\n<polygon fill=\"#000000\" stroke=\"#000000\" points=\"2800.634,-315.5796 2795.5249,-306.2981 2793.7308,-316.7399 2800.634,-315.5796\"/>\n</g>\n<!-- 105 -->\n<g id=\"node106\" class=\"node\">\n<title>105</title>\n<path fill=\"#f9e2d1\" stroke=\"#000000\" d=\"M2974.5,-306C2974.5,-306 2882.5,-306 2882.5,-306 2876.5,-306 2870.5,-300 2870.5,-294 2870.5,-294 2870.5,-235 2870.5,-235 2870.5,-229 2876.5,-223 2882.5,-223 2882.5,-223 2974.5,-223 2974.5,-223 2980.5,-223 2986.5,-229 2986.5,-235 2986.5,-235 2986.5,-294 2986.5,-294 2986.5,-300 2980.5,-306 2974.5,-306\"/>\n<text text-anchor=\"start\" x=\"2896.5\" y=\"-290.8\" font-family=\"Helvetica,sans-Serif\" font-size=\"14.00\" fill=\"#000000\">... ≤ 0.331</text>\n<text text-anchor=\"start\" x=\"2890.5\" y=\"-275.8\" font-family=\"Helvetica,sans-Serif\" font-size=\"14.00\" fill=\"#000000\">gini = 0.491</text>\n<text text-anchor=\"start\" x=\"2884.5\" y=\"-260.8\" font-family=\"Helvetica,sans-Serif\" font-size=\"14.00\" fill=\"#000000\">samples = 23</text>\n<text text-anchor=\"start\" x=\"2878.5\" y=\"-245.8\" font-family=\"Helvetica,sans-Serif\" font-size=\"14.00\" fill=\"#000000\">value = [13, 10]</text>\n<text text-anchor=\"start\" x=\"2899.5\" y=\"-230.8\" font-family=\"Helvetica,sans-Serif\" font-size=\"14.00\" fill=\"#000000\">class = 1</text>\n</g>\n<!-- 99&#45;&gt;105 -->\n<g id=\"edge105\" class=\"edge\">\n<title>99&#45;&gt;105</title>\n<path fill=\"none\" stroke=\"#000000\" d=\"M2850.4702,-341.8796C2859.7338,-332.6931 2869.6296,-322.8798 2879.1552,-313.4336\"/>\n<polygon fill=\"#000000\" stroke=\"#000000\" points=\"2881.7146,-315.8247 2886.3507,-306.2981 2876.7856,-310.8543 2881.7146,-315.8247\"/>\n</g>\n<!-- 101 -->\n<g id=\"node102\" class=\"node\">\n<title>101</title>\n<path fill=\"#e9975b\" stroke=\"#000000\" d=\"M2714,-187C2714,-187 2631,-187 2631,-187 2625,-187 2619,-181 2619,-175 2619,-175 2619,-116 2619,-116 2619,-110 2625,-104 2631,-104 2631,-104 2714,-104 2714,-104 2720,-104 2726,-110 2726,-116 2726,-116 2726,-175 2726,-175 2726,-181 2720,-187 2714,-187\"/>\n<text text-anchor=\"start\" x=\"2629\" y=\"-171.8\" font-family=\"Helvetica,sans-Serif\" font-size=\"14.00\" fill=\"#000000\">block ≤ 0.114</text>\n<text text-anchor=\"start\" x=\"2634.5\" y=\"-156.8\" font-family=\"Helvetica,sans-Serif\" font-size=\"14.00\" fill=\"#000000\">gini = 0.249</text>\n<text text-anchor=\"start\" x=\"2628.5\" y=\"-141.8\" font-family=\"Helvetica,sans-Serif\" font-size=\"14.00\" fill=\"#000000\">samples = 48</text>\n<text text-anchor=\"start\" x=\"2627\" y=\"-126.8\" font-family=\"Helvetica,sans-Serif\" font-size=\"14.00\" fill=\"#000000\">value = [41, 7]</text>\n<text text-anchor=\"start\" x=\"2643.5\" y=\"-111.8\" font-family=\"Helvetica,sans-Serif\" font-size=\"14.00\" fill=\"#000000\">class = 1</text>\n</g>\n<!-- 100&#45;&gt;101 -->\n<g id=\"edge101\" class=\"edge\">\n<title>100&#45;&gt;101</title>\n<path fill=\"none\" stroke=\"#000000\" d=\"M2747.9288,-222.8796C2739.0618,-213.7832 2729.5956,-204.0722 2720.4709,-194.7116\"/>\n<polygon fill=\"#000000\" stroke=\"#000000\" points=\"2722.7309,-192.0158 2713.2443,-187.2981 2717.7183,-196.9019 2722.7309,-192.0158\"/>\n</g>\n<!-- 104 -->\n<g id=\"node105\" class=\"node\">\n<title>104</title>\n<path fill=\"#399de5\" stroke=\"#000000\" d=\"M2831,-179.5C2831,-179.5 2756,-179.5 2756,-179.5 2750,-179.5 2744,-173.5 2744,-167.5 2744,-167.5 2744,-123.5 2744,-123.5 2744,-117.5 2750,-111.5 2756,-111.5 2756,-111.5 2831,-111.5 2831,-111.5 2837,-111.5 2843,-117.5 2843,-123.5 2843,-123.5 2843,-167.5 2843,-167.5 2843,-173.5 2837,-179.5 2831,-179.5\"/>\n<text text-anchor=\"start\" x=\"2764\" y=\"-164.3\" font-family=\"Helvetica,sans-Serif\" font-size=\"14.00\" fill=\"#000000\">gini = 0.0</text>\n<text text-anchor=\"start\" x=\"2754\" y=\"-149.3\" font-family=\"Helvetica,sans-Serif\" font-size=\"14.00\" fill=\"#000000\">samples = 1</text>\n<text text-anchor=\"start\" x=\"2752\" y=\"-134.3\" font-family=\"Helvetica,sans-Serif\" font-size=\"14.00\" fill=\"#000000\">value = [0, 1]</text>\n<text text-anchor=\"start\" x=\"2764.5\" y=\"-119.3\" font-family=\"Helvetica,sans-Serif\" font-size=\"14.00\" fill=\"#000000\">class = 0</text>\n</g>\n<!-- 100&#45;&gt;104 -->\n<g id=\"edge104\" class=\"edge\">\n<title>100&#45;&gt;104</title>\n<path fill=\"none\" stroke=\"#000000\" d=\"M2790.2488,-222.8796C2790.6969,-212.2134 2791.1806,-200.7021 2791.6344,-189.9015\"/>\n<polygon fill=\"#000000\" stroke=\"#000000\" points=\"2795.1352,-189.9531 2792.0582,-179.8149 2788.1414,-189.6592 2795.1352,-189.9531\"/>\n</g>\n<!-- 102 -->\n<g id=\"node103\" class=\"node\">\n<title>102</title>\n<path fill=\"#e99356\" stroke=\"#000000\" d=\"M2603,-68C2603,-68 2520,-68 2520,-68 2514,-68 2508,-62 2508,-56 2508,-56 2508,-12 2508,-12 2508,-6 2514,0 2520,0 2520,0 2603,0 2603,0 2609,0 2615,-6 2615,-12 2615,-12 2615,-56 2615,-56 2615,-62 2609,-68 2603,-68\"/>\n<text text-anchor=\"start\" x=\"2523.5\" y=\"-52.8\" font-family=\"Helvetica,sans-Serif\" font-size=\"14.00\" fill=\"#000000\">gini = 0.223</text>\n<text text-anchor=\"start\" x=\"2517.5\" y=\"-37.8\" font-family=\"Helvetica,sans-Serif\" font-size=\"14.00\" fill=\"#000000\">samples = 47</text>\n<text text-anchor=\"start\" x=\"2516\" y=\"-22.8\" font-family=\"Helvetica,sans-Serif\" font-size=\"14.00\" fill=\"#000000\">value = [41, 6]</text>\n<text text-anchor=\"start\" x=\"2532.5\" y=\"-7.8\" font-family=\"Helvetica,sans-Serif\" font-size=\"14.00\" fill=\"#000000\">class = 1</text>\n</g>\n<!-- 101&#45;&gt;102 -->\n<g id=\"edge102\" class=\"edge\">\n<title>101&#45;&gt;102</title>\n<path fill=\"none\" stroke=\"#000000\" d=\"M2631.1677,-103.9815C2621.9267,-94.6989 2612.1242,-84.8522 2602.8813,-75.5677\"/>\n<polygon fill=\"#000000\" stroke=\"#000000\" points=\"2605.1457,-72.8813 2595.61,-68.2637 2600.1848,-77.82 2605.1457,-72.8813\"/>\n</g>\n<!-- 103 -->\n<g id=\"node104\" class=\"node\">\n<title>103</title>\n<path fill=\"#399de5\" stroke=\"#000000\" d=\"M2720,-68C2720,-68 2645,-68 2645,-68 2639,-68 2633,-62 2633,-56 2633,-56 2633,-12 2633,-12 2633,-6 2639,0 2645,0 2645,0 2720,0 2720,0 2726,0 2732,-6 2732,-12 2732,-12 2732,-56 2732,-56 2732,-62 2726,-68 2720,-68\"/>\n<text text-anchor=\"start\" x=\"2653\" y=\"-52.8\" font-family=\"Helvetica,sans-Serif\" font-size=\"14.00\" fill=\"#000000\">gini = 0.0</text>\n<text text-anchor=\"start\" x=\"2643\" y=\"-37.8\" font-family=\"Helvetica,sans-Serif\" font-size=\"14.00\" fill=\"#000000\">samples = 1</text>\n<text text-anchor=\"start\" x=\"2641\" y=\"-22.8\" font-family=\"Helvetica,sans-Serif\" font-size=\"14.00\" fill=\"#000000\">value = [0, 1]</text>\n<text text-anchor=\"start\" x=\"2653.5\" y=\"-7.8\" font-family=\"Helvetica,sans-Serif\" font-size=\"14.00\" fill=\"#000000\">class = 0</text>\n</g>\n<!-- 101&#45;&gt;103 -->\n<g id=\"edge103\" class=\"edge\">\n<title>101&#45;&gt;103</title>\n<path fill=\"none\" stroke=\"#000000\" d=\"M2676.2236,-103.9815C2676.9737,-95.618 2677.7649,-86.7965 2678.5232,-78.3409\"/>\n<polygon fill=\"#000000\" stroke=\"#000000\" points=\"2682.0197,-78.5364 2679.427,-68.2637 2675.0477,-77.911 2682.0197,-78.5364\"/>\n</g>\n<!-- 106 -->\n<g id=\"node107\" class=\"node\">\n<title>106</title>\n<path fill=\"#aad5f4\" stroke=\"#000000\" d=\"M2963.5,-187C2963.5,-187 2883.5,-187 2883.5,-187 2877.5,-187 2871.5,-181 2871.5,-175 2871.5,-175 2871.5,-116 2871.5,-116 2871.5,-110 2877.5,-104 2883.5,-104 2883.5,-104 2963.5,-104 2963.5,-104 2969.5,-104 2975.5,-110 2975.5,-116 2975.5,-116 2975.5,-175 2975.5,-175 2975.5,-181 2969.5,-187 2963.5,-187\"/>\n<text text-anchor=\"start\" x=\"2886.5\" y=\"-171.8\" font-family=\"Helvetica,sans-Serif\" font-size=\"14.00\" fill=\"#000000\">like ≤ 0.191</text>\n<text text-anchor=\"start\" x=\"2885.5\" y=\"-156.8\" font-family=\"Helvetica,sans-Serif\" font-size=\"14.00\" fill=\"#000000\">gini = 0.463</text>\n<text text-anchor=\"start\" x=\"2879.5\" y=\"-141.8\" font-family=\"Helvetica,sans-Serif\" font-size=\"14.00\" fill=\"#000000\">samples = 11</text>\n<text text-anchor=\"start\" x=\"2882\" y=\"-126.8\" font-family=\"Helvetica,sans-Serif\" font-size=\"14.00\" fill=\"#000000\">value = [4, 7]</text>\n<text text-anchor=\"start\" x=\"2894.5\" y=\"-111.8\" font-family=\"Helvetica,sans-Serif\" font-size=\"14.00\" fill=\"#000000\">class = 0</text>\n</g>\n<!-- 105&#45;&gt;106 -->\n<g id=\"edge106\" class=\"edge\">\n<title>105&#45;&gt;106</title>\n<path fill=\"none\" stroke=\"#000000\" d=\"M2926.7512,-222.8796C2926.4069,-214.6838 2926.0416,-205.9891 2925.6849,-197.5013\"/>\n<polygon fill=\"#000000\" stroke=\"#000000\" points=\"2929.173,-197.1423 2925.2562,-187.2981 2922.1792,-197.4362 2929.173,-197.1423\"/>\n</g>\n<!-- 109 -->\n<g id=\"node110\" class=\"node\">\n<title>109</title>\n<path fill=\"#eeab7b\" stroke=\"#000000\" d=\"M3101,-187C3101,-187 3006,-187 3006,-187 3000,-187 2994,-181 2994,-175 2994,-175 2994,-116 2994,-116 2994,-110 3000,-104 3006,-104 3006,-104 3101,-104 3101,-104 3107,-104 3113,-110 3113,-116 3113,-116 3113,-175 3113,-175 3113,-181 3107,-187 3101,-187\"/>\n<text text-anchor=\"start\" x=\"3002\" y=\"-171.8\" font-family=\"Helvetica,sans-Serif\" font-size=\"14.00\" fill=\"#000000\">disease ≤ 0.148</text>\n<text text-anchor=\"start\" x=\"3015.5\" y=\"-156.8\" font-family=\"Helvetica,sans-Serif\" font-size=\"14.00\" fill=\"#000000\">gini = 0.375</text>\n<text text-anchor=\"start\" x=\"3009.5\" y=\"-141.8\" font-family=\"Helvetica,sans-Serif\" font-size=\"14.00\" fill=\"#000000\">samples = 12</text>\n<text text-anchor=\"start\" x=\"3012\" y=\"-126.8\" font-family=\"Helvetica,sans-Serif\" font-size=\"14.00\" fill=\"#000000\">value = [9, 3]</text>\n<text text-anchor=\"start\" x=\"3024.5\" y=\"-111.8\" font-family=\"Helvetica,sans-Serif\" font-size=\"14.00\" fill=\"#000000\">class = 1</text>\n</g>\n<!-- 105&#45;&gt;109 -->\n<g id=\"edge109\" class=\"edge\">\n<title>105&#45;&gt;109</title>\n<path fill=\"none\" stroke=\"#000000\" d=\"M2972.2189,-222.8796C2981.8686,-213.6931 2992.1766,-203.8798 3002.0991,-194.4336\"/>\n<polygon fill=\"#000000\" stroke=\"#000000\" points=\"3004.765,-196.7282 3009.5945,-187.2981 2999.9384,-191.6582 3004.765,-196.7282\"/>\n</g>\n<!-- 107 -->\n<g id=\"node108\" class=\"node\">\n<title>107</title>\n<path fill=\"#8ec7f0\" stroke=\"#000000\" d=\"M2847.5,-68C2847.5,-68 2767.5,-68 2767.5,-68 2761.5,-68 2755.5,-62 2755.5,-56 2755.5,-56 2755.5,-12 2755.5,-12 2755.5,-6 2761.5,0 2767.5,0 2767.5,0 2847.5,0 2847.5,0 2853.5,0 2859.5,-6 2859.5,-12 2859.5,-12 2859.5,-56 2859.5,-56 2859.5,-62 2853.5,-68 2847.5,-68\"/>\n<text text-anchor=\"start\" x=\"2774\" y=\"-52.8\" font-family=\"Helvetica,sans-Serif\" font-size=\"14.00\" fill=\"#000000\">gini = 0.42</text>\n<text text-anchor=\"start\" x=\"2763.5\" y=\"-37.8\" font-family=\"Helvetica,sans-Serif\" font-size=\"14.00\" fill=\"#000000\">samples = 10</text>\n<text text-anchor=\"start\" x=\"2766\" y=\"-22.8\" font-family=\"Helvetica,sans-Serif\" font-size=\"14.00\" fill=\"#000000\">value = [3, 7]</text>\n<text text-anchor=\"start\" x=\"2778.5\" y=\"-7.8\" font-family=\"Helvetica,sans-Serif\" font-size=\"14.00\" fill=\"#000000\">class = 0</text>\n</g>\n<!-- 106&#45;&gt;107 -->\n<g id=\"edge107\" class=\"edge\">\n<title>106&#45;&gt;107</title>\n<path fill=\"none\" stroke=\"#000000\" d=\"M2880.3059,-103.9815C2870.5531,-94.607 2860.2017,-84.6572 2850.4586,-75.2921\"/>\n<polygon fill=\"#000000\" stroke=\"#000000\" points=\"2852.7815,-72.6702 2843.1465,-68.2637 2847.9306,-77.7169 2852.7815,-72.6702\"/>\n</g>\n<!-- 108 -->\n<g id=\"node109\" class=\"node\">\n<title>108</title>\n<path fill=\"#e58139\" stroke=\"#000000\" d=\"M2965,-68C2965,-68 2890,-68 2890,-68 2884,-68 2878,-62 2878,-56 2878,-56 2878,-12 2878,-12 2878,-6 2884,0 2890,0 2890,0 2965,0 2965,0 2971,0 2977,-6 2977,-12 2977,-12 2977,-56 2977,-56 2977,-62 2971,-68 2965,-68\"/>\n<text text-anchor=\"start\" x=\"2898\" y=\"-52.8\" font-family=\"Helvetica,sans-Serif\" font-size=\"14.00\" fill=\"#000000\">gini = 0.0</text>\n<text text-anchor=\"start\" x=\"2888\" y=\"-37.8\" font-family=\"Helvetica,sans-Serif\" font-size=\"14.00\" fill=\"#000000\">samples = 1</text>\n<text text-anchor=\"start\" x=\"2886\" y=\"-22.8\" font-family=\"Helvetica,sans-Serif\" font-size=\"14.00\" fill=\"#000000\">value = [1, 0]</text>\n<text text-anchor=\"start\" x=\"2898.5\" y=\"-7.8\" font-family=\"Helvetica,sans-Serif\" font-size=\"14.00\" fill=\"#000000\">class = 1</text>\n</g>\n<!-- 106&#45;&gt;108 -->\n<g id=\"edge108\" class=\"edge\">\n<title>106&#45;&gt;108</title>\n<path fill=\"none\" stroke=\"#000000\" d=\"M2924.9895,-103.9815C2925.2895,-95.618 2925.606,-86.7965 2925.9093,-78.3409\"/>\n<polygon fill=\"#000000\" stroke=\"#000000\" points=\"2929.41,-78.3828 2926.2708,-68.2637 2922.4145,-78.1317 2929.41,-78.3828\"/>\n</g>\n<!-- 110 -->\n<g id=\"node111\" class=\"node\">\n<title>110</title>\n<path fill=\"#eb9d65\" stroke=\"#000000\" d=\"M3090.5,-68C3090.5,-68 3010.5,-68 3010.5,-68 3004.5,-68 2998.5,-62 2998.5,-56 2998.5,-56 2998.5,-12 2998.5,-12 2998.5,-6 3004.5,0 3010.5,0 3010.5,0 3090.5,0 3090.5,0 3096.5,0 3102.5,-6 3102.5,-12 3102.5,-12 3102.5,-56 3102.5,-56 3102.5,-62 3096.5,-68 3090.5,-68\"/>\n<text text-anchor=\"start\" x=\"3012.5\" y=\"-52.8\" font-family=\"Helvetica,sans-Serif\" font-size=\"14.00\" fill=\"#000000\">gini = 0.298</text>\n<text text-anchor=\"start\" x=\"3006.5\" y=\"-37.8\" font-family=\"Helvetica,sans-Serif\" font-size=\"14.00\" fill=\"#000000\">samples = 11</text>\n<text text-anchor=\"start\" x=\"3009\" y=\"-22.8\" font-family=\"Helvetica,sans-Serif\" font-size=\"14.00\" fill=\"#000000\">value = [9, 2]</text>\n<text text-anchor=\"start\" x=\"3021.5\" y=\"-7.8\" font-family=\"Helvetica,sans-Serif\" font-size=\"14.00\" fill=\"#000000\">class = 1</text>\n</g>\n<!-- 109&#45;&gt;110 -->\n<g id=\"edge110\" class=\"edge\">\n<title>109&#45;&gt;110</title>\n<path fill=\"none\" stroke=\"#000000\" d=\"M3052.3829,-103.9815C3052.1579,-95.618 3051.9205,-86.7965 3051.693,-78.3409\"/>\n<polygon fill=\"#000000\" stroke=\"#000000\" points=\"3055.1897,-78.1659 3051.4219,-68.2637 3048.1922,-78.3542 3055.1897,-78.1659\"/>\n</g>\n<!-- 111 -->\n<g id=\"node112\" class=\"node\">\n<title>111</title>\n<path fill=\"#399de5\" stroke=\"#000000\" d=\"M3208,-68C3208,-68 3133,-68 3133,-68 3127,-68 3121,-62 3121,-56 3121,-56 3121,-12 3121,-12 3121,-6 3127,0 3133,0 3133,0 3208,0 3208,0 3214,0 3220,-6 3220,-12 3220,-12 3220,-56 3220,-56 3220,-62 3214,-68 3208,-68\"/>\n<text text-anchor=\"start\" x=\"3141\" y=\"-52.8\" font-family=\"Helvetica,sans-Serif\" font-size=\"14.00\" fill=\"#000000\">gini = 0.0</text>\n<text text-anchor=\"start\" x=\"3131\" y=\"-37.8\" font-family=\"Helvetica,sans-Serif\" font-size=\"14.00\" fill=\"#000000\">samples = 1</text>\n<text text-anchor=\"start\" x=\"3129\" y=\"-22.8\" font-family=\"Helvetica,sans-Serif\" font-size=\"14.00\" fill=\"#000000\">value = [0, 1]</text>\n<text text-anchor=\"start\" x=\"3141.5\" y=\"-7.8\" font-family=\"Helvetica,sans-Serif\" font-size=\"14.00\" fill=\"#000000\">class = 0</text>\n</g>\n<!-- 109&#45;&gt;111 -->\n<g id=\"edge111\" class=\"edge\">\n<title>109&#45;&gt;111</title>\n<path fill=\"none\" stroke=\"#000000\" d=\"M3097.0665,-103.9815C3106.9034,-94.607 3117.344,-84.6572 3127.1711,-75.2921\"/>\n<polygon fill=\"#000000\" stroke=\"#000000\" points=\"3129.7216,-77.6963 3134.5462,-68.2637 3124.8924,-72.6289 3129.7216,-77.6963\"/>\n</g>\n<!-- 117 -->\n<g id=\"node118\" class=\"node\">\n<title>117</title>\n<path fill=\"#399de5\" stroke=\"#000000\" d=\"M3029,-893.5C3029,-893.5 2946,-893.5 2946,-893.5 2940,-893.5 2934,-887.5 2934,-881.5 2934,-881.5 2934,-837.5 2934,-837.5 2934,-831.5 2940,-825.5 2946,-825.5 2946,-825.5 3029,-825.5 3029,-825.5 3035,-825.5 3041,-831.5 3041,-837.5 3041,-837.5 3041,-881.5 3041,-881.5 3041,-887.5 3035,-893.5 3029,-893.5\"/>\n<text text-anchor=\"start\" x=\"2958\" y=\"-878.3\" font-family=\"Helvetica,sans-Serif\" font-size=\"14.00\" fill=\"#000000\">gini = 0.0</text>\n<text text-anchor=\"start\" x=\"2943.5\" y=\"-863.3\" font-family=\"Helvetica,sans-Serif\" font-size=\"14.00\" fill=\"#000000\">samples = 45</text>\n<text text-anchor=\"start\" x=\"2942\" y=\"-848.3\" font-family=\"Helvetica,sans-Serif\" font-size=\"14.00\" fill=\"#000000\">value = [0, 45]</text>\n<text text-anchor=\"start\" x=\"2958.5\" y=\"-833.3\" font-family=\"Helvetica,sans-Serif\" font-size=\"14.00\" fill=\"#000000\">class = 0</text>\n</g>\n<!-- 116&#45;&gt;117 -->\n<g id=\"edge117\" class=\"edge\">\n<title>116&#45;&gt;117</title>\n<path fill=\"none\" stroke=\"#000000\" d=\"M2987.5,-936.8796C2987.5,-926.2134 2987.5,-914.7021 2987.5,-903.9015\"/>\n<polygon fill=\"#000000\" stroke=\"#000000\" points=\"2991.0001,-903.8149 2987.5,-893.8149 2984.0001,-903.815 2991.0001,-903.8149\"/>\n</g>\n<!-- 118 -->\n<g id=\"node119\" class=\"node\">\n<title>118</title>\n<path fill=\"#f2c09c\" stroke=\"#000000\" d=\"M3146,-901C3146,-901 3071,-901 3071,-901 3065,-901 3059,-895 3059,-889 3059,-889 3059,-830 3059,-830 3059,-824 3065,-818 3071,-818 3071,-818 3146,-818 3146,-818 3152,-818 3158,-824 3158,-830 3158,-830 3158,-889 3158,-889 3158,-895 3152,-901 3146,-901\"/>\n<text text-anchor=\"start\" x=\"3070\" y=\"-885.8\" font-family=\"Helvetica,sans-Serif\" font-size=\"14.00\" fill=\"#000000\">band ≤ 0.45</text>\n<text text-anchor=\"start\" x=\"3070.5\" y=\"-870.8\" font-family=\"Helvetica,sans-Serif\" font-size=\"14.00\" fill=\"#000000\">gini = 0.444</text>\n<text text-anchor=\"start\" x=\"3069\" y=\"-855.8\" font-family=\"Helvetica,sans-Serif\" font-size=\"14.00\" fill=\"#000000\">samples = 3</text>\n<text text-anchor=\"start\" x=\"3067\" y=\"-840.8\" font-family=\"Helvetica,sans-Serif\" font-size=\"14.00\" fill=\"#000000\">value = [2, 1]</text>\n<text text-anchor=\"start\" x=\"3079.5\" y=\"-825.8\" font-family=\"Helvetica,sans-Serif\" font-size=\"14.00\" fill=\"#000000\">class = 1</text>\n</g>\n<!-- 116&#45;&gt;118 -->\n<g id=\"edge118\" class=\"edge\">\n<title>116&#45;&gt;118</title>\n<path fill=\"none\" stroke=\"#000000\" d=\"M3029.8199,-936.8796C3039.1608,-927.6931 3049.139,-917.8798 3058.744,-908.4336\"/>\n<polygon fill=\"#000000\" stroke=\"#000000\" points=\"3061.3238,-910.8054 3065.9994,-901.2981 3056.4155,-905.8146 3061.3238,-910.8054\"/>\n</g>\n<!-- 119 -->\n<g id=\"node120\" class=\"node\">\n<title>119</title>\n<path fill=\"#e58139\" stroke=\"#000000\" d=\"M3144,-774.5C3144,-774.5 3069,-774.5 3069,-774.5 3063,-774.5 3057,-768.5 3057,-762.5 3057,-762.5 3057,-718.5 3057,-718.5 3057,-712.5 3063,-706.5 3069,-706.5 3069,-706.5 3144,-706.5 3144,-706.5 3150,-706.5 3156,-712.5 3156,-718.5 3156,-718.5 3156,-762.5 3156,-762.5 3156,-768.5 3150,-774.5 3144,-774.5\"/>\n<text text-anchor=\"start\" x=\"3077\" y=\"-759.3\" font-family=\"Helvetica,sans-Serif\" font-size=\"14.00\" fill=\"#000000\">gini = 0.0</text>\n<text text-anchor=\"start\" x=\"3067\" y=\"-744.3\" font-family=\"Helvetica,sans-Serif\" font-size=\"14.00\" fill=\"#000000\">samples = 2</text>\n<text text-anchor=\"start\" x=\"3065\" y=\"-729.3\" font-family=\"Helvetica,sans-Serif\" font-size=\"14.00\" fill=\"#000000\">value = [2, 0]</text>\n<text text-anchor=\"start\" x=\"3077.5\" y=\"-714.3\" font-family=\"Helvetica,sans-Serif\" font-size=\"14.00\" fill=\"#000000\">class = 1</text>\n</g>\n<!-- 118&#45;&gt;119 -->\n<g id=\"edge119\" class=\"edge\">\n<title>118&#45;&gt;119</title>\n<path fill=\"none\" stroke=\"#000000\" d=\"M3107.8005,-817.8796C3107.6212,-807.2134 3107.4278,-795.7021 3107.2462,-784.9015\"/>\n<polygon fill=\"#000000\" stroke=\"#000000\" points=\"3110.7444,-784.7547 3107.0767,-774.8149 3103.7454,-784.8724 3110.7444,-784.7547\"/>\n</g>\n<!-- 120 -->\n<g id=\"node121\" class=\"node\">\n<title>120</title>\n<path fill=\"#399de5\" stroke=\"#000000\" d=\"M3261,-774.5C3261,-774.5 3186,-774.5 3186,-774.5 3180,-774.5 3174,-768.5 3174,-762.5 3174,-762.5 3174,-718.5 3174,-718.5 3174,-712.5 3180,-706.5 3186,-706.5 3186,-706.5 3261,-706.5 3261,-706.5 3267,-706.5 3273,-712.5 3273,-718.5 3273,-718.5 3273,-762.5 3273,-762.5 3273,-768.5 3267,-774.5 3261,-774.5\"/>\n<text text-anchor=\"start\" x=\"3194\" y=\"-759.3\" font-family=\"Helvetica,sans-Serif\" font-size=\"14.00\" fill=\"#000000\">gini = 0.0</text>\n<text text-anchor=\"start\" x=\"3184\" y=\"-744.3\" font-family=\"Helvetica,sans-Serif\" font-size=\"14.00\" fill=\"#000000\">samples = 1</text>\n<text text-anchor=\"start\" x=\"3182\" y=\"-729.3\" font-family=\"Helvetica,sans-Serif\" font-size=\"14.00\" fill=\"#000000\">value = [0, 1]</text>\n<text text-anchor=\"start\" x=\"3194.5\" y=\"-714.3\" font-family=\"Helvetica,sans-Serif\" font-size=\"14.00\" fill=\"#000000\">class = 0</text>\n</g>\n<!-- 118&#45;&gt;120 -->\n<g id=\"edge120\" class=\"edge\">\n<title>118&#45;&gt;120</title>\n<path fill=\"none\" stroke=\"#000000\" d=\"M3148.7214,-817.8796C3159.8792,-806.3337 3171.9939,-793.7976 3183.1586,-782.2446\"/>\n<polygon fill=\"#000000\" stroke=\"#000000\" points=\"3185.9061,-784.4381 3190.3385,-774.8149 3180.8725,-779.5736 3185.9061,-784.4381\"/>\n</g>\n</g>\n</svg>\n"
          },
          "metadata": {
            "tags": []
          },
          "execution_count": 104
        }
      ]
    },
    {
      "cell_type": "markdown",
      "metadata": {
        "id": "SiI-8xmYUjTO"
      },
      "source": [
        "Below is a  a code to identify the search for optimal depth for the tree classifier. In order to save from time, we implemented for depth from 50 to 150. As it takes long time to process for this depth and this number of trees, the data was saved locally and later used for the plotting. "
      ]
    },
    {
      "cell_type": "code",
      "metadata": {
        "id": "u6H_QwjgmZTK"
      },
      "source": [
        "# Define vectorizer\r\n",
        "accuracy_train=[]\r\n",
        "accuracy_test=[]\r\n",
        "for depth in range(0,1):#We had run it or the range of (50,150). To avoid keeping it bussy we left like this. \r\n",
        "  tfidf = TfidfVectorizer(ngram_range=(1, 1), tokenizer=spacy_tokenizer)\r\n",
        "\r\n",
        "# Define classifier: TREE   \r\n",
        "  classifier = tree.DecisionTreeClassifier(max_depth=depth)\r\n",
        " \r\n",
        "# Create pipeline\r\n",
        "  pipe = Pipeline([('vectorizer', tfidf),\r\n",
        "                 ('classifier', classifier)])\r\n",
        "\r\n",
        "# Fit model on training set\r\n",
        "  pipe.fit(X_train, y_train)\r\n",
        "\r\n",
        "#Train Accuracy\r\n",
        "#    print(\"Train accuracy:\",pipe.score(X_train, y_train))\r\n",
        "#Test Accuracy\r\n",
        "\r\n",
        "#Train Accuracy with DecisionTree classifier with max_depth was,\r\n",
        "#the test of submitted was\r\n",
        "  y_pred = pipe.predict(X_test)\r\n",
        "\r\n",
        "# Evaluate model\r\n",
        "  accuracy_train.append(round( pipe.score(X_train, y_train),4))\r\n",
        "  accuracy_test.append(round(accuracy_score(y_test, y_pred), 4))\r\n",
        "    #accuracy[(token,depth)]=(pipe.score(X_train, y_train),round(accuracy_score(y_test, y_pred), 4))\r\n",
        "#Plot of accuracies wrt to tokenizer and maximum depth choices "
      ],
      "execution_count": null,
      "outputs": []
    },
    {
      "cell_type": "code",
      "metadata": {
        "id": "hzkirFVKwsgm"
      },
      "source": [
        "#Putting train and test accuracies into a data frame \r\n",
        "accuracies=pd.DataFrame()\r\n",
        "accuracies['Train Accuracies']=accuracy_train\r\n",
        "accuracies['Test Accuracies']=accuracy_test\r\n",
        "\r\n"
      ],
      "execution_count": null,
      "outputs": []
    },
    {
      "cell_type": "code",
      "metadata": {
        "id": "5r2sK84nnOkQ"
      },
      "source": [
        "#Saving values to the local drive\r\n",
        "from google.colab import files\r\n",
        "accuracies.to_csv('accuracies.csv', index=False) \r\n",
        "files.download('accuracies.csv')"
      ],
      "execution_count": null,
      "outputs": []
    },
    {
      "cell_type": "code",
      "metadata": {
        "id": "JyOYPcOO8w8q"
      },
      "source": [
        "# Reading the csv  file from the github directory\r\n",
        "df2=pd.read_csv('https://raw.githubusercontent.com/sarrab/DMML2020_COOP/main/documents/accuracies.csv')"
      ],
      "execution_count": null,
      "outputs": []
    },
    {
      "cell_type": "code",
      "metadata": {
        "colab": {
          "base_uri": "https://localhost:8080/",
          "height": 624
        },
        "id": "hqeZ9JsC-Fee",
        "outputId": "4238af62-72bb-42aa-883b-0d1666c968bd"
      },
      "source": [
        "#Plotting train and test accuraciy with respect to tree depths.\r\n",
        "accuracy_train=df2['Train Accuracies']\r\n",
        "accuracy_test=df2['Test Accuracies']\r\n",
        "\r\n",
        "plt.figure(figsize=(20,10))\r\n",
        "plt.plot(range(50,150), accuracy_train, label=\"train_accuracy\")\r\n",
        "plt.plot(range(50,150), accuracy_test, label=\"test_accuracy\")\r\n",
        "plt.legend(fontsize=10)\r\n",
        "\r\n",
        "#label naming\r\n",
        "plt.xlabel(\"tree depths\")\r\n"
      ],
      "execution_count": null,
      "outputs": [
        {
          "output_type": "execute_result",
          "data": {
            "text/plain": [
              "Text(0.5, 0, 'tree depths')"
            ]
          },
          "metadata": {
            "tags": []
          },
          "execution_count": 116
        },
        {
          "output_type": "display_data",
          "data": {
            "image/png": "[encoded data removed]",
            "text/plain": [
              "<Figure size 1440x720 with 1 Axes>"
            ]
          },
          "metadata": {
            "tags": []
          }
        }
      ]
    },
    {
      "cell_type": "markdown",
      "metadata": {
        "id": "AOJzM7SGcphR"
      },
      "source": [
        "# KNN Model and Grid Search\r\n",
        "\r\n",
        "The k-nearest neighbours algorithm(k-NN), is a classification algorithm based on the k nearest elements. With the k-NN algorithmes the risk of overfitting is high. \r\n",
        "\r\n",
        "\r\n",
        "The bias is an error from erroneous assumptions in the learning algorithm. High bias can cause an algorithm to miss the relevant relations between features and target outputs. In other words, model with high bias pays very little attention to the training data and oversimplifies the model.\r\n",
        "\r\n",
        "The variance is an error from sensitivity to small fluctuations in the training set. High variance can cause an algorithm to model the random noise in the training data, rather than the intended outputs. In other words, model with high variance pays a lot of attention to training data and does not generalize on the data which it hasn’t seen before. (source:  [K-Nearest Neighbors and Bias](https://medium.com/30-days-of-machine-learning/day-3-k-nearest-neighbors-and-bias-variance-tradeoff-75f84d515bdb))\r\n",
        "\r\n",
        "\r\n",
        "A low k value would give less bias but a hiher variance. As it focusses more on the training data, it would miss the test data, the error would be higher. \r\n",
        "\r\n",
        "On the other hand, a higher k value would oversimplfy the model, It will decrease the variance but the model would be biased. Again the model error would be higher. \r\n",
        "\r\n",
        " A grid search would be useful to identify the optimal hyperparameters for the k-nn algorithme.  When we run the grid search,  to increase the accuracy. \r\n",
        "\r\n",
        "In our case, the grid searche provided{'n_neighbors': 20, 'p': 2, 'weights': 'distance'} hyper parameters. We defined the model according to these parameters and fitted. Since initially the model had given different parameters out of some errors, we had not chance to submit the results based on these optimal parameters before the closure of the competition.\r\n",
        "\r\n",
        "\r\n"
      ]
    },
    {
      "cell_type": "code",
      "metadata": {
        "colab": {
          "base_uri": "https://localhost:8080/"
        },
        "id": "MsIeO-OBcl1i",
        "outputId": "845da6fd-a7f8-41a4-f3d0-9208aad664f4"
      },
      "source": [
        "\n",
        "start=time.time()\n",
        "# Define vectorizer\n",
        "tfidf = TfidfVectorizer(ngram_range=(1, 1), tokenizer=spacy_tokenizer)\n",
        "\n",
        "# Define classifier\n",
        "classifier = KNeighborsClassifier(n_neighbors=20)\n",
        "\n",
        "# Create pipeline\n",
        "pipe = Pipeline([('vectorizer', tfidf),\n",
        "                 ('classifier', classifier)])\n",
        "\n",
        "# Fit model on training set\n",
        "pipe.fit(X_train, y_train)\n",
        "\n",
        "end=time.time()\n",
        "print(\"time: \", end-start)"
      ],
      "execution_count": null,
      "outputs": [
        {
          "output_type": "stream",
          "text": [
            "time:  48.85028338432312\n"
          ],
          "name": "stdout"
        }
      ]
    },
    {
      "cell_type": "code",
      "metadata": {
        "colab": {
          "base_uri": "https://localhost:8080/"
        },
        "id": "8GEoMC9Ue8yS",
        "outputId": "aa5b918d-c3e5-4c03-f5d7-493c4ba72eac"
      },
      "source": [
        "#Train Accuracy  of KNN\n",
        "%%time\n",
        "pipe.score(X_train, y_train)\n",
        "\n",
        "# Predictions and evaluation for the model\n",
        "\n",
        "y_pred = pipe.predict(X_test)\n",
        "\n",
        "# Evaluate model\n",
        "print(round(accuracy_score(y_test, y_pred), 4))"
      ],
      "execution_count": null,
      "outputs": [
        {
          "output_type": "stream",
          "text": [
            "0.7112\n",
            "CPU times: user 1min 2s, sys: 248 ms, total: 1min 2s\n",
            "Wall time: 1min 2s\n"
          ],
          "name": "stdout"
        }
      ]
    },
    {
      "cell_type": "code",
      "metadata": {
        "colab": {
          "base_uri": "https://localhost:8080/"
        },
        "id": "zOk5ESOIhKg4",
        "outputId": "602e9a37-a949-4cab-d13f-0e805326f2ee"
      },
      "source": [
        "# Grid Search - hyperparameters tunning\n",
        "from sklearn.model_selection import GridSearchCV\n",
        "start=time.time()\n",
        "# Define parameters to test\n",
        "grid = {'n_neighbors':np.arange(10,22),#this was run for range (1,100).\n",
        "        'p':np.arange(1,3),\n",
        "        'weights':['uniform','distance']\n",
        "       }\n",
        "\n",
        "# Define vectorizer\n",
        "tfidf = TfidfVectorizer(ngram_range=(1, 1), tokenizer=spacy_tokenizer)\n",
        "\n",
        "\n",
        "# Define and fit model\n",
        "knn = KNeighborsClassifier()\n",
        "knn_cv = GridSearchCV(knn, grid, cv=10)\n",
        "\n",
        "# Create pipeline\n",
        "pipe = Pipeline([('vectorizer', tfidf),\n",
        "                 ('classifier', knn_cv)])\n",
        "\n",
        "pipe.fit(X_train, y_train)\n",
        "end=time.time()\n",
        "print(\"time: \", end-start)\n",
        "# Print results\n",
        "print(\"Hyperparameters:\", knn_cv.best_params_)\n",
        "print(\"Train Score:\", round(knn_cv.best_score_, 4))\n",
        "#print(\"Test Score:\", round(knn_cv.score(X_test, y_test), 4))"
      ],
      "execution_count": null,
      "outputs": [
        {
          "output_type": "stream",
          "text": [
            "time:  127.64063835144043\n",
            "Hyperparameters: {'n_neighbors': 20, 'p': 2, 'weights': 'distance'}\n",
            "Train Score: 0.7425\n"
          ],
          "name": "stdout"
        }
      ]
    },
    {
      "cell_type": "code",
      "metadata": {
        "id": "ZUHADznGQAxl",
        "colab": {
          "base_uri": "https://localhost:8080/",
          "height": 624
        },
        "outputId": "bf73e8ee-892f-495c-9761-d3e7d4adf696"
      },
      "source": [
        "# Fit optimal KNN model based on the parameters of above GridSearch\n",
        "knn = KNeighborsClassifier(n_neighbors=20, p=2, weights='distance')\n",
        "\n",
        "\n",
        "# Create pipeline\n",
        "pipe = Pipeline([('vectorizer', tfidf),\n",
        "                 ('classifier', knn)])\n",
        "\n",
        "pipe.fit(X_train, y_train)\n",
        "\n",
        "# Prediction for test set\n",
        "y_pred = pipe.predict(X_test)\n",
        "\n",
        "# Evaluate model\n",
        "def accuracy_conf_mat(y_test, y_pred):\n",
        "  print(round(accuracy_score(y_test, y_pred), 4))\n",
        "  conf_mat = confusion_matrix(y_test, y_pred)\n",
        "  fig, ax = plt.subplots(figsize=(10,10))\n",
        "  sns.heatmap(conf_mat, annot=True, fmt='d')\n",
        "  plt.ylabel('Actual')\n",
        "  plt.xlabel('Predicted')\n",
        "  plt.show()\n",
        "\n",
        "accuracy_conf_mat(y_test, y_pred)\n",
        "#train accuracy:0,985 Test Accuracy: 0,76"
      ],
      "execution_count": null,
      "outputs": [
        {
          "output_type": "stream",
          "text": [
            "0.7228\n"
          ],
          "name": "stdout"
        },
        {
          "output_type": "display_data",
          "data": {
            "image/png": "[encoded data removed]",
            "text/plain": [
              "<Figure size 720x720 with 2 Axes>"
            ]
          },
          "metadata": {
            "tags": []
          }
        }
      ]
    },
    {
      "cell_type": "markdown",
      "metadata": {
        "id": "yx6NPR41QBML"
      },
      "source": [
        "### Random Forest \n",
        "\n",
        "Random Forest is also a supervised learning algorithm. Random Forest Classifier would select among the decision tree classfiers the optimal one. Randoom Forest makes use of randomly selected features to evaluate the best features combination.\n",
        "\n",
        "Random Forest Classifier has its own advantages and disadvantages.first of all, a random forest have advantages to overcome the problem of overfitting. On the other hand, as many trees are tested, it takes long time. \n",
        "\n",
        "As Random Forest algorithm work on the different set of the features,  this can be utilized for feature selection. Based on the classifier performance, the optimal set of features would be chosen.\n"
      ]
    },
    {
      "cell_type": "code",
      "metadata": {
        "id": "YhB-RZQ0QAfb",
        "colab": {
          "base_uri": "https://localhost:8080/"
        },
        "outputId": "21ed5c10-e9e8-49b5-fdb6-64b3119496d5"
      },
      "source": [
        "\n",
        "# Define vectorizer\n",
        "tfidf = TfidfVectorizer(ngram_range=(1, 1), tokenizer=spacy_tokenizer)\n",
        "\n",
        "# Define and fit model\n",
        "classifier=RandomForestClassifier()\n",
        "\n",
        "# Create pipeline\n",
        "pipe = Pipeline([('vectorizer', tfidf),\n",
        "                 ('classifier', classifier)])\n",
        "\n",
        "#model fitting\n",
        "start=time.time()\n",
        "pipe.fit(X_train, y_train)\n",
        "end=time.time()\n",
        "print(\"time: \", end-start)\n",
        "\n",
        "\n",
        "#Train Accuracy  \n",
        "print(\"train score:\", round(pipe.score(X_train, y_train), 4))\n",
        "\n",
        "#Test Accuracy\n",
        "y_pred = pipe.predict(X_test)\n",
        "print(\"test score:\", round(pipe.score(X_test, y_test), 4))\n",
        "#Rsult for TEST DATA: training:0,985,  TEst: 0,800"
      ],
      "execution_count": null,
      "outputs": [
        {
          "output_type": "stream",
          "text": [
            "time:  55.7916579246521\n",
            "train score: 0.9867\n",
            "test score: 0.7668\n"
          ],
          "name": "stdout"
        }
      ]
    },
    {
      "cell_type": "markdown",
      "metadata": {
        "id": "ToAsUvelisOB"
      },
      "source": [
        "One of the useful property of the RandomForestClassifer is the \"*feature_importances_*\". One can identify the most important features. To find important features with Random Forest Classifier, one has to fit the model and get the feature scores, which is based on the features' relative importances. \r\n",
        "\r\n",
        "These are shown in the following steps. As it will be clear from the result, given that there are around 10'000 features in the matrix, however, some of these features has negligible importances. One can base the estimation on the features having higher relative importance. \r\n"
      ]
    },
    {
      "cell_type": "code",
      "metadata": {
        "id": "TscA_bGairRr",
        "colab": {
          "base_uri": "https://localhost:8080/"
        },
        "outputId": "b2cdfa8a-59eb-4fbe-db1c-2a8d3ce934fa"
      },
      "source": [
        "# creating random forest classifier with n_estimators = 150\r\n",
        "# Define vectorizer\r\n",
        "tfidf = TfidfVectorizer(ngram_range=(1, 1), tokenizer=data_cleaner)\r\n",
        "classifier=RandomForestClassifier(n_estimators=150, random_state=0)\r\n",
        "\r\n",
        "# Create pipeline\r\n",
        "pipe = Pipeline([('vectorizer', tfidf),\r\n",
        "                 ('classifier', classifier)])\r\n",
        "\r\n",
        "#model fitting\r\n",
        "start=time.time()\r\n",
        "pipe.fit(X_train, y_train)\r\n",
        "end=time.time()\r\n",
        "print(\"time: \", end-start)\r\n",
        "\r\n",
        "\r\n",
        "#Train Accuracy  \r\n",
        "print(\"train score:\", round(pipe.score(X_train, y_train), 4))\r\n",
        "\r\n",
        "#Test Accuracy\r\n",
        "y_pred = pipe.predict(X_test)\r\n",
        "print(\"test score:\", round(pipe.score(X_test, y_test), 4))\r\n"
      ],
      "execution_count": null,
      "outputs": [
        {
          "output_type": "stream",
          "text": [
            "time:  12.780359029769897\n",
            "train score: 0.9865\n",
            "test score: 0.7768\n"
          ],
          "name": "stdout"
        }
      ]
    },
    {
      "cell_type": "code",
      "metadata": {
        "id": "DJ48ghDsXF4_"
      },
      "source": [
        "X_train_vec=tfidf.fit_transform(X_train)"
      ],
      "execution_count": null,
      "outputs": []
    },
    {
      "cell_type": "code",
      "metadata": {
        "id": "dnudYNV1rWTi"
      },
      "source": [
        "cols=tfidf.get_feature_names()\r\n"
      ],
      "execution_count": null,
      "outputs": []
    },
    {
      "cell_type": "code",
      "metadata": {
        "id": "vNmrfnqDrmzU"
      },
      "source": [
        "X_train_new=pd.DataFrame(X_train_vec.todense(),columns=cols)\r\n"
      ],
      "execution_count": null,
      "outputs": []
    },
    {
      "cell_type": "code",
      "metadata": {
        "id": "UQ7STbM7jxDi",
        "colab": {
          "base_uri": "https://localhost:8080/"
        },
        "outputId": "faea0ca0-3e12-44b7-80f0-e97c0f48c1f6"
      },
      "source": [
        "# view the feature scores\r\n",
        "\r\n",
        "feature_scores = pd.Series(classifier.feature_importances_, index=cols).sort_values(ascending=False)\r\n",
        "\r\n",
        "feature_scores[0:5000]"
      ],
      "execution_count": null,
      "outputs": [
        {
          "output_type": "execute_result",
          "data": {
            "text/plain": [
              "fire         0.012013\n",
              "hiroshima    0.009137\n",
              "kill         0.007941\n",
              "wildfir      0.007121\n",
              "flood        0.006743\n",
              "               ...   \n",
              "boyd         0.000014\n",
              "talkin       0.000014\n",
              "met          0.000014\n",
              "billiton     0.000014\n",
              "treati       0.000014\n",
              "Length: 5000, dtype: float64"
            ]
          },
          "metadata": {
            "tags": []
          },
          "execution_count": 128
        }
      ]
    },
    {
      "cell_type": "markdown",
      "metadata": {
        "id": "5suXPBYjCQg_"
      },
      "source": [
        "# Resampling for  balanced labels \n",
        "In order to use a balanced data set, that is to say a data set where the labes have eqaul distributions. This can be achieved by selecting a smaller sample where labels  have equal portions. \n",
        "\n",
        "When we fit the models with this new data set, we have observed that the accuracies decreased. We interpret this the result of data-loss. "
      ]
    },
    {
      "cell_type": "code",
      "metadata": {
        "id": "0Vcv5qQlCJHZ",
        "colab": {
          "base_uri": "https://localhost:8080/",
          "height": 399
        },
        "outputId": "ee2dc636-34e8-4065-9401-34b871a74996"
      },
      "source": [
        "# Create balanced dataframe - base rate = 0.5 \n",
        "df_new = pd.concat([df_train[df_train[\"target\"] == 0].sample(len(df_train[df_train[\"target\"] == 1])), df_train[df_train[\"target\"] == 1]], axis=0).reset_index()\n",
        "df_new\n"
      ],
      "execution_count": null,
      "outputs": [
        {
          "output_type": "execute_result",
          "data": {
            "text/html": [
              "<div>\n",
              "<style scoped>\n",
              "    .dataframe tbody tr th:only-of-type {\n",
              "        vertical-align: middle;\n",
              "    }\n",
              "\n",
              "    .dataframe tbody tr th {\n",
              "        vertical-align: top;\n",
              "    }\n",
              "\n",
              "    .dataframe thead th {\n",
              "        text-align: right;\n",
              "    }\n",
              "</style>\n",
              "<table border=\"1\" class=\"dataframe\">\n",
              "  <thead>\n",
              "    <tr style=\"text-align: right;\">\n",
              "      <th></th>\n",
              "      <th>index</th>\n",
              "      <th>id</th>\n",
              "      <th>keyword</th>\n",
              "      <th>location</th>\n",
              "      <th>text</th>\n",
              "      <th>target</th>\n",
              "    </tr>\n",
              "  </thead>\n",
              "  <tbody>\n",
              "    <tr>\n",
              "      <th>0</th>\n",
              "      <td>5947</td>\n",
              "      <td>753</td>\n",
              "      <td>avalanche</td>\n",
              "      <td>Score More Goals Buying @</td>\n",
              "      <td>2 TIX 10/3 Frozen Fury XVII: Los Angeles Kings...</td>\n",
              "      <td>0</td>\n",
              "    </tr>\n",
              "    <tr>\n",
              "      <th>1</th>\n",
              "      <td>4959</td>\n",
              "      <td>8741</td>\n",
              "      <td>sinking</td>\n",
              "      <td>Coventry</td>\n",
              "      <td>Do you feel like you are sinking in unhappines...</td>\n",
              "      <td>0</td>\n",
              "    </tr>\n",
              "    <tr>\n",
              "      <th>2</th>\n",
              "      <td>2855</td>\n",
              "      <td>941</td>\n",
              "      <td>blaze</td>\n",
              "      <td>NaN</td>\n",
              "      <td>alrighty Hit me up and we'll blaze!!</td>\n",
              "      <td>0</td>\n",
              "    </tr>\n",
              "    <tr>\n",
              "      <th>3</th>\n",
              "      <td>5117</td>\n",
              "      <td>1343</td>\n",
              "      <td>blown%20up</td>\n",
              "      <td>Georgia</td>\n",
              "      <td>Man why hasn't  blown up? He's still underground.</td>\n",
              "      <td>0</td>\n",
              "    </tr>\n",
              "    <tr>\n",
              "      <th>4</th>\n",
              "      <td>2463</td>\n",
              "      <td>6594</td>\n",
              "      <td>inundated</td>\n",
              "      <td>Bristol</td>\n",
              "      <td>Hi  sorry for the delay. Slightly inundated wi...</td>\n",
              "      <td>0</td>\n",
              "    </tr>\n",
              "    <tr>\n",
              "      <th>...</th>\n",
              "      <td>...</td>\n",
              "      <td>...</td>\n",
              "      <td>...</td>\n",
              "      <td>...</td>\n",
              "      <td>...</td>\n",
              "      <td>...</td>\n",
              "    </tr>\n",
              "    <tr>\n",
              "      <th>5535</th>\n",
              "      <td>6465</td>\n",
              "      <td>8330</td>\n",
              "      <td>rubble</td>\n",
              "      <td>Calgary, AB, Canada</td>\n",
              "      <td>China's Stock Market Crash: Are There Gems In ...</td>\n",
              "      <td>1</td>\n",
              "    </tr>\n",
              "    <tr>\n",
              "      <th>5536</th>\n",
              "      <td>6466</td>\n",
              "      <td>4377</td>\n",
              "      <td>earthquake</td>\n",
              "      <td>ARGENTINA</td>\n",
              "      <td>Earthquake Sismo M 1.9 - 15km E of Anchorage A...</td>\n",
              "      <td>1</td>\n",
              "    </tr>\n",
              "    <tr>\n",
              "      <th>5537</th>\n",
              "      <td>6468</td>\n",
              "      <td>9794</td>\n",
              "      <td>trapped</td>\n",
              "      <td>NaN</td>\n",
              "      <td>Hollywood Movie About Trapped Miners Released ...</td>\n",
              "      <td>1</td>\n",
              "    </tr>\n",
              "    <tr>\n",
              "      <th>5538</th>\n",
              "      <td>6469</td>\n",
              "      <td>10344</td>\n",
              "      <td>weapons</td>\n",
              "      <td>Beirut/Toronto</td>\n",
              "      <td>Friendly reminder that the only country to eve...</td>\n",
              "      <td>1</td>\n",
              "    </tr>\n",
              "    <tr>\n",
              "      <th>5539</th>\n",
              "      <td>6470</td>\n",
              "      <td>1779</td>\n",
              "      <td>buildings%20on%20fire</td>\n",
              "      <td>NaN</td>\n",
              "      <td>Buildings are on fire and they have time for a...</td>\n",
              "      <td>1</td>\n",
              "    </tr>\n",
              "  </tbody>\n",
              "</table>\n",
              "<p>5540 rows × 6 columns</p>\n",
              "</div>"
            ],
            "text/plain": [
              "      index     id  ...                                               text target\n",
              "0      5947    753  ...  2 TIX 10/3 Frozen Fury XVII: Los Angeles Kings...      0\n",
              "1      4959   8741  ...  Do you feel like you are sinking in unhappines...      0\n",
              "2      2855    941  ...               alrighty Hit me up and we'll blaze!!      0\n",
              "3      5117   1343  ...  Man why hasn't  blown up? He's still underground.      0\n",
              "4      2463   6594  ...  Hi  sorry for the delay. Slightly inundated wi...      0\n",
              "...     ...    ...  ...                                                ...    ...\n",
              "5535   6465   8330  ...  China's Stock Market Crash: Are There Gems In ...      1\n",
              "5536   6466   4377  ...  Earthquake Sismo M 1.9 - 15km E of Anchorage A...      1\n",
              "5537   6468   9794  ...  Hollywood Movie About Trapped Miners Released ...      1\n",
              "5538   6469  10344  ...  Friendly reminder that the only country to eve...      1\n",
              "5539   6470   1779  ...  Buildings are on fire and they have time for a...      1\n",
              "\n",
              "[5540 rows x 6 columns]"
            ]
          },
          "metadata": {
            "tags": []
          },
          "execution_count": 129
        }
      ]
    },
    {
      "cell_type": "code",
      "metadata": {
        "id": "qmhPh5W9GPQr",
        "colab": {
          "base_uri": "https://localhost:8080/",
          "height": 568
        },
        "outputId": "cf0e382f-bf50-4c44-fd94-cc357d95717a"
      },
      "source": [
        "##checking frequency of each\n",
        "plt.subplots(1,1,figsize=(10,8))\n",
        "sns.countplot('target',data=df_new) \n",
        "plt.title(\"Disaster tweets Distribution\")\n",
        "plt.show()"
      ],
      "execution_count": null,
      "outputs": [
        {
          "output_type": "stream",
          "text": [
            "/usr/local/lib/python3.6/dist-packages/seaborn/_decorators.py:43: FutureWarning: Pass the following variable as a keyword arg: x. From version 0.12, the only valid positional argument will be `data`, and passing other arguments without an explicit keyword will result in an error or misinterpretation.\n",
            "  FutureWarning\n"
          ],
          "name": "stderr"
        },
        {
          "output_type": "display_data",
          "data": {
            "image/png": "[encoded data removed]",
            "text/plain": [
              "<Figure size 720x576 with 1 Axes>"
            ]
          },
          "metadata": {
            "tags": []
          }
        }
      ]
    },
    {
      "cell_type": "code",
      "metadata": {
        "id": "lWbAhCF-Gr7S"
      },
      "source": [
        "#Data Cleaning \n",
        "df_new['text']=df_new.text.apply(lambda x:func_textcleaning(x))"
      ],
      "execution_count": null,
      "outputs": []
    },
    {
      "cell_type": "code",
      "metadata": {
        "id": "mQ1rbkSYJgiC",
        "colab": {
          "base_uri": "https://localhost:8080/"
        },
        "outputId": "e192f02b-888f-4244-c26f-13b205bde121"
      },
      "source": [
        "#Tf-idf with logistic regression\n",
        "%%time\n",
        "# Define vectorizer\n",
        "tfidf = TfidfVectorizer(ngram_range=(1, 1), tokenizer=spacy_tokenizer)\n",
        "\n",
        "# Define classifier\n",
        "classifier = LogisticRegressionCV(solver='lbfgs', max_iter=1000, cv=5)\n",
        "\n",
        "# Create pipeline\n",
        "pipe = Pipeline([('vectorizer', tfidf),\n",
        "                 ('classifier', classifier)])\n",
        "\n",
        "# Fit model on training set\n",
        "pipe.fit(X_train, y_train)"
      ],
      "execution_count": null,
      "outputs": [
        {
          "output_type": "stream",
          "text": [
            "CPU times: user 1min, sys: 24.8 ms, total: 1min\n",
            "Wall time: 1min\n"
          ],
          "name": "stdout"
        }
      ]
    },
    {
      "cell_type": "code",
      "metadata": {
        "id": "eXD0blDoJhSJ",
        "colab": {
          "base_uri": "https://localhost:8080/"
        },
        "outputId": "c80553af-d0fc-4023-a8e3-b8a2ef0c7ec6"
      },
      "source": [
        "#Train Accuracy  \n",
        "%%time\n",
        "pipe.score(X_train, y_train)"
      ],
      "execution_count": null,
      "outputs": [
        {
          "output_type": "stream",
          "text": [
            "CPU times: user 49.7 s, sys: 3.89 ms, total: 49.7 s\n",
            "Wall time: 49.7 s\n"
          ],
          "name": "stdout"
        },
        {
          "output_type": "execute_result",
          "data": {
            "text/plain": [
              "0.9289026275115919"
            ]
          },
          "metadata": {
            "tags": []
          },
          "execution_count": 133
        }
      ]
    },
    {
      "cell_type": "code",
      "metadata": {
        "id": "wVYPvMZNJhD6",
        "colab": {
          "base_uri": "https://localhost:8080/"
        },
        "outputId": "6dba018f-94d3-4007-a67f-95a296b0155a"
      },
      "source": [
        "# Predictions and evaluation for the model\n",
        "%%time\n",
        "y_pred = pipe.predict(X_test)\n",
        "\n",
        "# Evaluate model\n",
        "print(round(accuracy_score(y_test, y_pred), 4))"
      ],
      "execution_count": null,
      "outputs": [
        {
          "output_type": "stream",
          "text": [
            "0.7876\n",
            "CPU times: user 12.9 s, sys: 2.99 ms, total: 12.9 s\n",
            "Wall time: 12.9 s\n"
          ],
          "name": "stdout"
        }
      ]
    },
    {
      "cell_type": "code",
      "metadata": {
        "id": "_iKR_uM2KR5O"
      },
      "source": [
        "#Submission performance result\n",
        "#while internal train and test accuracies were 0,94 and 0,79 respectively,\n",
        " #the submission result is:the train accuracy was 0,93 and the test accuracy was informed as 0.8117 "
      ],
      "execution_count": null,
      "outputs": []
    },
    {
      "cell_type": "markdown",
      "metadata": {
        "id": "eGvyOn4D3rQ5"
      },
      "source": [
        "# Dimentionality Reduction\r\n",
        "Dimensionality reduction is the transformation of data from a high-dimensional space into a low-dimensional space so that the low-dimensional representation retains some meaningful properties of the original data. In a higher dimentional space, it is often very hard and difficult to iterpret and conduct computations as well.\r\n",
        "\r\n",
        "Principal component Analysis (PCA) is a technique that is used to automatically apply dimentionality reduction. The moddule PCA,  project data points in the lower dimensional space in the direction that retains maximum variance."
      ]
    },
    {
      "cell_type": "code",
      "metadata": {
        "colab": {
          "base_uri": "https://localhost:8080/"
        },
        "id": "JdTI4X9-3qmU",
        "outputId": "a1c7362e-01ba-4156-a37b-6a9ed75832b3"
      },
      "source": [
        "# Define vectorizer - use above cleaning function\r\n",
        "tfidf = TfidfVectorizer(sublinear_tf=True, tokenizer=spacy_tokenizer, ngram_range=(1,1), min_df=3, max_df=0.9)\r\n",
        "\r\n",
        "# Fit and transform X_train and X_test\r\n",
        "X_train_vec = tfidf.fit_transform(X_train).toarray()\r\n",
        "X_test_vec = tfidf.transform(X_test).toarray()\r\n",
        "print(X_train_vec.shape)\r\n",
        "X_train_vec"
      ],
      "execution_count": null,
      "outputs": [
        {
          "output_type": "stream",
          "text": [
            "(5176, 2586)\n"
          ],
          "name": "stdout"
        },
        {
          "output_type": "execute_result",
          "data": {
            "text/plain": [
              "array([[0., 0., 0., ..., 0., 0., 0.],\n",
              "       [0., 0., 0., ..., 0., 0., 0.],\n",
              "       [0., 0., 0., ..., 0., 0., 0.],\n",
              "       ...,\n",
              "       [0., 0., 0., ..., 0., 0., 0.],\n",
              "       [0., 0., 0., ..., 0., 0., 0.],\n",
              "       [0., 0., 0., ..., 0., 0., 0.]])"
            ]
          },
          "metadata": {
            "tags": []
          },
          "execution_count": 136
        }
      ]
    },
    {
      "cell_type": "code",
      "metadata": {
        "colab": {
          "base_uri": "https://localhost:8080/"
        },
        "id": "Uw3Kqurx3qcy",
        "outputId": "d64f749c-1ba1-40a8-8c53-df0993b959dd"
      },
      "source": [
        "#PCA \r\n",
        "# Define Scaler\r\n",
        "scaler = StandardScaler()\r\n",
        "\r\n",
        "# Define PCA\r\n",
        "pca = PCA(n_components=2)\r\n",
        "\r\n",
        "# Example on X_train_vec\r\n",
        "X_train_vec_pca = pca.fit_transform(X_train_vec)\r\n",
        "print('Shape after PCA: ', X_train_vec_pca.shape)\r\n",
        "print('Number of components: ', pca.n_components_)\r\n",
        "print('Explained variance ratio: ', sum(pca.explained_variance_ratio_))"
      ],
      "execution_count": null,
      "outputs": [
        {
          "output_type": "stream",
          "text": [
            "Shape after PCA:  (5176, 2)\n",
            "Number of components:  2\n",
            "Explained variance ratio:  0.011022979760183288\n"
          ],
          "name": "stdout"
        }
      ]
    },
    {
      "cell_type": "code",
      "metadata": {
        "colab": {
          "base_uri": "https://localhost:8080/"
        },
        "id": "vMEahvxB3qT7",
        "outputId": "4754028d-c851-4128-ca00-ac01927d8b3b"
      },
      "source": [
        "# Define Model\r\n",
        "pipe = Pipeline([\r\n",
        "                 ('pca', pca),\r\n",
        "                 ('logistic reg', LogisticRegression()),\r\n",
        "                 ])\r\n",
        "# Fit model\r\n",
        "start = time.time()\r\n",
        "pipe.fit(X_train_vec, y_train)\r\n",
        "end = time.time()\r\n",
        "print('Time: ', round(end-start, 4))\r\n",
        "print('Train Accuracy: ', round(pipe.score(X_train_vec, y_train), 4))\r\n",
        "#print('Test Accuracy: ', round(pipe.score(X_test_vec, y_test), 4))"
      ],
      "execution_count": null,
      "outputs": [
        {
          "output_type": "stream",
          "text": [
            "Time:  1.153\n",
            "Train Accuracy:  0.6401\n"
          ],
          "name": "stdout"
        }
      ]
    },
    {
      "cell_type": "code",
      "metadata": {
        "colab": {
          "base_uri": "https://localhost:8080/"
        },
        "id": "eo-8gwjY3qHn",
        "outputId": "b227e255-a0cf-4a5b-c6a2-ac865111123b"
      },
      "source": [
        "# With PCA and but not standardization\r\n",
        "\r\n",
        "# Define Model\r\n",
        "pipe = Pipeline([\r\n",
        "                 \r\n",
        "                 ('pca', pca),\r\n",
        "                 ('logistic reg', LogisticRegression(max_iter=3000)),\r\n",
        "                 ])\r\n",
        "# Fit model\r\n",
        "start = time.time()\r\n",
        "pipe.fit(X_train_vec, y_train)\r\n",
        "end = time.time()\r\n",
        "print('Time: ', round(end-start, 4))\r\n",
        "print('Train Accuracy: ', round(pipe.score(X_train_vec, y_train), 4))\r\n",
        "print('Test Accuracy: ', round(pipe.score(X_test_vec, y_test), 4))"
      ],
      "execution_count": null,
      "outputs": [
        {
          "output_type": "stream",
          "text": [
            "Time:  1.2128\n",
            "Train Accuracy:  0.6403\n",
            "Test Accuracy:  0.6232\n"
          ],
          "name": "stdout"
        }
      ]
    },
    {
      "cell_type": "code",
      "metadata": {
        "colab": {
          "base_uri": "https://localhost:8080/"
        },
        "id": "aAN6x5P29i23",
        "outputId": "3640a288-16dc-41cf-9cdd-8ac267577a3e"
      },
      "source": [
        "#Data for submission\r\n",
        "X_train_vec = tfidf.fit_transform(df_train.text).toarray()\r\n",
        "X_test_vec = tfidf.transform(df_test.text).toarray()\r\n",
        "\r\n",
        "print(X_train_vec.shape)\r\n",
        "\r\n",
        "\r\n",
        "# Define PCA\r\n",
        "pca = PCA(n_components=2)\r\n",
        "\r\n",
        "# Example on X_train_vec\r\n",
        "X_train_vec_pca = pca.fit_transform(X_train_vec)\r\n",
        "print('Shape after PCA: ', X_train_vec_pca.shape)\r\n",
        "print('Number of components: ', pca.n_components_)\r\n",
        "print('Explained variance ratio: ', sum(pca.explained_variance_ratio_))"
      ],
      "execution_count": null,
      "outputs": [
        {
          "output_type": "stream",
          "text": [
            "(6471, 2991)\n",
            "Shape after PCA:  (6471, 2)\n",
            "Number of components:  2\n",
            "Explained variance ratio:  0.010290918448489901\n"
          ],
          "name": "stdout"
        }
      ]
    },
    {
      "cell_type": "code",
      "metadata": {
        "id": "8-9nmGGuMuka"
      },
      "source": [
        "y_train=df_train.target"
      ],
      "execution_count": null,
      "outputs": []
    },
    {
      "cell_type": "code",
      "metadata": {
        "colab": {
          "base_uri": "https://localhost:8080/"
        },
        "id": "k5t_WupEubvU",
        "outputId": "2fe7386c-049f-4a08-891f-624800bdab93"
      },
      "source": [
        "#fit with the train data: features and labels.\n",
        "start=time.time()\n",
        "pipe.fit(X_train_vec, y_train)\n",
        "print('Train Accuracy: ', round(pipe.score(X_train_vec, y_train), 4))\n",
        "end=time.time()\n",
        "print(\"time: \", end-start)"
      ],
      "execution_count": null,
      "outputs": [
        {
          "output_type": "stream",
          "text": [
            "Train Accuracy:  0.6402\n",
            "time:  1.8386788368225098\n"
          ],
          "name": "stdout"
        }
      ]
    },
    {
      "cell_type": "markdown",
      "metadata": {
        "id": "9dquaFu2dk3z"
      },
      "source": [
        "# LESSONS LEARNED and CONCLUSION\r\n",
        "\r\n",
        "Text analysing is one of the field which has been on exploration with the advent of the machine learning tools and the capabilities. Also, given the nature of the texts, words and speeches, text analytics is rather complicated to grasp. The most videly used techniques includes vectorizing the words into number matrices. This way one can implement  machine learning algorithms and make prediction.\r\n",
        "\r\n",
        " We have seen that usually these data matrices are made up of over several thousands features. This brings first of all a capacity and time constraint for computation. One has to well optimize and design the problem before  hand. For example, an algorithme to evaluate different tree depths had costed us more than 10h. We were blocked not to move anywhere to  keep the machine open and running.  \r\n",
        "\r\n",
        "While doing this projects, we had realized that, different classifier models can have different results and efficiencies. However, the most important  aspect is the data handling stage where the data is cleaned, processed and vectorized. This requires a deep understanding of the underlying steps.\r\n",
        "\r\n",
        "In a nutshell, text analytics require vide range of linguistic techniques apart from the numeric calculations involved."
      ]
    }
  ]
}