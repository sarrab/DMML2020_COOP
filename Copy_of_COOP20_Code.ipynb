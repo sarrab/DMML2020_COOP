{
  "nbformat": 4,
  "nbformat_minor": 0,
  "metadata": {
    "kernelspec": {
      "display_name": "Python 3",
      "language": "python",
      "name": "python3"
    },
    "language_info": {
      "codemirror_mode": {
        "name": "ipython",
        "version": 3
      },
      "file_extension": ".py",
      "mimetype": "text/x-python",
      "name": "python",
      "nbconvert_exporter": "python",
      "pygments_lexer": "ipython3",
      "version": "3.7.4"
    },
    "colab": {
      "name": "Copy_of_COOP20_Code.ipynb",
      "provenance": [],
      "include_colab_link": true
    }
  },
  "cells": [
    {
      "cell_type": "markdown",
      "metadata": {
        "id": "view-in-github",
        "colab_type": "text"
      },
      "source": [
        "<a href=\"https://colab.research.google.com/github/sarrab/DMML2020_COOP/blob/master/Copy_of_COOP20_Code.ipynb\" target=\"_parent\"><img src=\"https://colab.research.google.com/assets/colab-badge.svg\" alt=\"Open In Colab\"/></a>"
      ]
    },
    {
      "cell_type": "code",
      "metadata": {
        "id": "H3gmCO36Z9ou"
      },
      "source": [
        "\n",
        "%matplotlib inline\n",
        "import numpy as np\n",
        "import matplotlib.pyplot as plt\n",
        "from matplotlib import collections  as mc\n",
        "%load_ext autoreload\n",
        "%autoreload 2\n",
        "import pandas as pd \n",
        "import seaborn as sns\n",
        "from sklearn.preprocessing import LabelEncoder, OneHotEncoder\n",
        "sns.set_style(\"white\")"
      ],
      "execution_count": null,
      "outputs": []
    },
    {
      "cell_type": "markdown",
      "metadata": {
        "id": "EPfjdYrEZ9pA"
      },
      "source": [
        "# Loading "
      ]
    },
    {
      "cell_type": "markdown",
      "metadata": {
        "id": "U4G4puq9Z9pB"
      },
      "source": [
        "Below is how the dataset looks like"
      ]
    },
    {
      "cell_type": "code",
      "metadata": {
        "scrolled": false,
        "colab": {
          "base_uri": "https://localhost:8080/",
          "height": 419
        },
        "id": "Y2ArCyy7Z9pC",
        "outputId": "e0d0da30-50a2-44aa-9bcb-3d2f809a36d9"
      },
      "source": [
        "\n",
        "df_train = pd.read_csv(\"https://raw.githubusercontent.com/michalis0/DataMining_and_MachineLearning/master/project/training_data.csv\")\n",
        "df_train\n",
        "\n"
      ],
      "execution_count": null,
      "outputs": [
        {
          "output_type": "execute_result",
          "data": {
            "text/html": [
              "<div>\n",
              "<style scoped>\n",
              "    .dataframe tbody tr th:only-of-type {\n",
              "        vertical-align: middle;\n",
              "    }\n",
              "\n",
              "    .dataframe tbody tr th {\n",
              "        vertical-align: top;\n",
              "    }\n",
              "\n",
              "    .dataframe thead th {\n",
              "        text-align: right;\n",
              "    }\n",
              "</style>\n",
              "<table border=\"1\" class=\"dataframe\">\n",
              "  <thead>\n",
              "    <tr style=\"text-align: right;\">\n",
              "      <th></th>\n",
              "      <th>id</th>\n",
              "      <th>keyword</th>\n",
              "      <th>location</th>\n",
              "      <th>text</th>\n",
              "      <th>target</th>\n",
              "    </tr>\n",
              "  </thead>\n",
              "  <tbody>\n",
              "    <tr>\n",
              "      <th>0</th>\n",
              "      <td>3738</td>\n",
              "      <td>destroyed</td>\n",
              "      <td>USA</td>\n",
              "      <td>Black Eye 9: A space battle occurred at Star O...</td>\n",
              "      <td>0</td>\n",
              "    </tr>\n",
              "    <tr>\n",
              "      <th>1</th>\n",
              "      <td>853</td>\n",
              "      <td>bioterror</td>\n",
              "      <td>NaN</td>\n",
              "      <td>#world FedEx no longer to transport bioterror ...</td>\n",
              "      <td>0</td>\n",
              "    </tr>\n",
              "    <tr>\n",
              "      <th>2</th>\n",
              "      <td>10540</td>\n",
              "      <td>windstorm</td>\n",
              "      <td>Palm Beach County, FL</td>\n",
              "      <td>Reality Training: Train falls off elevated tra...</td>\n",
              "      <td>1</td>\n",
              "    </tr>\n",
              "    <tr>\n",
              "      <th>3</th>\n",
              "      <td>5988</td>\n",
              "      <td>hazardous</td>\n",
              "      <td>USA</td>\n",
              "      <td>#Taiwan Grace: expect that large rocks trees m...</td>\n",
              "      <td>1</td>\n",
              "    </tr>\n",
              "    <tr>\n",
              "      <th>4</th>\n",
              "      <td>6328</td>\n",
              "      <td>hostage</td>\n",
              "      <td>Australia</td>\n",
              "      <td>New ISIS Video: ISIS Threatens to Behead Croat...</td>\n",
              "      <td>1</td>\n",
              "    </tr>\n",
              "    <tr>\n",
              "      <th>...</th>\n",
              "      <td>...</td>\n",
              "      <td>...</td>\n",
              "      <td>...</td>\n",
              "      <td>...</td>\n",
              "      <td>...</td>\n",
              "    </tr>\n",
              "    <tr>\n",
              "      <th>6466</th>\n",
              "      <td>4377</td>\n",
              "      <td>earthquake</td>\n",
              "      <td>ARGENTINA</td>\n",
              "      <td>#Earthquake #Sismo M 1.9 - 15km E of Anchorage...</td>\n",
              "      <td>1</td>\n",
              "    </tr>\n",
              "    <tr>\n",
              "      <th>6467</th>\n",
              "      <td>3408</td>\n",
              "      <td>derail</td>\n",
              "      <td>NaN</td>\n",
              "      <td>@EmiiliexIrwin Totally agree.She is 23 and kno...</td>\n",
              "      <td>0</td>\n",
              "    </tr>\n",
              "    <tr>\n",
              "      <th>6468</th>\n",
              "      <td>9794</td>\n",
              "      <td>trapped</td>\n",
              "      <td>NaN</td>\n",
              "      <td>Hollywood Movie About Trapped Miners Released ...</td>\n",
              "      <td>1</td>\n",
              "    </tr>\n",
              "    <tr>\n",
              "      <th>6469</th>\n",
              "      <td>10344</td>\n",
              "      <td>weapons</td>\n",
              "      <td>Beirut/Toronto</td>\n",
              "      <td>Friendly reminder that the only country to eve...</td>\n",
              "      <td>1</td>\n",
              "    </tr>\n",
              "    <tr>\n",
              "      <th>6470</th>\n",
              "      <td>1779</td>\n",
              "      <td>buildings%20on%20fire</td>\n",
              "      <td>NaN</td>\n",
              "      <td>Buildings are on fire and they have time for a...</td>\n",
              "      <td>1</td>\n",
              "    </tr>\n",
              "  </tbody>\n",
              "</table>\n",
              "<p>6471 rows × 5 columns</p>\n",
              "</div>"
            ],
            "text/plain": [
              "         id  ... target\n",
              "0      3738  ...      0\n",
              "1       853  ...      0\n",
              "2     10540  ...      1\n",
              "3      5988  ...      1\n",
              "4      6328  ...      1\n",
              "...     ...  ...    ...\n",
              "6466   4377  ...      1\n",
              "6467   3408  ...      0\n",
              "6468   9794  ...      1\n",
              "6469  10344  ...      1\n",
              "6470   1779  ...      1\n",
              "\n",
              "[6471 rows x 5 columns]"
            ]
          },
          "metadata": {
            "tags": []
          },
          "execution_count": 4
        }
      ]
    },
    {
      "cell_type": "markdown",
      "metadata": {
        "id": "Pp7XfiTjZ9pD"
      },
      "source": [
        "There are 6471 rows and 5 columns in the training data.\n",
        "Since column text contains the tweets, our first assumption is that it might be the most important predictor"
      ]
    },
    {
      "cell_type": "markdown",
      "metadata": {
        "id": "FKtMbLhHZ9pE"
      },
      "source": [
        "### What does each column show?"
      ]
    },
    {
      "cell_type": "markdown",
      "metadata": {
        "id": "_jGrJeURZ9pE"
      },
      "source": [
        "This dataset contains tweets about whether or not a reported disaster is real. \n",
        "Some of the features in the dataset are:\n",
        "\n",
        ">\t1.\t`Id` : id of the tweet.\n",
        ">\t2.\t`keyword`: a kind of a title for that paritucular disaster \n",
        ">\t3.\t`location`: the geographical location where that disaster happened.\n",
        ">\t4.\t`text`: the disaster messages in form a tweet.\n",
        ">\t5.\t`target`: value representing whether the reported tweet was true or not\n",
        "    \n",
        "Our task is to predict whether a tweet is real or not, i.e, we should use the target column as the labels.\n",
        "\n",
        "\n"
      ]
    },
    {
      "cell_type": "markdown",
      "metadata": {
        "id": "BRv91HYpZ9pF"
      },
      "source": [
        "### A look at the Test data"
      ]
    },
    {
      "cell_type": "code",
      "metadata": {
        "colab": {
          "base_uri": "https://localhost:8080/",
          "height": 419
        },
        "id": "3vVr2ECSZ9pF",
        "outputId": "cf754698-ebdd-48ff-fdf8-042b82672816"
      },
      "source": [
        "df_test=pd.read_csv(\"https://raw.githubusercontent.com/michalis0/DataMining_and_MachineLearning/master/project/test_data.csv\")\n",
        "df_test"
      ],
      "execution_count": null,
      "outputs": [
        {
          "output_type": "execute_result",
          "data": {
            "text/html": [
              "<div>\n",
              "<style scoped>\n",
              "    .dataframe tbody tr th:only-of-type {\n",
              "        vertical-align: middle;\n",
              "    }\n",
              "\n",
              "    .dataframe tbody tr th {\n",
              "        vertical-align: top;\n",
              "    }\n",
              "\n",
              "    .dataframe thead th {\n",
              "        text-align: right;\n",
              "    }\n",
              "</style>\n",
              "<table border=\"1\" class=\"dataframe\">\n",
              "  <thead>\n",
              "    <tr style=\"text-align: right;\">\n",
              "      <th></th>\n",
              "      <th>id</th>\n",
              "      <th>keyword</th>\n",
              "      <th>location</th>\n",
              "      <th>text</th>\n",
              "    </tr>\n",
              "  </thead>\n",
              "  <tbody>\n",
              "    <tr>\n",
              "      <th>0</th>\n",
              "      <td>9972</td>\n",
              "      <td>tsunami</td>\n",
              "      <td>NaN</td>\n",
              "      <td>Crptotech tsunami and banks.\\n http://t.co/KHz...</td>\n",
              "    </tr>\n",
              "    <tr>\n",
              "      <th>1</th>\n",
              "      <td>9865</td>\n",
              "      <td>traumatised</td>\n",
              "      <td>Portsmouth, UK</td>\n",
              "      <td>I'm that traumatised that I can't even spell p...</td>\n",
              "    </tr>\n",
              "    <tr>\n",
              "      <th>2</th>\n",
              "      <td>1937</td>\n",
              "      <td>burning%20buildings</td>\n",
              "      <td>NaN</td>\n",
              "      <td>@foxnewsvideo @AIIAmericanGirI @ANHQDC So ... ...</td>\n",
              "    </tr>\n",
              "    <tr>\n",
              "      <th>3</th>\n",
              "      <td>3560</td>\n",
              "      <td>desolate</td>\n",
              "      <td>NaN</td>\n",
              "      <td>Me watching Law &amp;amp; Order (IB: @sauldale305)...</td>\n",
              "    </tr>\n",
              "    <tr>\n",
              "      <th>4</th>\n",
              "      <td>2731</td>\n",
              "      <td>crushed</td>\n",
              "      <td>bahstun/porta reeko</td>\n",
              "      <td>Papi absolutely crushed that ball</td>\n",
              "    </tr>\n",
              "    <tr>\n",
              "      <th>...</th>\n",
              "      <td>...</td>\n",
              "      <td>...</td>\n",
              "      <td>...</td>\n",
              "      <td>...</td>\n",
              "    </tr>\n",
              "    <tr>\n",
              "      <th>1137</th>\n",
              "      <td>3497</td>\n",
              "      <td>derailed</td>\n",
              "      <td>NaN</td>\n",
              "      <td>@ItsQueenBaby I'm at work it's a bunch of ppl ...</td>\n",
              "    </tr>\n",
              "    <tr>\n",
              "      <th>1138</th>\n",
              "      <td>9191</td>\n",
              "      <td>suicide%20bomber</td>\n",
              "      <td>NaN</td>\n",
              "      <td>#?? #?? #??? #??? Suicide bomber kills 15 in S...</td>\n",
              "    </tr>\n",
              "    <tr>\n",
              "      <th>1139</th>\n",
              "      <td>10217</td>\n",
              "      <td>volcano</td>\n",
              "      <td>NaN</td>\n",
              "      <td>Eruption of Indonesian volcano sparks transpor...</td>\n",
              "    </tr>\n",
              "    <tr>\n",
              "      <th>1140</th>\n",
              "      <td>5308</td>\n",
              "      <td>fear</td>\n",
              "      <td>New York</td>\n",
              "      <td>Never let fear get in the way of achieving you...</td>\n",
              "    </tr>\n",
              "    <tr>\n",
              "      <th>1141</th>\n",
              "      <td>8044</td>\n",
              "      <td>refugees</td>\n",
              "      <td>NaN</td>\n",
              "      <td>wowo--=== 12000 Nigerian refugees repatriated ...</td>\n",
              "    </tr>\n",
              "  </tbody>\n",
              "</table>\n",
              "<p>1142 rows × 4 columns</p>\n",
              "</div>"
            ],
            "text/plain": [
              "         id  ...                                               text\n",
              "0      9972  ...  Crptotech tsunami and banks.\\n http://t.co/KHz...\n",
              "1      9865  ...  I'm that traumatised that I can't even spell p...\n",
              "2      1937  ...  @foxnewsvideo @AIIAmericanGirI @ANHQDC So ... ...\n",
              "3      3560  ...  Me watching Law &amp; Order (IB: @sauldale305)...\n",
              "4      2731  ...                  Papi absolutely crushed that ball\n",
              "...     ...  ...                                                ...\n",
              "1137   3497  ...  @ItsQueenBaby I'm at work it's a bunch of ppl ...\n",
              "1138   9191  ...  #?? #?? #??? #??? Suicide bomber kills 15 in S...\n",
              "1139  10217  ...  Eruption of Indonesian volcano sparks transpor...\n",
              "1140   5308  ...  Never let fear get in the way of achieving you...\n",
              "1141   8044  ...  wowo--=== 12000 Nigerian refugees repatriated ...\n",
              "\n",
              "[1142 rows x 4 columns]"
            ]
          },
          "metadata": {
            "tags": []
          },
          "execution_count": 5
        }
      ]
    },
    {
      "cell_type": "markdown",
      "metadata": {
        "id": "iaEqKrhbZ9pG"
      },
      "source": [
        "And we observe that there are 1142 rows and 4 columns in the training data. \n",
        "Having four columns instead 5 here indicates that these are predictors and the column \"target\" is the predicted "
      ]
    },
    {
      "cell_type": "markdown",
      "metadata": {
        "id": "MC9GAahQZ9pG"
      },
      "source": [
        "# Initial EDA"
      ]
    },
    {
      "cell_type": "code",
      "metadata": {
        "id": "riUpokT6Z9pH",
        "outputId": "3367ce83-94e0-41c7-c3b2-75e9e9fadefe"
      },
      "source": [
        "df_train.shape"
      ],
      "execution_count": null,
      "outputs": [
        {
          "output_type": "execute_result",
          "data": {
            "text/plain": [
              "(6471, 5)"
            ]
          },
          "metadata": {
            "tags": []
          },
          "execution_count": 5
        }
      ]
    },
    {
      "cell_type": "code",
      "metadata": {
        "id": "4o300ZXfZ9pH"
      },
      "source": [
        "df_train_copy = df_train.copy()\n",
        "df_train_copy_1 = df_train.copy()\n",
        "df_train_copy_2 = df_train.copy()\n",
        "df_train_copy_3 = df_train.copy()\n",
        "df_train_copy_4 = df_train.copy()\n",
        "df_train_copy_5 = df_train.copy()\n",
        "df_train_copy_6 = df_train.copy()\n",
        "df_train_copy_7 = df_train.copy()\n",
        "df_train_copy_8 = df_train.copy()\n",
        "df_train_copy_9 = df_train.copy()"
      ],
      "execution_count": null,
      "outputs": []
    },
    {
      "cell_type": "markdown",
      "metadata": {
        "id": "Zd7HZzZWZ9pI"
      },
      "source": [
        "Let's use these dataset for trying various things out "
      ]
    },
    {
      "cell_type": "code",
      "metadata": {
        "id": "7VQOnBNoZ9pI",
        "outputId": "bc26d4d7-0cca-49e0-be40-21817cd1c93d"
      },
      "source": [
        "df_train_copy_6.info()"
      ],
      "execution_count": null,
      "outputs": [
        {
          "output_type": "stream",
          "text": [
            "<class 'pandas.core.frame.DataFrame'>\n",
            "RangeIndex: 6471 entries, 0 to 6470\n",
            "Data columns (total 5 columns):\n",
            "id          6471 non-null int64\n",
            "keyword     6416 non-null object\n",
            "location    4330 non-null object\n",
            "text        6471 non-null object\n",
            "target      6471 non-null int64\n",
            "dtypes: int64(2), object(3)\n",
            "memory usage: 252.9+ KB\n"
          ],
          "name": "stdout"
        }
      ]
    },
    {
      "cell_type": "code",
      "metadata": {
        "id": "FdbIAEzhZ9pJ"
      },
      "source": [
        "df_test_copy = df_test.copy()\n",
        "df_test_copy_1 = df_test.copy()\n",
        "df_test_copy_2 = df_test.copy()"
      ],
      "execution_count": null,
      "outputs": []
    },
    {
      "cell_type": "markdown",
      "metadata": {
        "id": "k7jHLNznZ9pJ"
      },
      "source": [
        "#### A quick look at the different types of tweets"
      ]
    },
    {
      "cell_type": "markdown",
      "metadata": {
        "id": "vAGyZ85VZ9pK"
      },
      "source": [
        "Below is a tweet on real disaster "
      ]
    },
    {
      "cell_type": "code",
      "metadata": {
        "id": "0wtf9mOtZ9pK",
        "outputId": "9b699bfd-34c9-4a0c-f7b1-b78546231d70"
      },
      "source": [
        "# a quick look on data\n",
        "quick_look_real = df_train[df_train[\"target\"] == 1 ]['text'].values[2]\n",
        "quick_look_real\n"
      ],
      "execution_count": null,
      "outputs": [
        {
          "output_type": "execute_result",
          "data": {
            "text/plain": [
              "'New ISIS Video: ISIS Threatens to Behead Croatian Hostage Within 48 Hours - TLVFaces - TLVFaces#auspol http://t.co/a6PPEgeLOX'"
            ]
          },
          "metadata": {
            "tags": []
          },
          "execution_count": 180
        }
      ]
    },
    {
      "cell_type": "markdown",
      "metadata": {
        "id": "gvw4BBspZ9pK"
      },
      "source": [
        "This is a typical tweet on fake disaster "
      ]
    },
    {
      "cell_type": "code",
      "metadata": {
        "id": "ueYCpvgLZ9pL",
        "outputId": "9ca33274-700a-497f-ea0e-06f5e7408def"
      },
      "source": [
        "# a quick look on data\n",
        "quick_look_fake = df_train[df_train[\"target\"] == 0 ]['text'].values[2]\n",
        "quick_look_fake\n"
      ],
      "execution_count": null,
      "outputs": [
        {
          "output_type": "execute_result",
          "data": {
            "text/plain": [
              "'Billionaires have a plan to free half a billion dollars trapped in Venezuela for two years @BlakeSchmidt reports.\\n\\nhttp://t.co/gbqTc7Sp9C'"
            ]
          },
          "metadata": {
            "tags": []
          },
          "execution_count": 181
        }
      ]
    },
    {
      "cell_type": "markdown",
      "metadata": {
        "id": "V_4keLwMZ9pL"
      },
      "source": [
        "#### Let's see how the real and fake disaster tweets are distributed"
      ]
    },
    {
      "cell_type": "code",
      "metadata": {
        "id": "ky8KHAICZ9pM",
        "outputId": "735d21f6-86af-4e77-ab83-ae3e9bc63f16"
      },
      "source": [
        "df_train['target'].value_counts()\n"
      ],
      "execution_count": null,
      "outputs": [
        {
          "output_type": "execute_result",
          "data": {
            "text/plain": [
              "0    3701\n",
              "1    2770\n",
              "Name: target, dtype: int64"
            ]
          },
          "metadata": {
            "tags": []
          },
          "execution_count": 39
        }
      ]
    },
    {
      "cell_type": "code",
      "metadata": {
        "id": "403xKp4xZ9pM",
        "outputId": "b8faab6a-e603-4433-d6d8-f7c81a398a7a"
      },
      "source": [
        "import seaborn as sns\n",
        "\n",
        "plt.subplots(1,1,figsize=(10,8))\n",
        "sns.countplot('target',data=df_train) #this gives the frequency of each\n",
        "plt.title(\"Disaster tweets Distribution\")\n",
        "plt.show()"
      ],
      "execution_count": null,
      "outputs": [
        {
          "output_type": "display_data",
          "data": {
            "image/png": "[encoded data removed]",
            "text/plain": [
              "<Figure size 720x576 with 1 Axes>"
            ]
          },
          "metadata": {
            "tags": [],
            "needs_background": "light"
          }
        }
      ]
    },
    {
      "cell_type": "markdown",
      "metadata": {
        "id": "KkcawoSJZ9pN"
      },
      "source": [
        "It is clear that there are more fake than real ones. "
      ]
    },
    {
      "cell_type": "markdown",
      "metadata": {
        "id": "97XJnvEOZ9pN"
      },
      "source": [
        "### The Base rate is given as follows:"
      ]
    },
    {
      "cell_type": "code",
      "metadata": {
        "id": "rcA-UZ0DZ9pN",
        "outputId": "a2406be6-44c4-4b3e-dbc9-783f7c9e5d29"
      },
      "source": [
        "round(df_train.target.value_counts()[0]/len(df_train), 4 )"
      ],
      "execution_count": null,
      "outputs": [
        {
          "output_type": "execute_result",
          "data": {
            "text/plain": [
              "0.5719"
            ]
          },
          "metadata": {
            "tags": []
          },
          "execution_count": 46
        }
      ]
    },
    {
      "cell_type": "markdown",
      "metadata": {
        "id": "NoITCXF5Z9pO"
      },
      "source": [
        "Our predictions have to outperform the base rate. And such a base rate being around 50, the dataframe will not need to be balanced"
      ]
    },
    {
      "cell_type": "markdown",
      "metadata": {
        "id": "HLa2k-puZ9pO"
      },
      "source": [
        "## Let's do further exploration"
      ]
    },
    {
      "cell_type": "code",
      "metadata": {
        "id": "_ut6xqYpZ9pP",
        "outputId": "8ea2bbdc-94aa-4288-85b8-82f0f602d0d1"
      },
      "source": [
        "df_train.head(3)"
      ],
      "execution_count": null,
      "outputs": [
        {
          "output_type": "execute_result",
          "data": {
            "text/html": [
              "<div>\n",
              "<style scoped>\n",
              "    .dataframe tbody tr th:only-of-type {\n",
              "        vertical-align: middle;\n",
              "    }\n",
              "\n",
              "    .dataframe tbody tr th {\n",
              "        vertical-align: top;\n",
              "    }\n",
              "\n",
              "    .dataframe thead th {\n",
              "        text-align: right;\n",
              "    }\n",
              "</style>\n",
              "<table border=\"1\" class=\"dataframe\">\n",
              "  <thead>\n",
              "    <tr style=\"text-align: right;\">\n",
              "      <th></th>\n",
              "      <th>id</th>\n",
              "      <th>keyword</th>\n",
              "      <th>location</th>\n",
              "      <th>text</th>\n",
              "      <th>target</th>\n",
              "    </tr>\n",
              "  </thead>\n",
              "  <tbody>\n",
              "    <tr>\n",
              "      <td>0</td>\n",
              "      <td>3738</td>\n",
              "      <td>destroyed</td>\n",
              "      <td>USA</td>\n",
              "      <td>Black Eye 9: A space battle occurred at Star O...</td>\n",
              "      <td>0</td>\n",
              "    </tr>\n",
              "    <tr>\n",
              "      <td>1</td>\n",
              "      <td>853</td>\n",
              "      <td>bioterror</td>\n",
              "      <td>NaN</td>\n",
              "      <td>#world FedEx no longer to transport bioterror ...</td>\n",
              "      <td>0</td>\n",
              "    </tr>\n",
              "    <tr>\n",
              "      <td>2</td>\n",
              "      <td>10540</td>\n",
              "      <td>windstorm</td>\n",
              "      <td>Palm Beach County, FL</td>\n",
              "      <td>Reality Training: Train falls off elevated tra...</td>\n",
              "      <td>1</td>\n",
              "    </tr>\n",
              "  </tbody>\n",
              "</table>\n",
              "</div>"
            ],
            "text/plain": [
              "      id    keyword               location  \\\n",
              "0   3738  destroyed                    USA   \n",
              "1    853  bioterror                    NaN   \n",
              "2  10540  windstorm  Palm Beach County, FL   \n",
              "\n",
              "                                                text  target  \n",
              "0  Black Eye 9: A space battle occurred at Star O...       0  \n",
              "1  #world FedEx no longer to transport bioterror ...       0  \n",
              "2  Reality Training: Train falls off elevated tra...       1  "
            ]
          },
          "metadata": {
            "tags": []
          },
          "execution_count": 182
        }
      ]
    },
    {
      "cell_type": "markdown",
      "metadata": {
        "id": "OlYKY89HZ9pP"
      },
      "source": [
        "#### Words Distribution"
      ]
    },
    {
      "cell_type": "code",
      "metadata": {
        "id": "JlQocVybZ9pP",
        "outputId": "de0f9517-38fb-4699-964f-38309465ab53"
      },
      "source": [
        "# let's split the words\n",
        "\n",
        "df_train['totalwords'] = df_train['text'].str.split().str.len()\n",
        "\n",
        "\n",
        "df_train['totalwords'].hist(edgecolor='black', linewidth=1.2)\n",
        "plt.title('Total number of Words Distribution')\n",
        "plt.show()"
      ],
      "execution_count": null,
      "outputs": [
        {
          "output_type": "display_data",
          "data": {
            "image/png": "[encoded data removed]",
            "text/plain": [
              "<Figure size 432x288 with 1 Axes>"
            ]
          },
          "metadata": {
            "tags": []
          }
        }
      ]
    },
    {
      "cell_type": "markdown",
      "metadata": {
        "id": "koAySMa2Z9pQ"
      },
      "source": [
        "This is how the total words are distributed"
      ]
    },
    {
      "cell_type": "code",
      "metadata": {
        "id": "caHxNNT6Z9pQ",
        "outputId": "5d88b3e9-4618-422b-c345-3109f7e45624"
      },
      "source": [
        "df_train['totalwords'][df_train['target'] == 0].plot.hist()\n",
        "df_train['totalwords'][df_train['target'] == 1].plot.hist()"
      ],
      "execution_count": null,
      "outputs": [
        {
          "output_type": "execute_result",
          "data": {
            "text/plain": [
              "<matplotlib.axes._subplots.AxesSubplot at 0x1a2abe62d0>"
            ]
          },
          "metadata": {
            "tags": []
          },
          "execution_count": 52
        },
        {
          "output_type": "display_data",
          "data": {
            "image/png": "[encoded data removed]",
            "text/plain": [
              "<Figure size 432x288 with 1 Axes>"
            ]
          },
          "metadata": {
            "tags": []
          }
        }
      ]
    },
    {
      "cell_type": "markdown",
      "metadata": {
        "id": "q9u80CcwZ9pR"
      },
      "source": [
        "Here, we see that the most longest real disaster tweets have between 15 and 20 words."
      ]
    },
    {
      "cell_type": "markdown",
      "metadata": {
        "id": "BTsyIW5xZ9pR"
      },
      "source": [
        "#### Character Distribution Comparison"
      ]
    },
    {
      "cell_type": "markdown",
      "metadata": {
        "id": "JzoZw-YRZ9pR"
      },
      "source": [
        "Here, we compare the distribution of real and fake disaster tweets "
      ]
    },
    {
      "cell_type": "code",
      "metadata": {
        "id": "J5qF4iefZ9pS",
        "outputId": "b80df7b3-6655-4bc9-9b00-89b593dc066f"
      },
      "source": [
        "df_train['totalcharacter'] = df_train['text'].apply(lambda x: len(x))\n",
        "df_train['totalcharacter'][df_train['target'] == 0]"
      ],
      "execution_count": null,
      "outputs": [
        {
          "output_type": "execute_result",
          "data": {
            "text/plain": [
              "0       106\n",
              "1       106\n",
              "6       137\n",
              "7       144\n",
              "8       115\n",
              "       ... \n",
              "6458    135\n",
              "6461     17\n",
              "6462     74\n",
              "6464    134\n",
              "6467    140\n",
              "Name: totalcharacter, Length: 3701, dtype: int64"
            ]
          },
          "metadata": {
            "tags": []
          },
          "execution_count": 185
        }
      ]
    },
    {
      "cell_type": "code",
      "metadata": {
        "id": "Y_byvTQ0Z9pS",
        "outputId": "f645a788-6ab6-44ec-e2f6-25b832bd5b06"
      },
      "source": [
        "df_train['totalcharacter'][df_train['target'] == 0].plot.hist()"
      ],
      "execution_count": null,
      "outputs": [
        {
          "output_type": "execute_result",
          "data": {
            "text/plain": [
              "<matplotlib.axes._subplots.AxesSubplot at 0x1a229c34d0>"
            ]
          },
          "metadata": {
            "tags": []
          },
          "execution_count": 186
        },
        {
          "output_type": "display_data",
          "data": {
            "image/png": "[encoded data removed]",
            "text/plain": [
              "<Figure size 432x288 with 1 Axes>"
            ]
          },
          "metadata": {
            "tags": [],
            "needs_background": "light"
          }
        }
      ]
    },
    {
      "cell_type": "code",
      "metadata": {
        "id": "Cf1GZziWZ9pT",
        "outputId": "c153d450-ee0e-4e1e-ef98-8abb1f9deb2c"
      },
      "source": [
        "df_train['totalcharacter'][df_train['target'] == 1].plot.hist()"
      ],
      "execution_count": null,
      "outputs": [
        {
          "output_type": "execute_result",
          "data": {
            "text/plain": [
              "<matplotlib.axes._subplots.AxesSubplot at 0x1a22c9f190>"
            ]
          },
          "metadata": {
            "tags": []
          },
          "execution_count": 187
        },
        {
          "output_type": "display_data",
          "data": {
            "image/png": "[encoded data removed]",
            "text/plain": [
              "<Figure size 432x288 with 1 Axes>"
            ]
          },
          "metadata": {
            "tags": [],
            "needs_background": "light"
          }
        }
      ]
    },
    {
      "cell_type": "code",
      "metadata": {
        "id": "t70v8rbKZ9pT",
        "outputId": "458d0dee-f417-4b88-e90d-57f09fb4e8d1"
      },
      "source": [
        "df_train['totalcharacter'][df_train['target'] == 0].plot.hist()\n",
        "df_train['totalcharacter'][df_train['target'] == 1].plot.hist()"
      ],
      "execution_count": null,
      "outputs": [
        {
          "output_type": "execute_result",
          "data": {
            "text/plain": [
              "<matplotlib.axes._subplots.AxesSubplot at 0x1a22c16310>"
            ]
          },
          "metadata": {
            "tags": []
          },
          "execution_count": 188
        },
        {
          "output_type": "display_data",
          "data": {
            "image/png": "[encoded data removed]",
            "text/plain": [
              "<Figure size 432x288 with 1 Axes>"
            ]
          },
          "metadata": {
            "tags": [],
            "needs_background": "light"
          }
        }
      ]
    },
    {
      "cell_type": "markdown",
      "metadata": {
        "id": "caRidOVtZ9pT"
      },
      "source": [
        "> We observe that real disaster tweet characters are fewer than the fakes ones.\n",
        "> Real disaster tweets have at least 20 characters. And most of them have at least 80 characters\n",
        "> But this is not very significant "
      ]
    },
    {
      "cell_type": "markdown",
      "metadata": {
        "id": "ajfepUDtZ9pU"
      },
      "source": [
        "#### unique word"
      ]
    },
    {
      "cell_type": "code",
      "metadata": {
        "id": "w6VqOEC7Z9pU",
        "outputId": "b17fb9b4-465f-4045-c123-4461e8bcb029"
      },
      "source": [
        "df_train['uniqueword'] = df_train['text'].apply(lambda x: len(set(x.split())))\n",
        "df_train['uniqueword'][df_train['target'] == 0].plot.hist()\n",
        "df_train['uniqueword'][df_train['target'] == 1].plot.hist()"
      ],
      "execution_count": null,
      "outputs": [
        {
          "output_type": "execute_result",
          "data": {
            "text/plain": [
              "<matplotlib.axes._subplots.AxesSubplot at 0x1a22c73390>"
            ]
          },
          "metadata": {
            "tags": []
          },
          "execution_count": 189
        },
        {
          "output_type": "display_data",
          "data": {
            "image/png": "[encoded data removed]",
            "text/plain": [
              "<Figure size 432x288 with 1 Axes>"
            ]
          },
          "metadata": {
            "tags": [],
            "needs_background": "light"
          }
        }
      ]
    },
    {
      "cell_type": "markdown",
      "metadata": {
        "id": "jGMLvqGLZ9pV"
      },
      "source": [
        "#### Average Word Length"
      ]
    },
    {
      "cell_type": "code",
      "metadata": {
        "id": "bNivzXJGZ9pV",
        "outputId": "0890a335-b0a7-477c-9827-168c4781eef4"
      },
      "source": [
        "def avg_word_length(x):\n",
        "    x = x.split()\n",
        "    return np.mean([len(i) for i in x])\n",
        "\n",
        "df_train['avg_word_length'] = df_train['text'].apply(avg_word_length)\n",
        "df_train['avg_word_length'][df_train['target'] == 0].plot.hist()\n",
        "df_train['avg_word_length'][df_train['target'] == 1].plot.hist()\n"
      ],
      "execution_count": null,
      "outputs": [
        {
          "output_type": "execute_result",
          "data": {
            "text/plain": [
              "<matplotlib.axes._subplots.AxesSubplot at 0x1a2031b710>"
            ]
          },
          "metadata": {
            "tags": []
          },
          "execution_count": 7
        },
        {
          "output_type": "display_data",
          "data": {
            "image/png": "[encoded data removed]",
            "text/plain": [
              "<Figure size 432x288 with 1 Axes>"
            ]
          },
          "metadata": {
            "tags": [],
            "needs_background": "light"
          }
        }
      ]
    },
    {
      "cell_type": "markdown",
      "metadata": {
        "id": "3-0YnPMAZ9pW"
      },
      "source": [
        "We may use this feature in our analysis "
      ]
    },
    {
      "cell_type": "markdown",
      "metadata": {
        "id": "49H4fCMOZ9pW"
      },
      "source": [
        "#### The location with the most fake disaster tweet "
      ]
    },
    {
      "cell_type": "code",
      "metadata": {
        "id": "iU5zgKqCZ9pW",
        "outputId": "858dd648-4d22-486e-d305-b6122f11ffcb"
      },
      "source": [
        "df_train['location'][df_train['target'] == 0].value_counts().plot(figsize=(15, 12))\n"
      ],
      "execution_count": null,
      "outputs": [
        {
          "output_type": "execute_result",
          "data": {
            "text/plain": [
              "<matplotlib.axes._subplots.AxesSubplot at 0x1a26e2ef90>"
            ]
          },
          "metadata": {
            "tags": []
          },
          "execution_count": 214
        },
        {
          "output_type": "display_data",
          "data": {
            "image/png": "[encoded data removed]",
            "text/plain": [
              "<Figure size 1080x864 with 1 Axes>"
            ]
          },
          "metadata": {
            "tags": [],
            "needs_background": "light"
          }
        }
      ]
    },
    {
      "cell_type": "markdown",
      "metadata": {
        "id": "1Cz7j4ClZ9pX"
      },
      "source": [
        ">According this most of the fake disaster tweets apparently come from New york.\n",
        ">And many have a pseudoname as location"
      ]
    },
    {
      "cell_type": "markdown",
      "metadata": {
        "id": "IIkGAxYsZ9pX"
      },
      "source": [
        "#### The location with the most real disaster tweet "
      ]
    },
    {
      "cell_type": "code",
      "metadata": {
        "id": "aQcHJVAOZ9pX",
        "outputId": "a7508a94-fb05-4625-cd94-794ccda338dc"
      },
      "source": [
        "df_train['location'][df_train['target'] == 1].value_counts().plot(figsize=(15, 12))\n"
      ],
      "execution_count": null,
      "outputs": [
        {
          "output_type": "execute_result",
          "data": {
            "text/plain": [
              "<matplotlib.axes._subplots.AxesSubplot at 0x1a26b81b50>"
            ]
          },
          "metadata": {
            "tags": []
          },
          "execution_count": 215
        },
        {
          "output_type": "display_data",
          "data": {
            "image/png": "[encoded data removed]",
            "text/plain": [
              "<Figure size 1080x864 with 1 Axes>"
            ]
          },
          "metadata": {
            "tags": [],
            "needs_background": "light"
          }
        }
      ]
    },
    {
      "cell_type": "markdown",
      "metadata": {
        "id": "0MRbPZdrZ9pY"
      },
      "source": [
        "This gives an idea about the locations where most of the real tweets come from  "
      ]
    },
    {
      "cell_type": "code",
      "metadata": {
        "id": "yH5hWM-1Z9pY",
        "outputId": "0ae85f45-cad0-4771-e978-65397a446299"
      },
      "source": [
        "df_train_copy['location'].value_counts()"
      ],
      "execution_count": null,
      "outputs": [
        {
          "output_type": "execute_result",
          "data": {
            "text/plain": [
              "USA                            91\n",
              "New York                       59\n",
              "United States                  46\n",
              "London                         39\n",
              "Canada                         25\n",
              "                               ..\n",
              "portland, oregon                1\n",
              "dorito land                     1\n",
              "Silang, Cavite / ParaÌ±aque     1\n",
              "Oshawa/Toronto                  1\n",
              "Bathtub de Bett                 1\n",
              "Name: location, Length: 2921, dtype: int64"
            ]
          },
          "metadata": {
            "tags": []
          },
          "execution_count": 307
        }
      ]
    },
    {
      "cell_type": "code",
      "metadata": {
        "id": "Wbubq2o2Z9pY",
        "outputId": "b081032b-c4f5-4902-b1b2-21a35c0e31cd"
      },
      "source": [
        "top_location = df_train_copy['location'].value_counts()\n",
        "top_location.head(10).plot(kind=\"bar\", figsize=(10, 8))"
      ],
      "execution_count": null,
      "outputs": [
        {
          "output_type": "execute_result",
          "data": {
            "text/plain": [
              "<matplotlib.axes._subplots.AxesSubplot at 0x1a33a0e210>"
            ]
          },
          "metadata": {
            "tags": []
          },
          "execution_count": 318
        },
        {
          "output_type": "display_data",
          "data": {
            "image/png": "[encoded data removed]",
            "text/plain": [
              "<Figure size 720x576 with 1 Axes>"
            ]
          },
          "metadata": {
            "tags": []
          }
        }
      ]
    },
    {
      "cell_type": "markdown",
      "metadata": {
        "id": "__w1soW5Z9pZ"
      },
      "source": [
        "###### None of the above can become new features.\n",
        "###### Therefore, they are not useful enough to be  added as input in our model.\n",
        "\n",
        "\n"
      ]
    },
    {
      "cell_type": "markdown",
      "metadata": {
        "id": "t_pZORuVZ9pZ"
      },
      "source": [
        "### Correlation "
      ]
    },
    {
      "cell_type": "code",
      "metadata": {
        "id": "7mlfyMwiZ9pf"
      },
      "source": [
        "# encode keyword and do a displot with target or corr analysis # also with id"
      ],
      "execution_count": null,
      "outputs": []
    },
    {
      "cell_type": "code",
      "metadata": {
        "id": "KXfNWa6yZ9pf"
      },
      "source": [
        "from sklearn.preprocessing import LabelEncoder, OneHotEncoder\n",
        "sns.set_style(\"white\")\n",
        "\n",
        "ohe = OneHotEncoder() #creating the object encoder \n"
      ],
      "execution_count": null,
      "outputs": []
    },
    {
      "cell_type": "code",
      "metadata": {
        "id": "bnsMD2V9Z9pf"
      },
      "source": [
        "# categorical_cols = ['keyword']\n",
        "df_train[\"keyword\"] = df_train.keyword.astype('category').cat.codes\n",
        "\n",
        "df_train[\"location\"] = df_train.location.astype('category').cat.codes"
      ],
      "execution_count": null,
      "outputs": []
    },
    {
      "cell_type": "code",
      "metadata": {
        "id": "YpxrpSX3Z9pg",
        "outputId": "905d0a32-646f-4693-f846-d02e8bf7f099"
      },
      "source": [
        "df_train"
      ],
      "execution_count": null,
      "outputs": [
        {
          "output_type": "execute_result",
          "data": {
            "text/html": [
              "<div>\n",
              "<style scoped>\n",
              "    .dataframe tbody tr th:only-of-type {\n",
              "        vertical-align: middle;\n",
              "    }\n",
              "\n",
              "    .dataframe tbody tr th {\n",
              "        vertical-align: top;\n",
              "    }\n",
              "\n",
              "    .dataframe thead th {\n",
              "        text-align: right;\n",
              "    }\n",
              "</style>\n",
              "<table border=\"1\" class=\"dataframe\">\n",
              "  <thead>\n",
              "    <tr style=\"text-align: right;\">\n",
              "      <th></th>\n",
              "      <th>id</th>\n",
              "      <th>keyword</th>\n",
              "      <th>location</th>\n",
              "      <th>text</th>\n",
              "      <th>target</th>\n",
              "      <th>totalwords</th>\n",
              "      <th>totalcharacter</th>\n",
              "      <th>uniqueword</th>\n",
              "      <th>avg_word_length</th>\n",
              "    </tr>\n",
              "  </thead>\n",
              "  <tbody>\n",
              "    <tr>\n",
              "      <td>0</td>\n",
              "      <td>3738</td>\n",
              "      <td>75</td>\n",
              "      <td>2313</td>\n",
              "      <td>Black Eye 9: A space battle occurred at Star O...</td>\n",
              "      <td>0</td>\n",
              "      <td>19</td>\n",
              "      <td>106</td>\n",
              "      <td>19</td>\n",
              "      <td>4.631579</td>\n",
              "    </tr>\n",
              "    <tr>\n",
              "      <td>1</td>\n",
              "      <td>853</td>\n",
              "      <td>17</td>\n",
              "      <td>-1</td>\n",
              "      <td>#world FedEx no longer to transport bioterror ...</td>\n",
              "      <td>0</td>\n",
              "      <td>15</td>\n",
              "      <td>106</td>\n",
              "      <td>15</td>\n",
              "      <td>6.066667</td>\n",
              "    </tr>\n",
              "    <tr>\n",
              "      <td>2</td>\n",
              "      <td>10540</td>\n",
              "      <td>216</td>\n",
              "      <td>1746</td>\n",
              "      <td>Reality Training: Train falls off elevated tra...</td>\n",
              "      <td>1</td>\n",
              "      <td>12</td>\n",
              "      <td>105</td>\n",
              "      <td>12</td>\n",
              "      <td>7.833333</td>\n",
              "    </tr>\n",
              "    <tr>\n",
              "      <td>3</td>\n",
              "      <td>5988</td>\n",
              "      <td>122</td>\n",
              "      <td>2313</td>\n",
              "      <td>#Taiwan Grace: expect that large rocks trees m...</td>\n",
              "      <td>1</td>\n",
              "      <td>19</td>\n",
              "      <td>133</td>\n",
              "      <td>19</td>\n",
              "      <td>6.052632</td>\n",
              "    </tr>\n",
              "    <tr>\n",
              "      <td>4</td>\n",
              "      <td>6328</td>\n",
              "      <td>128</td>\n",
              "      <td>324</td>\n",
              "      <td>New ISIS Video: ISIS Threatens to Behead Croat...</td>\n",
              "      <td>1</td>\n",
              "      <td>17</td>\n",
              "      <td>125</td>\n",
              "      <td>15</td>\n",
              "      <td>6.411765</td>\n",
              "    </tr>\n",
              "    <tr>\n",
              "      <td>...</td>\n",
              "      <td>...</td>\n",
              "      <td>...</td>\n",
              "      <td>...</td>\n",
              "      <td>...</td>\n",
              "      <td>...</td>\n",
              "      <td>...</td>\n",
              "      <td>...</td>\n",
              "      <td>...</td>\n",
              "      <td>...</td>\n",
              "    </tr>\n",
              "    <tr>\n",
              "      <td>6466</td>\n",
              "      <td>4377</td>\n",
              "      <td>88</td>\n",
              "      <td>183</td>\n",
              "      <td>#Earthquake #Sismo M 1.9 - 15km E of Anchorage...</td>\n",
              "      <td>1</td>\n",
              "      <td>17</td>\n",
              "      <td>135</td>\n",
              "      <td>17</td>\n",
              "      <td>7.000000</td>\n",
              "    </tr>\n",
              "    <tr>\n",
              "      <td>6467</td>\n",
              "      <td>3408</td>\n",
              "      <td>69</td>\n",
              "      <td>-1</td>\n",
              "      <td>@EmiiliexIrwin Totally agree.She is 23 and kno...</td>\n",
              "      <td>0</td>\n",
              "      <td>25</td>\n",
              "      <td>140</td>\n",
              "      <td>24</td>\n",
              "      <td>4.640000</td>\n",
              "    </tr>\n",
              "    <tr>\n",
              "      <td>6468</td>\n",
              "      <td>9794</td>\n",
              "      <td>200</td>\n",
              "      <td>-1</td>\n",
              "      <td>Hollywood Movie About Trapped Miners Released ...</td>\n",
              "      <td>1</td>\n",
              "      <td>17</td>\n",
              "      <td>136</td>\n",
              "      <td>16</td>\n",
              "      <td>7.058824</td>\n",
              "    </tr>\n",
              "    <tr>\n",
              "      <td>6469</td>\n",
              "      <td>10344</td>\n",
              "      <td>212</td>\n",
              "      <td>375</td>\n",
              "      <td>Friendly reminder that the only country to eve...</td>\n",
              "      <td>1</td>\n",
              "      <td>20</td>\n",
              "      <td>133</td>\n",
              "      <td>19</td>\n",
              "      <td>5.700000</td>\n",
              "    </tr>\n",
              "    <tr>\n",
              "      <td>6470</td>\n",
              "      <td>1779</td>\n",
              "      <td>36</td>\n",
              "      <td>-1</td>\n",
              "      <td>Buildings are on fire and they have time for a...</td>\n",
              "      <td>1</td>\n",
              "      <td>13</td>\n",
              "      <td>74</td>\n",
              "      <td>13</td>\n",
              "      <td>4.769231</td>\n",
              "    </tr>\n",
              "  </tbody>\n",
              "</table>\n",
              "<p>6471 rows × 9 columns</p>\n",
              "</div>"
            ],
            "text/plain": [
              "         id  keyword  location  \\\n",
              "0      3738       75      2313   \n",
              "1       853       17        -1   \n",
              "2     10540      216      1746   \n",
              "3      5988      122      2313   \n",
              "4      6328      128       324   \n",
              "...     ...      ...       ...   \n",
              "6466   4377       88       183   \n",
              "6467   3408       69        -1   \n",
              "6468   9794      200        -1   \n",
              "6469  10344      212       375   \n",
              "6470   1779       36        -1   \n",
              "\n",
              "                                                   text  target  totalwords  \\\n",
              "0     Black Eye 9: A space battle occurred at Star O...       0          19   \n",
              "1     #world FedEx no longer to transport bioterror ...       0          15   \n",
              "2     Reality Training: Train falls off elevated tra...       1          12   \n",
              "3     #Taiwan Grace: expect that large rocks trees m...       1          19   \n",
              "4     New ISIS Video: ISIS Threatens to Behead Croat...       1          17   \n",
              "...                                                 ...     ...         ...   \n",
              "6466  #Earthquake #Sismo M 1.9 - 15km E of Anchorage...       1          17   \n",
              "6467  @EmiiliexIrwin Totally agree.She is 23 and kno...       0          25   \n",
              "6468  Hollywood Movie About Trapped Miners Released ...       1          17   \n",
              "6469  Friendly reminder that the only country to eve...       1          20   \n",
              "6470  Buildings are on fire and they have time for a...       1          13   \n",
              "\n",
              "      totalcharacter  uniqueword  avg_word_length  \n",
              "0                106          19         4.631579  \n",
              "1                106          15         6.066667  \n",
              "2                105          12         7.833333  \n",
              "3                133          19         6.052632  \n",
              "4                125          15         6.411765  \n",
              "...              ...         ...              ...  \n",
              "6466             135          17         7.000000  \n",
              "6467             140          24         4.640000  \n",
              "6468             136          16         7.058824  \n",
              "6469             133          19         5.700000  \n",
              "6470              74          13         4.769231  \n",
              "\n",
              "[6471 rows x 9 columns]"
            ]
          },
          "metadata": {
            "tags": []
          },
          "execution_count": 286
        }
      ]
    },
    {
      "cell_type": "code",
      "metadata": {
        "id": "5Jmzbk3NZ9pg",
        "outputId": "3a39122f-12b3-4f5b-ab75-acf029d5cab0"
      },
      "source": [
        "sns.heatmap(df_train[['keyword','location']].corr())"
      ],
      "execution_count": null,
      "outputs": [
        {
          "output_type": "execute_result",
          "data": {
            "text/plain": [
              "<matplotlib.axes._subplots.AxesSubplot at 0x1a2c17d390>"
            ]
          },
          "metadata": {
            "tags": []
          },
          "execution_count": 59
        },
        {
          "output_type": "display_data",
          "data": {
            "image/png": "[encoded data removed]",
            "text/plain": [
              "<Figure size 432x288 with 2 Axes>"
            ]
          },
          "metadata": {
            "tags": []
          }
        }
      ]
    },
    {
      "cell_type": "code",
      "metadata": {
        "id": "TBqCAlqMZ9ph",
        "outputId": "4c87bda4-328f-49b2-ddd5-85fb6a4f1252"
      },
      "source": [
        "sns.pairplot(df_train[['keyword','location']]) #this function compares variables two by two"
      ],
      "execution_count": null,
      "outputs": [
        {
          "output_type": "execute_result",
          "data": {
            "text/plain": [
              "<seaborn.axisgrid.PairGrid at 0x1a2ba6dd10>"
            ]
          },
          "metadata": {
            "tags": []
          },
          "execution_count": 58
        },
        {
          "output_type": "display_data",
          "data": {
            "image/png": "[encoded data removed]",
            "text/plain": [
              "<Figure size 360x360 with 6 Axes>"
            ]
          },
          "metadata": {
            "tags": []
          }
        }
      ]
    },
    {
      "cell_type": "markdown",
      "metadata": {
        "id": "MmhjoOXTZ9ph"
      },
      "source": [
        "These graphs are Not particularly insightful. "
      ]
    },
    {
      "cell_type": "markdown",
      "metadata": {
        "id": "X9oPLwHJZ9pi"
      },
      "source": [
        "# I. Initial Classification Model: "
      ]
    },
    {
      "cell_type": "markdown",
      "metadata": {
        "id": "fFUY-ViuZ9pi"
      },
      "source": [
        "Our initial assumption is that the by default predictors (keyword, location and especially text) have a correlation or perhaps a causality with the fact that a tweet is either real or not"
      ]
    },
    {
      "cell_type": "code",
      "metadata": {
        "scrolled": true,
        "id": "eqUQpKgjZ9pi",
        "outputId": "8d6f5478-6178-42b3-8d2f-55928d2b90b7"
      },
      "source": [
        "df_train_copy.tail(5)"
      ],
      "execution_count": null,
      "outputs": [
        {
          "output_type": "execute_result",
          "data": {
            "text/html": [
              "<div>\n",
              "<style scoped>\n",
              "    .dataframe tbody tr th:only-of-type {\n",
              "        vertical-align: middle;\n",
              "    }\n",
              "\n",
              "    .dataframe tbody tr th {\n",
              "        vertical-align: top;\n",
              "    }\n",
              "\n",
              "    .dataframe thead th {\n",
              "        text-align: right;\n",
              "    }\n",
              "</style>\n",
              "<table border=\"1\" class=\"dataframe\">\n",
              "  <thead>\n",
              "    <tr style=\"text-align: right;\">\n",
              "      <th></th>\n",
              "      <th>id</th>\n",
              "      <th>keyword</th>\n",
              "      <th>location</th>\n",
              "      <th>text</th>\n",
              "      <th>target</th>\n",
              "    </tr>\n",
              "  </thead>\n",
              "  <tbody>\n",
              "    <tr>\n",
              "      <td>6466</td>\n",
              "      <td>4377</td>\n",
              "      <td>earthquake</td>\n",
              "      <td>ARGENTINA</td>\n",
              "      <td>#Earthquake #Sismo M 1.9 - 15km E of Anchorage...</td>\n",
              "      <td>1</td>\n",
              "    </tr>\n",
              "    <tr>\n",
              "      <td>6467</td>\n",
              "      <td>3408</td>\n",
              "      <td>derail</td>\n",
              "      <td>NaN</td>\n",
              "      <td>@EmiiliexIrwin Totally agree.She is 23 and kno...</td>\n",
              "      <td>0</td>\n",
              "    </tr>\n",
              "    <tr>\n",
              "      <td>6468</td>\n",
              "      <td>9794</td>\n",
              "      <td>trapped</td>\n",
              "      <td>NaN</td>\n",
              "      <td>Hollywood Movie About Trapped Miners Released ...</td>\n",
              "      <td>1</td>\n",
              "    </tr>\n",
              "    <tr>\n",
              "      <td>6469</td>\n",
              "      <td>10344</td>\n",
              "      <td>weapons</td>\n",
              "      <td>Beirut/Toronto</td>\n",
              "      <td>Friendly reminder that the only country to eve...</td>\n",
              "      <td>1</td>\n",
              "    </tr>\n",
              "    <tr>\n",
              "      <td>6470</td>\n",
              "      <td>1779</td>\n",
              "      <td>buildings%20on%20fire</td>\n",
              "      <td>NaN</td>\n",
              "      <td>Buildings are on fire and they have time for a...</td>\n",
              "      <td>1</td>\n",
              "    </tr>\n",
              "  </tbody>\n",
              "</table>\n",
              "</div>"
            ],
            "text/plain": [
              "         id                keyword        location  \\\n",
              "6466   4377             earthquake       ARGENTINA   \n",
              "6467   3408                 derail             NaN   \n",
              "6468   9794                trapped             NaN   \n",
              "6469  10344                weapons  Beirut/Toronto   \n",
              "6470   1779  buildings%20on%20fire             NaN   \n",
              "\n",
              "                                                   text  target  \n",
              "6466  #Earthquake #Sismo M 1.9 - 15km E of Anchorage...       1  \n",
              "6467  @EmiiliexIrwin Totally agree.She is 23 and kno...       0  \n",
              "6468  Hollywood Movie About Trapped Miners Released ...       1  \n",
              "6469  Friendly reminder that the only country to eve...       1  \n",
              "6470  Buildings are on fire and they have time for a...       1  "
            ]
          },
          "metadata": {
            "tags": []
          },
          "execution_count": 7
        }
      ]
    },
    {
      "cell_type": "code",
      "metadata": {
        "id": "dldKrywiZ9pj"
      },
      "source": [
        "import pandas as pd\n",
        "from sklearn.feature_extraction.text import CountVectorizer,TfidfVectorizer\n",
        "from sklearn.base import TransformerMixin\n",
        "from sklearn.pipeline import Pipeline\n",
        "import spacy\n",
        "\n",
        "from spacy import displacy\n",
        "import string\n",
        "from spacy.lang.en.stop_words import STOP_WORDS\n",
        "from spacy.lang.en import English\n",
        "from sklearn.model_selection import train_test_split\n",
        "from sklearn.linear_model import LogisticRegression\n",
        "from sklearn.metrics import confusion_matrix, accuracy_score, precision_score, recall_score, f1_score\n"
      ],
      "execution_count": null,
      "outputs": []
    },
    {
      "cell_type": "code",
      "metadata": {
        "colab": {
          "base_uri": "https://localhost:8080/"
        },
        "id": "jLkauCMgZ9pj",
        "outputId": "0901c095-688a-4833-99ae-c0576490c20a"
      },
      "source": [
        "!python -m spacy download en"
      ],
      "execution_count": null,
      "outputs": [
        {
          "output_type": "stream",
          "text": [
            "Requirement already satisfied: en_core_web_sm==2.2.5 from https://github.com/explosion/spacy-models/releases/download/en_core_web_sm-2.2.5/en_core_web_sm-2.2.5.tar.gz#egg=en_core_web_sm==2.2.5 in /usr/local/lib/python3.6/dist-packages (2.2.5)\n",
            "Requirement already satisfied: spacy>=2.2.2 in /usr/local/lib/python3.6/dist-packages (from en_core_web_sm==2.2.5) (2.2.4)\n",
            "Requirement already satisfied: wasabi<1.1.0,>=0.4.0 in /usr/local/lib/python3.6/dist-packages (from spacy>=2.2.2->en_core_web_sm==2.2.5) (0.8.0)\n",
            "Requirement already satisfied: cymem<2.1.0,>=2.0.2 in /usr/local/lib/python3.6/dist-packages (from spacy>=2.2.2->en_core_web_sm==2.2.5) (2.0.5)\n",
            "Requirement already satisfied: preshed<3.1.0,>=3.0.2 in /usr/local/lib/python3.6/dist-packages (from spacy>=2.2.2->en_core_web_sm==2.2.5) (3.0.5)\n",
            "Requirement already satisfied: tqdm<5.0.0,>=4.38.0 in /usr/local/lib/python3.6/dist-packages (from spacy>=2.2.2->en_core_web_sm==2.2.5) (4.41.1)\n",
            "Requirement already satisfied: blis<0.5.0,>=0.4.0 in /usr/local/lib/python3.6/dist-packages (from spacy>=2.2.2->en_core_web_sm==2.2.5) (0.4.1)\n",
            "Requirement already satisfied: setuptools in /usr/local/lib/python3.6/dist-packages (from spacy>=2.2.2->en_core_web_sm==2.2.5) (50.3.2)\n",
            "Requirement already satisfied: requests<3.0.0,>=2.13.0 in /usr/local/lib/python3.6/dist-packages (from spacy>=2.2.2->en_core_web_sm==2.2.5) (2.23.0)\n",
            "Requirement already satisfied: catalogue<1.1.0,>=0.0.7 in /usr/local/lib/python3.6/dist-packages (from spacy>=2.2.2->en_core_web_sm==2.2.5) (1.0.0)\n",
            "Requirement already satisfied: plac<1.2.0,>=0.9.6 in /usr/local/lib/python3.6/dist-packages (from spacy>=2.2.2->en_core_web_sm==2.2.5) (1.1.3)\n",
            "Requirement already satisfied: murmurhash<1.1.0,>=0.28.0 in /usr/local/lib/python3.6/dist-packages (from spacy>=2.2.2->en_core_web_sm==2.2.5) (1.0.5)\n",
            "Requirement already satisfied: thinc==7.4.0 in /usr/local/lib/python3.6/dist-packages (from spacy>=2.2.2->en_core_web_sm==2.2.5) (7.4.0)\n",
            "Requirement already satisfied: srsly<1.1.0,>=1.0.2 in /usr/local/lib/python3.6/dist-packages (from spacy>=2.2.2->en_core_web_sm==2.2.5) (1.0.5)\n",
            "Requirement already satisfied: numpy>=1.15.0 in /usr/local/lib/python3.6/dist-packages (from spacy>=2.2.2->en_core_web_sm==2.2.5) (1.18.5)\n",
            "Requirement already satisfied: certifi>=2017.4.17 in /usr/local/lib/python3.6/dist-packages (from requests<3.0.0,>=2.13.0->spacy>=2.2.2->en_core_web_sm==2.2.5) (2020.12.5)\n",
            "Requirement already satisfied: idna<3,>=2.5 in /usr/local/lib/python3.6/dist-packages (from requests<3.0.0,>=2.13.0->spacy>=2.2.2->en_core_web_sm==2.2.5) (2.10)\n",
            "Requirement already satisfied: chardet<4,>=3.0.2 in /usr/local/lib/python3.6/dist-packages (from requests<3.0.0,>=2.13.0->spacy>=2.2.2->en_core_web_sm==2.2.5) (3.0.4)\n",
            "Requirement already satisfied: urllib3!=1.25.0,!=1.25.1,<1.26,>=1.21.1 in /usr/local/lib/python3.6/dist-packages (from requests<3.0.0,>=2.13.0->spacy>=2.2.2->en_core_web_sm==2.2.5) (1.24.3)\n",
            "Requirement already satisfied: importlib-metadata>=0.20; python_version < \"3.8\" in /usr/local/lib/python3.6/dist-packages (from catalogue<1.1.0,>=0.0.7->spacy>=2.2.2->en_core_web_sm==2.2.5) (3.1.1)\n",
            "Requirement already satisfied: zipp>=0.5 in /usr/local/lib/python3.6/dist-packages (from importlib-metadata>=0.20; python_version < \"3.8\"->catalogue<1.1.0,>=0.0.7->spacy>=2.2.2->en_core_web_sm==2.2.5) (3.4.0)\n",
            "\u001b[38;5;2m✔ Download and installation successful\u001b[0m\n",
            "You can now load the model via spacy.load('en_core_web_sm')\n",
            "\u001b[38;5;2m✔ Linking successful\u001b[0m\n",
            "/usr/local/lib/python3.6/dist-packages/en_core_web_sm -->\n",
            "/usr/local/lib/python3.6/dist-packages/spacy/data/en\n",
            "You can now load the model via spacy.load('en')\n"
          ],
          "name": "stdout"
        }
      ]
    },
    {
      "cell_type": "markdown",
      "metadata": {
        "id": "FwA29_fhZ9pk"
      },
      "source": [
        "## I.1. Model After direct Vectorization (without General Cleaning Nor Text Cleaning)"
      ]
    },
    {
      "cell_type": "markdown",
      "metadata": {
        "id": "RZGQ9L0ZZ9pk"
      },
      "source": [
        "### I.1.1. With One Predictor 'text'"
      ]
    },
    {
      "cell_type": "code",
      "metadata": {
        "id": "OWeBAZXlZ9pk"
      },
      "source": [
        "# Select features\n",
        "X_train = df_train_copy['text'].values # the features we want to analyze\n",
        "y_train = df_train_copy['target'].values # the labels, or answers, we want to test against\n",
        "\n",
        "\n",
        "X_test = df_test['text'].values # the features we want to analyze"
      ],
      "execution_count": null,
      "outputs": []
    },
    {
      "cell_type": "markdown",
      "metadata": {
        "id": "j0c2_5O1Z9pl"
      },
      "source": [
        "As per our intuition, we want to do this because TF-IDF takes of care unimportant words like most the stop words"
      ]
    },
    {
      "cell_type": "code",
      "metadata": {
        "id": "f4EfBa2WZ9pl"
      },
      "source": [
        "tfidf_vectorizer = TfidfVectorizer(use_idf = True, max_df = 0.95)\n",
        "tfidf_vectorizer.fit_transform(X_train)\n",
        "        \n",
        "train_feature_set = tfidf_vectorizer.transform(X_train)    "
      ],
      "execution_count": null,
      "outputs": []
    },
    {
      "cell_type": "code",
      "metadata": {
        "scrolled": false,
        "id": "O-sfiFBWZ9pl",
        "outputId": "d96e60a1-2f8f-4391-bcf2-61a4ec34e517"
      },
      "source": [
        "classifier = LogisticRegression(solver='saga', max_iter=1000, random_state = 72)\n",
        "\n",
        "\n",
        "# Create pipeline\n",
        "pipe = Pipeline([('vectorizer', tfidf_vectorizer),\n",
        "                 ('classifier', classifier)])\n",
        "\n",
        "# Fit model on training set\n",
        "pipe.fit(X_train, y_train)"
      ],
      "execution_count": null,
      "outputs": [
        {
          "output_type": "execute_result",
          "data": {
            "text/plain": [
              "Pipeline(memory=None,\n",
              "         steps=[('vectorizer',\n",
              "                 TfidfVectorizer(analyzer='word', binary=False,\n",
              "                                 decode_error='strict',\n",
              "                                 dtype=<class 'numpy.float64'>,\n",
              "                                 encoding='utf-8', input='content',\n",
              "                                 lowercase=True, max_df=0.95, max_features=None,\n",
              "                                 min_df=1, ngram_range=(1, 1), norm='l2',\n",
              "                                 preprocessor=None, smooth_idf=True,\n",
              "                                 stop_words=None, strip_accents=None,\n",
              "                                 sublinear_tf=False,\n",
              "                                 token_pattern='(?u)\\\\b\\\\w\\\\w+\\\\b',\n",
              "                                 tokenizer=None, use_idf=True,\n",
              "                                 vocabulary=None)),\n",
              "                ('classifier',\n",
              "                 LogisticRegression(C=1.0, class_weight=None, dual=False,\n",
              "                                    fit_intercept=True, intercept_scaling=1,\n",
              "                                    l1_ratio=None, max_iter=1000,\n",
              "                                    multi_class='warn', n_jobs=None,\n",
              "                                    penalty='l2', random_state=72,\n",
              "                                    solver='saga', tol=0.0001, verbose=0,\n",
              "                                    warm_start=False))],\n",
              "         verbose=False)"
            ]
          },
          "metadata": {
            "tags": []
          },
          "execution_count": 14
        }
      ]
    },
    {
      "cell_type": "code",
      "metadata": {
        "id": "ynKDIQ7yZ9pm",
        "outputId": "a3a8eb46-6e58-4835-baaa-1d23e1c4fd6f"
      },
      "source": [
        "y_pred = pipe.predict(X_test)\n",
        "y_pred"
      ],
      "execution_count": null,
      "outputs": [
        {
          "output_type": "execute_result",
          "data": {
            "text/plain": [
              "array([0, 0, 1, ..., 1, 0, 1])"
            ]
          },
          "metadata": {
            "tags": []
          },
          "execution_count": 15
        }
      ]
    },
    {
      "cell_type": "code",
      "metadata": {
        "id": "6EE5a6RlZ9pm",
        "outputId": "d8cd7aed-4a7f-4d0a-87c9-ed52de95a916"
      },
      "source": [
        "print(f\"ACCURACY SCORE:\\n{pipe.score(X_train, y_train):.6f}\")"
      ],
      "execution_count": null,
      "outputs": [
        {
          "output_type": "stream",
          "text": [
            "ACCURACY SCORE:\n",
            "0.888425\n"
          ],
          "name": "stdout"
        }
      ]
    },
    {
      "cell_type": "markdown",
      "metadata": {
        "id": "tonyNmMEZ9pn"
      },
      "source": [
        "This gives model is trained with not sanitized. But it gives a better accuracy than the base rate. "
      ]
    },
    {
      "cell_type": "code",
      "metadata": {
        "id": "Rqxyu-xFZ9pn"
      },
      "source": [
        "#Submission\n",
        "\n",
        "target_pred = pd.DataFrame(y_pred, columns= ['target'])\n",
        "\n",
        "target_pred.to_csv (r'/Users/MBP/Documents/UNIL/DM&ML/Project/submission1_30Nov.csv', index = False, header=True)\n",
        "\n"
      ],
      "execution_count": null,
      "outputs": []
    },
    {
      "cell_type": "code",
      "metadata": {
        "id": "G2HMEV7pZ9pn"
      },
      "source": [
        ""
      ],
      "execution_count": null,
      "outputs": []
    },
    {
      "cell_type": "markdown",
      "metadata": {
        "id": "i7QYBR5HZ9pn"
      },
      "source": [
        "### I.1.2 With Two predictors 'text' and 'keyword'"
      ]
    },
    {
      "cell_type": "code",
      "metadata": {
        "id": "VLoWMd7OZ9po"
      },
      "source": [
        "df_train_copy['Text With Keyword'] = df_train_copy['keyword'].str.cat(df_train_copy['text'], sep =\" \") \n",
        "df_train_copy.drop(['text','keyword'],inplace=True, axis=1)"
      ],
      "execution_count": null,
      "outputs": []
    },
    {
      "cell_type": "code",
      "metadata": {
        "id": "Q_3C17czZ9po",
        "outputId": "330e2d19-0ee1-415b-e41f-2928ca7142a3"
      },
      "source": [
        "df_train_copy"
      ],
      "execution_count": null,
      "outputs": [
        {
          "output_type": "execute_result",
          "data": {
            "text/html": [
              "<div>\n",
              "<style scoped>\n",
              "    .dataframe tbody tr th:only-of-type {\n",
              "        vertical-align: middle;\n",
              "    }\n",
              "\n",
              "    .dataframe tbody tr th {\n",
              "        vertical-align: top;\n",
              "    }\n",
              "\n",
              "    .dataframe thead th {\n",
              "        text-align: right;\n",
              "    }\n",
              "</style>\n",
              "<table border=\"1\" class=\"dataframe\">\n",
              "  <thead>\n",
              "    <tr style=\"text-align: right;\">\n",
              "      <th></th>\n",
              "      <th>id</th>\n",
              "      <th>location</th>\n",
              "      <th>target</th>\n",
              "      <th>Text With Keyword</th>\n",
              "    </tr>\n",
              "  </thead>\n",
              "  <tbody>\n",
              "    <tr>\n",
              "      <td>0</td>\n",
              "      <td>3738</td>\n",
              "      <td>USA</td>\n",
              "      <td>0</td>\n",
              "      <td>destroyed Black Eye 9: A space battle occurred...</td>\n",
              "    </tr>\n",
              "    <tr>\n",
              "      <td>1</td>\n",
              "      <td>853</td>\n",
              "      <td>NaN</td>\n",
              "      <td>0</td>\n",
              "      <td>bioterror #world FedEx no longer to transport ...</td>\n",
              "    </tr>\n",
              "    <tr>\n",
              "      <td>2</td>\n",
              "      <td>10540</td>\n",
              "      <td>Palm Beach County, FL</td>\n",
              "      <td>1</td>\n",
              "      <td>windstorm Reality Training: Train falls off el...</td>\n",
              "    </tr>\n",
              "    <tr>\n",
              "      <td>3</td>\n",
              "      <td>5988</td>\n",
              "      <td>USA</td>\n",
              "      <td>1</td>\n",
              "      <td>hazardous #Taiwan Grace: expect that large roc...</td>\n",
              "    </tr>\n",
              "    <tr>\n",
              "      <td>4</td>\n",
              "      <td>6328</td>\n",
              "      <td>Australia</td>\n",
              "      <td>1</td>\n",
              "      <td>hostage New ISIS Video: ISIS Threatens to Behe...</td>\n",
              "    </tr>\n",
              "    <tr>\n",
              "      <td>...</td>\n",
              "      <td>...</td>\n",
              "      <td>...</td>\n",
              "      <td>...</td>\n",
              "      <td>...</td>\n",
              "    </tr>\n",
              "    <tr>\n",
              "      <td>6466</td>\n",
              "      <td>4377</td>\n",
              "      <td>ARGENTINA</td>\n",
              "      <td>1</td>\n",
              "      <td>earthquake #Earthquake #Sismo M 1.9 - 15km E o...</td>\n",
              "    </tr>\n",
              "    <tr>\n",
              "      <td>6467</td>\n",
              "      <td>3408</td>\n",
              "      <td>NaN</td>\n",
              "      <td>0</td>\n",
              "      <td>derail @EmiiliexIrwin Totally agree.She is 23 ...</td>\n",
              "    </tr>\n",
              "    <tr>\n",
              "      <td>6468</td>\n",
              "      <td>9794</td>\n",
              "      <td>NaN</td>\n",
              "      <td>1</td>\n",
              "      <td>trapped Hollywood Movie About Trapped Miners R...</td>\n",
              "    </tr>\n",
              "    <tr>\n",
              "      <td>6469</td>\n",
              "      <td>10344</td>\n",
              "      <td>Beirut/Toronto</td>\n",
              "      <td>1</td>\n",
              "      <td>weapons Friendly reminder that the only countr...</td>\n",
              "    </tr>\n",
              "    <tr>\n",
              "      <td>6470</td>\n",
              "      <td>1779</td>\n",
              "      <td>NaN</td>\n",
              "      <td>1</td>\n",
              "      <td>buildings%20on%20fire Buildings are on fire an...</td>\n",
              "    </tr>\n",
              "  </tbody>\n",
              "</table>\n",
              "<p>6471 rows × 4 columns</p>\n",
              "</div>"
            ],
            "text/plain": [
              "         id               location  target  \\\n",
              "0      3738                    USA       0   \n",
              "1       853                    NaN       0   \n",
              "2     10540  Palm Beach County, FL       1   \n",
              "3      5988                    USA       1   \n",
              "4      6328             Australia        1   \n",
              "...     ...                    ...     ...   \n",
              "6466   4377              ARGENTINA       1   \n",
              "6467   3408                    NaN       0   \n",
              "6468   9794                    NaN       1   \n",
              "6469  10344         Beirut/Toronto       1   \n",
              "6470   1779                    NaN       1   \n",
              "\n",
              "                                      Text With Keyword  \n",
              "0     destroyed Black Eye 9: A space battle occurred...  \n",
              "1     bioterror #world FedEx no longer to transport ...  \n",
              "2     windstorm Reality Training: Train falls off el...  \n",
              "3     hazardous #Taiwan Grace: expect that large roc...  \n",
              "4     hostage New ISIS Video: ISIS Threatens to Behe...  \n",
              "...                                                 ...  \n",
              "6466  earthquake #Earthquake #Sismo M 1.9 - 15km E o...  \n",
              "6467  derail @EmiiliexIrwin Totally agree.She is 23 ...  \n",
              "6468  trapped Hollywood Movie About Trapped Miners R...  \n",
              "6469  weapons Friendly reminder that the only countr...  \n",
              "6470  buildings%20on%20fire Buildings are on fire an...  \n",
              "\n",
              "[6471 rows x 4 columns]"
            ]
          },
          "metadata": {
            "tags": []
          },
          "execution_count": 168
        }
      ]
    },
    {
      "cell_type": "code",
      "metadata": {
        "id": "K895yfuWZ9po",
        "outputId": "cb65bb93-ebda-4620-fca5-feb47ad0b4ce"
      },
      "source": [
        "X_train_prdc_2 = df_train_copy['Text With Keyword'].values # the features we want to analyze\n",
        "\n",
        "X_train_prdc_2"
      ],
      "execution_count": null,
      "outputs": [
        {
          "output_type": "execute_result",
          "data": {
            "text/plain": [
              "array(['destroyed Black Eye 9: A space battle occurred at Star O784 involving 3 fleets totaling 3945 ships with 17 destroyed',\n",
              "       'bioterror #world FedEx no longer to transport bioterror germs in wake of anthrax lab mishaps  http://t.co/5zDbTktwW7',\n",
              "       'windstorm Reality Training: Train falls off elevated tracks during windstorm http://t.co/JIOMnrCygT #Paramedic #EMS',\n",
              "       ...,\n",
              "       \"trapped Hollywood Movie About Trapped Miners Released in Chile: 'The 33' Hollywood movie about trapped miners starring... http://t.co/tyyfG4qQvM\",\n",
              "       'weapons Friendly reminder that the only country to ever use nuclear weapons is the U.S. And it was against civilians. https://t.co/7QrEPylLUK',\n",
              "       'buildings%20on%20fire Buildings are on fire and they have time for a business meeting #TheStrain'],\n",
              "      dtype=object)"
            ]
          },
          "metadata": {
            "tags": []
          },
          "execution_count": 157
        }
      ]
    },
    {
      "cell_type": "code",
      "metadata": {
        "id": "Qlw6rdsSZ9pp",
        "outputId": "5623e8e5-69cb-49a2-9768-a27646d60739"
      },
      "source": [
        "tfidf_vectorizer_prd_2 = TfidfVectorizer(use_idf = True, max_df = 0.95)\n",
        "tfidf_vectorizer_prd_2.fit_transform(X_train_prdc_2.astype('U'))\n",
        "\n",
        "# x = v.fit_transform(df['Review'].values.astype('U'))  ## Even astype(str) would work\n",
        "\n",
        "tfidf_vectorizer_prd_2.transform(X_train_prdc_2.astype('U'))    "
      ],
      "execution_count": null,
      "outputs": [
        {
          "output_type": "execute_result",
          "data": {
            "text/plain": [
              "<6471x19316 sparse matrix of type '<class 'numpy.float64'>'\n",
              "\twith 95729 stored elements in Compressed Sparse Row format>"
            ]
          },
          "metadata": {
            "tags": []
          },
          "execution_count": 158
        }
      ]
    },
    {
      "cell_type": "code",
      "metadata": {
        "id": "ghDCGcCZZ9pp",
        "outputId": "f429bc23-6a68-4ca1-d9e5-1224d1b91a4b"
      },
      "source": [
        "classifier_pred2 = LogisticRegression(solver='saga', max_iter=1000, random_state = 72)\n",
        "\n",
        "\n",
        "# Create pipeline\n",
        "pipe_prd_2 = Pipeline([('vectorizer', tfidf_vectorizer_prd_2),\n",
        "                 ('classifier', classifier_pred2)])\n",
        "\n",
        "# Fit model on training set\n",
        "pipe_prd_2.fit(X_train_prdc_2.astype('U'), y_train)"
      ],
      "execution_count": null,
      "outputs": [
        {
          "output_type": "execute_result",
          "data": {
            "text/plain": [
              "Pipeline(memory=None,\n",
              "         steps=[('vectorizer',\n",
              "                 TfidfVectorizer(analyzer='word', binary=False,\n",
              "                                 decode_error='strict',\n",
              "                                 dtype=<class 'numpy.float64'>,\n",
              "                                 encoding='utf-8', input='content',\n",
              "                                 lowercase=True, max_df=0.95, max_features=None,\n",
              "                                 min_df=1, ngram_range=(1, 1), norm='l2',\n",
              "                                 preprocessor=None, smooth_idf=True,\n",
              "                                 stop_words=None, strip_accents=None,\n",
              "                                 sublinear_tf=False,\n",
              "                                 token_pattern='(?u)\\\\b\\\\w\\\\w+\\\\b',\n",
              "                                 tokenizer=None, use_idf=True,\n",
              "                                 vocabulary=None)),\n",
              "                ('classifier',\n",
              "                 LogisticRegression(C=1.0, class_weight=None, dual=False,\n",
              "                                    fit_intercept=True, intercept_scaling=1,\n",
              "                                    l1_ratio=None, max_iter=1000,\n",
              "                                    multi_class='warn', n_jobs=None,\n",
              "                                    penalty='l2', random_state=72,\n",
              "                                    solver='saga', tol=0.0001, verbose=0,\n",
              "                                    warm_start=False))],\n",
              "         verbose=False)"
            ]
          },
          "metadata": {
            "tags": []
          },
          "execution_count": 159
        }
      ]
    },
    {
      "cell_type": "code",
      "metadata": {
        "id": "_fAR1WYtZ9pq",
        "outputId": "f737f1c8-a4cb-4aef-c500-9e99aabbde7f"
      },
      "source": [
        "y_pred_2p = pipe_prd_2.predict(X_test)\n",
        "y_pred_2p"
      ],
      "execution_count": null,
      "outputs": [
        {
          "output_type": "execute_result",
          "data": {
            "text/plain": [
              "array([0, 0, 1, ..., 1, 0, 1])"
            ]
          },
          "metadata": {
            "tags": []
          },
          "execution_count": 160
        }
      ]
    },
    {
      "cell_type": "code",
      "metadata": {
        "id": "qyPXpDWsZ9pq",
        "outputId": "bddcbadc-545d-4957-e90e-d61cb0d94177"
      },
      "source": [
        "print(f\"ACCURACY SCORE:\\n{pipe_prd_2.score(X_train_prdc_2.astype('U'), y_train):.6f}\")"
      ],
      "execution_count": null,
      "outputs": [
        {
          "output_type": "stream",
          "text": [
            "ACCURACY SCORE:\n",
            "0.882862\n"
          ],
          "name": "stdout"
        }
      ]
    },
    {
      "cell_type": "code",
      "metadata": {
        "id": "xEbI5-hpZ9pr"
      },
      "source": [
        "#Submission\n",
        "\n",
        "target_pred = pd.DataFrame(y_pred_2p, columns= ['target'])\n",
        "\n",
        "target_pred.to_csv (r'/Users/MBP/Documents/UNIL/DM&ML/Project/submission1_4Dec.csv', index = False, header=True)\n",
        "\n",
        "\n",
        "#done"
      ],
      "execution_count": null,
      "outputs": []
    },
    {
      "cell_type": "code",
      "metadata": {
        "id": "_-GlwwXOZ9pr"
      },
      "source": [
        ""
      ],
      "execution_count": null,
      "outputs": []
    },
    {
      "cell_type": "markdown",
      "metadata": {
        "id": "YOeipyFOZ9pr"
      },
      "source": [
        "### I.1.3 With Two predictors 'text' and 'location'"
      ]
    },
    {
      "cell_type": "code",
      "metadata": {
        "id": "A20rn9oBZ9ps"
      },
      "source": [
        "df_train_copy_6['Text With location'] = df_train_copy_6['location'].str.cat(df_train_copy_6['text'], sep =\" \") \n",
        "df_train_copy_6.drop(['text','location'],inplace=True, axis=1)"
      ],
      "execution_count": null,
      "outputs": []
    },
    {
      "cell_type": "code",
      "metadata": {
        "id": "IOepRmOcZ9ps",
        "outputId": "db161a65-63e1-4760-bad8-594cab611283"
      },
      "source": [
        "X_train_cl_p2_loc = df_train_copy_6['Text With location'].values\n",
        "\n",
        "X_train_cl_p2_loc"
      ],
      "execution_count": null,
      "outputs": [
        {
          "output_type": "execute_result",
          "data": {
            "text/plain": [
              "array(['USA Black Eye 9: A space battle occurred at Star O784 involving 3 fleets totaling 3945 ships with 17 destroyed',\n",
              "       nan,\n",
              "       'Palm Beach County, FL Reality Training: Train falls off elevated tracks during windstorm http://t.co/JIOMnrCygT #Paramedic #EMS',\n",
              "       ..., nan,\n",
              "       'Beirut/Toronto Friendly reminder that the only country to ever use nuclear weapons is the U.S. And it was against civilians. https://t.co/7QrEPylLUK',\n",
              "       nan], dtype=object)"
            ]
          },
          "metadata": {
            "tags": []
          },
          "execution_count": 339
        }
      ]
    },
    {
      "cell_type": "code",
      "metadata": {
        "id": "0fTo6rXNZ9ps",
        "outputId": "9995a06c-0bc7-41e5-992c-8b99631a5ac7"
      },
      "source": [
        "tfidf_vectorizer_prd_2_loc = TfidfVectorizer(use_idf = True, max_df = 0.95)\n",
        "tfidf_vectorizer_prd_2_loc.fit_transform(X_train_cl_p2_loc.astype('U'))\n",
        "\n",
        "# x = v.fit_transform(df['Review'].values.astype('U'))  ## Even astype(str) would work\n",
        "\n",
        "tfidf_vectorizer_prd_2_loc.transform(X_train_cl_p2_loc.astype('U'))    "
      ],
      "execution_count": null,
      "outputs": [
        {
          "output_type": "execute_result",
          "data": {
            "text/plain": [
              "<6471x16515 sparse matrix of type '<class 'numpy.float64'>'\n",
              "\twith 75320 stored elements in Compressed Sparse Row format>"
            ]
          },
          "metadata": {
            "tags": []
          },
          "execution_count": 337
        }
      ]
    },
    {
      "cell_type": "code",
      "metadata": {
        "id": "l6N7y32CZ9pt",
        "outputId": "76c41973-995f-4b98-b1e4-5abba4c01088"
      },
      "source": [
        "classifier_pred2_loc = LogisticRegression(solver='saga', max_iter=1000, random_state = 72)\n",
        "\n",
        "\n",
        "# Create pipeline\n",
        "pipe_prd_2_loc = Pipeline([('vectorizer', tfidf_vectorizer_prd_2_loc),\n",
        "                 ('classifier', classifier_pred2_loc)])\n",
        "\n",
        "# Fit model on training set\n",
        "pipe_prd_2_loc.fit(X_train_cl_p2_loc.astype('U'), Y_train_cl_p2_loc)"
      ],
      "execution_count": null,
      "outputs": [
        {
          "output_type": "execute_result",
          "data": {
            "text/plain": [
              "Pipeline(memory=None,\n",
              "         steps=[('vectorizer',\n",
              "                 TfidfVectorizer(analyzer='word', binary=False,\n",
              "                                 decode_error='strict',\n",
              "                                 dtype=<class 'numpy.float64'>,\n",
              "                                 encoding='utf-8', input='content',\n",
              "                                 lowercase=True, max_df=0.95, max_features=None,\n",
              "                                 min_df=1, ngram_range=(1, 1), norm='l2',\n",
              "                                 preprocessor=None, smooth_idf=True,\n",
              "                                 stop_words=None, strip_accents=None,\n",
              "                                 sublinear_tf=False,\n",
              "                                 token_pattern='(?u)\\\\b\\\\w\\\\w+\\\\b',\n",
              "                                 tokenizer=None, use_idf=True,\n",
              "                                 vocabulary=None)),\n",
              "                ('classifier',\n",
              "                 LogisticRegression(C=1.0, class_weight=None, dual=False,\n",
              "                                    fit_intercept=True, intercept_scaling=1,\n",
              "                                    l1_ratio=None, max_iter=1000,\n",
              "                                    multi_class='warn', n_jobs=None,\n",
              "                                    penalty='l2', random_state=72,\n",
              "                                    solver='saga', tol=0.0001, verbose=0,\n",
              "                                    warm_start=False))],\n",
              "         verbose=False)"
            ]
          },
          "metadata": {
            "tags": []
          },
          "execution_count": 338
        }
      ]
    },
    {
      "cell_type": "code",
      "metadata": {
        "id": "_WYpgKEmZ9pt",
        "outputId": "c06bb904-8e20-4456-ac0a-dd1c311272b3"
      },
      "source": [
        "y_pred_2p_loc = pipe_prd_2_loc.predict(X_test)\n",
        "y_pred_2p_loc"
      ],
      "execution_count": null,
      "outputs": [
        {
          "output_type": "execute_result",
          "data": {
            "text/plain": [
              "array([0, 0, 1, ..., 1, 0, 0])"
            ]
          },
          "metadata": {
            "tags": []
          },
          "execution_count": 340
        }
      ]
    },
    {
      "cell_type": "code",
      "metadata": {
        "id": "8EVqvW1jZ9pu",
        "outputId": "c5d659fe-d8be-4ce2-e6c7-8ff70b67d052"
      },
      "source": [
        "print(f\"ACCURACY SCORE:\\n{pipe_prd_2_loc.score(X_train_cl_p2_loc.astype('U'), y_train):.6f}\")"
      ],
      "execution_count": null,
      "outputs": [
        {
          "output_type": "stream",
          "text": [
            "ACCURACY SCORE:\n",
            "0.789059\n"
          ],
          "name": "stdout"
        }
      ]
    },
    {
      "cell_type": "code",
      "metadata": {
        "id": "0LQ5k92RZ9pu"
      },
      "source": [
        "#No submission"
      ],
      "execution_count": null,
      "outputs": []
    },
    {
      "cell_type": "code",
      "metadata": {
        "id": "aGTE1ckiZ9pu"
      },
      "source": [
        ""
      ],
      "execution_count": null,
      "outputs": []
    },
    {
      "cell_type": "markdown",
      "metadata": {
        "id": "Hj7UgquWZ9pv"
      },
      "source": [
        "### I.1.4 With Three predictors 'text', 'location' and 'keyword'\n"
      ]
    },
    {
      "cell_type": "code",
      "metadata": {
        "id": "VO5dCGA6Z9pv"
      },
      "source": [
        "df_train_copy['Text With Keyword and Location'] = df_train_copy['location'].str.cat(df_train_copy['Text With Keyword'], sep =\" \") \n",
        "df_train_copy.drop(['location','Text With Keyword'],inplace=True, axis=1)"
      ],
      "execution_count": null,
      "outputs": []
    },
    {
      "cell_type": "code",
      "metadata": {
        "id": "WvzOZXzVZ9pv",
        "outputId": "ba5b81b1-273d-4ee4-a221-159e652a3cd4"
      },
      "source": [
        "df_train_copy"
      ],
      "execution_count": null,
      "outputs": [
        {
          "output_type": "execute_result",
          "data": {
            "text/html": [
              "<div>\n",
              "<style scoped>\n",
              "    .dataframe tbody tr th:only-of-type {\n",
              "        vertical-align: middle;\n",
              "    }\n",
              "\n",
              "    .dataframe tbody tr th {\n",
              "        vertical-align: top;\n",
              "    }\n",
              "\n",
              "    .dataframe thead th {\n",
              "        text-align: right;\n",
              "    }\n",
              "</style>\n",
              "<table border=\"1\" class=\"dataframe\">\n",
              "  <thead>\n",
              "    <tr style=\"text-align: right;\">\n",
              "      <th></th>\n",
              "      <th>id</th>\n",
              "      <th>target</th>\n",
              "      <th>Text With Keyword and Location</th>\n",
              "    </tr>\n",
              "  </thead>\n",
              "  <tbody>\n",
              "    <tr>\n",
              "      <td>0</td>\n",
              "      <td>3738</td>\n",
              "      <td>0</td>\n",
              "      <td>USA destroyed Black Eye 9: A space battle occu...</td>\n",
              "    </tr>\n",
              "    <tr>\n",
              "      <td>1</td>\n",
              "      <td>853</td>\n",
              "      <td>0</td>\n",
              "      <td>NaN</td>\n",
              "    </tr>\n",
              "    <tr>\n",
              "      <td>2</td>\n",
              "      <td>10540</td>\n",
              "      <td>1</td>\n",
              "      <td>Palm Beach County, FL windstorm Reality Traini...</td>\n",
              "    </tr>\n",
              "    <tr>\n",
              "      <td>3</td>\n",
              "      <td>5988</td>\n",
              "      <td>1</td>\n",
              "      <td>USA hazardous #Taiwan Grace: expect that large...</td>\n",
              "    </tr>\n",
              "    <tr>\n",
              "      <td>4</td>\n",
              "      <td>6328</td>\n",
              "      <td>1</td>\n",
              "      <td>Australia  hostage New ISIS Video: ISIS Threat...</td>\n",
              "    </tr>\n",
              "    <tr>\n",
              "      <td>...</td>\n",
              "      <td>...</td>\n",
              "      <td>...</td>\n",
              "      <td>...</td>\n",
              "    </tr>\n",
              "    <tr>\n",
              "      <td>6466</td>\n",
              "      <td>4377</td>\n",
              "      <td>1</td>\n",
              "      <td>ARGENTINA earthquake #Earthquake #Sismo M 1.9 ...</td>\n",
              "    </tr>\n",
              "    <tr>\n",
              "      <td>6467</td>\n",
              "      <td>3408</td>\n",
              "      <td>0</td>\n",
              "      <td>NaN</td>\n",
              "    </tr>\n",
              "    <tr>\n",
              "      <td>6468</td>\n",
              "      <td>9794</td>\n",
              "      <td>1</td>\n",
              "      <td>NaN</td>\n",
              "    </tr>\n",
              "    <tr>\n",
              "      <td>6469</td>\n",
              "      <td>10344</td>\n",
              "      <td>1</td>\n",
              "      <td>Beirut/Toronto weapons Friendly reminder that ...</td>\n",
              "    </tr>\n",
              "    <tr>\n",
              "      <td>6470</td>\n",
              "      <td>1779</td>\n",
              "      <td>1</td>\n",
              "      <td>NaN</td>\n",
              "    </tr>\n",
              "  </tbody>\n",
              "</table>\n",
              "<p>6471 rows × 3 columns</p>\n",
              "</div>"
            ],
            "text/plain": [
              "         id  target                     Text With Keyword and Location\n",
              "0      3738       0  USA destroyed Black Eye 9: A space battle occu...\n",
              "1       853       0                                                NaN\n",
              "2     10540       1  Palm Beach County, FL windstorm Reality Traini...\n",
              "3      5988       1  USA hazardous #Taiwan Grace: expect that large...\n",
              "4      6328       1  Australia  hostage New ISIS Video: ISIS Threat...\n",
              "...     ...     ...                                                ...\n",
              "6466   4377       1  ARGENTINA earthquake #Earthquake #Sismo M 1.9 ...\n",
              "6467   3408       0                                                NaN\n",
              "6468   9794       1                                                NaN\n",
              "6469  10344       1  Beirut/Toronto weapons Friendly reminder that ...\n",
              "6470   1779       1                                                NaN\n",
              "\n",
              "[6471 rows x 3 columns]"
            ]
          },
          "metadata": {
            "tags": []
          },
          "execution_count": 172
        }
      ]
    },
    {
      "cell_type": "code",
      "metadata": {
        "id": "tx9x3SH5Z9pw",
        "outputId": "590c6959-9ef0-4464-8944-7b3bf9cd31e4"
      },
      "source": [
        "X_train_prdc_3 = df_train_copy['Text With Keyword and Location'].values # the features we want to analyze\n",
        "\n",
        "X_train_prdc_3#.values"
      ],
      "execution_count": null,
      "outputs": [
        {
          "output_type": "execute_result",
          "data": {
            "text/plain": [
              "array(['USA destroyed Black Eye 9: A space battle occurred at Star O784 involving 3 fleets totaling 3945 ships with 17 destroyed',\n",
              "       nan,\n",
              "       'Palm Beach County, FL windstorm Reality Training: Train falls off elevated tracks during windstorm http://t.co/JIOMnrCygT #Paramedic #EMS',\n",
              "       ..., nan,\n",
              "       'Beirut/Toronto weapons Friendly reminder that the only country to ever use nuclear weapons is the U.S. And it was against civilians. https://t.co/7QrEPylLUK',\n",
              "       nan], dtype=object)"
            ]
          },
          "metadata": {
            "tags": []
          },
          "execution_count": 174
        }
      ]
    },
    {
      "cell_type": "code",
      "metadata": {
        "id": "-1PYim-KZ9pw",
        "outputId": "231e089f-4be4-4db9-d61f-6c5e2d3d890b"
      },
      "source": [
        "df_train_copy.info()"
      ],
      "execution_count": null,
      "outputs": [
        {
          "output_type": "stream",
          "text": [
            "<class 'pandas.core.frame.DataFrame'>\n",
            "RangeIndex: 6471 entries, 0 to 6470\n",
            "Data columns (total 3 columns):\n",
            "id                                6471 non-null int64\n",
            "target                            6471 non-null int64\n",
            "Text With Keyword and Location    4330 non-null object\n",
            "dtypes: int64(2), object(1)\n",
            "memory usage: 151.8+ KB\n"
          ],
          "name": "stdout"
        }
      ]
    },
    {
      "cell_type": "code",
      "metadata": {
        "id": "TT7YyQcUZ9px",
        "outputId": "bfa89084-4a41-488f-e1d1-2013e594db12"
      },
      "source": [
        "tfidf_vectorizer_prd_3 = TfidfVectorizer(use_idf = True, max_df = 0.95)\n",
        "tfidf_vectorizer_prd_3.fit_transform(X_train_prdc_3.astype('U'))\n",
        "\n",
        "# x = v.fit_transform(df['Review'].values.astype('U'))  ## Even astype(str) would work\n",
        "\n",
        "tfidf_vectorizer_prd_3.transform(X_train_prdc_3.astype('U'))    "
      ],
      "execution_count": null,
      "outputs": [
        {
          "output_type": "execute_result",
          "data": {
            "text/plain": [
              "<6471x16545 sparse matrix of type '<class 'numpy.float64'>'\n",
              "\twith 76370 stored elements in Compressed Sparse Row format>"
            ]
          },
          "metadata": {
            "tags": []
          },
          "execution_count": 175
        }
      ]
    },
    {
      "cell_type": "code",
      "metadata": {
        "id": "MtWAbfRSZ9px",
        "outputId": "9eee2e1d-0c46-448f-d162-cfe7511d2ac8"
      },
      "source": [
        "classifier_pred3 = LogisticRegression(solver='saga', max_iter=1000, random_state = 72)\n",
        "\n",
        "\n",
        "# Create pipeline\n",
        "pipe_prd_3 = Pipeline([('vectorizer', tfidf_vectorizer_prd_3),\n",
        "                 ('classifier', classifier_pred3)])\n",
        "\n",
        "# Fit model on training set\n",
        "pipe_prd_3.fit(X_train_prdc_3.astype('U'), y_train)"
      ],
      "execution_count": null,
      "outputs": [
        {
          "output_type": "execute_result",
          "data": {
            "text/plain": [
              "Pipeline(memory=None,\n",
              "         steps=[('vectorizer',\n",
              "                 TfidfVectorizer(analyzer='word', binary=False,\n",
              "                                 decode_error='strict',\n",
              "                                 dtype=<class 'numpy.float64'>,\n",
              "                                 encoding='utf-8', input='content',\n",
              "                                 lowercase=True, max_df=0.95, max_features=None,\n",
              "                                 min_df=1, ngram_range=(1, 1), norm='l2',\n",
              "                                 preprocessor=None, smooth_idf=True,\n",
              "                                 stop_words=None, strip_accents=None,\n",
              "                                 sublinear_tf=False,\n",
              "                                 token_pattern='(?u)\\\\b\\\\w\\\\w+\\\\b',\n",
              "                                 tokenizer=None, use_idf=True,\n",
              "                                 vocabulary=None)),\n",
              "                ('classifier',\n",
              "                 LogisticRegression(C=1.0, class_weight=None, dual=False,\n",
              "                                    fit_intercept=True, intercept_scaling=1,\n",
              "                                    l1_ratio=None, max_iter=1000,\n",
              "                                    multi_class='warn', n_jobs=None,\n",
              "                                    penalty='l2', random_state=72,\n",
              "                                    solver='saga', tol=0.0001, verbose=0,\n",
              "                                    warm_start=False))],\n",
              "         verbose=False)"
            ]
          },
          "metadata": {
            "tags": []
          },
          "execution_count": 176
        }
      ]
    },
    {
      "cell_type": "code",
      "metadata": {
        "id": "b4li7-qEZ9py",
        "outputId": "79360998-0469-49d5-aca3-dc280b29863b"
      },
      "source": [
        "y_pred_3p = pipe_prd_3.predict(X_test)\n",
        "y_pred_3p"
      ],
      "execution_count": null,
      "outputs": [
        {
          "output_type": "execute_result",
          "data": {
            "text/plain": [
              "array([0, 0, 1, ..., 1, 0, 0])"
            ]
          },
          "metadata": {
            "tags": []
          },
          "execution_count": 177
        }
      ]
    },
    {
      "cell_type": "code",
      "metadata": {
        "id": "lBm458ZcZ9py",
        "outputId": "239a12ef-a73e-46dc-c28e-5fe7c767cf4d"
      },
      "source": [
        "print(f\"ACCURACY SCORE:\\n{pipe_prd_3.score(X_train_prdc_2.astype('U'), y_train):.6f}\")"
      ],
      "execution_count": null,
      "outputs": [
        {
          "output_type": "stream",
          "text": [
            "ACCURACY SCORE:\n",
            "0.882862\n"
          ],
          "name": "stdout"
        }
      ]
    },
    {
      "cell_type": "code",
      "metadata": {
        "id": "bkp8k6BtZ9py"
      },
      "source": [
        "#Submission\n",
        "\n",
        "target_pred = pd.DataFrame(y_pred_3p, columns= ['target'])\n",
        "\n",
        "target_pred.to_csv (r'/Users/MBP/Documents/UNIL/DM&ML/Project/submission2_4Dec.csv', index = False, header=True)\n"
      ],
      "execution_count": null,
      "outputs": []
    },
    {
      "cell_type": "code",
      "metadata": {
        "id": "-SpzCdC5Z9pz"
      },
      "source": [
        ""
      ],
      "execution_count": null,
      "outputs": []
    },
    {
      "cell_type": "markdown",
      "metadata": {
        "id": "3Y5BuTR8Z9pz"
      },
      "source": [
        "## Model after Text Cleaning but without General Data Cleaning"
      ]
    },
    {
      "cell_type": "markdown",
      "metadata": {
        "id": "OMs6r54BZ9p0"
      },
      "source": [
        "### With a single Predictor"
      ]
    },
    {
      "cell_type": "markdown",
      "metadata": {
        "id": "V4c5j4JbZ9p1"
      },
      "source": [
        "#### TF-IDF feature vectors\n",
        "\n",
        "create the TF-IDF feature vectors for the processed tweets. These will construct you data features that you will use to train a classifier."
      ]
    },
    {
      "cell_type": "code",
      "metadata": {
        "id": "6xDMr24DZ9p1"
      },
      "source": [
        "tfidf_vector_1 = TfidfVectorizer(tokenizer=spacy_tokenizer) # we use the above defined tokenizer "
      ],
      "execution_count": null,
      "outputs": []
    },
    {
      "cell_type": "code",
      "metadata": {
        "id": "TrjX0kcpZ9p2",
        "outputId": "a99d6eab-6a16-46f5-851d-2a29417eaa82"
      },
      "source": [
        "# Define classifier\n",
        "classifier_1 = LogisticRegression(solver='saga', max_iter=1000, random_state = 72)\n",
        "\n",
        "# Create pipeline\n",
        "pipe_2 = Pipeline([('vectorizer', tfidf_vector_1),\n",
        "                 ('classifier', classifier_1)])\n",
        "\n",
        "# Fit model on training set\n",
        "pipe_2.fit(X_train, y_train)"
      ],
      "execution_count": null,
      "outputs": [
        {
          "output_type": "execute_result",
          "data": {
            "text/plain": [
              "Pipeline(memory=None,\n",
              "         steps=[('vectorizer',\n",
              "                 TfidfVectorizer(analyzer='word', binary=False,\n",
              "                                 decode_error='strict',\n",
              "                                 dtype=<class 'numpy.float64'>,\n",
              "                                 encoding='utf-8', input='content',\n",
              "                                 lowercase=True, max_df=1.0, max_features=None,\n",
              "                                 min_df=1, ngram_range=(1, 1), norm='l2',\n",
              "                                 preprocessor=None, smooth_idf=True,\n",
              "                                 stop_words=None, strip_accents=None,\n",
              "                                 sublinear_tf=False,\n",
              "                                 token_patt...\\\\b',\n",
              "                                 tokenizer=<function spacy_tokenizer at 0x1a22cd3c20>,\n",
              "                                 use_idf=True, vocabulary=None)),\n",
              "                ('classifier',\n",
              "                 LogisticRegression(C=1.0, class_weight=None, dual=False,\n",
              "                                    fit_intercept=True, intercept_scaling=1,\n",
              "                                    l1_ratio=None, max_iter=1000,\n",
              "                                    multi_class='warn', n_jobs=None,\n",
              "                                    penalty='l2', random_state=72,\n",
              "                                    solver='saga', tol=0.0001, verbose=0,\n",
              "                                    warm_start=False))],\n",
              "         verbose=False)"
            ]
          },
          "metadata": {
            "tags": []
          },
          "execution_count": 21
        }
      ]
    },
    {
      "cell_type": "code",
      "metadata": {
        "id": "mKHW-JNDZ9p2",
        "outputId": "7e53158e-ac50-47c3-8ed5-2446de4fd91b"
      },
      "source": [
        "y_pred = pipe_2.predict(X_test)\n",
        "y_pred"
      ],
      "execution_count": null,
      "outputs": [
        {
          "output_type": "execute_result",
          "data": {
            "text/plain": [
              "array([0, 0, 1, ..., 1, 0, 1])"
            ]
          },
          "metadata": {
            "tags": []
          },
          "execution_count": 22
        }
      ]
    },
    {
      "cell_type": "markdown",
      "metadata": {
        "id": "eavUWkITZ9p6"
      },
      "source": [
        "#### Accuracy\n",
        "\n",
        "- What is the test accuracy of the classifier?"
      ]
    },
    {
      "cell_type": "code",
      "metadata": {
        "scrolled": true,
        "id": "nkfjlnrXZ9p7",
        "outputId": "231f81ce-d832-4bff-85d4-a48ab8263d28"
      },
      "source": [
        "# Evaluate on training set\n",
        "print(f\"ACCURACY SCORE:\\n{pipe_2.score(X_train, y_train):.6f}\")"
      ],
      "execution_count": null,
      "outputs": [
        {
          "output_type": "stream",
          "text": [
            "ACCURACY SCORE:\n",
            "0.888734\n"
          ],
          "name": "stdout"
        }
      ]
    },
    {
      "cell_type": "markdown",
      "metadata": {
        "id": "PtTEnQnXZ9p7"
      },
      "source": [
        "We observe that the accuracy has improved after pre-processing.\n",
        "#### We'll clean the data and redo the Model training "
      ]
    },
    {
      "cell_type": "markdown",
      "metadata": {
        "id": "JbsEdA7AZ9p8"
      },
      "source": [
        "### With two Predictors: Keyword and Text"
      ]
    },
    {
      "cell_type": "code",
      "metadata": {
        "id": "7VCD5bsXZ9p8",
        "outputId": "3d86e514-3017-4a84-b0a8-a150c7f2152d"
      },
      "source": [
        "# Define classifier\n",
        "classifier_1 = LogisticRegression(solver='saga', max_iter=1000, random_state = 72)\n",
        "\n",
        "# Create pipeline\n",
        "pipe_2 = Pipeline([('vectorizer', tfidf_vector_1),\n",
        "                 ('classifier', classifier_1)])\n",
        "\n",
        "# Fit model on training set\n",
        "pipe_2.fit(X_train_prdc_2.astype('U'), y_train)"
      ],
      "execution_count": null,
      "outputs": [
        {
          "output_type": "execute_result",
          "data": {
            "text/plain": [
              "Pipeline(memory=None,\n",
              "         steps=[('vectorizer',\n",
              "                 TfidfVectorizer(analyzer='word', binary=False,\n",
              "                                 decode_error='strict',\n",
              "                                 dtype=<class 'numpy.float64'>,\n",
              "                                 encoding='utf-8', input='content',\n",
              "                                 lowercase=True, max_df=1.0, max_features=None,\n",
              "                                 min_df=1, ngram_range=(1, 1), norm='l2',\n",
              "                                 preprocessor=None, smooth_idf=True,\n",
              "                                 stop_words=None, strip_accents=None,\n",
              "                                 sublinear_tf=False,\n",
              "                                 token_patt...\\\\b',\n",
              "                                 tokenizer=<function spacy_tokenizer at 0x1a2b8dd4d0>,\n",
              "                                 use_idf=True, vocabulary=None)),\n",
              "                ('classifier',\n",
              "                 LogisticRegression(C=1.0, class_weight=None, dual=False,\n",
              "                                    fit_intercept=True, intercept_scaling=1,\n",
              "                                    l1_ratio=None, max_iter=1000,\n",
              "                                    multi_class='warn', n_jobs=None,\n",
              "                                    penalty='l2', random_state=72,\n",
              "                                    solver='saga', tol=0.0001, verbose=0,\n",
              "                                    warm_start=False))],\n",
              "         verbose=False)"
            ]
          },
          "metadata": {
            "tags": []
          },
          "execution_count": 183
        }
      ]
    },
    {
      "cell_type": "code",
      "metadata": {
        "id": "XD5j128mZ9p_",
        "outputId": "ab2e5521-f02f-4690-e644-8588f3847e45"
      },
      "source": [
        "y_pred_p_p2 = pipe_2.predict(X_test)\n",
        "y_pred_p_p2"
      ],
      "execution_count": null,
      "outputs": [
        {
          "output_type": "execute_result",
          "data": {
            "text/plain": [
              "array([0, 0, 1, ..., 1, 0, 1])"
            ]
          },
          "metadata": {
            "tags": []
          },
          "execution_count": 185
        }
      ]
    },
    {
      "cell_type": "code",
      "metadata": {
        "id": "989TldqTZ9qA",
        "outputId": "7cedd9f3-180f-4c38-aa5f-638c6aaf6846"
      },
      "source": [
        "# Evaluate on training set\n",
        "print(f\"ACCURACY SCORE:\\n{pipe_2.score(X_train_prdc_2.astype('U'), y_train):.6f}\")"
      ],
      "execution_count": null,
      "outputs": [
        {
          "output_type": "stream",
          "text": [
            "ACCURACY SCORE:\n",
            "0.878226\n"
          ],
          "name": "stdout"
        }
      ]
    },
    {
      "cell_type": "markdown",
      "metadata": {
        "id": "6EpKWguWZ9qB"
      },
      "source": [
        "### With two Predictors: Location and Text"
      ]
    },
    {
      "cell_type": "code",
      "metadata": {
        "id": "gTxBPK4eZ9qB",
        "outputId": "64bccbc7-2f8f-45bc-cb11-abcec837c761"
      },
      "source": [
        "# Define classifier\n",
        "classifier_1 = LogisticRegression(solver='saga', max_iter=1000, random_state = 72)\n",
        "\n",
        "# Create pipeline\n",
        "pipe_2 = Pipeline([('vectorizer', tfidf_vector_1),\n",
        "                 ('classifier', classifier_1)])\n",
        "\n",
        "# Fit model on training set\n",
        "pipe_2.fit(X_train_cl_p2_loc.astype('U'), y_train)"
      ],
      "execution_count": null,
      "outputs": [
        {
          "output_type": "execute_result",
          "data": {
            "text/plain": [
              "Pipeline(memory=None,\n",
              "         steps=[('vectorizer',\n",
              "                 TfidfVectorizer(analyzer='word', binary=False,\n",
              "                                 decode_error='strict',\n",
              "                                 dtype=<class 'numpy.float64'>,\n",
              "                                 encoding='utf-8', input='content',\n",
              "                                 lowercase=True, max_df=1.0, max_features=None,\n",
              "                                 min_df=1, ngram_range=(1, 1), norm='l2',\n",
              "                                 preprocessor=None, smooth_idf=True,\n",
              "                                 stop_words=None, strip_accents=None,\n",
              "                                 sublinear_tf=False,\n",
              "                                 token_patt...\\\\b',\n",
              "                                 tokenizer=<function spacy_tokenizer at 0x1a2e3b44d0>,\n",
              "                                 use_idf=True, vocabulary=None)),\n",
              "                ('classifier',\n",
              "                 LogisticRegression(C=1.0, class_weight=None, dual=False,\n",
              "                                    fit_intercept=True, intercept_scaling=1,\n",
              "                                    l1_ratio=None, max_iter=1000,\n",
              "                                    multi_class='warn', n_jobs=None,\n",
              "                                    penalty='l2', random_state=72,\n",
              "                                    solver='saga', tol=0.0001, verbose=0,\n",
              "                                    warm_start=False))],\n",
              "         verbose=False)"
            ]
          },
          "metadata": {
            "tags": []
          },
          "execution_count": 346
        }
      ]
    },
    {
      "cell_type": "code",
      "metadata": {
        "id": "37uliXdIZ9qB",
        "outputId": "7ec6dfda-86d9-4e76-f023-2c06fbb2c685"
      },
      "source": [
        "y_pred_p_p2 = pipe_2.predict(X_test)\n",
        "y_pred_p_p2"
      ],
      "execution_count": null,
      "outputs": [
        {
          "output_type": "execute_result",
          "data": {
            "text/plain": [
              "array([0, 0, 1, ..., 1, 0, 1])"
            ]
          },
          "metadata": {
            "tags": []
          },
          "execution_count": 347
        }
      ]
    },
    {
      "cell_type": "code",
      "metadata": {
        "id": "2D72mDjiZ9qC",
        "outputId": "10dbacb1-8547-47d1-ceec-692e9a7a2d0a"
      },
      "source": [
        "# Evaluate on training set\n",
        "print(f\"ACCURACY SCORE:\\n{pipe_2.score(X_train_cl_p2_loc.astype('U'), y_train):.6f}\")"
      ],
      "execution_count": null,
      "outputs": [
        {
          "output_type": "stream",
          "text": [
            "ACCURACY SCORE:\n",
            "0.789986\n"
          ],
          "name": "stdout"
        }
      ]
    },
    {
      "cell_type": "markdown",
      "metadata": {
        "id": "VMrRrxYwZ9qD"
      },
      "source": [
        "### With three Predictors"
      ]
    },
    {
      "cell_type": "code",
      "metadata": {
        "id": "zDUKV8OZZ9qD",
        "outputId": "5e179abe-e4ba-4a08-c2a5-ccb6fef7ed6f"
      },
      "source": [
        "# Define classifier\n",
        "classifier_1 = LogisticRegression(solver='saga', max_iter=1000, random_state = 72)\n",
        "\n",
        "# Create pipeline\n",
        "pipe_2 = Pipeline([('vectorizer', tfidf_vector_1),\n",
        "                 ('classifier', classifier_1)])\n",
        "\n",
        "# Fit model on training set\n",
        "pipe_2.fit(X_train_prdc_3.astype('U'), y_train)"
      ],
      "execution_count": null,
      "outputs": [
        {
          "output_type": "execute_result",
          "data": {
            "text/plain": [
              "Pipeline(memory=None,\n",
              "         steps=[('vectorizer',\n",
              "                 TfidfVectorizer(analyzer='word', binary=False,\n",
              "                                 decode_error='strict',\n",
              "                                 dtype=<class 'numpy.float64'>,\n",
              "                                 encoding='utf-8', input='content',\n",
              "                                 lowercase=True, max_df=1.0, max_features=None,\n",
              "                                 min_df=1, ngram_range=(1, 1), norm='l2',\n",
              "                                 preprocessor=None, smooth_idf=True,\n",
              "                                 stop_words=None, strip_accents=None,\n",
              "                                 sublinear_tf=False,\n",
              "                                 token_patt...\\\\b',\n",
              "                                 tokenizer=<function spacy_tokenizer at 0x1a2b8dd4d0>,\n",
              "                                 use_idf=True, vocabulary=None)),\n",
              "                ('classifier',\n",
              "                 LogisticRegression(C=1.0, class_weight=None, dual=False,\n",
              "                                    fit_intercept=True, intercept_scaling=1,\n",
              "                                    l1_ratio=None, max_iter=1000,\n",
              "                                    multi_class='warn', n_jobs=None,\n",
              "                                    penalty='l2', random_state=72,\n",
              "                                    solver='saga', tol=0.0001, verbose=0,\n",
              "                                    warm_start=False))],\n",
              "         verbose=False)"
            ]
          },
          "metadata": {
            "tags": []
          },
          "execution_count": 188
        }
      ]
    },
    {
      "cell_type": "code",
      "metadata": {
        "id": "zx0M3OC8Z9qD",
        "outputId": "6dade1fd-90bb-4edf-cf5d-c108742e12a8"
      },
      "source": [
        "y_pred_p_p3 = pipe_2.predict(X_test)\n",
        "y_pred_p_p3"
      ],
      "execution_count": null,
      "outputs": [
        {
          "output_type": "execute_result",
          "data": {
            "text/plain": [
              "array([0, 0, 1, ..., 1, 0, 1])"
            ]
          },
          "metadata": {
            "tags": []
          },
          "execution_count": 189
        }
      ]
    },
    {
      "cell_type": "code",
      "metadata": {
        "id": "U4iJ3mXdZ9qE",
        "outputId": "47d86a7b-f593-45d7-d6de-b8507539ec0f"
      },
      "source": [
        "# Evaluate on training set\n",
        "print(f\"ACCURACY SCORE:\\n{pipe_2.score(X_train_prdc_3.astype('U'), y_train):.6f}\")"
      ],
      "execution_count": null,
      "outputs": [
        {
          "output_type": "stream",
          "text": [
            "ACCURACY SCORE:\n",
            "0.784268\n"
          ],
          "name": "stdout"
        }
      ]
    },
    {
      "cell_type": "markdown",
      "metadata": {
        "id": "SPQBIcD5Z9qW"
      },
      "source": [
        "## Model After Cleaning 1"
      ]
    },
    {
      "cell_type": "markdown",
      "metadata": {
        "id": "riVO0bKWZ9qW"
      },
      "source": [
        "### 2.1. Non Balanced"
      ]
    },
    {
      "cell_type": "code",
      "metadata": {
        "scrolled": false,
        "id": "H0SBpDUYZ9qW",
        "outputId": "1a0295cc-04b2-46c2-9270-bc6e7ca3de92"
      },
      "source": [
        "df_train_clean_copy"
      ],
      "execution_count": null,
      "outputs": [
        {
          "output_type": "execute_result",
          "data": {
            "text/html": [
              "<div>\n",
              "<style scoped>\n",
              "    .dataframe tbody tr th:only-of-type {\n",
              "        vertical-align: middle;\n",
              "    }\n",
              "\n",
              "    .dataframe tbody tr th {\n",
              "        vertical-align: top;\n",
              "    }\n",
              "\n",
              "    .dataframe thead th {\n",
              "        text-align: right;\n",
              "    }\n",
              "</style>\n",
              "<table border=\"1\" class=\"dataframe\">\n",
              "  <thead>\n",
              "    <tr style=\"text-align: right;\">\n",
              "      <th></th>\n",
              "      <th>id</th>\n",
              "      <th>target</th>\n",
              "      <th>Text With Keyword</th>\n",
              "    </tr>\n",
              "  </thead>\n",
              "  <tbody>\n",
              "    <tr>\n",
              "      <td>0</td>\n",
              "      <td>3738</td>\n",
              "      <td>0</td>\n",
              "      <td>destroyed Black Eye 9: A space battle occurred...</td>\n",
              "    </tr>\n",
              "    <tr>\n",
              "      <td>1</td>\n",
              "      <td>853</td>\n",
              "      <td>0</td>\n",
              "      <td>bioterror #world FedEx no longer to transport ...</td>\n",
              "    </tr>\n",
              "    <tr>\n",
              "      <td>2</td>\n",
              "      <td>10540</td>\n",
              "      <td>1</td>\n",
              "      <td>windstorm Reality Training: Train falls off el...</td>\n",
              "    </tr>\n",
              "    <tr>\n",
              "      <td>3</td>\n",
              "      <td>5988</td>\n",
              "      <td>1</td>\n",
              "      <td>hazardous #Taiwan Grace: expect that large roc...</td>\n",
              "    </tr>\n",
              "    <tr>\n",
              "      <td>4</td>\n",
              "      <td>6328</td>\n",
              "      <td>1</td>\n",
              "      <td>hostage New ISIS Video: ISIS Threatens to Behe...</td>\n",
              "    </tr>\n",
              "    <tr>\n",
              "      <td>...</td>\n",
              "      <td>...</td>\n",
              "      <td>...</td>\n",
              "      <td>...</td>\n",
              "    </tr>\n",
              "    <tr>\n",
              "      <td>6466</td>\n",
              "      <td>4377</td>\n",
              "      <td>1</td>\n",
              "      <td>earthquake #Earthquake #Sismo M 1.9 - 15km E o...</td>\n",
              "    </tr>\n",
              "    <tr>\n",
              "      <td>6467</td>\n",
              "      <td>3408</td>\n",
              "      <td>0</td>\n",
              "      <td>derail @EmiiliexIrwin Totally agree.She is 23 ...</td>\n",
              "    </tr>\n",
              "    <tr>\n",
              "      <td>6468</td>\n",
              "      <td>9794</td>\n",
              "      <td>1</td>\n",
              "      <td>trapped Hollywood Movie About Trapped Miners R...</td>\n",
              "    </tr>\n",
              "    <tr>\n",
              "      <td>6469</td>\n",
              "      <td>10344</td>\n",
              "      <td>1</td>\n",
              "      <td>weapons Friendly reminder that the only countr...</td>\n",
              "    </tr>\n",
              "    <tr>\n",
              "      <td>6470</td>\n",
              "      <td>1779</td>\n",
              "      <td>1</td>\n",
              "      <td>buildings%20on%20fire Buildings are on fire an...</td>\n",
              "    </tr>\n",
              "  </tbody>\n",
              "</table>\n",
              "<p>6369 rows × 3 columns</p>\n",
              "</div>"
            ],
            "text/plain": [
              "         id  target                                  Text With Keyword\n",
              "0      3738       0  destroyed Black Eye 9: A space battle occurred...\n",
              "1       853       0  bioterror #world FedEx no longer to transport ...\n",
              "2     10540       1  windstorm Reality Training: Train falls off el...\n",
              "3      5988       1  hazardous #Taiwan Grace: expect that large roc...\n",
              "4      6328       1  hostage New ISIS Video: ISIS Threatens to Behe...\n",
              "...     ...     ...                                                ...\n",
              "6466   4377       1  earthquake #Earthquake #Sismo M 1.9 - 15km E o...\n",
              "6467   3408       0  derail @EmiiliexIrwin Totally agree.She is 23 ...\n",
              "6468   9794       1  trapped Hollywood Movie About Trapped Miners R...\n",
              "6469  10344       1  weapons Friendly reminder that the only countr...\n",
              "6470   1779       1  buildings%20on%20fire Buildings are on fire an...\n",
              "\n",
              "[6369 rows x 3 columns]"
            ]
          },
          "metadata": {
            "tags": []
          },
          "execution_count": 39
        }
      ]
    },
    {
      "cell_type": "markdown",
      "metadata": {
        "id": "vyTte765Z9qX"
      },
      "source": [
        "### Single Predictor"
      ]
    },
    {
      "cell_type": "code",
      "metadata": {
        "id": "OJ9ueqlsZ9qX",
        "outputId": "40fa8af9-3bb1-43e7-bf7a-56f681eb4eb3"
      },
      "source": [
        "# Select features\n",
        "X_train_cl_1 = df_train_clean_copy['text'].values # the features we want to analyze\n",
        "Y_train_cl_1 = df_train_clean_copy['target'].values\n",
        "X_train_cl_1"
      ],
      "execution_count": null,
      "outputs": [
        {
          "output_type": "execute_result",
          "data": {
            "text/plain": [
              "array(['Black Eye 9: A space battle occurred at Star O784 involving 3 fleets totaling 3945 ships with 17 destroyed',\n",
              "       '#world FedEx no longer to transport bioterror germs in wake of anthrax lab mishaps  http://t.co/5zDbTktwW7',\n",
              "       'Reality Training: Train falls off elevated tracks during windstorm http://t.co/JIOMnrCygT #Paramedic #EMS',\n",
              "       ...,\n",
              "       \"Hollywood Movie About Trapped Miners Released in Chile: 'The 33' Hollywood movie about trapped miners starring... http://t.co/tyyfG4qQvM\",\n",
              "       'Friendly reminder that the only country to ever use nuclear weapons is the U.S. And it was against civilians. https://t.co/7QrEPylLUK',\n",
              "       'Buildings are on fire and they have time for a business meeting #TheStrain'],\n",
              "      dtype=object)"
            ]
          },
          "metadata": {
            "tags": []
          },
          "execution_count": 219
        }
      ]
    },
    {
      "cell_type": "code",
      "metadata": {
        "id": "XgJrMKfyZ9qX",
        "outputId": "bbcbff51-5161-47b7-b7b9-9ac2311f9b0d"
      },
      "source": [
        "Y_train_cl_1"
      ],
      "execution_count": null,
      "outputs": [
        {
          "output_type": "execute_result",
          "data": {
            "text/plain": [
              "array([0, 0, 1, ..., 1, 1, 1])"
            ]
          },
          "metadata": {
            "tags": []
          },
          "execution_count": 220
        }
      ]
    },
    {
      "cell_type": "code",
      "metadata": {
        "id": "ZEBn--9GZ9qY"
      },
      "source": [
        "tfidf_vector_2 = TfidfVectorizer(tokenizer=spacy_tokenizer) # we use the above defined tokenizer "
      ],
      "execution_count": null,
      "outputs": []
    },
    {
      "cell_type": "code",
      "metadata": {
        "id": "znJYYOMJZ9qZ",
        "outputId": "6b7668ab-b4b3-4e14-f49a-93e1857c448c"
      },
      "source": [
        "# Define classifier\n",
        "classifier_2 = LogisticRegression(solver='saga', max_iter=1000, random_state = 72)\n",
        "\n",
        "# Create pipeline\n",
        "pipe_3 = Pipeline([('vectorizer', tfidf_vector_2),\n",
        "                 ('classifier', classifier_2)])\n",
        "\n",
        "# Fit model on training set\n",
        "pipe_3.fit(X_train_cl_1, Y_train_cl_1)"
      ],
      "execution_count": null,
      "outputs": [
        {
          "output_type": "execute_result",
          "data": {
            "text/plain": [
              "Pipeline(memory=None,\n",
              "         steps=[('vectorizer',\n",
              "                 TfidfVectorizer(analyzer='word', binary=False,\n",
              "                                 decode_error='strict',\n",
              "                                 dtype=<class 'numpy.float64'>,\n",
              "                                 encoding='utf-8', input='content',\n",
              "                                 lowercase=True, max_df=1.0, max_features=None,\n",
              "                                 min_df=1, ngram_range=(1, 1), norm='l2',\n",
              "                                 preprocessor=None, smooth_idf=True,\n",
              "                                 stop_words=None, strip_accents=None,\n",
              "                                 sublinear_tf=False,\n",
              "                                 token_patt...\\\\b',\n",
              "                                 tokenizer=<function spacy_tokenizer at 0x1a2b8dd4d0>,\n",
              "                                 use_idf=True, vocabulary=None)),\n",
              "                ('classifier',\n",
              "                 LogisticRegression(C=1.0, class_weight=None, dual=False,\n",
              "                                    fit_intercept=True, intercept_scaling=1,\n",
              "                                    l1_ratio=None, max_iter=1000,\n",
              "                                    multi_class='warn', n_jobs=None,\n",
              "                                    penalty='l2', random_state=72,\n",
              "                                    solver='saga', tol=0.0001, verbose=0,\n",
              "                                    warm_start=False))],\n",
              "         verbose=False)"
            ]
          },
          "metadata": {
            "tags": []
          },
          "execution_count": 222
        }
      ]
    },
    {
      "cell_type": "code",
      "metadata": {
        "id": "KL_q22lqZ9qZ",
        "outputId": "5f6137f1-7201-4c45-98f6-caee1e259c14"
      },
      "source": [
        "y_pred_3 = pipe_3.predict(X_test)\n",
        "y_pred_3"
      ],
      "execution_count": null,
      "outputs": [
        {
          "output_type": "execute_result",
          "data": {
            "text/plain": [
              "array([0, 0, 1, ..., 1, 0, 1])"
            ]
          },
          "metadata": {
            "tags": []
          },
          "execution_count": 223
        }
      ]
    },
    {
      "cell_type": "markdown",
      "metadata": {
        "id": "nd_vZV2_Z9qZ"
      },
      "source": [
        "#### Accuracy\n",
        "\n",
        "- What is the test accuracy of the classifier?"
      ]
    },
    {
      "cell_type": "code",
      "metadata": {
        "id": "yIKCIthTZ9qa",
        "outputId": "4413a2fe-9963-402e-9544-c52ca99a58b3"
      },
      "source": [
        "# Evaluate on training set\n",
        "print(f\"ACCURACY SCORE:\\n{pipe_3.score(X_train_cl_1, Y_train_cl_1):.6f}\")\n"
      ],
      "execution_count": null,
      "outputs": [
        {
          "output_type": "stream",
          "text": [
            "ACCURACY SCORE:\n",
            "0.889151\n"
          ],
          "name": "stdout"
        }
      ]
    },
    {
      "cell_type": "markdown",
      "metadata": {
        "id": "K7ZAYVnXZ9qa"
      },
      "source": [
        "#### there is a sligth improvement after cleaning "
      ]
    },
    {
      "cell_type": "markdown",
      "metadata": {
        "id": "E9fp_2EVZ9qa"
      },
      "source": [
        "### Two Predictors: Text and Keyword"
      ]
    },
    {
      "cell_type": "code",
      "metadata": {
        "id": "yGwWXKmSZ9qb",
        "outputId": "41c8d5ca-221b-4510-8b3e-c3cfa9e22559"
      },
      "source": [
        "X_train_cl_p2 = df_train_copy_1['Text With Keyword'].values\n",
        "Y_train_cl_p2 = df_train_copy_1['target'].values\n",
        "X_train_cl_p2"
      ],
      "execution_count": null,
      "outputs": [
        {
          "output_type": "execute_result",
          "data": {
            "text/plain": [
              "array(['destroyed Black Eye 9: A space battle occurred at Star O784 involving 3 fleets totaling 3945 ships with 17 destroyed',\n",
              "       'bioterror #world FedEx no longer to transport bioterror germs in wake of anthrax lab mishaps  http://t.co/5zDbTktwW7',\n",
              "       'windstorm Reality Training: Train falls off elevated tracks during windstorm http://t.co/JIOMnrCygT #Paramedic #EMS',\n",
              "       ...,\n",
              "       \"trapped Hollywood Movie About Trapped Miners Released in Chile: 'The 33' Hollywood movie about trapped miners starring... http://t.co/tyyfG4qQvM\",\n",
              "       'weapons Friendly reminder that the only country to ever use nuclear weapons is the U.S. And it was against civilians. https://t.co/7QrEPylLUK',\n",
              "       'buildings%20on%20fire Buildings are on fire and they have time for a business meeting #TheStrain'],\n",
              "      dtype=object)"
            ]
          },
          "metadata": {
            "tags": []
          },
          "execution_count": 225
        }
      ]
    },
    {
      "cell_type": "code",
      "metadata": {
        "id": "IDtczNw_Z9qb",
        "outputId": "9460bb71-bcdf-428a-8618-6278aad07c87"
      },
      "source": [
        "Y_train_cl_p2"
      ],
      "execution_count": null,
      "outputs": [
        {
          "output_type": "execute_result",
          "data": {
            "text/plain": [
              "array([0, 0, 1, ..., 1, 1, 1])"
            ]
          },
          "metadata": {
            "tags": []
          },
          "execution_count": 226
        }
      ]
    },
    {
      "cell_type": "code",
      "metadata": {
        "id": "xbF6sbzaZ9qb",
        "outputId": "7d0f47df-6325-4269-ebb9-3d27586de132"
      },
      "source": [
        "# Define classifier\n",
        "\n",
        "pipe_3.fit(X_train_cl_p2, Y_train_cl_p2)"
      ],
      "execution_count": null,
      "outputs": [
        {
          "output_type": "execute_result",
          "data": {
            "text/plain": [
              "Pipeline(memory=None,\n",
              "         steps=[('vectorizer',\n",
              "                 TfidfVectorizer(analyzer='word', binary=False,\n",
              "                                 decode_error='strict',\n",
              "                                 dtype=<class 'numpy.float64'>,\n",
              "                                 encoding='utf-8', input='content',\n",
              "                                 lowercase=True, max_df=1.0, max_features=None,\n",
              "                                 min_df=1, ngram_range=(1, 1), norm='l2',\n",
              "                                 preprocessor=None, smooth_idf=True,\n",
              "                                 stop_words=None, strip_accents=None,\n",
              "                                 sublinear_tf=False,\n",
              "                                 token_patt...\\\\b',\n",
              "                                 tokenizer=<function spacy_tokenizer at 0x1a2b8dd4d0>,\n",
              "                                 use_idf=True, vocabulary=None)),\n",
              "                ('classifier',\n",
              "                 LogisticRegression(C=1.0, class_weight=None, dual=False,\n",
              "                                    fit_intercept=True, intercept_scaling=1,\n",
              "                                    l1_ratio=None, max_iter=1000,\n",
              "                                    multi_class='warn', n_jobs=None,\n",
              "                                    penalty='l2', random_state=72,\n",
              "                                    solver='saga', tol=0.0001, verbose=0,\n",
              "                                    warm_start=False))],\n",
              "         verbose=False)"
            ]
          },
          "metadata": {
            "tags": []
          },
          "execution_count": 227
        }
      ]
    },
    {
      "cell_type": "code",
      "metadata": {
        "id": "PW01Nei6Z9qc",
        "outputId": "b954f6aa-571a-492c-9a11-5a88c6190dbe"
      },
      "source": [
        "y_pred_3 = pipe_3.predict(X_test)\n",
        "y_pred_3"
      ],
      "execution_count": null,
      "outputs": [
        {
          "output_type": "execute_result",
          "data": {
            "text/plain": [
              "array([0, 0, 1, ..., 1, 0, 1])"
            ]
          },
          "metadata": {
            "tags": []
          },
          "execution_count": 229
        }
      ]
    },
    {
      "cell_type": "code",
      "metadata": {
        "id": "3_H9N1lUZ9qc",
        "outputId": "a27ea508-3a97-4099-d288-1c5fc9b4c76c"
      },
      "source": [
        "# Evaluate on training set\n",
        "print(f\"ACCURACY SCORE:\\n{pipe_2.score(X_train_cl_p2, Y_train_cl_p2):.6f}\")"
      ],
      "execution_count": null,
      "outputs": [
        {
          "output_type": "stream",
          "text": [
            "ACCURACY SCORE:\n",
            "0.847700\n"
          ],
          "name": "stdout"
        }
      ]
    },
    {
      "cell_type": "markdown",
      "metadata": {
        "id": "smSLvNmlZ9ql"
      },
      "source": [
        "### Two Predictors: Text and location"
      ]
    },
    {
      "cell_type": "code",
      "metadata": {
        "id": "WjDRa_IGZ9qm",
        "outputId": "95c0763c-03bb-4210-b077-d1710325ca51"
      },
      "source": [
        "df_train_copy_3.info()"
      ],
      "execution_count": null,
      "outputs": [
        {
          "output_type": "stream",
          "text": [
            "<class 'pandas.core.frame.DataFrame'>\n",
            "Int64Index: 4312 entries, 0 to 6469\n",
            "Data columns (total 6 columns):\n",
            "id                    4312 non-null int64\n",
            "keyword               4312 non-null object\n",
            "location              4312 non-null object\n",
            "text                  4312 non-null object\n",
            "target                4312 non-null int64\n",
            "Text With location    4312 non-null object\n",
            "dtypes: int64(2), object(4)\n",
            "memory usage: 235.8+ KB\n"
          ],
          "name": "stdout"
        }
      ]
    },
    {
      "cell_type": "code",
      "metadata": {
        "id": "3LQR_GfuZ9qm",
        "outputId": "5c3a41b5-bc02-40d1-bdca-f787b9e9eee8"
      },
      "source": [
        "X_train_cl_p2_loc = df_train_copy_3['Text With location'].values\n",
        "Y_train_cl_p2_loc = df_train_copy_3['target'].values\n",
        "X_train_cl_p2_loc"
      ],
      "execution_count": null,
      "outputs": [
        {
          "output_type": "execute_result",
          "data": {
            "text/plain": [
              "array(['USA Black Eye 9: A space battle occurred at Star O784 involving 3 fleets totaling 3945 ships with 17 destroyed',\n",
              "       'Palm Beach County, FL Reality Training: Train falls off elevated tracks during windstorm http://t.co/JIOMnrCygT #Paramedic #EMS',\n",
              "       'USA #Taiwan Grace: expect that large rocks trees mud unstable and/or saturated land may slide ..very hazardous in hilly/mountain areas...',\n",
              "       ...,\n",
              "       \"Calgary, AB, Canada China's Stock Market Crash: Are There Gems In The Rubble? http://t.co/BqBLWiw08g #ROIMentor #yycwalks\",\n",
              "       'ARGENTINA #Earthquake #Sismo M 1.9 - 15km E of Anchorage Alaska: Time2015-08-06 00:11:16 UTC2015-08-05 16:11:16 -08:00 ... http://t.co/Z0VeR1hVM9',\n",
              "       'Beirut/Toronto Friendly reminder that the only country to ever use nuclear weapons is the U.S. And it was against civilians. https://t.co/7QrEPylLUK'],\n",
              "      dtype=object)"
            ]
          },
          "metadata": {
            "tags": []
          },
          "execution_count": 399
        }
      ]
    },
    {
      "cell_type": "code",
      "metadata": {
        "id": "0rkfi627Z9qm",
        "outputId": "2e99834d-3b38-4065-b221-ba6a0794253d"
      },
      "source": [
        "\n",
        "pipe_3.fit(X_train_cl_p2_loc, Y_train_cl_p2_loc)"
      ],
      "execution_count": null,
      "outputs": [
        {
          "output_type": "execute_result",
          "data": {
            "text/plain": [
              "Pipeline(memory=None,\n",
              "         steps=[('vectorizer',\n",
              "                 TfidfVectorizer(analyzer='word', binary=False,\n",
              "                                 decode_error='strict',\n",
              "                                 dtype=<class 'numpy.float64'>,\n",
              "                                 encoding='utf-8', input='content',\n",
              "                                 lowercase=True, max_df=1.0, max_features=None,\n",
              "                                 min_df=1, ngram_range=(1, 1), norm='l2',\n",
              "                                 preprocessor=None, smooth_idf=True,\n",
              "                                 stop_words=None, strip_accents=None,\n",
              "                                 sublinear_tf=False,\n",
              "                                 token_patt...\\\\b',\n",
              "                                 tokenizer=<function spacy_tokenizer at 0x1a2b8dd4d0>,\n",
              "                                 use_idf=True, vocabulary=None)),\n",
              "                ('classifier',\n",
              "                 LogisticRegression(C=1.0, class_weight=None, dual=False,\n",
              "                                    fit_intercept=True, intercept_scaling=1,\n",
              "                                    l1_ratio=None, max_iter=1000,\n",
              "                                    multi_class='warn', n_jobs=None,\n",
              "                                    penalty='l2', random_state=72,\n",
              "                                    solver='saga', tol=0.0001, verbose=0,\n",
              "                                    warm_start=False))],\n",
              "         verbose=False)"
            ]
          },
          "metadata": {
            "tags": []
          },
          "execution_count": 400
        }
      ]
    },
    {
      "cell_type": "code",
      "metadata": {
        "id": "-4alJ_0WZ9qn",
        "outputId": "12ee56a8-fbe9-4b67-b15e-fe0e74bff314"
      },
      "source": [
        "y_pred_3 = pipe_3.predict(X_test)\n",
        "y_pred_3"
      ],
      "execution_count": null,
      "outputs": [
        {
          "output_type": "execute_result",
          "data": {
            "text/plain": [
              "array([0, 0, 1, ..., 1, 0, 1])"
            ]
          },
          "metadata": {
            "tags": []
          },
          "execution_count": 401
        }
      ]
    },
    {
      "cell_type": "code",
      "metadata": {
        "id": "v7nMkD9dZ9qn",
        "outputId": "48f24fcf-7b78-4873-bfc1-001bfc178f67"
      },
      "source": [
        "# Evaluate on training set\n",
        "print(f\"ACCURACY SCORE:\\n{pipe_3.score(X_train_cl_p2_loc, Y_train_cl_p2_loc):.6f}\") #hv a look"
      ],
      "execution_count": null,
      "outputs": [
        {
          "output_type": "stream",
          "text": [
            "ACCURACY SCORE:\n",
            "0.897959\n"
          ],
          "name": "stdout"
        }
      ]
    },
    {
      "cell_type": "markdown",
      "metadata": {
        "id": "IY4lTmFQZ9qo"
      },
      "source": [
        "### Three Predictors"
      ]
    },
    {
      "cell_type": "code",
      "metadata": {
        "id": "bzhKUPU1Z9qo",
        "outputId": "9fc88adc-d251-4095-d82e-1c544c2601cf"
      },
      "source": [
        "X_train_cl_p3_loc = df_train_copy_2['Text With Keyword and Location'].values\n",
        "Y_train_cl_p3_loc = df_train_copy_2['target'].values\n",
        "X_train_cl_p3_loc"
      ],
      "execution_count": null,
      "outputs": [
        {
          "output_type": "execute_result",
          "data": {
            "text/plain": [
              "array(['USA destroyed Black Eye 9: A space battle occurred at Star O784 involving 3 fleets totaling 3945 ships with 17 destroyed',\n",
              "       'Palm Beach County, FL windstorm Reality Training: Train falls off elevated tracks during windstorm http://t.co/JIOMnrCygT #Paramedic #EMS',\n",
              "       'USA hazardous #Taiwan Grace: expect that large rocks trees mud unstable and/or saturated land may slide ..very hazardous in hilly/mountain areas...',\n",
              "       ...,\n",
              "       \"Calgary, AB, Canada rubble China's Stock Market Crash: Are There Gems In The Rubble? http://t.co/BqBLWiw08g #ROIMentor #yycwalks\",\n",
              "       'ARGENTINA earthquake #Earthquake #Sismo M 1.9 - 15km E of Anchorage Alaska: Time2015-08-06 00:11:16 UTC2015-08-05 16:11:16 -08:00 ... http://t.co/Z0VeR1hVM9',\n",
              "       'Beirut/Toronto weapons Friendly reminder that the only country to ever use nuclear weapons is the U.S. And it was against civilians. https://t.co/7QrEPylLUK'],\n",
              "      dtype=object)"
            ]
          },
          "metadata": {
            "tags": []
          },
          "execution_count": 280
        }
      ]
    },
    {
      "cell_type": "code",
      "metadata": {
        "id": "bEt891k1Z9qo",
        "outputId": "02b4ffd4-3e1d-4a77-9fd8-e1a9abc5a08b"
      },
      "source": [
        "Y_train_cl_p3_loc"
      ],
      "execution_count": null,
      "outputs": [
        {
          "output_type": "execute_result",
          "data": {
            "text/plain": [
              "array([0, 1, 1, ..., 1, 1, 1])"
            ]
          },
          "metadata": {
            "tags": []
          },
          "execution_count": 279
        }
      ]
    },
    {
      "cell_type": "code",
      "metadata": {
        "id": "oNabUe6JZ9qp",
        "outputId": "bf9b3e19-509e-44bb-a82d-789888b72854"
      },
      "source": [
        "# Define classifier\n",
        "\n",
        "pipe_3.fit(X_train_cl_p3_loc, Y_train_cl_p3_loc)"
      ],
      "execution_count": null,
      "outputs": [
        {
          "output_type": "execute_result",
          "data": {
            "text/plain": [
              "Pipeline(memory=None,\n",
              "         steps=[('vectorizer',\n",
              "                 TfidfVectorizer(analyzer='word', binary=False,\n",
              "                                 decode_error='strict',\n",
              "                                 dtype=<class 'numpy.float64'>,\n",
              "                                 encoding='utf-8', input='content',\n",
              "                                 lowercase=True, max_df=1.0, max_features=None,\n",
              "                                 min_df=1, ngram_range=(1, 1), norm='l2',\n",
              "                                 preprocessor=None, smooth_idf=True,\n",
              "                                 stop_words=None, strip_accents=None,\n",
              "                                 sublinear_tf=False,\n",
              "                                 token_patt...\\\\b',\n",
              "                                 tokenizer=<function spacy_tokenizer at 0x1a2b8dd4d0>,\n",
              "                                 use_idf=True, vocabulary=None)),\n",
              "                ('classifier',\n",
              "                 LogisticRegression(C=1.0, class_weight=None, dual=False,\n",
              "                                    fit_intercept=True, intercept_scaling=1,\n",
              "                                    l1_ratio=None, max_iter=1000,\n",
              "                                    multi_class='warn', n_jobs=None,\n",
              "                                    penalty='l2', random_state=72,\n",
              "                                    solver='saga', tol=0.0001, verbose=0,\n",
              "                                    warm_start=False))],\n",
              "         verbose=False)"
            ]
          },
          "metadata": {
            "tags": []
          },
          "execution_count": 404
        }
      ]
    },
    {
      "cell_type": "code",
      "metadata": {
        "id": "29T-2yCIZ9qp",
        "outputId": "4e989508-e0f0-4945-cf3a-0fde5490e2b6"
      },
      "source": [
        "y_pred_cl_3 = pipe_3.predict(X_test)\n",
        "y_pred_cl_3"
      ],
      "execution_count": null,
      "outputs": [
        {
          "output_type": "execute_result",
          "data": {
            "text/plain": [
              "array([0, 0, 1, ..., 1, 0, 1])"
            ]
          },
          "metadata": {
            "tags": []
          },
          "execution_count": 405
        }
      ]
    },
    {
      "cell_type": "code",
      "metadata": {
        "id": "uNhsEXVGZ9qq",
        "outputId": "81d74f24-3c28-4fb0-d4ba-daa363d0290b"
      },
      "source": [
        "# Evaluate on training set\n",
        "print(f\"ACCURACY SCORE:\\n{pipe_3.score(X_train_cl_p3_loc, Y_train_cl_p3_loc):.6f}\")"
      ],
      "execution_count": null,
      "outputs": [
        {
          "output_type": "stream",
          "text": [
            "ACCURACY SCORE:\n",
            "0.888683\n"
          ],
          "name": "stdout"
        }
      ]
    },
    {
      "cell_type": "markdown",
      "metadata": {
        "id": "Cmyb0DNvZ9qq"
      },
      "source": [
        "### 2.2. Balanced df"
      ]
    },
    {
      "cell_type": "markdown",
      "metadata": {
        "id": "hFQ2L35ZZ9qr"
      },
      "source": [
        "#### Balancing about text"
      ]
    },
    {
      "cell_type": "code",
      "metadata": {
        "id": "erflhH-BZ9qr",
        "outputId": "e96131cb-bfb3-4a9b-bf60-d0d57811d09f"
      },
      "source": [
        "df_train_clean_copy"
      ],
      "execution_count": null,
      "outputs": [
        {
          "output_type": "execute_result",
          "data": {
            "text/html": [
              "<div>\n",
              "<style scoped>\n",
              "    .dataframe tbody tr th:only-of-type {\n",
              "        vertical-align: middle;\n",
              "    }\n",
              "\n",
              "    .dataframe tbody tr th {\n",
              "        vertical-align: top;\n",
              "    }\n",
              "\n",
              "    .dataframe thead th {\n",
              "        text-align: right;\n",
              "    }\n",
              "</style>\n",
              "<table border=\"1\" class=\"dataframe\">\n",
              "  <thead>\n",
              "    <tr style=\"text-align: right;\">\n",
              "      <th></th>\n",
              "      <th>id</th>\n",
              "      <th>target</th>\n",
              "      <th>Text With Keyword</th>\n",
              "    </tr>\n",
              "  </thead>\n",
              "  <tbody>\n",
              "    <tr>\n",
              "      <td>0</td>\n",
              "      <td>3738</td>\n",
              "      <td>0</td>\n",
              "      <td>destroyed Black Eye 9: A space battle occurred...</td>\n",
              "    </tr>\n",
              "    <tr>\n",
              "      <td>1</td>\n",
              "      <td>853</td>\n",
              "      <td>0</td>\n",
              "      <td>bioterror #world FedEx no longer to transport ...</td>\n",
              "    </tr>\n",
              "    <tr>\n",
              "      <td>2</td>\n",
              "      <td>10540</td>\n",
              "      <td>1</td>\n",
              "      <td>windstorm Reality Training: Train falls off el...</td>\n",
              "    </tr>\n",
              "    <tr>\n",
              "      <td>3</td>\n",
              "      <td>5988</td>\n",
              "      <td>1</td>\n",
              "      <td>hazardous #Taiwan Grace: expect that large roc...</td>\n",
              "    </tr>\n",
              "    <tr>\n",
              "      <td>4</td>\n",
              "      <td>6328</td>\n",
              "      <td>1</td>\n",
              "      <td>hostage New ISIS Video: ISIS Threatens to Behe...</td>\n",
              "    </tr>\n",
              "    <tr>\n",
              "      <td>...</td>\n",
              "      <td>...</td>\n",
              "      <td>...</td>\n",
              "      <td>...</td>\n",
              "    </tr>\n",
              "    <tr>\n",
              "      <td>6466</td>\n",
              "      <td>4377</td>\n",
              "      <td>1</td>\n",
              "      <td>earthquake #Earthquake #Sismo M 1.9 - 15km E o...</td>\n",
              "    </tr>\n",
              "    <tr>\n",
              "      <td>6467</td>\n",
              "      <td>3408</td>\n",
              "      <td>0</td>\n",
              "      <td>derail @EmiiliexIrwin Totally agree.She is 23 ...</td>\n",
              "    </tr>\n",
              "    <tr>\n",
              "      <td>6468</td>\n",
              "      <td>9794</td>\n",
              "      <td>1</td>\n",
              "      <td>trapped Hollywood Movie About Trapped Miners R...</td>\n",
              "    </tr>\n",
              "    <tr>\n",
              "      <td>6469</td>\n",
              "      <td>10344</td>\n",
              "      <td>1</td>\n",
              "      <td>weapons Friendly reminder that the only countr...</td>\n",
              "    </tr>\n",
              "    <tr>\n",
              "      <td>6470</td>\n",
              "      <td>1779</td>\n",
              "      <td>1</td>\n",
              "      <td>buildings%20on%20fire Buildings are on fire an...</td>\n",
              "    </tr>\n",
              "  </tbody>\n",
              "</table>\n",
              "<p>6369 rows × 3 columns</p>\n",
              "</div>"
            ],
            "text/plain": [
              "         id  target                                  Text With Keyword\n",
              "0      3738       0  destroyed Black Eye 9: A space battle occurred...\n",
              "1       853       0  bioterror #world FedEx no longer to transport ...\n",
              "2     10540       1  windstorm Reality Training: Train falls off el...\n",
              "3      5988       1  hazardous #Taiwan Grace: expect that large roc...\n",
              "4      6328       1  hostage New ISIS Video: ISIS Threatens to Behe...\n",
              "...     ...     ...                                                ...\n",
              "6466   4377       1  earthquake #Earthquake #Sismo M 1.9 - 15km E o...\n",
              "6467   3408       0  derail @EmiiliexIrwin Totally agree.She is 23 ...\n",
              "6468   9794       1  trapped Hollywood Movie About Trapped Miners R...\n",
              "6469  10344       1  weapons Friendly reminder that the only countr...\n",
              "6470   1779       1  buildings%20on%20fire Buildings are on fire an...\n",
              "\n",
              "[6369 rows x 3 columns]"
            ]
          },
          "metadata": {
            "tags": []
          },
          "execution_count": 40
        }
      ]
    },
    {
      "cell_type": "code",
      "metadata": {
        "scrolled": false,
        "id": "76XhgAQ7Z9qr",
        "outputId": "b85b4239-49f6-4155-a88b-b2ced1a8851c"
      },
      "source": [
        "# Create balanced dataframe - base rate = 0.5 around text #single predictor\n",
        "df_new_blc = pd.concat([df_train_clean_copy[df_train_clean_copy[\"target\"] == 0].sample(len(df_train_clean_copy[df_train_clean_copy[\"target\"] == 1])), df_train_clean_copy[df_train_clean_copy[\"target\"] == 1]], axis=0).reset_index()\n",
        "df_new_blc"
      ],
      "execution_count": null,
      "outputs": [
        {
          "output_type": "execute_result",
          "data": {
            "text/html": [
              "<div>\n",
              "<style scoped>\n",
              "    .dataframe tbody tr th:only-of-type {\n",
              "        vertical-align: middle;\n",
              "    }\n",
              "\n",
              "    .dataframe tbody tr th {\n",
              "        vertical-align: top;\n",
              "    }\n",
              "\n",
              "    .dataframe thead th {\n",
              "        text-align: right;\n",
              "    }\n",
              "</style>\n",
              "<table border=\"1\" class=\"dataframe\">\n",
              "  <thead>\n",
              "    <tr style=\"text-align: right;\">\n",
              "      <th></th>\n",
              "      <th>index</th>\n",
              "      <th>id</th>\n",
              "      <th>target</th>\n",
              "      <th>Text With Keyword</th>\n",
              "    </tr>\n",
              "  </thead>\n",
              "  <tbody>\n",
              "    <tr>\n",
              "      <td>0</td>\n",
              "      <td>3690</td>\n",
              "      <td>976</td>\n",
              "      <td>0</td>\n",
              "      <td>blaze ?? Yes I do have 2 guns ?? ??</td>\n",
              "    </tr>\n",
              "    <tr>\n",
              "      <td>1</td>\n",
              "      <td>3718</td>\n",
              "      <td>7809</td>\n",
              "      <td>0</td>\n",
              "      <td>quarantine Check Out: 'Reddit Will Now Quarant...</td>\n",
              "    </tr>\n",
              "    <tr>\n",
              "      <td>2</td>\n",
              "      <td>907</td>\n",
              "      <td>1418</td>\n",
              "      <td>0</td>\n",
              "      <td>body%20bag genuine Leather man Bag Messenger f...</td>\n",
              "    </tr>\n",
              "    <tr>\n",
              "      <td>3</td>\n",
              "      <td>3145</td>\n",
              "      <td>4642</td>\n",
              "      <td>0</td>\n",
              "      <td>emergency%20services @swayoung01 Hi I thought ...</td>\n",
              "    </tr>\n",
              "    <tr>\n",
              "      <td>4</td>\n",
              "      <td>3070</td>\n",
              "      <td>10665</td>\n",
              "      <td>0</td>\n",
              "      <td>wounds If time heals all wounds how come the b...</td>\n",
              "    </tr>\n",
              "    <tr>\n",
              "      <td>...</td>\n",
              "      <td>...</td>\n",
              "      <td>...</td>\n",
              "      <td>...</td>\n",
              "      <td>...</td>\n",
              "    </tr>\n",
              "    <tr>\n",
              "      <td>5403</td>\n",
              "      <td>6465</td>\n",
              "      <td>8330</td>\n",
              "      <td>1</td>\n",
              "      <td>rubble China's Stock Market Crash: Are There G...</td>\n",
              "    </tr>\n",
              "    <tr>\n",
              "      <td>5404</td>\n",
              "      <td>6466</td>\n",
              "      <td>4377</td>\n",
              "      <td>1</td>\n",
              "      <td>earthquake #Earthquake #Sismo M 1.9 - 15km E o...</td>\n",
              "    </tr>\n",
              "    <tr>\n",
              "      <td>5405</td>\n",
              "      <td>6468</td>\n",
              "      <td>9794</td>\n",
              "      <td>1</td>\n",
              "      <td>trapped Hollywood Movie About Trapped Miners R...</td>\n",
              "    </tr>\n",
              "    <tr>\n",
              "      <td>5406</td>\n",
              "      <td>6469</td>\n",
              "      <td>10344</td>\n",
              "      <td>1</td>\n",
              "      <td>weapons Friendly reminder that the only countr...</td>\n",
              "    </tr>\n",
              "    <tr>\n",
              "      <td>5407</td>\n",
              "      <td>6470</td>\n",
              "      <td>1779</td>\n",
              "      <td>1</td>\n",
              "      <td>buildings%20on%20fire Buildings are on fire an...</td>\n",
              "    </tr>\n",
              "  </tbody>\n",
              "</table>\n",
              "<p>5408 rows × 4 columns</p>\n",
              "</div>"
            ],
            "text/plain": [
              "      index     id  target                                  Text With Keyword\n",
              "0      3690    976       0                blaze ?? Yes I do have 2 guns ?? ??\n",
              "1      3718   7809       0  quarantine Check Out: 'Reddit Will Now Quarant...\n",
              "2       907   1418       0  body%20bag genuine Leather man Bag Messenger f...\n",
              "3      3145   4642       0  emergency%20services @swayoung01 Hi I thought ...\n",
              "4      3070  10665       0  wounds If time heals all wounds how come the b...\n",
              "...     ...    ...     ...                                                ...\n",
              "5403   6465   8330       1  rubble China's Stock Market Crash: Are There G...\n",
              "5404   6466   4377       1  earthquake #Earthquake #Sismo M 1.9 - 15km E o...\n",
              "5405   6468   9794       1  trapped Hollywood Movie About Trapped Miners R...\n",
              "5406   6469  10344       1  weapons Friendly reminder that the only countr...\n",
              "5407   6470   1779       1  buildings%20on%20fire Buildings are on fire an...\n",
              "\n",
              "[5408 rows x 4 columns]"
            ]
          },
          "metadata": {
            "tags": []
          },
          "execution_count": 38
        }
      ]
    },
    {
      "cell_type": "code",
      "metadata": {
        "id": "IdypgGo7Z9qs",
        "outputId": "0ef7bebb-a8ac-48cc-c985-5ef8300a5fd1"
      },
      "source": [
        "len(df_new_blc[df_new_blc['target']==0])"
      ],
      "execution_count": null,
      "outputs": [
        {
          "output_type": "execute_result",
          "data": {
            "text/plain": [
              "2704"
            ]
          },
          "metadata": {
            "tags": []
          },
          "execution_count": 41
        }
      ]
    },
    {
      "cell_type": "markdown",
      "metadata": {
        "id": "079ZhvC1Z9qs"
      },
      "source": [
        "### Single Predictor balanced"
      ]
    },
    {
      "cell_type": "code",
      "metadata": {
        "id": "mRQjYLi2Z9qs",
        "outputId": "fda6468c-1c5c-4663-b5ed-22a3b7794775"
      },
      "source": [
        "X_train_blcd_p1 = df_new_blc['text'].values\n",
        "Y_train_blcd_p1 = df_new_blc['target'].values\n",
        "X_train_blcd_p1"
      ],
      "execution_count": null,
      "outputs": [
        {
          "output_type": "execute_result",
          "data": {
            "text/plain": [
              "array([\"All I got in this world is my bros I don't wanna see no harm come they way Ima lil upset right now ??\",\n",
              "       'I guess ill never be able to go to mayhem...',\n",
              "       'I slammed my phone to the ground and then screamed ahahahga', ...,\n",
              "       \"Hollywood Movie About Trapped Miners Released in Chile: 'The 33' Hollywood movie about trapped miners starring... http://t.co/tyyfG4qQvM\",\n",
              "       'Friendly reminder that the only country to ever use nuclear weapons is the U.S. And it was against civilians. https://t.co/7QrEPylLUK',\n",
              "       'Buildings are on fire and they have time for a business meeting #TheStrain'],\n",
              "      dtype=object)"
            ]
          },
          "metadata": {
            "tags": []
          },
          "execution_count": 239
        }
      ]
    },
    {
      "cell_type": "code",
      "metadata": {
        "id": "yn1eAE-aZ9q4",
        "outputId": "06d6e920-2bac-4854-c693-c0b662607cfc"
      },
      "source": [
        "Y_train_blcd_p1"
      ],
      "execution_count": null,
      "outputs": [
        {
          "output_type": "execute_result",
          "data": {
            "text/plain": [
              "array([0, 0, 0, ..., 1, 1, 1])"
            ]
          },
          "metadata": {
            "tags": []
          },
          "execution_count": 240
        }
      ]
    },
    {
      "cell_type": "code",
      "metadata": {
        "id": "9ch4HWF1Z9q5",
        "outputId": "2a5c9b15-3c16-4d21-e5d6-fc788649adee"
      },
      "source": [
        "# # Define classifier\n",
        "# classifier_2 = LogisticRegression(solver='saga', max_iter=1000, random_state = 72)\n",
        "\n",
        "# # Create pipeline\n",
        "# pipe_3 = Pipeline([('vectorizer', tfidf_vector_2),\n",
        "#                  ('classifier', classifier_2)])\n",
        "\n",
        "# Fit model on training set\n",
        "pipe_3.fit(X_train_blcd_p1, Y_train_blcd_p1)"
      ],
      "execution_count": null,
      "outputs": [
        {
          "output_type": "execute_result",
          "data": {
            "text/plain": [
              "Pipeline(memory=None,\n",
              "         steps=[('vectorizer',\n",
              "                 TfidfVectorizer(analyzer='word', binary=False,\n",
              "                                 decode_error='strict',\n",
              "                                 dtype=<class 'numpy.float64'>,\n",
              "                                 encoding='utf-8', input='content',\n",
              "                                 lowercase=True, max_df=1.0, max_features=None,\n",
              "                                 min_df=1, ngram_range=(1, 1), norm='l2',\n",
              "                                 preprocessor=None, smooth_idf=True,\n",
              "                                 stop_words=None, strip_accents=None,\n",
              "                                 sublinear_tf=False,\n",
              "                                 token_patt...\\\\b',\n",
              "                                 tokenizer=<function spacy_tokenizer at 0x1a2b8dd4d0>,\n",
              "                                 use_idf=True, vocabulary=None)),\n",
              "                ('classifier',\n",
              "                 LogisticRegression(C=1.0, class_weight=None, dual=False,\n",
              "                                    fit_intercept=True, intercept_scaling=1,\n",
              "                                    l1_ratio=None, max_iter=1000,\n",
              "                                    multi_class='warn', n_jobs=None,\n",
              "                                    penalty='l2', random_state=72,\n",
              "                                    solver='saga', tol=0.0001, verbose=0,\n",
              "                                    warm_start=False))],\n",
              "         verbose=False)"
            ]
          },
          "metadata": {
            "tags": []
          },
          "execution_count": 408
        }
      ]
    },
    {
      "cell_type": "code",
      "metadata": {
        "id": "LwDCjCWwZ9q5",
        "outputId": "e8c0b797-4c39-4634-aa54-365a3d3e0732"
      },
      "source": [
        "y_pred_blcd = pipe_3.predict(X_test)\n",
        "y_pred_blcd"
      ],
      "execution_count": null,
      "outputs": [
        {
          "output_type": "execute_result",
          "data": {
            "text/plain": [
              "array([0, 0, 1, ..., 1, 0, 1])"
            ]
          },
          "metadata": {
            "tags": []
          },
          "execution_count": 409
        }
      ]
    },
    {
      "cell_type": "code",
      "metadata": {
        "id": "0rLKQYeHZ9q5",
        "outputId": "19c34500-7401-43b0-906c-7022c863d6fc"
      },
      "source": [
        "# Evaluate on training set\n",
        "print(f\"ACCURACY SCORE:\\n{pipe_3.score(X_train_blcd_p1, Y_train_blcd_p1):.6f}\")"
      ],
      "execution_count": null,
      "outputs": [
        {
          "output_type": "stream",
          "text": [
            "ACCURACY SCORE:\n",
            "0.908099\n"
          ],
          "name": "stdout"
        }
      ]
    },
    {
      "cell_type": "markdown",
      "metadata": {
        "id": "6GwpnrZeZ9q6"
      },
      "source": [
        "### Two Predictors : Text and keyword"
      ]
    },
    {
      "cell_type": "markdown",
      "metadata": {
        "id": "RqL2yFnHoCHk"
      },
      "source": [
        "**we need a clean df with these two params**"
      ]
    },
    {
      "cell_type": "code",
      "metadata": {
        "id": "Vx1w0naoZ9q7",
        "outputId": "e043f4a7-3090-4206-f841-7867337b8574"
      },
      "source": [
        "# Create balanced dataframe - base rate = 0.5 around text #single predictor\n",
        "df_new_blc_2pdt = pd.concat([df_train_copy_1[df_train_copy_1[\"target\"] == 0].sample(len(df_train_copy_1[df_train_copy_1[\"target\"] == 1])), df_train_copy_1[df_train_copy_1[\"target\"] == 1]], axis=0).reset_index()\n",
        "df_new_blc_2pdt"
      ],
      "execution_count": null,
      "outputs": [
        {
          "output_type": "execute_result",
          "data": {
            "text/html": [
              "<div>\n",
              "<style scoped>\n",
              "    .dataframe tbody tr th:only-of-type {\n",
              "        vertical-align: middle;\n",
              "    }\n",
              "\n",
              "    .dataframe tbody tr th {\n",
              "        vertical-align: top;\n",
              "    }\n",
              "\n",
              "    .dataframe thead th {\n",
              "        text-align: right;\n",
              "    }\n",
              "</style>\n",
              "<table border=\"1\" class=\"dataframe\">\n",
              "  <thead>\n",
              "    <tr style=\"text-align: right;\">\n",
              "      <th></th>\n",
              "      <th>index</th>\n",
              "      <th>id</th>\n",
              "      <th>target</th>\n",
              "      <th>Text With Keyword</th>\n",
              "    </tr>\n",
              "  </thead>\n",
              "  <tbody>\n",
              "    <tr>\n",
              "      <td>0</td>\n",
              "      <td>2736</td>\n",
              "      <td>6141</td>\n",
              "      <td>0</td>\n",
              "      <td>hijack 0-day bug in fully patched OS X comes u...</td>\n",
              "    </tr>\n",
              "    <tr>\n",
              "      <td>1</td>\n",
              "      <td>4035</td>\n",
              "      <td>5391</td>\n",
              "      <td>0</td>\n",
              "      <td>fire%20truck Trident 90225 Chevy fire Truck w/...</td>\n",
              "    </tr>\n",
              "    <tr>\n",
              "      <td>2</td>\n",
              "      <td>463</td>\n",
              "      <td>2112</td>\n",
              "      <td>0</td>\n",
              "      <td>catastrophe #Borrowers concerned at possible #...</td>\n",
              "    </tr>\n",
              "    <tr>\n",
              "      <td>3</td>\n",
              "      <td>2513</td>\n",
              "      <td>6217</td>\n",
              "      <td>0</td>\n",
              "      <td>hijacker Governor weighs parole for California...</td>\n",
              "    </tr>\n",
              "    <tr>\n",
              "      <td>4</td>\n",
              "      <td>3736</td>\n",
              "      <td>6602</td>\n",
              "      <td>0</td>\n",
              "      <td>inundated @bentossell @ProductHunt Thanks! I k...</td>\n",
              "    </tr>\n",
              "    <tr>\n",
              "      <td>...</td>\n",
              "      <td>...</td>\n",
              "      <td>...</td>\n",
              "      <td>...</td>\n",
              "      <td>...</td>\n",
              "    </tr>\n",
              "    <tr>\n",
              "      <td>5403</td>\n",
              "      <td>6465</td>\n",
              "      <td>8330</td>\n",
              "      <td>1</td>\n",
              "      <td>rubble China's Stock Market Crash: Are There G...</td>\n",
              "    </tr>\n",
              "    <tr>\n",
              "      <td>5404</td>\n",
              "      <td>6466</td>\n",
              "      <td>4377</td>\n",
              "      <td>1</td>\n",
              "      <td>earthquake #Earthquake #Sismo M 1.9 - 15km E o...</td>\n",
              "    </tr>\n",
              "    <tr>\n",
              "      <td>5405</td>\n",
              "      <td>6468</td>\n",
              "      <td>9794</td>\n",
              "      <td>1</td>\n",
              "      <td>trapped Hollywood Movie About Trapped Miners R...</td>\n",
              "    </tr>\n",
              "    <tr>\n",
              "      <td>5406</td>\n",
              "      <td>6469</td>\n",
              "      <td>10344</td>\n",
              "      <td>1</td>\n",
              "      <td>weapons Friendly reminder that the only countr...</td>\n",
              "    </tr>\n",
              "    <tr>\n",
              "      <td>5407</td>\n",
              "      <td>6470</td>\n",
              "      <td>1779</td>\n",
              "      <td>1</td>\n",
              "      <td>buildings%20on%20fire Buildings are on fire an...</td>\n",
              "    </tr>\n",
              "  </tbody>\n",
              "</table>\n",
              "<p>5408 rows × 4 columns</p>\n",
              "</div>"
            ],
            "text/plain": [
              "      index     id  target                                  Text With Keyword\n",
              "0      2736   6141       0  hijack 0-day bug in fully patched OS X comes u...\n",
              "1      4035   5391       0  fire%20truck Trident 90225 Chevy fire Truck w/...\n",
              "2       463   2112       0  catastrophe #Borrowers concerned at possible #...\n",
              "3      2513   6217       0  hijacker Governor weighs parole for California...\n",
              "4      3736   6602       0  inundated @bentossell @ProductHunt Thanks! I k...\n",
              "...     ...    ...     ...                                                ...\n",
              "5403   6465   8330       1  rubble China's Stock Market Crash: Are There G...\n",
              "5404   6466   4377       1  earthquake #Earthquake #Sismo M 1.9 - 15km E o...\n",
              "5405   6468   9794       1  trapped Hollywood Movie About Trapped Miners R...\n",
              "5406   6469  10344       1  weapons Friendly reminder that the only countr...\n",
              "5407   6470   1779       1  buildings%20on%20fire Buildings are on fire an...\n",
              "\n",
              "[5408 rows x 4 columns]"
            ]
          },
          "metadata": {
            "tags": []
          },
          "execution_count": 52
        }
      ]
    },
    {
      "cell_type": "code",
      "metadata": {
        "id": "-BYFdJ3KZ9q7",
        "outputId": "35d7f80f-d5a6-4115-a8b3-7823e1aa394e"
      },
      "source": [
        "X_train_blcd_p2 = df_new_blc_2pdt['Text With Keyword'].values\n",
        "Y_train_blcd_p2 = df_new_blc_2pdt['target'].values\n",
        "X_train_blcd_p2"
      ],
      "execution_count": null,
      "outputs": [
        {
          "output_type": "execute_result",
          "data": {
            "text/plain": [
              "array(['fire%20truck #RFP: Fire Truck Service Body for F-450 (Fire fighting rescue &amp; safety equipment Transporta... http://t.co/8GtRvEcE1N',\n",
              "       \"emergency%20services Want to work at Swedish Health Services? We're #hiring in #Seattle WA! Click for details: http://t.co/4KDThCtEmV #Nursing #Job #Jobs\",\n",
              "       \"hellfire @IAN_Hellfire I got it for the mistake but boss got it worse cause their job was to oversee my work. Boss didn't change after that...\",\n",
              "       ...,\n",
              "       \"trapped Hollywood Movie About Trapped Miners Released in Chile: 'The 33' Hollywood movie about trapped miners starring... http://t.co/tyyfG4qQvM\",\n",
              "       'weapons Friendly reminder that the only country to ever use nuclear weapons is the U.S. And it was against civilians. https://t.co/7QrEPylLUK',\n",
              "       'buildings%20on%20fire Buildings are on fire and they have time for a business meeting #TheStrain'],\n",
              "      dtype=object)"
            ]
          },
          "metadata": {
            "tags": []
          },
          "execution_count": 353
        }
      ]
    },
    {
      "cell_type": "code",
      "metadata": {
        "id": "1L9XuLKBZ9q7",
        "outputId": "e23e7a8f-1b6d-4c4b-c20f-caa7bc1b7ac7"
      },
      "source": [
        "\n",
        "# Fit model on training set\n",
        "pipe_3.fit(X_train_blcd_p2, Y_train_blcd_p2)"
      ],
      "execution_count": null,
      "outputs": [
        {
          "output_type": "execute_result",
          "data": {
            "text/plain": [
              "Pipeline(memory=None,\n",
              "         steps=[('vectorizer',\n",
              "                 TfidfVectorizer(analyzer='word', binary=False,\n",
              "                                 decode_error='strict',\n",
              "                                 dtype=<class 'numpy.float64'>,\n",
              "                                 encoding='utf-8', input='content',\n",
              "                                 lowercase=True, max_df=1.0, max_features=None,\n",
              "                                 min_df=1, ngram_range=(1, 1), norm='l2',\n",
              "                                 preprocessor=None, smooth_idf=True,\n",
              "                                 stop_words=None, strip_accents=None,\n",
              "                                 sublinear_tf=False,\n",
              "                                 token_patt...\\\\b',\n",
              "                                 tokenizer=<function spacy_tokenizer at 0x1a2b8dd4d0>,\n",
              "                                 use_idf=True, vocabulary=None)),\n",
              "                ('classifier',\n",
              "                 LogisticRegression(C=1.0, class_weight=None, dual=False,\n",
              "                                    fit_intercept=True, intercept_scaling=1,\n",
              "                                    l1_ratio=None, max_iter=1000,\n",
              "                                    multi_class='warn', n_jobs=None,\n",
              "                                    penalty='l2', random_state=72,\n",
              "                                    solver='saga', tol=0.0001, verbose=0,\n",
              "                                    warm_start=False))],\n",
              "         verbose=False)"
            ]
          },
          "metadata": {
            "tags": []
          },
          "execution_count": 354
        }
      ]
    },
    {
      "cell_type": "code",
      "metadata": {
        "id": "9a2oiYnlZ9q8",
        "outputId": "4b24678d-a283-40e3-f4e2-39337361ef06"
      },
      "source": [
        "y_pred_blc_p2 = pipe_3.predict(X_test)\n",
        "y_pred_blc_p2"
      ],
      "execution_count": null,
      "outputs": [
        {
          "output_type": "execute_result",
          "data": {
            "text/plain": [
              "array([0, 0, 1, ..., 1, 0, 1])"
            ]
          },
          "metadata": {
            "tags": []
          },
          "execution_count": 355
        }
      ]
    },
    {
      "cell_type": "code",
      "metadata": {
        "id": "Gj0bv6qGZ9q8",
        "outputId": "67df1f9b-1023-4689-c1cf-860d5cdf6d97"
      },
      "source": [
        "# Evaluate on training set\n",
        "print(f\"ACCURACY SCORE:\\n{pipe_3.score(X_train_blcd_p2, Y_train_blcd_p2):.6f}\")"
      ],
      "execution_count": null,
      "outputs": [
        {
          "output_type": "stream",
          "text": [
            "ACCURACY SCORE:\n",
            "0.882212\n"
          ],
          "name": "stdout"
        }
      ]
    },
    {
      "cell_type": "markdown",
      "metadata": {
        "id": "q78N5l_JZ9q9"
      },
      "source": [
        "### Two Predictors : Text and location"
      ]
    },
    {
      "cell_type": "code",
      "metadata": {
        "id": "53BD1NX5Z9q9",
        "outputId": "830d7f10-4216-48c6-d5fe-0bfe3b888b1d"
      },
      "source": [
        "# Create balanced dataframe - base rate = 0.5 around text #single predictor\n",
        "df_new_blc_2pd_loc = pd.concat([df_train_copy_3[df_train_copy_3[\"target\"] == 0].sample(len(df_train_copy_3[df_train_copy_3[\"target\"] == 1])), df_train_copy_3[df_train_copy_3[\"target\"] == 1]], axis=0).reset_index()\n",
        "df_new_blc_2pd_loc"
      ],
      "execution_count": null,
      "outputs": [
        {
          "output_type": "execute_result",
          "data": {
            "text/html": [
              "<div>\n",
              "<style scoped>\n",
              "    .dataframe tbody tr th:only-of-type {\n",
              "        vertical-align: middle;\n",
              "    }\n",
              "\n",
              "    .dataframe tbody tr th {\n",
              "        vertical-align: top;\n",
              "    }\n",
              "\n",
              "    .dataframe thead th {\n",
              "        text-align: right;\n",
              "    }\n",
              "</style>\n",
              "<table border=\"1\" class=\"dataframe\">\n",
              "  <thead>\n",
              "    <tr style=\"text-align: right;\">\n",
              "      <th></th>\n",
              "      <th>index</th>\n",
              "      <th>id</th>\n",
              "      <th>keyword</th>\n",
              "      <th>location</th>\n",
              "      <th>text</th>\n",
              "      <th>target</th>\n",
              "      <th>Text With location</th>\n",
              "    </tr>\n",
              "  </thead>\n",
              "  <tbody>\n",
              "    <tr>\n",
              "      <td>0</td>\n",
              "      <td>2195</td>\n",
              "      <td>10150</td>\n",
              "      <td>upheaval</td>\n",
              "      <td>CPT &amp; JHB, South Africa</td>\n",
              "      <td>To navigate inevitable upheaval internal audit...</td>\n",
              "      <td>0</td>\n",
              "      <td>CPT &amp; JHB, South Africa To navigate inevitable...</td>\n",
              "    </tr>\n",
              "    <tr>\n",
              "      <td>1</td>\n",
              "      <td>2205</td>\n",
              "      <td>9864</td>\n",
              "      <td>traumatised</td>\n",
              "      <td>Sweden</td>\n",
              "      <td>@Ruddyyyyyy @JamieGriff97 Jamie is too traumat...</td>\n",
              "      <td>0</td>\n",
              "      <td>Sweden @Ruddyyyyyy @JamieGriff97 Jamie is too ...</td>\n",
              "    </tr>\n",
              "    <tr>\n",
              "      <td>2</td>\n",
              "      <td>3216</td>\n",
              "      <td>6520</td>\n",
              "      <td>injuries</td>\n",
              "      <td>Corpus - Las Vegas - Houston</td>\n",
              "      <td>The injuries are starting!!! Please @dallascow...</td>\n",
              "      <td>0</td>\n",
              "      <td>Corpus - Las Vegas - Houston The injuries are ...</td>\n",
              "    </tr>\n",
              "    <tr>\n",
              "      <td>3</td>\n",
              "      <td>5631</td>\n",
              "      <td>5233</td>\n",
              "      <td>fatality</td>\n",
              "      <td>Grand Rapids MI</td>\n",
              "      <td>@FaTality_US need a team? We need one.</td>\n",
              "      <td>0</td>\n",
              "      <td>Grand Rapids MI @FaTality_US need a team? We n...</td>\n",
              "    </tr>\n",
              "    <tr>\n",
              "      <td>4</td>\n",
              "      <td>2931</td>\n",
              "      <td>5905</td>\n",
              "      <td>harm</td>\n",
              "      <td>WORLD WIDE</td>\n",
              "      <td>ÛÏFor I know the plans I have for youÛ decl...</td>\n",
              "      <td>0</td>\n",
              "      <td>WORLD WIDE ÛÏFor I know the plans I have for ...</td>\n",
              "    </tr>\n",
              "    <tr>\n",
              "      <td>...</td>\n",
              "      <td>...</td>\n",
              "      <td>...</td>\n",
              "      <td>...</td>\n",
              "      <td>...</td>\n",
              "      <td>...</td>\n",
              "      <td>...</td>\n",
              "      <td>...</td>\n",
              "    </tr>\n",
              "    <tr>\n",
              "      <td>3691</td>\n",
              "      <td>6455</td>\n",
              "      <td>3725</td>\n",
              "      <td>destroyed</td>\n",
              "      <td>ÌÏT: 6.4682,3.18287</td>\n",
              "      <td>Flood: Two people dead 60 houses destroyed in ...</td>\n",
              "      <td>1</td>\n",
              "      <td>ÌÏT: 6.4682,3.18287 Flood: Two people dead 60 ...</td>\n",
              "    </tr>\n",
              "    <tr>\n",
              "      <td>3692</td>\n",
              "      <td>6459</td>\n",
              "      <td>4472</td>\n",
              "      <td>electrocuted</td>\n",
              "      <td>South West, England</td>\n",
              "      <td>MT @Earths_Voice Treatment of #tigers in #Chin...</td>\n",
              "      <td>1</td>\n",
              "      <td>South West, England MT @Earths_Voice Treatment...</td>\n",
              "    </tr>\n",
              "    <tr>\n",
              "      <td>3693</td>\n",
              "      <td>6465</td>\n",
              "      <td>8330</td>\n",
              "      <td>rubble</td>\n",
              "      <td>Calgary, AB, Canada</td>\n",
              "      <td>China's Stock Market Crash: Are There Gems In ...</td>\n",
              "      <td>1</td>\n",
              "      <td>Calgary, AB, Canada China's Stock Market Crash...</td>\n",
              "    </tr>\n",
              "    <tr>\n",
              "      <td>3694</td>\n",
              "      <td>6466</td>\n",
              "      <td>4377</td>\n",
              "      <td>earthquake</td>\n",
              "      <td>ARGENTINA</td>\n",
              "      <td>#Earthquake #Sismo M 1.9 - 15km E of Anchorage...</td>\n",
              "      <td>1</td>\n",
              "      <td>ARGENTINA #Earthquake #Sismo M 1.9 - 15km E of...</td>\n",
              "    </tr>\n",
              "    <tr>\n",
              "      <td>3695</td>\n",
              "      <td>6469</td>\n",
              "      <td>10344</td>\n",
              "      <td>weapons</td>\n",
              "      <td>Beirut/Toronto</td>\n",
              "      <td>Friendly reminder that the only country to eve...</td>\n",
              "      <td>1</td>\n",
              "      <td>Beirut/Toronto Friendly reminder that the only...</td>\n",
              "    </tr>\n",
              "  </tbody>\n",
              "</table>\n",
              "<p>3696 rows × 7 columns</p>\n",
              "</div>"
            ],
            "text/plain": [
              "      index     id       keyword                      location  \\\n",
              "0      2195  10150      upheaval       CPT & JHB, South Africa   \n",
              "1      2205   9864   traumatised                        Sweden   \n",
              "2      3216   6520      injuries  Corpus - Las Vegas - Houston   \n",
              "3      5631   5233      fatality               Grand Rapids MI   \n",
              "4      2931   5905          harm                    WORLD WIDE   \n",
              "...     ...    ...           ...                           ...   \n",
              "3691   6455   3725     destroyed           ÌÏT: 6.4682,3.18287   \n",
              "3692   6459   4472  electrocuted           South West, England   \n",
              "3693   6465   8330        rubble           Calgary, AB, Canada   \n",
              "3694   6466   4377    earthquake                     ARGENTINA   \n",
              "3695   6469  10344       weapons                Beirut/Toronto   \n",
              "\n",
              "                                                   text  target  \\\n",
              "0     To navigate inevitable upheaval internal audit...       0   \n",
              "1     @Ruddyyyyyy @JamieGriff97 Jamie is too traumat...       0   \n",
              "2     The injuries are starting!!! Please @dallascow...       0   \n",
              "3                @FaTality_US need a team? We need one.       0   \n",
              "4     ÛÏFor I know the plans I have for youÛ decl...       0   \n",
              "...                                                 ...     ...   \n",
              "3691  Flood: Two people dead 60 houses destroyed in ...       1   \n",
              "3692  MT @Earths_Voice Treatment of #tigers in #Chin...       1   \n",
              "3693  China's Stock Market Crash: Are There Gems In ...       1   \n",
              "3694  #Earthquake #Sismo M 1.9 - 15km E of Anchorage...       1   \n",
              "3695  Friendly reminder that the only country to eve...       1   \n",
              "\n",
              "                                     Text With location  \n",
              "0     CPT & JHB, South Africa To navigate inevitable...  \n",
              "1     Sweden @Ruddyyyyyy @JamieGriff97 Jamie is too ...  \n",
              "2     Corpus - Las Vegas - Houston The injuries are ...  \n",
              "3     Grand Rapids MI @FaTality_US need a team? We n...  \n",
              "4     WORLD WIDE ÛÏFor I know the plans I have for ...  \n",
              "...                                                 ...  \n",
              "3691  ÌÏT: 6.4682,3.18287 Flood: Two people dead 60 ...  \n",
              "3692  South West, England MT @Earths_Voice Treatment...  \n",
              "3693  Calgary, AB, Canada China's Stock Market Crash...  \n",
              "3694  ARGENTINA #Earthquake #Sismo M 1.9 - 15km E of...  \n",
              "3695  Beirut/Toronto Friendly reminder that the only...  \n",
              "\n",
              "[3696 rows x 7 columns]"
            ]
          },
          "metadata": {
            "tags": []
          },
          "execution_count": 53
        }
      ]
    },
    {
      "cell_type": "code",
      "metadata": {
        "id": "lCYFeYCnZ9q-",
        "outputId": "5d4aded2-4e2c-4d16-99e9-96836b77fe6a"
      },
      "source": [
        "X_train_blcd_p2_loc = df_new_blc_2pd_loc['Text With location'].values\n",
        "Y_train_blcd_p2_loc = df_new_blc_2pd_loc['target'].values\n",
        "X_train_blcd_p2_loc"
      ],
      "execution_count": null,
      "outputs": [
        {
          "output_type": "execute_result",
          "data": {
            "text/plain": [
              "array(['San Diego @elisagxrcia I think of that every time I go to the epicentre haha',\n",
              "       'California, USA @DaBorsch not really that shocking :( blizzard lured their old fanbase back with WoD and disappointed us hardcore so everyones leaving again',\n",
              "       'EARTH  Owner of Chicago-Area Gay Bar Admits to Arson Scheme http://t.co/UBFr1URAFc #LGBT | https://t.co/AlnV51d95x',\n",
              "       ...,\n",
              "       \"Calgary, AB, Canada China's Stock Market Crash: Are There Gems In The Rubble? http://t.co/BqBLWiw08g #ROIMentor #yycwalks\",\n",
              "       'ARGENTINA #Earthquake #Sismo M 1.9 - 15km E of Anchorage Alaska: Time2015-08-06 00:11:16 UTC2015-08-05 16:11:16 -08:00 ... http://t.co/Z0VeR1hVM9',\n",
              "       'Beirut/Toronto Friendly reminder that the only country to ever use nuclear weapons is the U.S. And it was against civilians. https://t.co/7QrEPylLUK'],\n",
              "      dtype=object)"
            ]
          },
          "metadata": {
            "tags": []
          },
          "execution_count": 360
        }
      ]
    },
    {
      "cell_type": "markdown",
      "metadata": {
        "id": "p8hSiYc6oNL0"
      },
      "source": [
        "Fit model on training set\n"
      ]
    },
    {
      "cell_type": "code",
      "metadata": {
        "id": "ZPDj4GazZ9q-",
        "outputId": "8dd874a3-f659-4e30-d2cb-893266611d16"
      },
      "source": [
        "\n",
        "pipe_3.fit(X_train_blcd_p2_loc, Y_train_blcd_p2_loc)"
      ],
      "execution_count": null,
      "outputs": [
        {
          "output_type": "execute_result",
          "data": {
            "text/plain": [
              "Pipeline(memory=None,\n",
              "         steps=[('vectorizer',\n",
              "                 TfidfVectorizer(analyzer='word', binary=False,\n",
              "                                 decode_error='strict',\n",
              "                                 dtype=<class 'numpy.float64'>,\n",
              "                                 encoding='utf-8', input='content',\n",
              "                                 lowercase=True, max_df=1.0, max_features=None,\n",
              "                                 min_df=1, ngram_range=(1, 1), norm='l2',\n",
              "                                 preprocessor=None, smooth_idf=True,\n",
              "                                 stop_words=None, strip_accents=None,\n",
              "                                 sublinear_tf=False,\n",
              "                                 token_patt...\\\\b',\n",
              "                                 tokenizer=<function spacy_tokenizer at 0x1a2b8dd4d0>,\n",
              "                                 use_idf=True, vocabulary=None)),\n",
              "                ('classifier',\n",
              "                 LogisticRegression(C=1.0, class_weight=None, dual=False,\n",
              "                                    fit_intercept=True, intercept_scaling=1,\n",
              "                                    l1_ratio=None, max_iter=1000,\n",
              "                                    multi_class='warn', n_jobs=None,\n",
              "                                    penalty='l2', random_state=72,\n",
              "                                    solver='saga', tol=0.0001, verbose=0,\n",
              "                                    warm_start=False))],\n",
              "         verbose=False)"
            ]
          },
          "metadata": {
            "tags": []
          },
          "execution_count": 361
        }
      ]
    },
    {
      "cell_type": "code",
      "metadata": {
        "id": "EHxi0JKyZ9q-",
        "outputId": "f9ae9663-ea47-470c-f12a-011f416c5d5c"
      },
      "source": [
        "y_pred_blc_p2_loc = pipe_3.predict(X_test)\n",
        "y_pred_blc_p2_loc"
      ],
      "execution_count": null,
      "outputs": [
        {
          "output_type": "execute_result",
          "data": {
            "text/plain": [
              "array([0, 0, 1, ..., 1, 0, 1])"
            ]
          },
          "metadata": {
            "tags": []
          },
          "execution_count": 362
        }
      ]
    },
    {
      "cell_type": "code",
      "metadata": {
        "id": "OD7VLUfhZ9q_",
        "outputId": "4035b0ae-c742-41f5-ce0c-26edb6909a58"
      },
      "source": [
        "# Evaluate on training set\n",
        "print(f\"ACCURACY SCORE:\\n{pipe_3.score(X_train_blcd_p2_loc, Y_train_blcd_p2_loc):.6f}\")"
      ],
      "execution_count": null,
      "outputs": [
        {
          "output_type": "stream",
          "text": [
            "ACCURACY SCORE:\n",
            "0.924242\n"
          ],
          "name": "stdout"
        }
      ]
    },
    {
      "cell_type": "markdown",
      "metadata": {
        "id": "GulHFsSAZ9rA"
      },
      "source": [
        "### Three Predictors"
      ]
    },
    {
      "cell_type": "markdown",
      "metadata": {
        "id": "nheqNC5hoWKL"
      },
      "source": [
        "Create balanced dataframe - base rate = 0.5 around text #single predictor"
      ]
    },
    {
      "cell_type": "code",
      "metadata": {
        "id": "3fVOCGFnZ9rA",
        "outputId": "d6f5b796-14b3-4741-b8f6-b2041bdf51a2"
      },
      "source": [
        "\n",
        "df_new_blc_3pd = pd.concat([df_train_copy_2[df_train_copy_2[\"target\"] == 0].sample(len(df_train_copy_2[df_train_copy_2[\"target\"] == 1])), df_train_copy_2[df_train_copy_2[\"target\"] == 1]], axis=0).reset_index()\n",
        "df_new_blc_3pd"
      ],
      "execution_count": null,
      "outputs": [
        {
          "output_type": "execute_result",
          "data": {
            "text/html": [
              "<div>\n",
              "<style scoped>\n",
              "    .dataframe tbody tr th:only-of-type {\n",
              "        vertical-align: middle;\n",
              "    }\n",
              "\n",
              "    .dataframe tbody tr th {\n",
              "        vertical-align: top;\n",
              "    }\n",
              "\n",
              "    .dataframe thead th {\n",
              "        text-align: right;\n",
              "    }\n",
              "</style>\n",
              "<table border=\"1\" class=\"dataframe\">\n",
              "  <thead>\n",
              "    <tr style=\"text-align: right;\">\n",
              "      <th></th>\n",
              "      <th>index</th>\n",
              "      <th>id</th>\n",
              "      <th>target</th>\n",
              "      <th>Text With Keyword and Location</th>\n",
              "    </tr>\n",
              "  </thead>\n",
              "  <tbody>\n",
              "    <tr>\n",
              "      <td>0</td>\n",
              "      <td>5800</td>\n",
              "      <td>1149</td>\n",
              "      <td>0</td>\n",
              "      <td>USA blight City program to help turn blight in...</td>\n",
              "    </tr>\n",
              "    <tr>\n",
              "      <td>1</td>\n",
              "      <td>6186</td>\n",
              "      <td>3402</td>\n",
              "      <td>0</td>\n",
              "      <td>ÌøåÀå_T: 40.736324,-73.990062 demolition Shame...</td>\n",
              "    </tr>\n",
              "    <tr>\n",
              "      <td>2</td>\n",
              "      <td>1819</td>\n",
              "      <td>6951</td>\n",
              "      <td>0</td>\n",
              "      <td>Ashburn, VA massacre I just bought tickets to ...</td>\n",
              "    </tr>\n",
              "    <tr>\n",
              "      <td>3</td>\n",
              "      <td>2914</td>\n",
              "      <td>1297</td>\n",
              "      <td>0</td>\n",
              "      <td>65 bloody @zhenghxn i tried 11 eyes akame ga k...</td>\n",
              "    </tr>\n",
              "    <tr>\n",
              "      <td>4</td>\n",
              "      <td>5142</td>\n",
              "      <td>1863</td>\n",
              "      <td>0</td>\n",
              "      <td>Upper St Clair, PA burned @thomasvissman22 @Ke...</td>\n",
              "    </tr>\n",
              "    <tr>\n",
              "      <td>...</td>\n",
              "      <td>...</td>\n",
              "      <td>...</td>\n",
              "      <td>...</td>\n",
              "      <td>...</td>\n",
              "    </tr>\n",
              "    <tr>\n",
              "      <td>3691</td>\n",
              "      <td>6455</td>\n",
              "      <td>3725</td>\n",
              "      <td>1</td>\n",
              "      <td>ÌÏT: 6.4682,3.18287 destroyed Flood: Two peopl...</td>\n",
              "    </tr>\n",
              "    <tr>\n",
              "      <td>3692</td>\n",
              "      <td>6459</td>\n",
              "      <td>4472</td>\n",
              "      <td>1</td>\n",
              "      <td>South West, England electrocuted MT @Earths_Vo...</td>\n",
              "    </tr>\n",
              "    <tr>\n",
              "      <td>3693</td>\n",
              "      <td>6465</td>\n",
              "      <td>8330</td>\n",
              "      <td>1</td>\n",
              "      <td>Calgary, AB, Canada rubble China's Stock Marke...</td>\n",
              "    </tr>\n",
              "    <tr>\n",
              "      <td>3694</td>\n",
              "      <td>6466</td>\n",
              "      <td>4377</td>\n",
              "      <td>1</td>\n",
              "      <td>ARGENTINA earthquake #Earthquake #Sismo M 1.9 ...</td>\n",
              "    </tr>\n",
              "    <tr>\n",
              "      <td>3695</td>\n",
              "      <td>6469</td>\n",
              "      <td>10344</td>\n",
              "      <td>1</td>\n",
              "      <td>Beirut/Toronto weapons Friendly reminder that ...</td>\n",
              "    </tr>\n",
              "  </tbody>\n",
              "</table>\n",
              "<p>3696 rows × 4 columns</p>\n",
              "</div>"
            ],
            "text/plain": [
              "      index     id  target                     Text With Keyword and Location\n",
              "0      5800   1149       0  USA blight City program to help turn blight in...\n",
              "1      6186   3402       0  ÌøåÀå_T: 40.736324,-73.990062 demolition Shame...\n",
              "2      1819   6951       0  Ashburn, VA massacre I just bought tickets to ...\n",
              "3      2914   1297       0  65 bloody @zhenghxn i tried 11 eyes akame ga k...\n",
              "4      5142   1863       0  Upper St Clair, PA burned @thomasvissman22 @Ke...\n",
              "...     ...    ...     ...                                                ...\n",
              "3691   6455   3725       1  ÌÏT: 6.4682,3.18287 destroyed Flood: Two peopl...\n",
              "3692   6459   4472       1  South West, England electrocuted MT @Earths_Vo...\n",
              "3693   6465   8330       1  Calgary, AB, Canada rubble China's Stock Marke...\n",
              "3694   6466   4377       1  ARGENTINA earthquake #Earthquake #Sismo M 1.9 ...\n",
              "3695   6469  10344       1  Beirut/Toronto weapons Friendly reminder that ...\n",
              "\n",
              "[3696 rows x 4 columns]"
            ]
          },
          "metadata": {
            "tags": []
          },
          "execution_count": 54
        }
      ]
    },
    {
      "cell_type": "code",
      "metadata": {
        "id": "KK9mRs4QZ9rA",
        "outputId": "8ad7e7ae-edc5-4f6c-f801-1d38bb61f59a"
      },
      "source": [
        "X_train_blcd_p3 = df_new_blc_3pd['Text With Keyword and Location'].values\n",
        "Y_train_blcd_p3 = df_new_blc_3pd['target'].values\n",
        "X_train_blcd_p3"
      ],
      "execution_count": null,
      "outputs": [
        {
          "output_type": "execute_result",
          "data": {
            "text/plain": [
              "array(['peshawar pakistan  terrorist @OfficialMqm you are terrorist',\n",
              "       \"Washington, DC demolition China detains seven Christians trying to protect their church's cross from demolition http://t.co/XuUB2HBlI5 http://t.co/h5EPx2D1ga\",\n",
              "       'New Brunswick, NJ catastrophe God bless catastrophe', ...,\n",
              "       \"Calgary, AB, Canada rubble China's Stock Market Crash: Are There Gems In The Rubble? http://t.co/BqBLWiw08g #ROIMentor #yycwalks\",\n",
              "       'ARGENTINA earthquake #Earthquake #Sismo M 1.9 - 15km E of Anchorage Alaska: Time2015-08-06 00:11:16 UTC2015-08-05 16:11:16 -08:00 ... http://t.co/Z0VeR1hVM9',\n",
              "       'Beirut/Toronto weapons Friendly reminder that the only country to ever use nuclear weapons is the U.S. And it was against civilians. https://t.co/7QrEPylLUK'],\n",
              "      dtype=object)"
            ]
          },
          "metadata": {
            "tags": []
          },
          "execution_count": 366
        }
      ]
    },
    {
      "cell_type": "code",
      "metadata": {
        "id": "odXBHKm5Z9rB",
        "outputId": "054ea5a9-977d-46e5-d42b-961f0e304e03"
      },
      "source": [
        "# Fit model on training set\n",
        "pipe_3.fit(X_train_blcd_p3, Y_train_blcd_p3)"
      ],
      "execution_count": null,
      "outputs": [
        {
          "output_type": "execute_result",
          "data": {
            "text/plain": [
              "Pipeline(memory=None,\n",
              "         steps=[('vectorizer',\n",
              "                 TfidfVectorizer(analyzer='word', binary=False,\n",
              "                                 decode_error='strict',\n",
              "                                 dtype=<class 'numpy.float64'>,\n",
              "                                 encoding='utf-8', input='content',\n",
              "                                 lowercase=True, max_df=1.0, max_features=None,\n",
              "                                 min_df=1, ngram_range=(1, 1), norm='l2',\n",
              "                                 preprocessor=None, smooth_idf=True,\n",
              "                                 stop_words=None, strip_accents=None,\n",
              "                                 sublinear_tf=False,\n",
              "                                 token_patt...\\\\b',\n",
              "                                 tokenizer=<function spacy_tokenizer at 0x1a2b8dd4d0>,\n",
              "                                 use_idf=True, vocabulary=None)),\n",
              "                ('classifier',\n",
              "                 LogisticRegression(C=1.0, class_weight=None, dual=False,\n",
              "                                    fit_intercept=True, intercept_scaling=1,\n",
              "                                    l1_ratio=None, max_iter=1000,\n",
              "                                    multi_class='warn', n_jobs=None,\n",
              "                                    penalty='l2', random_state=72,\n",
              "                                    solver='saga', tol=0.0001, verbose=0,\n",
              "                                    warm_start=False))],\n",
              "         verbose=False)"
            ]
          },
          "metadata": {
            "tags": []
          },
          "execution_count": 367
        }
      ]
    },
    {
      "cell_type": "code",
      "metadata": {
        "id": "5W9RTTb1Z9rB",
        "outputId": "39a5667d-5231-47cd-9632-cafe619a3e58"
      },
      "source": [
        "y_pred_blc_p3 = pipe_3.predict(X_test)\n",
        "y_pred_blc_p3"
      ],
      "execution_count": null,
      "outputs": [
        {
          "output_type": "execute_result",
          "data": {
            "text/plain": [
              "array([0, 0, 1, ..., 1, 0, 1])"
            ]
          },
          "metadata": {
            "tags": []
          },
          "execution_count": 368
        }
      ]
    },
    {
      "cell_type": "code",
      "metadata": {
        "id": "50Qd2vlPZ9rB",
        "outputId": "74ec8382-9da4-4b48-c67f-211f6c384c96"
      },
      "source": [
        "# Evaluate on training set\n",
        "print(f\"ACCURACY SCORE:\\n{pipe_3.score(X_train_blcd_p3, Y_train_blcd_p3):.6f}\")"
      ],
      "execution_count": null,
      "outputs": [
        {
          "output_type": "stream",
          "text": [
            "ACCURACY SCORE:\n",
            "0.900433\n"
          ],
          "name": "stdout"
        }
      ]
    },
    {
      "cell_type": "markdown",
      "metadata": {
        "id": "lsCSvd_LZ9rC"
      },
      "source": [
        "### broadening "
      ]
    },
    {
      "cell_type": "code",
      "metadata": {
        "id": "H0COyrNWZ9rC"
      },
      "source": [
        "from sklearn.utils import resample\n"
      ],
      "execution_count": null,
      "outputs": []
    },
    {
      "cell_type": "markdown",
      "metadata": {
        "id": "kl3_f-U4Z9rD"
      },
      "source": [
        "### Single Predictor"
      ]
    },
    {
      "cell_type": "code",
      "metadata": {
        "id": "syJJVov6Z9rD",
        "outputId": "c7c2e5d0-9e83-42a5-8bc8-bc75df0e60a0"
      },
      "source": [
        "df_train_clean_copy[df_train_clean_copy['target'] == 0]"
      ],
      "execution_count": null,
      "outputs": [
        {
          "output_type": "execute_result",
          "data": {
            "text/html": [
              "<div>\n",
              "<style scoped>\n",
              "    .dataframe tbody tr th:only-of-type {\n",
              "        vertical-align: middle;\n",
              "    }\n",
              "\n",
              "    .dataframe tbody tr th {\n",
              "        vertical-align: top;\n",
              "    }\n",
              "\n",
              "    .dataframe thead th {\n",
              "        text-align: right;\n",
              "    }\n",
              "</style>\n",
              "<table border=\"1\" class=\"dataframe\">\n",
              "  <thead>\n",
              "    <tr style=\"text-align: right;\">\n",
              "      <th></th>\n",
              "      <th>id</th>\n",
              "      <th>target</th>\n",
              "      <th>Text With Keyword</th>\n",
              "    </tr>\n",
              "  </thead>\n",
              "  <tbody>\n",
              "    <tr>\n",
              "      <td>0</td>\n",
              "      <td>3738</td>\n",
              "      <td>0</td>\n",
              "      <td>destroyed Black Eye 9: A space battle occurred...</td>\n",
              "    </tr>\n",
              "    <tr>\n",
              "      <td>1</td>\n",
              "      <td>853</td>\n",
              "      <td>0</td>\n",
              "      <td>bioterror #world FedEx no longer to transport ...</td>\n",
              "    </tr>\n",
              "    <tr>\n",
              "      <td>6</td>\n",
              "      <td>9772</td>\n",
              "      <td>0</td>\n",
              "      <td>trapped Billionaires have a plan to free half ...</td>\n",
              "    </tr>\n",
              "    <tr>\n",
              "      <td>7</td>\n",
              "      <td>10361</td>\n",
              "      <td>0</td>\n",
              "      <td>weapons @JamesMelville Some old testimony of w...</td>\n",
              "    </tr>\n",
              "    <tr>\n",
              "      <td>8</td>\n",
              "      <td>1953</td>\n",
              "      <td>0</td>\n",
              "      <td>burning%20buildings Ali you flew planes and ra...</td>\n",
              "    </tr>\n",
              "    <tr>\n",
              "      <td>...</td>\n",
              "      <td>...</td>\n",
              "      <td>...</td>\n",
              "      <td>...</td>\n",
              "    </tr>\n",
              "    <tr>\n",
              "      <td>6458</td>\n",
              "      <td>2176</td>\n",
              "      <td>0</td>\n",
              "      <td>catastrophic The best part of old baseball man...</td>\n",
              "    </tr>\n",
              "    <tr>\n",
              "      <td>6461</td>\n",
              "      <td>3015</td>\n",
              "      <td>0</td>\n",
              "      <td>death I feel like death</td>\n",
              "    </tr>\n",
              "    <tr>\n",
              "      <td>6462</td>\n",
              "      <td>4709</td>\n",
              "      <td>0</td>\n",
              "      <td>epicentre Epicentre - Cydia Tweak - https://t....</td>\n",
              "    </tr>\n",
              "    <tr>\n",
              "      <td>6464</td>\n",
              "      <td>5310</td>\n",
              "      <td>0</td>\n",
              "      <td>fear Daily Reflections\\nAugust 6\\nDRIVEN\\nDriv...</td>\n",
              "    </tr>\n",
              "    <tr>\n",
              "      <td>6467</td>\n",
              "      <td>3408</td>\n",
              "      <td>0</td>\n",
              "      <td>derail @EmiiliexIrwin Totally agree.She is 23 ...</td>\n",
              "    </tr>\n",
              "  </tbody>\n",
              "</table>\n",
              "<p>3665 rows × 3 columns</p>\n",
              "</div>"
            ],
            "text/plain": [
              "         id  target                                  Text With Keyword\n",
              "0      3738       0  destroyed Black Eye 9: A space battle occurred...\n",
              "1       853       0  bioterror #world FedEx no longer to transport ...\n",
              "6      9772       0  trapped Billionaires have a plan to free half ...\n",
              "7     10361       0  weapons @JamesMelville Some old testimony of w...\n",
              "8      1953       0  burning%20buildings Ali you flew planes and ra...\n",
              "...     ...     ...                                                ...\n",
              "6458   2176       0  catastrophic The best part of old baseball man...\n",
              "6461   3015       0                            death I feel like death\n",
              "6462   4709       0  epicentre Epicentre - Cydia Tweak - https://t....\n",
              "6464   5310       0  fear Daily Reflections\\nAugust 6\\nDRIVEN\\nDriv...\n",
              "6467   3408       0  derail @EmiiliexIrwin Totally agree.She is 23 ...\n",
              "\n",
              "[3665 rows x 3 columns]"
            ]
          },
          "metadata": {
            "tags": []
          },
          "execution_count": 43
        }
      ]
    },
    {
      "cell_type": "code",
      "metadata": {
        "id": "l3rvz2vJZ9rD",
        "outputId": "18abebee-7737-4cba-ec03-6b411924ea4d"
      },
      "source": [
        "df_majority = df_train_clean_copy[df_train_clean_copy['target'] == 0]\n",
        "df_minority = df_train_clean_copy[df_train_clean_copy['target'] == 1]\n",
        " \n",
        "# Upsample minority class\n",
        "df_minority_upsampled = resample(df_minority, \n",
        "                                 replace=True,     # sample with replacement\n",
        "                                 n_samples=3665,    # to match majority class\n",
        "                                 random_state=1234) # reproducible results\n",
        " \n",
        "# Combine majority class with upsampled minority class\n",
        "df_upsampled = pd.concat([df_majority, df_minority_upsampled])\n",
        " \n",
        "# Display new class counts\n",
        "df_upsampled.target.value_counts()\n"
      ],
      "execution_count": null,
      "outputs": [
        {
          "output_type": "execute_result",
          "data": {
            "text/plain": [
              "1    3665\n",
              "0    3665\n",
              "Name: target, dtype: int64"
            ]
          },
          "metadata": {
            "tags": []
          },
          "execution_count": 44
        }
      ]
    },
    {
      "cell_type": "code",
      "metadata": {
        "id": "Nvuyx-yBZ9rE",
        "outputId": "b98ae946-efee-4bfa-a2d2-9217651ad39e"
      },
      "source": [
        "# Create balanced dataframe - base rate = 0.5 around text #single predictor\n",
        "df_upsampled"
      ],
      "execution_count": null,
      "outputs": [
        {
          "output_type": "execute_result",
          "data": {
            "text/html": [
              "<div>\n",
              "<style scoped>\n",
              "    .dataframe tbody tr th:only-of-type {\n",
              "        vertical-align: middle;\n",
              "    }\n",
              "\n",
              "    .dataframe tbody tr th {\n",
              "        vertical-align: top;\n",
              "    }\n",
              "\n",
              "    .dataframe thead th {\n",
              "        text-align: right;\n",
              "    }\n",
              "</style>\n",
              "<table border=\"1\" class=\"dataframe\">\n",
              "  <thead>\n",
              "    <tr style=\"text-align: right;\">\n",
              "      <th></th>\n",
              "      <th>id</th>\n",
              "      <th>target</th>\n",
              "      <th>Text With Keyword</th>\n",
              "    </tr>\n",
              "  </thead>\n",
              "  <tbody>\n",
              "    <tr>\n",
              "      <td>0</td>\n",
              "      <td>3738</td>\n",
              "      <td>0</td>\n",
              "      <td>destroyed Black Eye 9: A space battle occurred...</td>\n",
              "    </tr>\n",
              "    <tr>\n",
              "      <td>1</td>\n",
              "      <td>853</td>\n",
              "      <td>0</td>\n",
              "      <td>bioterror #world FedEx no longer to transport ...</td>\n",
              "    </tr>\n",
              "    <tr>\n",
              "      <td>6</td>\n",
              "      <td>9772</td>\n",
              "      <td>0</td>\n",
              "      <td>trapped Billionaires have a plan to free half ...</td>\n",
              "    </tr>\n",
              "    <tr>\n",
              "      <td>7</td>\n",
              "      <td>10361</td>\n",
              "      <td>0</td>\n",
              "      <td>weapons @JamesMelville Some old testimony of w...</td>\n",
              "    </tr>\n",
              "    <tr>\n",
              "      <td>8</td>\n",
              "      <td>1953</td>\n",
              "      <td>0</td>\n",
              "      <td>burning%20buildings Ali you flew planes and ra...</td>\n",
              "    </tr>\n",
              "    <tr>\n",
              "      <td>...</td>\n",
              "      <td>...</td>\n",
              "      <td>...</td>\n",
              "      <td>...</td>\n",
              "    </tr>\n",
              "    <tr>\n",
              "      <td>2671</td>\n",
              "      <td>982</td>\n",
              "      <td>1</td>\n",
              "      <td>blazing Montgomery come for the blazing hot we...</td>\n",
              "    </tr>\n",
              "    <tr>\n",
              "      <td>2451</td>\n",
              "      <td>7560</td>\n",
              "      <td>1</td>\n",
              "      <td>outbreak Families to sue over Legionnaires: Mo...</td>\n",
              "    </tr>\n",
              "    <tr>\n",
              "      <td>6350</td>\n",
              "      <td>7878</td>\n",
              "      <td>1</td>\n",
              "      <td>quarantined Alabama firefighters quarantined a...</td>\n",
              "    </tr>\n",
              "    <tr>\n",
              "      <td>865</td>\n",
              "      <td>7203</td>\n",
              "      <td>1</td>\n",
              "      <td>natural%20disaster Some people are really natu...</td>\n",
              "    </tr>\n",
              "    <tr>\n",
              "      <td>4615</td>\n",
              "      <td>5177</td>\n",
              "      <td>1</td>\n",
              "      <td>fatalities @unsuckdcmetro minor train leaves r...</td>\n",
              "    </tr>\n",
              "  </tbody>\n",
              "</table>\n",
              "<p>7330 rows × 3 columns</p>\n",
              "</div>"
            ],
            "text/plain": [
              "         id  target                                  Text With Keyword\n",
              "0      3738       0  destroyed Black Eye 9: A space battle occurred...\n",
              "1       853       0  bioterror #world FedEx no longer to transport ...\n",
              "6      9772       0  trapped Billionaires have a plan to free half ...\n",
              "7     10361       0  weapons @JamesMelville Some old testimony of w...\n",
              "8      1953       0  burning%20buildings Ali you flew planes and ra...\n",
              "...     ...     ...                                                ...\n",
              "2671    982       1  blazing Montgomery come for the blazing hot we...\n",
              "2451   7560       1  outbreak Families to sue over Legionnaires: Mo...\n",
              "6350   7878       1  quarantined Alabama firefighters quarantined a...\n",
              "865    7203       1  natural%20disaster Some people are really natu...\n",
              "4615   5177       1  fatalities @unsuckdcmetro minor train leaves r...\n",
              "\n",
              "[7330 rows x 3 columns]"
            ]
          },
          "metadata": {
            "tags": []
          },
          "execution_count": 45
        }
      ]
    },
    {
      "cell_type": "code",
      "metadata": {
        "id": "9GxweMOjZ9rE",
        "outputId": "7e07dec7-0d25-4c9f-c241-4e1046b8897d"
      },
      "source": [
        "X_train_blcd_p11 = df_upsampled['text'].values\n",
        "Y_train_blcd_p11 = df_upsampled['target'].values\n",
        "X_train_blcd_p11"
      ],
      "execution_count": null,
      "outputs": [
        {
          "output_type": "execute_result",
          "data": {
            "text/plain": [
              "array(['Black Eye 9: A space battle occurred at Star O784 involving 3 fleets totaling 3945 ships with 17 destroyed',\n",
              "       '#world FedEx no longer to transport bioterror germs in wake of anthrax lab mishaps  http://t.co/5zDbTktwW7',\n",
              "       'Billionaires have a plan to free half a billion dollars trapped in Venezuela for two years @BlakeSchmidt reports.\\n\\nhttp://t.co/gbqTc7Sp9C',\n",
              "       ...,\n",
              "       'Alabama firefighters quarantined after possible Ebola exposure http://t.co/hzpX6vAQPZ reports http://t.co/L4W0PCorbs',\n",
              "       'Some people are really natural disaster too',\n",
              "       '@unsuckdcmetro minor train leaves rails. Major = 1/13/82 Smithsonian Interlocking derails &amp; crashes into barrier wall w/ fatalities.'],\n",
              "      dtype=object)"
            ]
          },
          "metadata": {
            "tags": []
          },
          "execution_count": 258
        }
      ]
    },
    {
      "cell_type": "code",
      "metadata": {
        "id": "r2DuepbaZ9rF",
        "outputId": "228b6626-537a-4264-c094-3fa5393f288f"
      },
      "source": [
        "Y_train_blcd_p11"
      ],
      "execution_count": null,
      "outputs": [
        {
          "output_type": "execute_result",
          "data": {
            "text/plain": [
              "array([0, 0, 0, ..., 1, 1, 1])"
            ]
          },
          "metadata": {
            "tags": []
          },
          "execution_count": 259
        }
      ]
    },
    {
      "cell_type": "code",
      "metadata": {
        "id": "DXI3wlmjZ9rF",
        "outputId": "d69a4485-0afc-48bc-97ac-f35e57cd6979"
      },
      "source": [
        "pipe_3.fit(X_train_blcd_p11, Y_train_blcd_p11)"
      ],
      "execution_count": null,
      "outputs": [
        {
          "output_type": "execute_result",
          "data": {
            "text/plain": [
              "Pipeline(memory=None,\n",
              "         steps=[('vectorizer',\n",
              "                 TfidfVectorizer(analyzer='word', binary=False,\n",
              "                                 decode_error='strict',\n",
              "                                 dtype=<class 'numpy.float64'>,\n",
              "                                 encoding='utf-8', input='content',\n",
              "                                 lowercase=True, max_df=1.0, max_features=None,\n",
              "                                 min_df=1, ngram_range=(1, 1), norm='l2',\n",
              "                                 preprocessor=None, smooth_idf=True,\n",
              "                                 stop_words=None, strip_accents=None,\n",
              "                                 sublinear_tf=False,\n",
              "                                 token_patt...\\\\b',\n",
              "                                 tokenizer=<function spacy_tokenizer at 0x1a2b8dd4d0>,\n",
              "                                 use_idf=True, vocabulary=None)),\n",
              "                ('classifier',\n",
              "                 LogisticRegression(C=1.0, class_weight=None, dual=False,\n",
              "                                    fit_intercept=True, intercept_scaling=1,\n",
              "                                    l1_ratio=None, max_iter=1000,\n",
              "                                    multi_class='warn', n_jobs=None,\n",
              "                                    penalty='l2', random_state=72,\n",
              "                                    solver='saga', tol=0.0001, verbose=0,\n",
              "                                    warm_start=False))],\n",
              "         verbose=False)"
            ]
          },
          "metadata": {
            "tags": []
          },
          "execution_count": 260
        }
      ]
    },
    {
      "cell_type": "code",
      "metadata": {
        "id": "EEBuXN2DZ9rF",
        "outputId": "ddaa8910-6be1-4132-87ce-f90edf4a76b3"
      },
      "source": [
        "y_pred_33 = pipe_3.predict(X_test)\n",
        "y_pred_33"
      ],
      "execution_count": null,
      "outputs": [
        {
          "output_type": "execute_result",
          "data": {
            "text/plain": [
              "array([0, 0, 1, ..., 1, 0, 1])"
            ]
          },
          "metadata": {
            "tags": []
          },
          "execution_count": 261
        }
      ]
    },
    {
      "cell_type": "code",
      "metadata": {
        "id": "oQufsBXDZ9rG",
        "outputId": "8e06057e-7732-4040-c359-7c99e2e930e3"
      },
      "source": [
        "# Evaluate on training set\n",
        "print(f\"ACCURACY SCORE:\\n{pipe_3.score(X_train_blcd_p11, Y_train_blcd_p11):.6f}\")"
      ],
      "execution_count": null,
      "outputs": [
        {
          "output_type": "stream",
          "text": [
            "ACCURACY SCORE:\n",
            "0.924829\n"
          ],
          "name": "stdout"
        }
      ]
    },
    {
      "cell_type": "markdown",
      "metadata": {
        "id": "uHXOW3baZ9rH"
      },
      "source": [
        "### Two Predictors: Keyword"
      ]
    },
    {
      "cell_type": "code",
      "metadata": {
        "id": "kEMha5E2Z9rH",
        "outputId": "afa5541e-af61-46fa-8e17-f0b648bfcf20"
      },
      "source": [
        "df_train_copy_1[df_train_copy_1['target'] == 0]"
      ],
      "execution_count": null,
      "outputs": [
        {
          "output_type": "execute_result",
          "data": {
            "text/html": [
              "<div>\n",
              "<style scoped>\n",
              "    .dataframe tbody tr th:only-of-type {\n",
              "        vertical-align: middle;\n",
              "    }\n",
              "\n",
              "    .dataframe tbody tr th {\n",
              "        vertical-align: top;\n",
              "    }\n",
              "\n",
              "    .dataframe thead th {\n",
              "        text-align: right;\n",
              "    }\n",
              "</style>\n",
              "<table border=\"1\" class=\"dataframe\">\n",
              "  <thead>\n",
              "    <tr style=\"text-align: right;\">\n",
              "      <th></th>\n",
              "      <th>id</th>\n",
              "      <th>target</th>\n",
              "      <th>Text With Keyword</th>\n",
              "    </tr>\n",
              "  </thead>\n",
              "  <tbody>\n",
              "    <tr>\n",
              "      <td>0</td>\n",
              "      <td>3738</td>\n",
              "      <td>0</td>\n",
              "      <td>destroyed Black Eye 9: A space battle occurred...</td>\n",
              "    </tr>\n",
              "    <tr>\n",
              "      <td>1</td>\n",
              "      <td>853</td>\n",
              "      <td>0</td>\n",
              "      <td>bioterror #world FedEx no longer to transport ...</td>\n",
              "    </tr>\n",
              "    <tr>\n",
              "      <td>6</td>\n",
              "      <td>9772</td>\n",
              "      <td>0</td>\n",
              "      <td>trapped Billionaires have a plan to free half ...</td>\n",
              "    </tr>\n",
              "    <tr>\n",
              "      <td>7</td>\n",
              "      <td>10361</td>\n",
              "      <td>0</td>\n",
              "      <td>weapons @JamesMelville Some old testimony of w...</td>\n",
              "    </tr>\n",
              "    <tr>\n",
              "      <td>8</td>\n",
              "      <td>1953</td>\n",
              "      <td>0</td>\n",
              "      <td>burning%20buildings Ali you flew planes and ra...</td>\n",
              "    </tr>\n",
              "    <tr>\n",
              "      <td>...</td>\n",
              "      <td>...</td>\n",
              "      <td>...</td>\n",
              "      <td>...</td>\n",
              "    </tr>\n",
              "    <tr>\n",
              "      <td>6458</td>\n",
              "      <td>2176</td>\n",
              "      <td>0</td>\n",
              "      <td>catastrophic The best part of old baseball man...</td>\n",
              "    </tr>\n",
              "    <tr>\n",
              "      <td>6461</td>\n",
              "      <td>3015</td>\n",
              "      <td>0</td>\n",
              "      <td>death I feel like death</td>\n",
              "    </tr>\n",
              "    <tr>\n",
              "      <td>6462</td>\n",
              "      <td>4709</td>\n",
              "      <td>0</td>\n",
              "      <td>epicentre Epicentre - Cydia Tweak - https://t....</td>\n",
              "    </tr>\n",
              "    <tr>\n",
              "      <td>6464</td>\n",
              "      <td>5310</td>\n",
              "      <td>0</td>\n",
              "      <td>fear Daily Reflections\\nAugust 6\\nDRIVEN\\nDriv...</td>\n",
              "    </tr>\n",
              "    <tr>\n",
              "      <td>6467</td>\n",
              "      <td>3408</td>\n",
              "      <td>0</td>\n",
              "      <td>derail @EmiiliexIrwin Totally agree.She is 23 ...</td>\n",
              "    </tr>\n",
              "  </tbody>\n",
              "</table>\n",
              "<p>3665 rows × 3 columns</p>\n",
              "</div>"
            ],
            "text/plain": [
              "         id  target                                  Text With Keyword\n",
              "0      3738       0  destroyed Black Eye 9: A space battle occurred...\n",
              "1       853       0  bioterror #world FedEx no longer to transport ...\n",
              "6      9772       0  trapped Billionaires have a plan to free half ...\n",
              "7     10361       0  weapons @JamesMelville Some old testimony of w...\n",
              "8      1953       0  burning%20buildings Ali you flew planes and ra...\n",
              "...     ...     ...                                                ...\n",
              "6458   2176       0  catastrophic The best part of old baseball man...\n",
              "6461   3015       0                            death I feel like death\n",
              "6462   4709       0  epicentre Epicentre - Cydia Tweak - https://t....\n",
              "6464   5310       0  fear Daily Reflections\\nAugust 6\\nDRIVEN\\nDriv...\n",
              "6467   3408       0  derail @EmiiliexIrwin Totally agree.She is 23 ...\n",
              "\n",
              "[3665 rows x 3 columns]"
            ]
          },
          "metadata": {
            "tags": []
          },
          "execution_count": 46
        }
      ]
    },
    {
      "cell_type": "code",
      "metadata": {
        "id": "k7VdgGkYZ9rH",
        "outputId": "b4d6a30a-c090-4550-9958-8afd22b0d88d"
      },
      "source": [
        "df_majority_p2 = df_train_copy_1[df_train_copy_1['target'] == 0]\n",
        "df_minority_p2 = df_train_copy_1[df_train_copy_1['target'] == 1]\n",
        " \n",
        "# Upsample minority class\n",
        "df_minority_upsampled_1 = resample(df_minority_p2, \n",
        "                                 replace=True,     # sample with replacement\n",
        "                                 n_samples=3665,    # to match majority class\n",
        "                                 random_state=1234) # reproducible results\n",
        " \n",
        "# Combine majority class with upsampled minority class\n",
        "df_upsampled_1 = pd.concat([df_majority_p2, df_minority_upsampled_1])\n",
        " \n",
        "# Display new class counts\n",
        "df_upsampled_1.target.value_counts()\n",
        "\n"
      ],
      "execution_count": null,
      "outputs": [
        {
          "output_type": "execute_result",
          "data": {
            "text/plain": [
              "1    3665\n",
              "0    3665\n",
              "Name: target, dtype: int64"
            ]
          },
          "metadata": {
            "tags": []
          },
          "execution_count": 47
        }
      ]
    },
    {
      "cell_type": "code",
      "metadata": {
        "id": "0OR-uBQCZ9rI",
        "outputId": "d108df43-e279-4bc2-88c3-78329d5f35cd"
      },
      "source": [
        "X_train_upblcd_p2 = df_upsampled_1['Text With Keyword'].values\n",
        "Y_train_upblcd_p2 = df_upsampled_1['target'].values\n",
        "X_train_upblcd_p2"
      ],
      "execution_count": null,
      "outputs": [
        {
          "output_type": "execute_result",
          "data": {
            "text/plain": [
              "array(['destroyed Black Eye 9: A space battle occurred at Star O784 involving 3 fleets totaling 3945 ships with 17 destroyed',\n",
              "       'bioterror #world FedEx no longer to transport bioterror germs in wake of anthrax lab mishaps  http://t.co/5zDbTktwW7',\n",
              "       'trapped Billionaires have a plan to free half a billion dollars trapped in Venezuela for two years @BlakeSchmidt reports.\\n\\nhttp://t.co/gbqTc7Sp9C',\n",
              "       ...,\n",
              "       'quarantined Alabama firefighters quarantined after possible Ebola exposure http://t.co/hzpX6vAQPZ reports http://t.co/L4W0PCorbs',\n",
              "       'natural%20disaster Some people are really natural disaster too',\n",
              "       'fatalities @unsuckdcmetro minor train leaves rails. Major = 1/13/82 Smithsonian Interlocking derails &amp; crashes into barrier wall w/ fatalities.'],\n",
              "      dtype=object)"
            ]
          },
          "metadata": {
            "tags": []
          },
          "execution_count": 375
        }
      ]
    },
    {
      "cell_type": "code",
      "metadata": {
        "id": "w4cP4CyqZ9rJ",
        "outputId": "641baa72-b7b4-4b27-95fd-983fd75ac072"
      },
      "source": [
        "\n",
        "# Fit model on training set\n",
        "pipe_3.fit(X_train_upblcd_p2, Y_train_upblcd_p2)"
      ],
      "execution_count": null,
      "outputs": [
        {
          "output_type": "execute_result",
          "data": {
            "text/plain": [
              "Pipeline(memory=None,\n",
              "         steps=[('vectorizer',\n",
              "                 TfidfVectorizer(analyzer='word', binary=False,\n",
              "                                 decode_error='strict',\n",
              "                                 dtype=<class 'numpy.float64'>,\n",
              "                                 encoding='utf-8', input='content',\n",
              "                                 lowercase=True, max_df=1.0, max_features=None,\n",
              "                                 min_df=1, ngram_range=(1, 1), norm='l2',\n",
              "                                 preprocessor=None, smooth_idf=True,\n",
              "                                 stop_words=None, strip_accents=None,\n",
              "                                 sublinear_tf=False,\n",
              "                                 token_patt...\\\\b',\n",
              "                                 tokenizer=<function spacy_tokenizer at 0x1a2b8dd4d0>,\n",
              "                                 use_idf=True, vocabulary=None)),\n",
              "                ('classifier',\n",
              "                 LogisticRegression(C=1.0, class_weight=None, dual=False,\n",
              "                                    fit_intercept=True, intercept_scaling=1,\n",
              "                                    l1_ratio=None, max_iter=1000,\n",
              "                                    multi_class='warn', n_jobs=None,\n",
              "                                    penalty='l2', random_state=72,\n",
              "                                    solver='saga', tol=0.0001, verbose=0,\n",
              "                                    warm_start=False))],\n",
              "         verbose=False)"
            ]
          },
          "metadata": {
            "tags": []
          },
          "execution_count": 376
        }
      ]
    },
    {
      "cell_type": "code",
      "metadata": {
        "id": "k__1U4fmZ9rL",
        "outputId": "a57ac987-9e62-4f94-f5f9-b49d11c5cca7"
      },
      "source": [
        "y_pred_up_blc = pipe_3.predict(X_test)\n",
        "y_pred_up_blc"
      ],
      "execution_count": null,
      "outputs": [
        {
          "output_type": "execute_result",
          "data": {
            "text/plain": [
              "array([0, 0, 1, ..., 1, 0, 1])"
            ]
          },
          "metadata": {
            "tags": []
          },
          "execution_count": 377
        }
      ]
    },
    {
      "cell_type": "code",
      "metadata": {
        "id": "aEs5DAnQZ9rM",
        "outputId": "3dad5dd9-0c7f-46b6-ba8c-a0a70664c9d5"
      },
      "source": [
        "# Evaluate on training set\n",
        "print(f\"ACCURACY SCORE:\\n{pipe_3.score(X_train_upblcd_p2, Y_train_upblcd_p2):.6f}\")"
      ],
      "execution_count": null,
      "outputs": [
        {
          "output_type": "stream",
          "text": [
            "ACCURACY SCORE:\n",
            "0.907913\n"
          ],
          "name": "stdout"
        }
      ]
    },
    {
      "cell_type": "markdown",
      "metadata": {
        "id": "-HrGi05ZZ9rN"
      },
      "source": [
        "### Two Predictors: location"
      ]
    },
    {
      "cell_type": "code",
      "metadata": {
        "id": "bVgVj1c7Z9rN",
        "outputId": "9332773f-be3f-47c1-9173-2a54c6c07fff"
      },
      "source": [
        "df_train_copy_3[df_train_copy_3['target'] == 0]"
      ],
      "execution_count": null,
      "outputs": [
        {
          "output_type": "execute_result",
          "data": {
            "text/html": [
              "<div>\n",
              "<style scoped>\n",
              "    .dataframe tbody tr th:only-of-type {\n",
              "        vertical-align: middle;\n",
              "    }\n",
              "\n",
              "    .dataframe tbody tr th {\n",
              "        vertical-align: top;\n",
              "    }\n",
              "\n",
              "    .dataframe thead th {\n",
              "        text-align: right;\n",
              "    }\n",
              "</style>\n",
              "<table border=\"1\" class=\"dataframe\">\n",
              "  <thead>\n",
              "    <tr style=\"text-align: right;\">\n",
              "      <th></th>\n",
              "      <th>id</th>\n",
              "      <th>keyword</th>\n",
              "      <th>location</th>\n",
              "      <th>text</th>\n",
              "      <th>target</th>\n",
              "      <th>Text With location</th>\n",
              "    </tr>\n",
              "  </thead>\n",
              "  <tbody>\n",
              "    <tr>\n",
              "      <td>0</td>\n",
              "      <td>3738</td>\n",
              "      <td>destroyed</td>\n",
              "      <td>USA</td>\n",
              "      <td>Black Eye 9: A space battle occurred at Star O...</td>\n",
              "      <td>0</td>\n",
              "      <td>USA Black Eye 9: A space battle occurred at St...</td>\n",
              "    </tr>\n",
              "    <tr>\n",
              "      <td>6</td>\n",
              "      <td>9772</td>\n",
              "      <td>trapped</td>\n",
              "      <td>New York City</td>\n",
              "      <td>Billionaires have a plan to free half a billio...</td>\n",
              "      <td>0</td>\n",
              "      <td>New York City Billionaires have a plan to free...</td>\n",
              "    </tr>\n",
              "    <tr>\n",
              "      <td>7</td>\n",
              "      <td>10361</td>\n",
              "      <td>weapons</td>\n",
              "      <td>Multinational *****</td>\n",
              "      <td>@JamesMelville Some old testimony of weapons u...</td>\n",
              "      <td>0</td>\n",
              "      <td>Multinational ***** @JamesMelville Some old te...</td>\n",
              "    </tr>\n",
              "    <tr>\n",
              "      <td>8</td>\n",
              "      <td>1953</td>\n",
              "      <td>burning%20buildings</td>\n",
              "      <td>Los Angeles</td>\n",
              "      <td>Ali you flew planes and ran into burning build...</td>\n",
              "      <td>0</td>\n",
              "      <td>Los Angeles Ali you flew planes and ran into b...</td>\n",
              "    </tr>\n",
              "    <tr>\n",
              "      <td>11</td>\n",
              "      <td>7725</td>\n",
              "      <td>panicking</td>\n",
              "      <td>UK</td>\n",
              "      <td>My dad is panicking as my weight loss means he...</td>\n",
              "      <td>0</td>\n",
              "      <td>UK My dad is panicking as my weight loss means...</td>\n",
              "    </tr>\n",
              "    <tr>\n",
              "      <td>...</td>\n",
              "      <td>...</td>\n",
              "      <td>...</td>\n",
              "      <td>...</td>\n",
              "      <td>...</td>\n",
              "      <td>...</td>\n",
              "      <td>...</td>\n",
              "    </tr>\n",
              "    <tr>\n",
              "      <td>6450</td>\n",
              "      <td>8968</td>\n",
              "      <td>storm</td>\n",
              "      <td>Johns Creek, GA</td>\n",
              "      <td>this storm????</td>\n",
              "      <td>0</td>\n",
              "      <td>Johns Creek, GA this storm????</td>\n",
              "    </tr>\n",
              "    <tr>\n",
              "      <td>6452</td>\n",
              "      <td>6410</td>\n",
              "      <td>hurricane</td>\n",
              "      <td>Somewhere Powerbraking A Chevy</td>\n",
              "      <td>@Freegeezy17 you stay in Houston?</td>\n",
              "      <td>0</td>\n",
              "      <td>Somewhere Powerbraking A Chevy @Freegeezy17 yo...</td>\n",
              "    </tr>\n",
              "    <tr>\n",
              "      <td>6457</td>\n",
              "      <td>3604</td>\n",
              "      <td>desolation</td>\n",
              "      <td>New York</td>\n",
              "      <td>The Hobbit Desolation of Smaug Thranduil 4' sc...</td>\n",
              "      <td>0</td>\n",
              "      <td>New York The Hobbit Desolation of Smaug Thrand...</td>\n",
              "    </tr>\n",
              "    <tr>\n",
              "      <td>6458</td>\n",
              "      <td>2176</td>\n",
              "      <td>catastrophic</td>\n",
              "      <td>San Jose, CA</td>\n",
              "      <td>The best part of old baseball managers wearing...</td>\n",
              "      <td>0</td>\n",
              "      <td>San Jose, CA The best part of old baseball man...</td>\n",
              "    </tr>\n",
              "    <tr>\n",
              "      <td>6464</td>\n",
              "      <td>5310</td>\n",
              "      <td>fear</td>\n",
              "      <td>USA</td>\n",
              "      <td>Daily Reflections\\nAugust 6\\nDRIVEN\\nDriven by...</td>\n",
              "      <td>0</td>\n",
              "      <td>USA Daily Reflections\\nAugust 6\\nDRIVEN\\nDrive...</td>\n",
              "    </tr>\n",
              "  </tbody>\n",
              "</table>\n",
              "<p>2464 rows × 6 columns</p>\n",
              "</div>"
            ],
            "text/plain": [
              "         id              keyword                        location  \\\n",
              "0      3738            destroyed                             USA   \n",
              "6      9772              trapped                   New York City   \n",
              "7     10361              weapons             Multinational *****   \n",
              "8      1953  burning%20buildings                     Los Angeles   \n",
              "11     7725            panicking                              UK   \n",
              "...     ...                  ...                             ...   \n",
              "6450   8968                storm                 Johns Creek, GA   \n",
              "6452   6410            hurricane  Somewhere Powerbraking A Chevy   \n",
              "6457   3604           desolation                        New York   \n",
              "6458   2176         catastrophic                    San Jose, CA   \n",
              "6464   5310                 fear                             USA   \n",
              "\n",
              "                                                   text  target  \\\n",
              "0     Black Eye 9: A space battle occurred at Star O...       0   \n",
              "6     Billionaires have a plan to free half a billio...       0   \n",
              "7     @JamesMelville Some old testimony of weapons u...       0   \n",
              "8     Ali you flew planes and ran into burning build...       0   \n",
              "11    My dad is panicking as my weight loss means he...       0   \n",
              "...                                                 ...     ...   \n",
              "6450                                     this storm????       0   \n",
              "6452                  @Freegeezy17 you stay in Houston?       0   \n",
              "6457  The Hobbit Desolation of Smaug Thranduil 4' sc...       0   \n",
              "6458  The best part of old baseball managers wearing...       0   \n",
              "6464  Daily Reflections\\nAugust 6\\nDRIVEN\\nDriven by...       0   \n",
              "\n",
              "                                     Text With location  \n",
              "0     USA Black Eye 9: A space battle occurred at St...  \n",
              "6     New York City Billionaires have a plan to free...  \n",
              "7     Multinational ***** @JamesMelville Some old te...  \n",
              "8     Los Angeles Ali you flew planes and ran into b...  \n",
              "11    UK My dad is panicking as my weight loss means...  \n",
              "...                                                 ...  \n",
              "6450                     Johns Creek, GA this storm????  \n",
              "6452  Somewhere Powerbraking A Chevy @Freegeezy17 yo...  \n",
              "6457  New York The Hobbit Desolation of Smaug Thrand...  \n",
              "6458  San Jose, CA The best part of old baseball man...  \n",
              "6464  USA Daily Reflections\\nAugust 6\\nDRIVEN\\nDrive...  \n",
              "\n",
              "[2464 rows x 6 columns]"
            ]
          },
          "metadata": {
            "tags": []
          },
          "execution_count": 55
        }
      ]
    },
    {
      "cell_type": "code",
      "metadata": {
        "id": "0lwLCnKuZ9rO",
        "outputId": "a7d2d239-385a-4873-989f-1561cfd184ea"
      },
      "source": [
        "df_majority_p2_loc = df_train_copy_3[df_train_copy_3['target'] == 0]\n",
        "df_minority_p2_loc = df_train_copy_3[df_train_copy_3['target'] == 1]\n",
        " \n",
        "# Upsample minority class\n",
        "df_minority_upsampled_2 = resample(df_minority_p2_loc, \n",
        "                                 replace=True,     # sample with replacement\n",
        "                                 n_samples=2464,    # to match majority class\n",
        "                                 random_state=1234) # reproducible results\n",
        " \n",
        "# Combine majority class with upsampled minority class\n",
        "df_upsampled_2 = pd.concat([df_majority_p2_loc, df_minority_upsampled_2])\n",
        " \n",
        "# Display new class counts\n",
        "df_upsampled_2.target.value_counts()\n",
        "\n",
        "\n"
      ],
      "execution_count": null,
      "outputs": [
        {
          "output_type": "execute_result",
          "data": {
            "text/plain": [
              "1    2464\n",
              "0    2464\n",
              "Name: target, dtype: int64"
            ]
          },
          "metadata": {
            "tags": []
          },
          "execution_count": 49
        }
      ]
    },
    {
      "cell_type": "code",
      "metadata": {
        "id": "V9JFnDbrZ9rO",
        "outputId": "e852bfb1-dc81-4639-f164-0bc38d1ebc4f"
      },
      "source": [
        "X_train_upblcd_p2_loc = df_upsampled_2['Text With location'].values\n",
        "Y_train_upblcd_p2_loc = df_upsampled_2['target'].values\n",
        "X_train_upblcd_p2_loc"
      ],
      "execution_count": null,
      "outputs": [
        {
          "output_type": "execute_result",
          "data": {
            "text/plain": [
              "array(['USA Black Eye 9: A space battle occurred at Star O784 involving 3 fleets totaling 3945 ships with 17 destroyed',\n",
              "       'New York City Billionaires have a plan to free half a billion dollars trapped in Venezuela for two years @BlakeSchmidt reports.\\n\\nhttp://t.co/gbqTc7Sp9C',\n",
              "       'Multinational ***** @JamesMelville Some old testimony of weapons used to promote conflicts\\nTactics - corruption &amp; infiltration of groups\\nhttps://t.co/cyU8zxw1oH',\n",
              "       ...,\n",
              "       'Zimbabwe \\x89Û÷Good Samaritans\\x89Ûª shot in horror hijacking http://t.co/V5yUUALoqw #263Chat #Twimbos ZimpapersViews',\n",
              "       \"Dil's Campsite @Dead_Dreamer15 ...because if it were on fire that'd be a safety hazard\",\n",
              "       'oman muscat al seeb  I liked a @YouTube video http://t.co/43sXG9Z6xh TREMOR IS NO JOKE!! [TREMOR DLC] [FATALITIES/X-RAY]'],\n",
              "      dtype=object)"
            ]
          },
          "metadata": {
            "tags": []
          },
          "execution_count": 383
        }
      ]
    },
    {
      "cell_type": "code",
      "metadata": {
        "id": "Tci_pOnYZ9rP",
        "outputId": "310676fc-35d3-4196-cd1f-6b1c6539b4fe"
      },
      "source": [
        "\n",
        "# Fit model on training set\n",
        "pipe_3.fit(X_train_upblcd_p2_loc, Y_train_upblcd_p2_loc)"
      ],
      "execution_count": null,
      "outputs": [
        {
          "output_type": "execute_result",
          "data": {
            "text/plain": [
              "Pipeline(memory=None,\n",
              "         steps=[('vectorizer',\n",
              "                 TfidfVectorizer(analyzer='word', binary=False,\n",
              "                                 decode_error='strict',\n",
              "                                 dtype=<class 'numpy.float64'>,\n",
              "                                 encoding='utf-8', input='content',\n",
              "                                 lowercase=True, max_df=1.0, max_features=None,\n",
              "                                 min_df=1, ngram_range=(1, 1), norm='l2',\n",
              "                                 preprocessor=None, smooth_idf=True,\n",
              "                                 stop_words=None, strip_accents=None,\n",
              "                                 sublinear_tf=False,\n",
              "                                 token_patt...\\\\b',\n",
              "                                 tokenizer=<function spacy_tokenizer at 0x1a2b8dd4d0>,\n",
              "                                 use_idf=True, vocabulary=None)),\n",
              "                ('classifier',\n",
              "                 LogisticRegression(C=1.0, class_weight=None, dual=False,\n",
              "                                    fit_intercept=True, intercept_scaling=1,\n",
              "                                    l1_ratio=None, max_iter=1000,\n",
              "                                    multi_class='warn', n_jobs=None,\n",
              "                                    penalty='l2', random_state=72,\n",
              "                                    solver='saga', tol=0.0001, verbose=0,\n",
              "                                    warm_start=False))],\n",
              "         verbose=False)"
            ]
          },
          "metadata": {
            "tags": []
          },
          "execution_count": 384
        }
      ]
    },
    {
      "cell_type": "code",
      "metadata": {
        "id": "_3xWSoHQZ9rP",
        "outputId": "4b0ce0fd-3368-4ebf-e100-61780729665b"
      },
      "source": [
        "y_pred_up_blc = pipe_3.predict(X_test)\n",
        "y_pred_up_blc"
      ],
      "execution_count": null,
      "outputs": [
        {
          "output_type": "execute_result",
          "data": {
            "text/plain": [
              "array([0, 0, 1, ..., 1, 0, 1])"
            ]
          },
          "metadata": {
            "tags": []
          },
          "execution_count": 386
        }
      ]
    },
    {
      "cell_type": "code",
      "metadata": {
        "id": "Sw8vGV4KZ9rQ",
        "outputId": "ac82330f-f947-44a4-e0ad-61773102be0f"
      },
      "source": [
        "# Evaluate on training set\n",
        "print(f\"ACCURACY SCORE:\\n{pipe_3.score(X_train_upblcd_p2_loc, Y_train_upblcd_p2_loc):.6f}\")"
      ],
      "execution_count": null,
      "outputs": [
        {
          "output_type": "stream",
          "text": [
            "ACCURACY SCORE:\n",
            "0.937297\n"
          ],
          "name": "stdout"
        }
      ]
    },
    {
      "cell_type": "markdown",
      "metadata": {
        "id": "xZKR8l08Z9rQ"
      },
      "source": [
        "### Three Predictors"
      ]
    },
    {
      "cell_type": "code",
      "metadata": {
        "id": "YKxEDV2IZ9rQ",
        "outputId": "0e02d88c-e08d-4bad-a2ab-c7387be44c73"
      },
      "source": [
        "df_train_copy_2[df_train_copy_2['target'] == 0]"
      ],
      "execution_count": null,
      "outputs": [
        {
          "output_type": "execute_result",
          "data": {
            "text/html": [
              "<div>\n",
              "<style scoped>\n",
              "    .dataframe tbody tr th:only-of-type {\n",
              "        vertical-align: middle;\n",
              "    }\n",
              "\n",
              "    .dataframe tbody tr th {\n",
              "        vertical-align: top;\n",
              "    }\n",
              "\n",
              "    .dataframe thead th {\n",
              "        text-align: right;\n",
              "    }\n",
              "</style>\n",
              "<table border=\"1\" class=\"dataframe\">\n",
              "  <thead>\n",
              "    <tr style=\"text-align: right;\">\n",
              "      <th></th>\n",
              "      <th>id</th>\n",
              "      <th>target</th>\n",
              "      <th>Text With Keyword and Location</th>\n",
              "    </tr>\n",
              "  </thead>\n",
              "  <tbody>\n",
              "    <tr>\n",
              "      <td>0</td>\n",
              "      <td>3738</td>\n",
              "      <td>0</td>\n",
              "      <td>USA destroyed Black Eye 9: A space battle occu...</td>\n",
              "    </tr>\n",
              "    <tr>\n",
              "      <td>6</td>\n",
              "      <td>9772</td>\n",
              "      <td>0</td>\n",
              "      <td>New York City trapped Billionaires have a plan...</td>\n",
              "    </tr>\n",
              "    <tr>\n",
              "      <td>7</td>\n",
              "      <td>10361</td>\n",
              "      <td>0</td>\n",
              "      <td>Multinational ***** weapons @JamesMelville Som...</td>\n",
              "    </tr>\n",
              "    <tr>\n",
              "      <td>8</td>\n",
              "      <td>1953</td>\n",
              "      <td>0</td>\n",
              "      <td>Los Angeles burning%20buildings Ali you flew p...</td>\n",
              "    </tr>\n",
              "    <tr>\n",
              "      <td>11</td>\n",
              "      <td>7725</td>\n",
              "      <td>0</td>\n",
              "      <td>UK panicking My dad is panicking as my weight ...</td>\n",
              "    </tr>\n",
              "    <tr>\n",
              "      <td>...</td>\n",
              "      <td>...</td>\n",
              "      <td>...</td>\n",
              "      <td>...</td>\n",
              "    </tr>\n",
              "    <tr>\n",
              "      <td>6450</td>\n",
              "      <td>8968</td>\n",
              "      <td>0</td>\n",
              "      <td>Johns Creek, GA storm this storm????</td>\n",
              "    </tr>\n",
              "    <tr>\n",
              "      <td>6452</td>\n",
              "      <td>6410</td>\n",
              "      <td>0</td>\n",
              "      <td>Somewhere Powerbraking A Chevy hurricane @Free...</td>\n",
              "    </tr>\n",
              "    <tr>\n",
              "      <td>6457</td>\n",
              "      <td>3604</td>\n",
              "      <td>0</td>\n",
              "      <td>New York desolation The Hobbit Desolation of S...</td>\n",
              "    </tr>\n",
              "    <tr>\n",
              "      <td>6458</td>\n",
              "      <td>2176</td>\n",
              "      <td>0</td>\n",
              "      <td>San Jose, CA catastrophic The best part of old...</td>\n",
              "    </tr>\n",
              "    <tr>\n",
              "      <td>6464</td>\n",
              "      <td>5310</td>\n",
              "      <td>0</td>\n",
              "      <td>USA fear Daily Reflections\\nAugust 6\\nDRIVEN\\n...</td>\n",
              "    </tr>\n",
              "  </tbody>\n",
              "</table>\n",
              "<p>2464 rows × 3 columns</p>\n",
              "</div>"
            ],
            "text/plain": [
              "         id  target                     Text With Keyword and Location\n",
              "0      3738       0  USA destroyed Black Eye 9: A space battle occu...\n",
              "6      9772       0  New York City trapped Billionaires have a plan...\n",
              "7     10361       0  Multinational ***** weapons @JamesMelville Som...\n",
              "8      1953       0  Los Angeles burning%20buildings Ali you flew p...\n",
              "11     7725       0  UK panicking My dad is panicking as my weight ...\n",
              "...     ...     ...                                                ...\n",
              "6450   8968       0               Johns Creek, GA storm this storm????\n",
              "6452   6410       0  Somewhere Powerbraking A Chevy hurricane @Free...\n",
              "6457   3604       0  New York desolation The Hobbit Desolation of S...\n",
              "6458   2176       0  San Jose, CA catastrophic The best part of old...\n",
              "6464   5310       0  USA fear Daily Reflections\\nAugust 6\\nDRIVEN\\n...\n",
              "\n",
              "[2464 rows x 3 columns]"
            ]
          },
          "metadata": {
            "tags": []
          },
          "execution_count": 50
        }
      ]
    },
    {
      "cell_type": "code",
      "metadata": {
        "id": "_P1HA52KZ9rR",
        "outputId": "5a99af7b-adce-46ce-e3f7-dfb6dac097fb"
      },
      "source": [
        "df_majority_p3 = df_train_copy_2[df_train_copy_2['target'] == 0]\n",
        "df_minority_p3 = df_train_copy_2[df_train_copy_2['target'] == 1]\n",
        " \n",
        "# Upsample minority class\n",
        "df_minority_upsampled_3 = resample(df_minority_p3, \n",
        "                                 replace=True,     # sample with replacement\n",
        "                                 n_samples=2464,    # to match majority class\n",
        "                                 random_state=1234) # reproducible results\n",
        " \n",
        "# Combine majority class with upsampled minority class\n",
        "df_upsampled_3 = pd.concat([df_majority_p3, df_minority_upsampled_3])\n",
        " \n",
        "# Display new class counts\n",
        "df_upsampled_3.target.value_counts()\n"
      ],
      "execution_count": null,
      "outputs": [
        {
          "output_type": "execute_result",
          "data": {
            "text/plain": [
              "1    2464\n",
              "0    2464\n",
              "Name: target, dtype: int64"
            ]
          },
          "metadata": {
            "tags": []
          },
          "execution_count": 51
        }
      ]
    },
    {
      "cell_type": "code",
      "metadata": {
        "id": "ELKzjgeBZ9rS",
        "outputId": "8e175a83-047c-4596-85bf-67b752dc1271"
      },
      "source": [
        "X_train_upblcd_p3 = df_upsampled_3['Text With Keyword and Location'].values\n",
        "Y_train_upblcd_p3 = df_upsampled_3['target'].values\n",
        "X_train_upblcd_p3"
      ],
      "execution_count": null,
      "outputs": [
        {
          "output_type": "execute_result",
          "data": {
            "text/plain": [
              "array(['USA destroyed Black Eye 9: A space battle occurred at Star O784 involving 3 fleets totaling 3945 ships with 17 destroyed',\n",
              "       'New York City trapped Billionaires have a plan to free half a billion dollars trapped in Venezuela for two years @BlakeSchmidt reports.\\n\\nhttp://t.co/gbqTc7Sp9C',\n",
              "       'Multinational ***** weapons @JamesMelville Some old testimony of weapons used to promote conflicts\\nTactics - corruption &amp; infiltration of groups\\nhttps://t.co/cyU8zxw1oH',\n",
              "       ...,\n",
              "       'Zimbabwe hijacking \\x89Û÷Good Samaritans\\x89Ûª shot in horror hijacking http://t.co/V5yUUALoqw #263Chat #Twimbos ZimpapersViews',\n",
              "       \"Dil's Campsite hazard @Dead_Dreamer15 ...because if it were on fire that'd be a safety hazard\",\n",
              "       'oman muscat al seeb  fatalities I liked a @YouTube video http://t.co/43sXG9Z6xh TREMOR IS NO JOKE!! [TREMOR DLC] [FATALITIES/X-RAY]'],\n",
              "      dtype=object)"
            ]
          },
          "metadata": {
            "tags": []
          },
          "execution_count": 389
        }
      ]
    },
    {
      "cell_type": "code",
      "metadata": {
        "id": "IS0Rx7ElZ9rS",
        "outputId": "f029e1e0-5ee8-483f-bf35-53bcb23ef7e7"
      },
      "source": [
        "\n",
        "# Fit model on training set\n",
        "pipe_3.fit(X_train_upblcd_p3, Y_train_upblcd_p3)"
      ],
      "execution_count": null,
      "outputs": [
        {
          "output_type": "execute_result",
          "data": {
            "text/plain": [
              "Pipeline(memory=None,\n",
              "         steps=[('vectorizer',\n",
              "                 TfidfVectorizer(analyzer='word', binary=False,\n",
              "                                 decode_error='strict',\n",
              "                                 dtype=<class 'numpy.float64'>,\n",
              "                                 encoding='utf-8', input='content',\n",
              "                                 lowercase=True, max_df=1.0, max_features=None,\n",
              "                                 min_df=1, ngram_range=(1, 1), norm='l2',\n",
              "                                 preprocessor=None, smooth_idf=True,\n",
              "                                 stop_words=None, strip_accents=None,\n",
              "                                 sublinear_tf=False,\n",
              "                                 token_patt...\\\\b',\n",
              "                                 tokenizer=<function spacy_tokenizer at 0x1a2b8dd4d0>,\n",
              "                                 use_idf=True, vocabulary=None)),\n",
              "                ('classifier',\n",
              "                 LogisticRegression(C=1.0, class_weight=None, dual=False,\n",
              "                                    fit_intercept=True, intercept_scaling=1,\n",
              "                                    l1_ratio=None, max_iter=1000,\n",
              "                                    multi_class='warn', n_jobs=None,\n",
              "                                    penalty='l2', random_state=72,\n",
              "                                    solver='saga', tol=0.0001, verbose=0,\n",
              "                                    warm_start=False))],\n",
              "         verbose=False)"
            ]
          },
          "metadata": {
            "tags": []
          },
          "execution_count": 390
        }
      ]
    },
    {
      "cell_type": "code",
      "metadata": {
        "id": "9MiJMLkoZ9rT",
        "outputId": "38602955-1d6b-4962-f8f3-1eb496e579cd"
      },
      "source": [
        "y_pred_up3_blc = pipe_3.predict(X_test)\n",
        "y_pred_up3_blc"
      ],
      "execution_count": null,
      "outputs": [
        {
          "output_type": "execute_result",
          "data": {
            "text/plain": [
              "array([0, 0, 1, ..., 1, 0, 1])"
            ]
          },
          "metadata": {
            "tags": []
          },
          "execution_count": 391
        }
      ]
    },
    {
      "cell_type": "code",
      "metadata": {
        "id": "IghToSSBZ9rT",
        "outputId": "a4eb876b-e1b1-4f43-c5e6-d861fd497b7e"
      },
      "source": [
        "# Evaluate on training set\n",
        "print(f\"ACCURACY SCORE:\\n{pipe_3.score(X_train_upblcd_p3, Y_train_upblcd_p3):.6f}\")"
      ],
      "execution_count": null,
      "outputs": [
        {
          "output_type": "stream",
          "text": [
            "ACCURACY SCORE:\n",
            "0.924513\n"
          ],
          "name": "stdout"
        }
      ]
    },
    {
      "cell_type": "markdown",
      "metadata": {
        "id": "E5VRHzWhZ9rU"
      },
      "source": [
        "# Improvement- A New Approach With Better Assumptions "
      ]
    },
    {
      "cell_type": "markdown",
      "metadata": {
        "id": "jQ-8_lsRd9o5"
      },
      "source": [
        "#### Feature creation: Word Average Length"
      ]
    },
    {
      "cell_type": "code",
      "metadata": {
        "colab": {
          "base_uri": "https://localhost:8080/",
          "height": 142
        },
        "id": "jFjK8RLsbV2D",
        "outputId": "e8495d8c-b938-49c1-b751-cce7e6e8c320"
      },
      "source": [
        "\n",
        "def avg_word_length(x):\n",
        "    x = x.split()\n",
        "    return np.mean([len(i) for i in x])\n",
        "\n",
        "df_train_copy_9['avg_word_length'] = df_train_copy_9['text'].apply(avg_word_length)\n",
        "df_test_copy['avg_word_length'] = df_test_copy['text'].apply(avg_word_length)\n",
        "\n",
        "df_train_copy_9.head(3)"
      ],
      "execution_count": null,
      "outputs": [
        {
          "output_type": "execute_result",
          "data": {
            "text/html": [
              "<div>\n",
              "<style scoped>\n",
              "    .dataframe tbody tr th:only-of-type {\n",
              "        vertical-align: middle;\n",
              "    }\n",
              "\n",
              "    .dataframe tbody tr th {\n",
              "        vertical-align: top;\n",
              "    }\n",
              "\n",
              "    .dataframe thead th {\n",
              "        text-align: right;\n",
              "    }\n",
              "</style>\n",
              "<table border=\"1\" class=\"dataframe\">\n",
              "  <thead>\n",
              "    <tr style=\"text-align: right;\">\n",
              "      <th></th>\n",
              "      <th>id</th>\n",
              "      <th>keyword</th>\n",
              "      <th>location</th>\n",
              "      <th>text</th>\n",
              "      <th>target</th>\n",
              "      <th>avg_word_length</th>\n",
              "    </tr>\n",
              "  </thead>\n",
              "  <tbody>\n",
              "    <tr>\n",
              "      <th>0</th>\n",
              "      <td>3738</td>\n",
              "      <td>destroyed</td>\n",
              "      <td>USA</td>\n",
              "      <td>Black Eye 9: A space battle occurred at Star O...</td>\n",
              "      <td>0</td>\n",
              "      <td>4.631579</td>\n",
              "    </tr>\n",
              "    <tr>\n",
              "      <th>1</th>\n",
              "      <td>853</td>\n",
              "      <td>bioterror</td>\n",
              "      <td>NaN</td>\n",
              "      <td>#world FedEx no longer to transport bioterror ...</td>\n",
              "      <td>0</td>\n",
              "      <td>6.066667</td>\n",
              "    </tr>\n",
              "    <tr>\n",
              "      <th>2</th>\n",
              "      <td>10540</td>\n",
              "      <td>windstorm</td>\n",
              "      <td>Palm Beach County, FL</td>\n",
              "      <td>Reality Training: Train falls off elevated tra...</td>\n",
              "      <td>1</td>\n",
              "      <td>7.833333</td>\n",
              "    </tr>\n",
              "  </tbody>\n",
              "</table>\n",
              "</div>"
            ],
            "text/plain": [
              "      id    keyword  ... target avg_word_length\n",
              "0   3738  destroyed  ...      0        4.631579\n",
              "1    853  bioterror  ...      0        6.066667\n",
              "2  10540  windstorm  ...      1        7.833333\n",
              "\n",
              "[3 rows x 6 columns]"
            ]
          },
          "metadata": {
            "tags": []
          },
          "execution_count": 9
        }
      ]
    },
    {
      "cell_type": "markdown",
      "metadata": {
        "id": "S6FqWW6PePh0"
      },
      "source": [
        "Normalising the new feature"
      ]
    },
    {
      "cell_type": "code",
      "metadata": {
        "colab": {
          "base_uri": "https://localhost:8080/",
          "height": 419
        },
        "id": "Cd86RwC0bb3c",
        "outputId": "42a034f0-f8ac-4c91-8d92-df3ad08d5b74"
      },
      "source": [
        "from sklearn.preprocessing import MinMaxScaler\n",
        "\n",
        "scaler = MinMaxScaler()\n",
        "# transform data\n",
        "df_train_copy_9['avg_word_length'] = scaler.fit_transform(df_train_copy_9[['avg_word_length']])\n",
        "df_test_copy['avg_word_length'] = scaler.fit_transform(df_test_copy[['avg_word_length']])\n",
        "\n",
        "df_train_copy_9"
      ],
      "execution_count": null,
      "outputs": [
        {
          "output_type": "execute_result",
          "data": {
            "text/html": [
              "<div>\n",
              "<style scoped>\n",
              "    .dataframe tbody tr th:only-of-type {\n",
              "        vertical-align: middle;\n",
              "    }\n",
              "\n",
              "    .dataframe tbody tr th {\n",
              "        vertical-align: top;\n",
              "    }\n",
              "\n",
              "    .dataframe thead th {\n",
              "        text-align: right;\n",
              "    }\n",
              "</style>\n",
              "<table border=\"1\" class=\"dataframe\">\n",
              "  <thead>\n",
              "    <tr style=\"text-align: right;\">\n",
              "      <th></th>\n",
              "      <th>id</th>\n",
              "      <th>keyword</th>\n",
              "      <th>location</th>\n",
              "      <th>text</th>\n",
              "      <th>target</th>\n",
              "      <th>avg_word_length</th>\n",
              "    </tr>\n",
              "  </thead>\n",
              "  <tbody>\n",
              "    <tr>\n",
              "      <th>0</th>\n",
              "      <td>3738</td>\n",
              "      <td>destroyed</td>\n",
              "      <td>USA</td>\n",
              "      <td>Black Eye 9: A space battle occurred at Star O...</td>\n",
              "      <td>0</td>\n",
              "      <td>0.135191</td>\n",
              "    </tr>\n",
              "    <tr>\n",
              "      <th>1</th>\n",
              "      <td>853</td>\n",
              "      <td>bioterror</td>\n",
              "      <td>NaN</td>\n",
              "      <td>#world FedEx no longer to transport bioterror ...</td>\n",
              "      <td>0</td>\n",
              "      <td>0.219608</td>\n",
              "    </tr>\n",
              "    <tr>\n",
              "      <th>2</th>\n",
              "      <td>10540</td>\n",
              "      <td>windstorm</td>\n",
              "      <td>Palm Beach County, FL</td>\n",
              "      <td>Reality Training: Train falls off elevated tra...</td>\n",
              "      <td>1</td>\n",
              "      <td>0.323529</td>\n",
              "    </tr>\n",
              "    <tr>\n",
              "      <th>3</th>\n",
              "      <td>5988</td>\n",
              "      <td>hazardous</td>\n",
              "      <td>USA</td>\n",
              "      <td>#Taiwan Grace: expect that large rocks trees m...</td>\n",
              "      <td>1</td>\n",
              "      <td>0.218782</td>\n",
              "    </tr>\n",
              "    <tr>\n",
              "      <th>4</th>\n",
              "      <td>6328</td>\n",
              "      <td>hostage</td>\n",
              "      <td>Australia</td>\n",
              "      <td>New ISIS Video: ISIS Threatens to Behead Croat...</td>\n",
              "      <td>1</td>\n",
              "      <td>0.239908</td>\n",
              "    </tr>\n",
              "    <tr>\n",
              "      <th>...</th>\n",
              "      <td>...</td>\n",
              "      <td>...</td>\n",
              "      <td>...</td>\n",
              "      <td>...</td>\n",
              "      <td>...</td>\n",
              "      <td>...</td>\n",
              "    </tr>\n",
              "    <tr>\n",
              "      <th>6466</th>\n",
              "      <td>4377</td>\n",
              "      <td>earthquake</td>\n",
              "      <td>ARGENTINA</td>\n",
              "      <td>#Earthquake #Sismo M 1.9 - 15km E of Anchorage...</td>\n",
              "      <td>1</td>\n",
              "      <td>0.274510</td>\n",
              "    </tr>\n",
              "    <tr>\n",
              "      <th>6467</th>\n",
              "      <td>3408</td>\n",
              "      <td>derail</td>\n",
              "      <td>NaN</td>\n",
              "      <td>@EmiiliexIrwin Totally agree.She is 23 and kno...</td>\n",
              "      <td>0</td>\n",
              "      <td>0.135686</td>\n",
              "    </tr>\n",
              "    <tr>\n",
              "      <th>6468</th>\n",
              "      <td>9794</td>\n",
              "      <td>trapped</td>\n",
              "      <td>NaN</td>\n",
              "      <td>Hollywood Movie About Trapped Miners Released ...</td>\n",
              "      <td>1</td>\n",
              "      <td>0.277970</td>\n",
              "    </tr>\n",
              "    <tr>\n",
              "      <th>6469</th>\n",
              "      <td>10344</td>\n",
              "      <td>weapons</td>\n",
              "      <td>Beirut/Toronto</td>\n",
              "      <td>Friendly reminder that the only country to eve...</td>\n",
              "      <td>1</td>\n",
              "      <td>0.198039</td>\n",
              "    </tr>\n",
              "    <tr>\n",
              "      <th>6470</th>\n",
              "      <td>1779</td>\n",
              "      <td>buildings%20on%20fire</td>\n",
              "      <td>NaN</td>\n",
              "      <td>Buildings are on fire and they have time for a...</td>\n",
              "      <td>1</td>\n",
              "      <td>0.143288</td>\n",
              "    </tr>\n",
              "  </tbody>\n",
              "</table>\n",
              "<p>6471 rows × 6 columns</p>\n",
              "</div>"
            ],
            "text/plain": [
              "         id                keyword  ... target avg_word_length\n",
              "0      3738              destroyed  ...      0        0.135191\n",
              "1       853              bioterror  ...      0        0.219608\n",
              "2     10540              windstorm  ...      1        0.323529\n",
              "3      5988              hazardous  ...      1        0.218782\n",
              "4      6328                hostage  ...      1        0.239908\n",
              "...     ...                    ...  ...    ...             ...\n",
              "6466   4377             earthquake  ...      1        0.274510\n",
              "6467   3408                 derail  ...      0        0.135686\n",
              "6468   9794                trapped  ...      1        0.277970\n",
              "6469  10344                weapons  ...      1        0.198039\n",
              "6470   1779  buildings%20on%20fire  ...      1        0.143288\n",
              "\n",
              "[6471 rows x 6 columns]"
            ]
          },
          "metadata": {
            "tags": []
          },
          "execution_count": 10
        }
      ]
    },
    {
      "cell_type": "markdown",
      "metadata": {
        "id": "yujsC3ukfw3y"
      },
      "source": [
        "##Feature Engineering"
      ]
    },
    {
      "cell_type": "code",
      "metadata": {
        "id": "bYa5fOFoZ9rZ"
      },
      "source": [
        "#### Generating 3 tf-idf for the 3 columns and concat them -train data\n",
        "# Select features\n",
        "X_txt = df_train_copy_9['text'].values # the features we want to analyze\n",
        "X_loc = df_train_copy_9['location'].values # the features we want to analyze\n",
        "X_keyw = df_train_copy_9['keyword'].values # the features we want to analyze\n",
        "X_avg =  df_train_copy_9['avg_word_length'].values\n",
        "\n",
        "y_train_dp = df_train_copy_9['target'].values # the labels, or answers, we want to test against"
      ],
      "execution_count": null,
      "outputs": []
    },
    {
      "cell_type": "code",
      "metadata": {
        "id": "BhS5Wec6Z9rZ"
      },
      "source": [
        "#### Generating 3 tf-idf for the 3 columns and concat them -test data\n",
        "# Select features\n",
        "X_txt_tst = df_test_copy['text'].values # the features we want to analyze\n",
        "X_loc_tst = df_test_copy['location'].values # the features we want to analyze\n",
        "X_keyw_tst = df_test_copy['keyword'].values # the features we want to analyze\n",
        "X_avg_tst =  df_test_copy['avg_word_length'].values"
      ],
      "execution_count": null,
      "outputs": []
    },
    {
      "cell_type": "code",
      "metadata": {
        "id": "ZSpz5iaTZ9ra"
      },
      "source": [
        "tfidf_vectorizer_txt = TfidfVectorizer(use_idf = True, max_df = 0.95)\n",
        "train_txt_tfidf = tfidf_vectorizer_txt.fit_transform(X_txt)\n",
        "tfidf_vectorizer_loc = TfidfVectorizer(use_idf = True, max_df = 0.95)\n",
        "train_loc_tfidf = tfidf_vectorizer_loc.fit_transform(X_loc.astype('U'))\n",
        "tfidf_vectorizer_kw = TfidfVectorizer(use_idf = True, max_df = 0.95)\n",
        "train_kw_tfidf = tfidf_vectorizer_kw.fit_transform(X_keyw.astype('U'))\n"
      ],
      "execution_count": null,
      "outputs": []
    },
    {
      "cell_type": "code",
      "metadata": {
        "id": "AMcqqA42Z9ra"
      },
      "source": [
        "tfidf_vectorizer_Xtst = TfidfVectorizer(use_idf = True, max_df = 0.95)\n",
        "test_tfidf_txt = tfidf_vectorizer_Xtst.fit_transform(X_txt_tst)\n",
        "tfidf_vectorizer_loc_tst = TfidfVectorizer(use_idf = True, max_df = 0.95)\n",
        "test_tfidf_loc = tfidf_vectorizer_loc_tst.fit_transform(X_loc_tst.astype('U'))\n",
        "tfidf_vectorizer_kw_tst = TfidfVectorizer(use_idf = True, max_df = 0.95)\n",
        "test_tfidf_kw = tfidf_vectorizer_kw_tst.fit_transform(X_keyw_tst.astype('U'))"
      ],
      "execution_count": null,
      "outputs": []
    },
    {
      "cell_type": "code",
      "metadata": {
        "id": "p8b1tYT7Z9rc"
      },
      "source": [
        "import scipy\n",
        "from scipy.sparse import csr_matrix\n",
        "from scipy.sparse import hstack\n",
        "from scipy.sparse import vstack\n",
        "\n",
        "diff_n_clmns = train_txt_tfidf.shape[0] - train_loc_tfidf.shape[0]\n",
        "diff_n_clmns_tst = test_tfidf_txt.shape[0] - test_tfidf_loc.shape[0]\n",
        "\n",
        "trainX_tfidf = scipy.sparse.vstack((train_loc_tfidf, csr_matrix((diff_n_clmns, train_loc_tfidf.shape[1]))))\n",
        "testX_tfidf = scipy.sparse.vstack((test_tfidf_loc, csr_matrix((diff_n_clmns_tst, test_tfidf_loc.shape[1]))))\n",
        "\n",
        "X_tfidf = hstack((train_txt_tfidf, trainX_tfidf))\n",
        "X_tfidf_tst = hstack((test_tfidf_txt, testX_tfidf))\n"
      ],
      "execution_count": null,
      "outputs": []
    },
    {
      "cell_type": "code",
      "metadata": {
        "id": "pUa4XWOpZ9rd"
      },
      "source": [
        "diff_n_clmns_1 = X_tfidf.shape[0] - train_kw_tfidf.shape[0]\n",
        "diff_n_clmns_1_tst = X_tfidf_tst.shape[0] - test_tfidf_kw.shape[0]\n",
        "\n",
        "trainX_tfidf_1 = scipy.sparse.vstack((train_kw_tfidf, csr_matrix((diff_n_clmns_1, train_kw_tfidf.shape[1]))))\n",
        "tstX_tfidf_1 = scipy.sparse.vstack((test_tfidf_kw, csr_matrix((diff_n_clmns_1_tst, test_tfidf_kw.shape[1]))))\n",
        "\n",
        "X_tfidf_1 = hstack((X_tfidf, trainX_tfidf_1))\n",
        "Xtst_tfidf_1 = hstack((X_tfidf_tst, tstX_tfidf_1))\n"
      ],
      "execution_count": null,
      "outputs": []
    },
    {
      "cell_type": "code",
      "metadata": {
        "id": "5ZJvbkVBmDAX"
      },
      "source": [
        "\n",
        "X_train_sparse = np.concatenate((X_tfidf_1.todense(), X_avg[:,None]), axis=1)\n",
        "X_test_sparse = np.concatenate((Xtst_tfidf_1.todense(), X_avg_tst[:,None]), axis=1)\n"
      ],
      "execution_count": null,
      "outputs": []
    },
    {
      "cell_type": "code",
      "metadata": {
        "id": "DOQOEmhcZ9rd"
      },
      "source": [
        "X_train_sparse.shape "
      ],
      "execution_count": null,
      "outputs": []
    },
    {
      "cell_type": "markdown",
      "metadata": {
        "id": "p1n6et0XZ9rd"
      },
      "source": [
        "## Classify After Deep Text Preparation"
      ]
    },
    {
      "cell_type": "markdown",
      "metadata": {
        "id": "aFfoBINGZ9re"
      },
      "source": [
        "### Reducing Dimensionality: PCA and Logistic"
      ]
    },
    {
      "cell_type": "code",
      "metadata": {
        "colab": {
          "base_uri": "https://localhost:8080/"
        },
        "id": "2Mrz177HZ9re",
        "outputId": "4584859c-86b6-4d45-dd16-9afc954d152b"
      },
      "source": [
        "#Without Average Word length\n",
        "\n",
        "from sklearn.preprocessing import StandardScaler\n",
        "from sklearn.decomposition import PCA\n",
        "import time\n",
        "from sklearn.linear_model import LogisticRegressionCV\n",
        "\n",
        "# Define Scaler\n",
        "scaler = StandardScaler()\n",
        "# transform data\n",
        "X_train_scaled = scaler.fit_transform(X_tfidf_1.todense())\n",
        "X_test_scaled = scaler.fit_transform(Xtst_tfidf_1.todense())\n",
        "\n",
        "\n",
        "# Define PCA\n",
        "pca = PCA(n_components=300)\n",
        "pca_1 = PCA(n_components=300)\n",
        "\n",
        "# Example on X_train_vec\n",
        "X_train_pca = pca.fit_transform(X_train_scaled)\n",
        "print('Shape after PCA: ', X_train_pca.shape)\n",
        "print('Number of components: ', pca.n_components_)\n",
        "\n",
        "x_tst_pca = pca_1.fit_transform(X_test_scaled)\n",
        "print('Shape after PCA: ', x_tst_pca.shape)\n",
        "print('Number of components: ', pca_1.n_components_)\n",
        "\n",
        "\n",
        "# Fit model\n",
        "\n",
        "log_reg_s = LogisticRegressionCV(solver='lbfgs', cv=5, max_iter=1000, random_state = 72)\n",
        "\n",
        "start = time.time()\n",
        "log_reg_s.fit(X_train_pca, y_train_dp)\n",
        "end = time.time()\n",
        "print('Time: ', round(end-start, 4))\n",
        "\n",
        "y_pred = log_reg_s.predict(x_tst_pca)\n",
        "y_pred\n",
        "\n",
        "\n"
      ],
      "execution_count": null,
      "outputs": [
        {
          "output_type": "stream",
          "text": [
            "Shape after PCA:  (6471, 300)\n",
            "Number of components:  300\n",
            "Shape after PCA:  (1142, 300)\n",
            "Number of components:  300\n",
            "Time:  2.3724\n"
          ],
          "name": "stdout"
        },
        {
          "output_type": "execute_result",
          "data": {
            "text/plain": [
              "array([0, 0, 0, ..., 1, 0, 0])"
            ]
          },
          "metadata": {
            "tags": []
          },
          "execution_count": 32
        }
      ]
    },
    {
      "cell_type": "code",
      "metadata": {
        "colab": {
          "base_uri": "https://localhost:8080/"
        },
        "id": "hwHY9c5Dpnzu",
        "outputId": "5843f3d8-9192-43a6-a0f3-c9e062b5356e"
      },
      "source": [
        "#With Average Word Length as predictor and all the other predictors too\n",
        "\n",
        "\n",
        "# Define Scaler\n",
        "scaler = StandardScaler()\n",
        "# transform data\n",
        "X_train_scaled = scaler.fit_transform(X_train_sparse)\n",
        "X_test_scaled = scaler.fit_transform( X_test_sparse)\n",
        "\n",
        "\n",
        "# Define PCA\n",
        "pca = PCA(n_components=100)\n",
        "pca_1 = PCA(n_components=100)\n",
        "\n",
        "# Example on X_train_vec\n",
        "X_train_pca_1 = pca.fit_transform(X_train_scaled)\n",
        "print('Shape after PCA: ', X_train_pca_1.shape)\n",
        "print('Number of components: ', pca.n_components_)\n",
        "\n",
        "x_tst_pca_1 = pca_1.fit_transform(X_test_scaled)\n",
        "print('Shape after PCA: ', x_tst_pca_1.shape)\n",
        "print('Number of components: ', pca_1.n_components_)\n",
        "\n",
        "\n",
        "# Fit model\n",
        "\n",
        "log_reg_s = LogisticRegressionCV(solver='saga', cv=5, max_iter=1200, random_state = 72)\n",
        "\n",
        "start = time.time()\n",
        "log_reg_s.fit(X_train_pca_1, y_train_dp)\n",
        "end = time.time()\n",
        "print('Time: ', round(end-start, 4))\n",
        "\n",
        "y_pred_1 = log_reg_s.predict(x_tst_pca_1)\n",
        "y_pred_1\n",
        "\n",
        "\n"
      ],
      "execution_count": null,
      "outputs": [
        {
          "output_type": "stream",
          "text": [
            "Shape after PCA:  (6471, 100)\n",
            "Number of components:  100\n",
            "Shape after PCA:  (1142, 100)\n",
            "Number of components:  100\n",
            "Time:  37.0618\n"
          ],
          "name": "stdout"
        },
        {
          "output_type": "execute_result",
          "data": {
            "text/plain": [
              "array([0, 0, 0, ..., 1, 0, 1])"
            ]
          },
          "metadata": {
            "tags": []
          },
          "execution_count": 36
        }
      ]
    },
    {
      "cell_type": "code",
      "metadata": {
        "colab": {
          "base_uri": "https://localhost:8080/"
        },
        "id": "tgKNsD8A3bv9",
        "outputId": "19a0493f-1572-4472-b912-9bba37431b2d"
      },
      "source": [
        "#With only Location and Text\n",
        "from sklearn.preprocessing import StandardScaler\n",
        "from sklearn.decomposition import PCA\n",
        "\n",
        "# Define Scaler\n",
        "scaler = StandardScaler()\n",
        "# transform data\n",
        "X_train_scaled_1 = scaler.fit_transform(X_tfidf.todense())\n",
        "X_test_scaled_1 = scaler.fit_transform(X_tfidf_tst.todense())\n",
        "\n",
        " \n",
        "\n",
        "# Define PCA\n",
        "pca_2 = PCA(n_components=150)\n",
        "pca_3 = PCA(n_components=150)\n",
        "\n",
        "# Example on X_train_vec\n",
        "X_train_pca_2 = pca_2.fit_transform(X_train_scaled_1)\n",
        "print('Shape after PCA: ', X_train_pca_2.shape)\n",
        "print('Number of components: ', pca_2.n_components_)\n",
        "\n",
        "x_tst_pca_2 = pca_3.fit_transform(X_test_scaled_1)\n",
        "print('Shape after PCA: ', x_tst_pca_2.shape)\n",
        "print('Number of components: ', pca_3.n_components_)\n",
        "\n",
        "\n",
        "start = time.time()\n",
        "log_reg_rdc_2 = LogisticRegressionCV(solver='lbfgs', cv=5, max_iter=1000, random_state = 72)\n",
        "\n",
        "log_reg_rdc_2.fit(X_train_pca_2, y_train_dp)\n",
        "end = time.time()\n",
        "print('Time: ', round(end-start, 4))\n",
        "\n",
        "y_pred_real_rdc_2 = log_reg_rdc_2.predict(x_tst_pca_2)\n",
        "y_pred_real_rdc_2"
      ],
      "execution_count": null,
      "outputs": [
        {
          "output_type": "stream",
          "text": [
            "Shape after PCA:  (6471, 150)\n",
            "Number of components:  150\n",
            "Shape after PCA:  (1142, 150)\n",
            "Number of components:  150\n",
            "Time:  1.6223\n"
          ],
          "name": "stdout"
        },
        {
          "output_type": "execute_result",
          "data": {
            "text/plain": [
              "array([0, 0, 0, ..., 0, 1, 0])"
            ]
          },
          "metadata": {
            "tags": []
          },
          "execution_count": 37
        }
      ]
    }
  ]
}